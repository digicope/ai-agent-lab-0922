{
 "cells": [
  {
   "cell_type": "markdown",
   "metadata": {},
   "source": [
    "### RAG 연동 LangGraph"
   ]
  },
  {
   "cell_type": "code",
   "execution_count": 1,
   "metadata": {},
   "outputs": [
    {
     "data": {
      "text/plain": [
       "True"
      ]
     },
     "execution_count": 1,
     "metadata": {},
     "output_type": "execute_result"
    }
   ],
   "source": [
    "import os\n",
    "from dotenv import load_dotenv\n",
    "\n",
    "# .env 파일의 내용 불러오기\n",
    "load_dotenv(\"C:/env/.env\")"
   ]
  },
  {
   "cell_type": "code",
   "execution_count": 2,
   "metadata": {},
   "outputs": [
    {
     "name": "stdout",
     "output_type": "stream",
     "text": [
      "유튜브 기반 사용자 콘텐츠에서의 리뷰 이상 탐지.pdf\n"
     ]
    }
   ],
   "source": [
    "from glob import glob \n",
    "\n",
    "for g in glob('*.pdf'):\n",
    "    print(g)"
   ]
  },
  {
   "cell_type": "code",
   "execution_count": 3,
   "metadata": {},
   "outputs": [],
   "source": [
    "from langchain_community.document_loaders import PyPDFLoader\n",
    "from langchain_text_splitters import RecursiveCharacterTextSplitter\n",
    "\n",
    "def read_pdf_and_split_text(pdf_path, chunk_size=1000, chunk_overlap=100):\n",
    "    \"\"\"\n",
    "    주어진 PDF 파일을 읽고 텍스트를 분할합니다.\n",
    "    매개변수:\n",
    "        pdf_path (str): PDF 파일의 경로.\n",
    "        chunk_size (int, 선택적): 각 텍스트 청크의 크기. 기본값은 1000입니다.\n",
    "        chunk_overlap (int, 선택적): 청크 간의 중첩 크기. 기본값은 100입니다.\n",
    "    반환값:\n",
    "        list: 분할된 텍스트 청크의 리스트.\n",
    "    \"\"\"\n",
    "    print(f\"PDF: {pdf_path} -----------------------------\")\n",
    "\n",
    "    pdf_loader = PyPDFLoader(pdf_path)\n",
    "    data_from_pdf = pdf_loader.load()\n",
    "\n",
    "    text_splitter = RecursiveCharacterTextSplitter(\n",
    "        chunk_size=chunk_size, chunk_overlap=chunk_overlap\n",
    "    )\n",
    "\n",
    "    splits = text_splitter.split_documents(data_from_pdf)\n",
    "    \n",
    "    print(f\"Number of splits: {len(splits)}\\n\")\n",
    "    return splits\n"
   ]
  },
  {
   "cell_type": "code",
   "execution_count": 4,
   "metadata": {},
   "outputs": [
    {
     "name": "stdout",
     "output_type": "stream",
     "text": [
      "Loading existing Chroma store\n"
     ]
    }
   ],
   "source": [
    "from langchain_openai import OpenAIEmbeddings\n",
    "from langchain_chroma import Chroma\n",
    "import os\n",
    "\n",
    "##### Vectorstore 설정 #####\n",
    "embedding = OpenAIEmbeddings(model='text-embedding-3-small')\n",
    "\n",
    "persist_directory='chroma_store'\n",
    "\n",
    "if os.path.exists(persist_directory):\n",
    "    print(\"Loading existing Chroma store\")\n",
    "    vectorstore = Chroma(\n",
    "        persist_directory=persist_directory, \n",
    "        embedding_function=embedding\n",
    "    )\n",
    "else:\n",
    "    print(\"Creating new Chroma store\")\n",
    "    \n",
    "    vectorstore = None\n",
    "    for g in glob('*.pdf'):\n",
    "        chunks = read_pdf_and_split_text(g)\n",
    "        # 100개씩 나눠서 저장\n",
    "        for i in range(0, len(chunks), 100):\n",
    "            if vectorstore is None:\n",
    "                vectorstore = Chroma.from_documents(\n",
    "                    documents=chunks[i:i+100],\n",
    "                    embedding=embedding,\n",
    "                    persist_directory=persist_directory\n",
    "                )\n",
    "            else:\n",
    "                vectorstore.add_documents(\n",
    "                    documents=chunks[i:i+100]\n",
    "                )\n"
   ]
  },
  {
   "cell_type": "code",
   "execution_count": 5,
   "metadata": {},
   "outputs": [
    {
     "name": "stdout",
     "output_type": "stream",
     "text": [
      "{'creationdate': '2025-10-07T19:23:49+09:00', 'total_pages': 16, 'source': '유튜브 기반 사용자 콘텐츠에서의 리뷰 이상 탐지.pdf', 'page_label': '3', 'producer': 'iText 2.1.7 by 1T3XT', 'page': 2, 'moddate': '2025-10-07T19:26:28+09:00', 'creator': 'PyPDF'}\n",
      "유튜브 기반 사용자 콘텐츠에서의 리뷰 이상 탐지   49\n",
      "구자들은 가짜 정보가 소비자 의사 결정에 미치\n",
      "는 영향을 줄이기 위해 조작된 리뷰 탐지를 개\n",
      "선하기 위한 머신러닝 기술을 통합하는 방법을 \n",
      "탐구한다. 여러 조작된 리뷰 인식 방법이 제안\n",
      "되었지만, 현재 연구는 여전히 여러 가지 도전 \n",
      "과제에 직면해 있다. 예를 들어, 다중 플랫폼 및 \n",
      "다중 모달 콘텐츠 인식의 제한된 효과와 극단적\n",
      "인 감정 인식의 정확성 부족 등이 있다. 따라서 \n",
      "본 논문에서는 유튜브 플랫폼에서 호텔 리뷰를 \n",
      "연구하여 가짜 및 극단적인 리뷰를 인식하는 문\n",
      "제에 초점을 맞추기로 한다. 전통적인 텍스트 \n",
      "플랫폼과 비교할 때, 소셜 비디오 플랫폼에서의 \n",
      "리뷰는 더 다양하고 더 많은 노이즈를 포함하고 \n",
      "있어 인식 난이도가 높아지며, 이 문제를 해결\n",
      "하기 위해서는 더 정교한 모델링 방법이 절실히 \n",
      "필요하다. 본 연구는 머신러닝과 자연어 처리 \n",
      "기술을 결합하여 리뷰의 텍스트 특징과 감정 경\n",
      "향을 분석하여 잠재적으로 허위 또는 조작 가능\n",
      "한 리뷰를 식별하는 효율적이고 해석 가능한 탐\n",
      "지 프레임워크를 구축하는 것을 목표로 한다. \n",
      "그에 따라 본 연구는 YouTube라는 특정 영상 기\n",
      "반 플랫폼에서 수집된 사용자 댓글 데이터를 중\n",
      "심으로 감정 이상성과 허위성 패턴을 분석하였\n",
      "으며, 이는 비디오 소셜 플랫폼에서 리뷰 인식 \n",
      "분야의 현재 격차를 메울 뿐만 아니라 플랫폼 \n",
      "콘텐츠의 신뢰성을 높이고 사용자 결정의 품질\n",
      "을 향상시키는 데 도움이 될 수 있다.\n",
      "조작된 리뷰와 극단적인 리뷰가 점점 더 흔해\n",
      "지고 있으며, 본 연구는 이를 발견할 수 있는 방\n",
      "법을 제안한다. 본 연구는 감성 분석, 기계 학습, \n",
      "주제 모델링이라는 세 가지 방법을 결합하여 사\n",
      "용자가 생성한 리뷰에서 기만적이거나 조작적\n",
      "인 내용을 식별한다.\n",
      "본 연구는 다음과 같이 구성되어 있다: 2장에\n",
      "서는 조작된 리뷰 탐지 및 극단적인 리뷰 탐지\n",
      "에 대한 기존 연구에 대해 설명한다. 3장에서는 \n",
      "연구방법을 설명하며, 4장에서는 연구결과를 설\n",
      "{'creationdate': '2025-10-07T19:23:49+09:00', 'total_pages': 16, 'page_label': '11', 'creator': 'PyPDF', 'moddate': '2025-10-07T19:26:28+09:00', 'source': '유튜브 기반 사용자 콘텐츠에서의 리뷰 이상 탐지.pdf', 'page': 10, 'producer': 'iText 2.1.7 by 1T3XT'}\n",
      "유튜브 기반 사용자 콘텐츠에서의 리뷰 이상 탐지   57\n",
      "추출된 토픽 주제의 해석력을 높이기 위해, \n",
      "본 연구는 동시출현 점수(co-occurrence score)를 \n",
      "계산하여 각 토픽의 의미적 일관성을 평가하였\n",
      "다. 이 점수는 특정 주제 내에서 키워드들이 동\n",
      "일한 문서 내에 얼마나 자주 함께 등장하는지를 \n",
      "수치화한 것으로, 주제어 간의 상호 연관성을 \n",
      "측정하는 지표로 활용된다. 수치화한 것으로, 주\n",
      "제어 간의 상호 연관성을 측정하는 지표로 활용\n",
      "된다. 동시출현 점수가 높을수록 키워드들이 밀\n",
      "접하게 연결되어 있는 일관된 주제를 형성하며, \n",
      "예를 들어 ‘호텔 시설’, ‘청결’, ‘침대’, ‘조식’ 등\n",
      "이 함께 자주 등장하는 경우, 해당 리뷰는 특정 \n",
      "호텔의 물리적 조건에 집중된 논의임을 시사한\n",
      "다. 반면, 동시출현 점수가 낮은 토픽은 단어 간 \n",
      "맥락적 연결성이 약하거나, 리뷰 작성자들이 다\n",
      "양한 맥락에서 단어를 더 자유롭게 사용하는 경\n",
      "향이 있음을 나타낸다. 이는 주제가 분산되어 \n",
      "있거나, 단어가 서로 다른 상황에서 임의적으로 \n",
      "사용되고 있다는 가능성을 내포하며, 종종 감정\n",
      "적으로 과장된 표현이나 조작 가능성이 있는 리\n",
      "뷰와 관련된 주제로 연결될 수 있다.\n",
      "따라서 LDA 기반 토픽 모델링과 동시출현 점\n",
      "수 분석은 텍스트 데이터 내 의미 구조를 해석\n",
      "할 수 있는 유용한 수단일 뿐 아니라, 극단적 혹\n",
      "은 비정상적 리뷰 패턴을 조기에 탐지할 수 있\n",
      "는 진단 도구로 기능할 수 있다. 이는 향후 조작 \n",
      "리뷰 자동 탐지 시스템 개발에 실질적인 기초자\n",
      "료로 활용될 수 있다.\n",
      "<그림 2> 동시출현 네트워크\n",
      "동시출현 네트워크는 사용자 리뷰의 다차원\n",
      "적인 토픽 구조를 보여준다. 다양한 색상의 토\n",
      "픽 노드는 여행 및 숙박 경험, 지역 리뷰, 동영상 \n",
      "콘텐츠 피드백 등과 같은 다양한 의미적 시나리\n",
      "오를 다루며, 고빈도 키워드는 여러 토픽을 동\n",
      "시 발생 관계를 통해 서로 연결하여 리뷰 콘텐\n",
      "츠의 다양성과 집중도를 보여준다. <그림 2>는 \n",
      "시각화 된 동시출현 네트워크를 나타낸다.\n"
     ]
    }
   ],
   "source": [
    "retriever = vectorstore.as_retriever(search_kwargs={\"k\": 2})\n",
    "\n",
    "chunks = retriever.invoke(\"유튜브 기반 사용자 콘텐츠\")\n",
    "\n",
    "for chunk in chunks:\n",
    "    print(chunk.metadata)\n",
    "    print(chunk.page_content)\n"
   ]
  },
  {
   "cell_type": "code",
   "execution_count": 6,
   "metadata": {},
   "outputs": [
    {
     "data": {
      "text/plain": [
       "AIMessage(content='안녕하세요! 어떻게 도와드릴까요?', additional_kwargs={'refusal': None}, response_metadata={'token_usage': {'completion_tokens': 10, 'prompt_tokens': 10, 'total_tokens': 20, 'completion_tokens_details': {'accepted_prediction_tokens': 0, 'audio_tokens': 0, 'reasoning_tokens': 0, 'rejected_prediction_tokens': 0}, 'prompt_tokens_details': {'audio_tokens': 0, 'cached_tokens': 0}}, 'model_provider': 'openai', 'model_name': 'gpt-4o-mini-2024-07-18', 'system_fingerprint': 'fp_560af6e559', 'id': 'chatcmpl-CVAkyaY5TeKzJ9Zu7MI5Np6rS4EpF', 'service_tier': 'default', 'finish_reason': 'stop', 'logprobs': None}, id='lc_run--18f63d9b-aac3-4d83-b9b2-65043b9b5327-0', usage_metadata={'input_tokens': 10, 'output_tokens': 10, 'total_tokens': 20, 'input_token_details': {'audio': 0, 'cache_read': 0}, 'output_token_details': {'audio': 0, 'reasoning': 0}})"
      ]
     },
     "execution_count": 6,
     "metadata": {},
     "output_type": "execute_result"
    }
   ],
   "source": [
    "from langchain_openai import ChatOpenAI\n",
    "\n",
    "# 모델 초기화\n",
    "model = ChatOpenAI(model=\"gpt-4o-mini\")\n",
    "model.invoke('안녕하세요!')"
   ]
  },
  {
   "cell_type": "code",
   "execution_count": 7,
   "metadata": {},
   "outputs": [],
   "source": [
    "# Router 설정\n",
    "from langchain_core.prompts import ChatPromptTemplate\n",
    "from typing import Literal # 문자열 리터럴 타입을 지원하는 typing 모듈의 클래스\n",
    "from pydantic import BaseModel, Field\n",
    "\n",
    "# Data model\n",
    "class RouteQuery(BaseModel):\n",
    "    \"\"\"사용자 쿼리를 가장 관련성이 높은 데이터 소스로 라우팅합니다.\"\"\"\n",
    "    \n",
    "    datasource: Literal[\"vectorstore\", \"casual_talk\"] = Field(\n",
    "        ...,\n",
    "        description=\"\"\"\n",
    "        사용자 질문에 따라 casual_talk 또는 vectorstore로 라우팅합니다.\n",
    "        - casual_talk: 일상 대화를 위한 데이터 소스. 사용자가 일상적인 질문을 할 때 사용합니다.\n",
    "        - vectorstore: 사용자 질문에 답하기 위해 RAG로 vectorstore 검색이 필요한 경우 사용합니다.\n",
    "        \"\"\",\n",
    "    )"
   ]
  },
  {
   "cell_type": "code",
   "execution_count": 8,
   "metadata": {},
   "outputs": [],
   "source": [
    "# 특정 모델을 structured output (구조화된 출력)과 함께 사용하기 위해 설정\n",
    "structured_llm_router = model.with_structured_output(RouteQuery)\n",
    "\n",
    "router_system = \"\"\"\n",
    "당신은 사용자의 질문을 vectorstore 또는 casual_talk으로 라우팅하는 전문가입니다.\n",
    "- vectorstore에는 유튜브 기반 사용자 콘텐츠에서의 리뷰 이상 탐지 결과와 관련된 문서가 포함되어 있습니다. 이 주제에 대한 질문에는 vectorstore를 사용하십시오.\n",
    "- 사용자의 질문이 일상 대화에 관련된 경우 casual_talk을 사용하십시오.\n",
    "\"\"\"\n",
    "\n",
    "# 시스템 메시지와 사용자의 질문을 포함하는 프롬프트 템플릿 생성\n",
    "route_prompt = ChatPromptTemplate.from_messages([\n",
    "    (\"system\", router_system),\n",
    "    (\"human\", \"{question}\"),\n",
    "])\n",
    "\n",
    "# 라우터 프롬프트와 구조화된 출력 모델을 결합한 객체\n",
    "question_router = route_prompt | structured_llm_router\n"
   ]
  },
  {
   "cell_type": "code",
   "execution_count": 9,
   "metadata": {},
   "outputs": [
    {
     "name": "stdout",
     "output_type": "stream",
     "text": [
      "datasource='vectorstore'\n",
      "datasource='casual_talk'\n"
     ]
    }
   ],
   "source": [
    "print(\n",
    "    question_router.invoke({\n",
    "        \"question\": \"유튜브 기반 사용자 콘텐츠에서의 리뷰 이상 탐지 결과는?\"\n",
    "    })\n",
    ")\n",
    "\n",
    "print(question_router.invoke({\"question\": \"잘 지냈어?\"}))"
   ]
  },
  {
   "cell_type": "code",
   "execution_count": 10,
   "metadata": {},
   "outputs": [],
   "source": [
    "from langchain_core.prompts import PromptTemplate\n",
    "\n",
    "class GradeDocuments(BaseModel):\n",
    "    \"\"\"검색된 문서가 질문과 관련성 있는지 yes 또는 no로 평가합니다.\"\"\"\n",
    "\n",
    "    binary_score: Literal[\"yes\", \"no\"] = Field(\n",
    "        description=\"문서가 질문과 관련이 있는지 여부를 'yes' 또는 'no'로 평가합니다.\"\n",
    "    )\n",
    "\n",
    "structured_llm_grader = model.with_structured_output(GradeDocuments)"
   ]
  },
  {
   "cell_type": "code",
   "execution_count": 11,
   "metadata": {},
   "outputs": [
    {
     "name": "stdout",
     "output_type": "stream",
     "text": [
      "page_content='유튜브 기반 사용자 콘텐츠에서의 리뷰 이상 탐지   49\n",
      "구자들은 가짜 정보가 소비자 의사 결정에 미치\n",
      "는 영향을 줄이기 위해 조작된 리뷰 탐지를 개\n",
      "선하기 위한 머신러닝 기술을 통합하는 방법을 \n",
      "탐구한다. 여러 조작된 리뷰 인식 방법이 제안\n",
      "되었지만, 현재 연구는 여전히 여러 가지 도전 \n",
      "과제에 직면해 있다. 예를 들어, 다중 플랫폼 및 \n",
      "다중 모달 콘텐츠 인식의 제한된 효과와 극단적\n",
      "인 감정 인식의 정확성 부족 등이 있다. 따라서 \n",
      "본 논문에서는 유튜브 플랫폼에서 호텔 리뷰를 \n",
      "연구하여 가짜 및 극단적인 리뷰를 인식하는 문\n",
      "제에 초점을 맞추기로 한다. 전통적인 텍스트 \n",
      "플랫폼과 비교할 때, 소셜 비디오 플랫폼에서의 \n",
      "리뷰는 더 다양하고 더 많은 노이즈를 포함하고 \n",
      "있어 인식 난이도가 높아지며, 이 문제를 해결\n",
      "하기 위해서는 더 정교한 모델링 방법이 절실히 \n",
      "필요하다. 본 연구는 머신러닝과 자연어 처리 \n",
      "기술을 결합하여 리뷰의 텍스트 특징과 감정 경\n",
      "향을 분석하여 잠재적으로 허위 또는 조작 가능\n",
      "한 리뷰를 식별하는 효율적이고 해석 가능한 탐\n",
      "지 프레임워크를 구축하는 것을 목표로 한다. \n",
      "그에 따라 본 연구는 YouTube라는 특정 영상 기\n",
      "반 플랫폼에서 수집된 사용자 댓글 데이터를 중\n",
      "심으로 감정 이상성과 허위성 패턴을 분석하였\n",
      "으며, 이는 비디오 소셜 플랫폼에서 리뷰 인식 \n",
      "분야의 현재 격차를 메울 뿐만 아니라 플랫폼 \n",
      "콘텐츠의 신뢰성을 높이고 사용자 결정의 품질\n",
      "을 향상시키는 데 도움이 될 수 있다.\n",
      "조작된 리뷰와 극단적인 리뷰가 점점 더 흔해\n",
      "지고 있으며, 본 연구는 이를 발견할 수 있는 방\n",
      "법을 제안한다. 본 연구는 감성 분석, 기계 학습, \n",
      "주제 모델링이라는 세 가지 방법을 결합하여 사\n",
      "용자가 생성한 리뷰에서 기만적이거나 조작적\n",
      "인 내용을 식별한다.\n",
      "본 연구는 다음과 같이 구성되어 있다: 2장에\n",
      "서는 조작된 리뷰 탐지 및 극단적인 리뷰 탐지\n",
      "에 대한 기존 연구에 대해 설명한다. 3장에서는 \n",
      "연구방법을 설명하며, 4장에서는 연구결과를 설' metadata={'creator': 'PyPDF', 'page': 2, 'producer': 'iText 2.1.7 by 1T3XT', 'total_pages': 16, 'moddate': '2025-10-07T19:26:28+09:00', 'creationdate': '2025-10-07T19:23:49+09:00', 'source': '유튜브 기반 사용자 콘텐츠에서의 리뷰 이상 탐지.pdf', 'page_label': '3'}\n",
      "page_content='유튜브 기반 사용자 콘텐츠에서의 리뷰 이상 탐지   59\n",
      "분석의 정밀도를 높이는 실증적 방법론으로 활\n",
      "용 가능하다. 또한 토픽 모델링과 감정 분포를 \n",
      "결합한 분석 방식은 비정형 리뷰 데이터에서 감\n",
      "정-주제 연관 구조를 밝히는 데 있어 새로운 접\n",
      "근을 제시하였다.\n",
      "본 연구의 실무적 시사점은 다음과 같다. 실\n",
      "무적으로는 본 연구의 결과가 호텔 예약 플랫폼, \n",
      "리뷰 기반 커머스, 유튜브 여행 콘텐츠 분석 등 \n",
      "다양한 분야에서 조작 리뷰 및 극단적 콘텐츠를 \n",
      "자동 탐지하고 모니터링하는 시스템 개발에 직\n",
      "접 활용될 수 있다. 감정 점수 기반 필터링과 토\n",
      "픽 기반 클러스터링을 통해 플랫폼은 신뢰성을 \n",
      "확보하고 소비자에게 보다 정확한 정보를 제공\n",
      "할 수 있다. 특히 중립 또는 과도하게 긍정적인 \n",
      "리뷰만 집중 노출되는 문제를 방지하기 위한 콘\n",
      "텐츠 검열 및 추천 알고리즘 설계에도 본 연구\n",
      "는 기여할 수 있다.\n",
      "향후 연구에서는 다음과 같은 보완이 가능하\n",
      "다. 첫째, 본 연구는 감성 분석 및 분류에 주로 \n",
      "SVM 기반의 모델을 사용하였으나, 딥러닝 기반 \n",
      "모델(BERT, RoBERTa 등)을 적용하면 극단적 \n",
      "리뷰 탐지 성능을 더욱 향상시킬 수 있을 것이다. \n",
      "둘째, 본 연구는 YouTube  플랫폼의 사용자 생성 \n",
      "콘텐츠를 대상으로 극단성과 허위성을 분류하는 \n",
      "데 초점을 맞추었으며, 분석 결과 역시 해당 플\n",
      "랫폼의 구조적⋅문화적 특성을 반영하고 있다. \n",
      "따라서 본 연구의 결과를 다른 플랫폼(Amazon, \n",
      "TripAdvisor 등)의 사용자 리뷰 환경에 직접적으\n",
      "로 일반화하는 데에는 한계가 존재한다.\n",
      "향후 연구에서는 다양한 플랫폼에서 수집된 \n",
      "리뷰 데이터를 통합 분석하거나, 플랫폼별로 비\n",
      "교 실험을 수행함으로써, 모델의 범용성과 플랫\n",
      "폼 특이성을 보다 정교하게 검증할 필요가 있다. \n",
      "셋째, 리뷰의 감정 외에도 리뷰어 프로필, 리뷰 \n",
      "빈도, 시간 정보 등 행동적 메타데이터를 결합\n",
      "한 다변량 분석이 향후 조작 탐지의 정밀도를 \n",
      "높이는 데 도움이 될 것이다\n",
      ".' metadata={'creator': 'PyPDF', 'page': 12, 'source': '유튜브 기반 사용자 콘텐츠에서의 리뷰 이상 탐지.pdf', 'total_pages': 16, 'page_label': '13', 'moddate': '2025-10-07T19:26:28+09:00', 'creationdate': '2025-10-07T19:23:49+09:00', 'producer': 'iText 2.1.7 by 1T3XT'}\n"
     ]
    }
   ],
   "source": [
    "grader_prompt = PromptTemplate.from_template(\"\"\"\n",
    "당신은 검색된 문서가 사용자 질문과 관련이 있는지 평가하는 평가자입니다. \\n \n",
    "문서에 사용자 질문과 관련된 키워드 또는 의미가 포함되어 있으면, 해당 문서를 관련성이 있다고 평가하십시오. \\n\n",
    "엄격한 테스트가 필요하지 않습니다. 목표는 잘못된 검색 결과를 걸러내는 것입니다. \\n\n",
    "문서가 질문과 관련이 있는지 여부를 나타내기 위해 'yes' 또는 'no'로 이진 점수를 부여하십시오.\n",
    "                                             \n",
    "Retrieved document: \\n {document} \\n\\n \n",
    "User question: {question}\n",
    "\"\"\")\n",
    "\n",
    "retrieval_grader = grader_prompt | structured_llm_grader\n",
    "question = \"유튜브 기반 사용자 콘텐츠에서의 리뷰 이상 탐지 결과\"\n",
    "documents = retriever.invoke(question)\n",
    "\n",
    "for doc in documents:\n",
    "    print(doc)\n"
   ]
  },
  {
   "cell_type": "code",
   "execution_count": 12,
   "metadata": {},
   "outputs": [
    {
     "name": "stdout",
     "output_type": "stream",
     "text": [
      "Document 1:\n",
      "binary_score='yes'\n",
      "유튜브 기반 사용자 콘텐츠에서의 리뷰 이상 탐지   49\n",
      "구자들은 가짜 정보가 소비자 의사 결정에 미치\n",
      "는 영향을 줄이기 위해 조작된 리뷰 탐지를 개\n",
      "선하기 위한 머신러닝 기술을 통합하는 방법을 \n",
      "탐구한다. 여러 조작된 리뷰 인식 방법이 제안\n",
      "되었지만, 현재 연구는 여전히 여러 가지 도전 \n",
      "과제에 직면해 있다. 예를 들어, 다중 플랫폼 및 \n",
      "다중 모달 콘텐\n",
      "=================================\n",
      "\n",
      "\n",
      "Document 2:\n",
      "binary_score='yes'\n",
      "유튜브 기반 사용자 콘텐츠에서의 리뷰 이상 탐지   59\n",
      "분석의 정밀도를 높이는 실증적 방법론으로 활\n",
      "용 가능하다. 또한 토픽 모델링과 감정 분포를 \n",
      "결합한 분석 방식은 비정형 리뷰 데이터에서 감\n",
      "정-주제 연관 구조를 밝히는 데 있어 새로운 접\n",
      "근을 제시하였다.\n",
      "본 연구의 실무적 시사점은 다음과 같다. 실\n",
      "무적으로는 본 연구의 결과가 호텔 예약 플랫폼, \n",
      "\n",
      "=================================\n",
      "\n",
      "\n",
      "Filtered documents: 2\n"
     ]
    }
   ],
   "source": [
    "filtered_docs = []\n",
    "\n",
    "for i, doc in enumerate(documents):\n",
    "    print(f\"Document {i + 1}:\")\n",
    "    is_relevant = retrieval_grader.invoke({\"question\": question, \"document\": doc.page_content})\n",
    "    print(is_relevant)\n",
    "    print(doc.page_content[:200])\n",
    "    print(\"=================================\\n\\n\")\n",
    "\n",
    "    if is_relevant.binary_score == \"yes\":\n",
    "        filtered_docs.append(doc)\n",
    "\n",
    "print(f\"Filtered documents: {len(filtered_docs)}\")\n"
   ]
  },
  {
   "cell_type": "code",
   "execution_count": 13,
   "metadata": {},
   "outputs": [
    {
     "data": {
      "text/plain": [
       "AIMessage(content='유튜브 기반 사용자 콘텐츠에서의 리뷰 이상 탐지에 관한 연구는 가짜 정보가 소비자 의사 결정에 미치는 영향을 줄이기 위해 조작된 리뷰 탐지에 머신러닝 기술을 활용하는 방법을 탐구하고 있습니다. 연구에서는 유튜브 플랫폼에서의 호텔 리뷰를 중심으로 가짜 및 극단적인 리뷰를 인식하는 문제를 다루고 있으며, 이는 전통적인 텍스트 플랫폼과 비교해 더 다양하고 많은 노이즈를 포함하고 있어 인식 난이도가 높다는 점을 강조합니다.\\n\\n연구는 감성 분석, 기계 학습, 토픽 모델링을 결합하여 사용자가 생성한 리뷰에서 기만적이거나 조작적인 내용을 식별하는 효율적이고 해석 가능한 탐지 프레임워크를 구축하는 것을 목표로 하고 있습니다. 이러한 방식은 리뷰의 텍스트 특징과 감정 경향을 분석하여 허위 또는 조작 가능성이 있는 리뷰를 식별하는 데 도움이 됩니다.\\n\\n결과적으로, 연구는 다양한 분야에서 조작된 리뷰 및 극단적 콘텐츠를 자동으로 탐지하고 모니터링하는 시스템 개발에 활용될 수 있으며, 감정 점수 기반 필터링과 토픽 기반 클러스터링을 통해 플랫폼의 신뢰성을 높이고 소비자에게 더 정확한 정보를 제공하는 데 기여할 수 있습니다.\\n\\n향후 연구에서는 SVM 외에 딥러닝 기반 모델의 적용, 다양한 플랫폼에서의 리뷰 데이터 통합 분석, 리뷰어 프로필 및 행동적 메타데이터를 포함한 다변량 분석 등을 통해 조작 탐지의 정밀도를 더욱 향상시킬 필요가 있다고 언급되고 있습니다.', additional_kwargs={'refusal': None}, response_metadata={'token_usage': {'completion_tokens': 359, 'prompt_tokens': 1505, 'total_tokens': 1864, 'completion_tokens_details': {'accepted_prediction_tokens': 0, 'audio_tokens': 0, 'reasoning_tokens': 0, 'rejected_prediction_tokens': 0}, 'prompt_tokens_details': {'audio_tokens': 0, 'cached_tokens': 0}}, 'model_provider': 'openai', 'model_name': 'gpt-4o-mini-2024-07-18', 'system_fingerprint': 'fp_51db84afab', 'id': 'chatcmpl-CVAl2Um7nZjFbL0O2Ktq6BKFG8kJ8', 'service_tier': 'default', 'finish_reason': 'stop', 'logprobs': None}, id='lc_run--c964bab1-372e-44f4-868d-53df87b9d90a-0', usage_metadata={'input_tokens': 1505, 'output_tokens': 359, 'total_tokens': 1864, 'input_token_details': {'audio': 0, 'cache_read': 0}, 'output_token_details': {'audio': 0, 'reasoning': 0}})"
      ]
     },
     "execution_count": 13,
     "metadata": {},
     "output_type": "execute_result"
    }
   ],
   "source": [
    "### Generate\n",
    "# PromptTemplate을 사용하여 RAG를 위한 프롬프트를 생성합니다.\n",
    "\n",
    "rag_generate_system = \"\"\"\n",
    "너는 사용자의 질문에 대해 주어진 context에 기반하여 답변하는 도시 계획 전문가이다. \n",
    "주어진 context는 vectorstore에서 검색된 결과이다. \n",
    "주어진 context를 기반으로 사용자의 question에 대해 답변하라.\n",
    "\n",
    "=================================\n",
    "question: {question}\n",
    "context: {context}\n",
    "\"\"\"\n",
    "\n",
    "# PromptTemplate을 생성하여 question과 context를 포맷팅\n",
    "rag_prompt = PromptTemplate(\n",
    "    input_variables=[\"question\", \"context\"],\n",
    "    template=rag_generate_system\n",
    ")\n",
    "\n",
    "# rag chain\n",
    "rag_chain = rag_prompt | model \n",
    "\n",
    "# 사용자 질문과 검색된 문서를 입력으로 사용하여 RAG를 실행\n",
    "question = \"유튜브 기반 사용자 콘텐츠에서의 리뷰 이상 탐지 결과\"\n",
    "\n",
    "rag_chain.invoke({\"question\": question, \"context\": filtered_docs})\n"
   ]
  },
  {
   "cell_type": "code",
   "execution_count": 14,
   "metadata": {},
   "outputs": [],
   "source": [
    "from typing import List\n",
    "from typing_extensions import TypedDict\n",
    "\n",
    "class GraphState(TypedDict):\n",
    "    question: str   # 사용자 질문\n",
    "    generation: str # LLM 생성 결과\n",
    "    documents: List[str] # 검색된 문서\n"
   ]
  },
  {
   "cell_type": "code",
   "execution_count": 15,
   "metadata": {},
   "outputs": [],
   "source": [
    "def route_question(state): \n",
    "    \"\"\"\n",
    "    사용자 질문을 vectorstore 또는 casual_talk로 라우팅합니다.\n",
    "    \n",
    "    Args:\n",
    "        state (dict): 현재 graph state\n",
    "\n",
    "    return:\n",
    "        state (dict): 라우팅된 데이터 소스와 사용자 질문을 포함하는 새로운 graph state\n",
    "    \"\"\"\n",
    "    print('------ROUTE------')\n",
    "    question = state['question']\n",
    "    route = question_router.invoke({\"question\": question})\n",
    "\n",
    "    \n",
    "    print(f\"---Routing to {route.datasource}---\")\n",
    "    return route.datasource   "
   ]
  },
  {
   "cell_type": "code",
   "execution_count": 16,
   "metadata": {},
   "outputs": [],
   "source": [
    "def retrieve(state): \n",
    "    \"\"\"\n",
    "    vectorstore에서 질문에 대한 문서를 검색합니다.\n",
    "    \n",
    "    Args:\n",
    "        state (dict): 현재 graph state\n",
    "\n",
    "    return:\n",
    "        state (dict): 검색된 문서와 사용자 질문을 포함하는 새로운 graph state\n",
    "    \"\"\"\n",
    "    print('------RETRIEVE------')\n",
    "    question = state['question']\n",
    "\n",
    "    # Retrieve documents\n",
    "    documents = retriever.invoke(question)\n",
    "    return {\"documents\": documents, \"question\": question}"
   ]
  },
  {
   "cell_type": "code",
   "execution_count": 17,
   "metadata": {},
   "outputs": [],
   "source": [
    "def grade_documents(state):\n",
    "    \"\"\"\n",
    "    검색된 문서를 평가하여 질문과 관련성이 있는지 확인합니다.\n",
    "\n",
    "    Args:\n",
    "        state (dict): 현재 graph state\n",
    "\n",
    "    return:\n",
    "        state (dict): 관련성이 있는 문서와 사용자 질문을 포함하는 새로운 graph state\n",
    "    \"\"\"\n",
    "    print('------GRADE------')\n",
    "    question = state['question']\n",
    "    documents = state['documents']\n",
    "    filtered_docs = []\n",
    "\n",
    "    for i, doc in enumerate(documents):\n",
    "        is_relevant = retrieval_grader.invoke({\"question\": question, \"document\": doc.page_content})\n",
    "        if is_relevant.binary_score == \"yes\":\n",
    "            filtered_docs.append(doc)\n",
    "    return {\"documents\": filtered_docs, \"question\": question}  "
   ]
  },
  {
   "cell_type": "code",
   "execution_count": 18,
   "metadata": {},
   "outputs": [],
   "source": [
    "def generate(state):\n",
    "    \"\"\"\n",
    "    LLM을 사용하여 문서와 사용자 질문에 대한 답변을 생성합니다.\n",
    "\n",
    "    Args:\n",
    "        state (dict): 현재 graph state\n",
    "\n",
    "    return:\n",
    "        state (dict): LLM 생성 결과와 사용자 질문을 포함하는 새로운 graph state\n",
    "    \"\"\"\n",
    "    print('------GENERATE------')\n",
    "    question = state['question']\n",
    "    documents = state['documents']\n",
    "    generation = rag_chain.invoke({\"question\": question, \"context\": documents})\n",
    "    return {\n",
    "        \"documents\": documents,\n",
    "        \"question\": question,\n",
    "        \"generation\": generation\n",
    "    }"
   ]
  },
  {
   "cell_type": "code",
   "execution_count": 19,
   "metadata": {},
   "outputs": [],
   "source": [
    "def casual_talk(state):\n",
    "    \"\"\"\n",
    "    일상 대화를 위한 답변을 생성합니다.\n",
    "\n",
    "    Args:\n",
    "        state (dict): 현재 graph state\n",
    "\n",
    "    return:\n",
    "        state (dict): 일상 대화 결과와 사용자 질문을 포함하는 새로운 graph state\n",
    "    \"\"\"\n",
    "    print('------CASUAL TALK------')\n",
    "    question = state['question']\n",
    "    generation = model.invoke(question)\n",
    "    return {\n",
    "        \"question\": question,\n",
    "        \"generation\": generation\n",
    "    }"
   ]
  },
  {
   "cell_type": "code",
   "execution_count": 20,
   "metadata": {},
   "outputs": [],
   "source": [
    "from langgraph.graph import START, StateGraph, END\n",
    "\n",
    "workflow = StateGraph(GraphState)"
   ]
  },
  {
   "cell_type": "code",
   "execution_count": 21,
   "metadata": {},
   "outputs": [
    {
     "data": {
      "text/plain": [
       "<langgraph.graph.state.StateGraph at 0x1e785bfe9f0>"
      ]
     },
     "execution_count": 21,
     "metadata": {},
     "output_type": "execute_result"
    }
   ],
   "source": [
    "# 노드를 정의 \n",
    "workflow.add_node(\"retrieve\", retrieve)\n",
    "workflow.add_node(\"grade_documents\", grade_documents)\n",
    "workflow.add_node(\"generate\", generate)\n",
    "workflow.add_node(\"casual_talk\", casual_talk)"
   ]
  },
  {
   "cell_type": "code",
   "execution_count": 22,
   "metadata": {},
   "outputs": [],
   "source": [
    "# graph를 정의\n",
    "workflow.add_conditional_edges(\n",
    "    START, \n",
    "    route_question,\n",
    "    {\n",
    "        \"vectorstore\": \"retrieve\",\n",
    "        \"casual_talk\": \"casual_talk\"\n",
    "    }\n",
    ")\n",
    "workflow.add_edge(\"casual_talk\", END)\n",
    "workflow.add_edge(\"retrieve\", \"grade_documents\")\n",
    "workflow.add_edge(\"grade_documents\", \"generate\")\n",
    "workflow.add_edge(\"generate\", END)\n",
    "\n",
    "app = workflow.compile() # workflow를 컴파일"
   ]
  },
  {
   "cell_type": "code",
   "execution_count": 23,
   "metadata": {},
   "outputs": [
    {
     "data": {
      "image/png": "[encoded data removed]",
      "text/plain": [
       "<IPython.core.display.Image object>"
      ]
     },
     "metadata": {},
     "output_type": "display_data"
    }
   ],
   "source": [
    "from IPython.display import Image, display\n",
    "\n",
    "try:\n",
    "    display(Image(app.get_graph().draw_mermaid_png()))\n",
    "except Exception:\n",
    "    #  실패 시 통과\n",
    "    pass\n"
   ]
  },
  {
   "cell_type": "code",
   "execution_count": 24,
   "metadata": {},
   "outputs": [
    {
     "name": "stdout",
     "output_type": "stream",
     "text": [
      "------ROUTE------\n",
      "---Routing to vectorstore---\n",
      "------RETRIEVE------\n",
      "------GRADE------\n",
      "------GENERATE------\n"
     ]
    },
    {
     "data": {
      "text/plain": [
       "{'question': '유튜브 기반 사용자 콘텐츠에서의 리뷰 이상 탐지 결과',\n",
       " 'generation': AIMessage(content='유튜브 기반 사용자 콘텐츠에서의 리뷰 이상 탐지 연구에서는 가짜 정보가 소비자 결정에 미치는 영향을 줄이기 위해 조작된 리뷰 탐지를 위한 머신러닝 기술을 통합하는 방법을 다루고 있습니다. 이를 통해 다중 플랫폼과 다중 모달 콘텐츠 인식의 효과를 개선하고, 극단적인 감정 인식 정확성을 높이기 위한 연구가 필요하다고 강조합니다.\\n\\n본 연구는 특히 유튜브 플랫폼에서 호텔 리뷰를 중심으로 가짜 및 극단적인 리뷰를 인식하는 문제에 집중하며, 다양한 노이즈가 포함된 소셜 비디오 플랫폼에서의 인식 난이도도 언급됩니다. 연구는 머신러닝과 자연어 처리 기술을 결합하여 리뷰의 텍스트 특징과 감정 경향을 분석하고, 이를 통해 허위 또는 조작 가능한 리뷰를 식별하는 탐지 프레임워크를 구축하고자 합니다.\\n\\n실무적 시사점으로는 호텔 예약 플랫폼, 리뷰 기반 커머스, 유튜브 여행 콘텐츠 분석 등의 분야에서 조작된 리뷰 및 극단적 콘텐츠를 자동 탐지하고 모니터링하는 시스템 개발에 활용될 수 있다는 점을 들 수 있습니다. 이를 통해 플랫폼의 신뢰성을 높이고 소비자에게 보다 정확한 정보를 제공할 수 있습니다.\\n\\n향후 연구 방향으로는 딥러닝 기반 모델의 활용, 다양한 플랫폼에서의 데이터 통합 분석, 행동적 메타데이터와의 결합 분석 등이 제안되어 조작 탐지의 정밀도를 높이는 데 기여할 수 있을 것입니다.', additional_kwargs={'refusal': None}, response_metadata={'token_usage': {'completion_tokens': 336, 'prompt_tokens': 1505, 'total_tokens': 1841, 'completion_tokens_details': {'accepted_prediction_tokens': 0, 'audio_tokens': 0, 'reasoning_tokens': 0, 'rejected_prediction_tokens': 0}, 'prompt_tokens_details': {'audio_tokens': 0, 'cached_tokens': 0}}, 'model_provider': 'openai', 'model_name': 'gpt-4o-mini-2024-07-18', 'system_fingerprint': 'fp_51db84afab', 'id': 'chatcmpl-CVAlBhCWktsEbSGWLftDLGiOYFh1X', 'service_tier': 'default', 'finish_reason': 'stop', 'logprobs': None}, id='lc_run--cae8846a-e0a9-4bf6-aab6-a49e34709660-0', usage_metadata={'input_tokens': 1505, 'output_tokens': 336, 'total_tokens': 1841, 'input_token_details': {'audio': 0, 'cache_read': 0}, 'output_token_details': {'audio': 0, 'reasoning': 0}}),\n",
       " 'documents': [Document(id='dd2450bb-8759-4c44-9ce7-5e18a3da8b5c', metadata={'creator': 'PyPDF', 'moddate': '2025-10-07T19:26:28+09:00', 'source': '유튜브 기반 사용자 콘텐츠에서의 리뷰 이상 탐지.pdf', 'page': 2, 'creationdate': '2025-10-07T19:23:49+09:00', 'page_label': '3', 'producer': 'iText 2.1.7 by 1T3XT', 'total_pages': 16}, page_content='유튜브 기반 사용자 콘텐츠에서의 리뷰 이상 탐지   49\\n구자들은 가짜 정보가 소비자 의사 결정에 미치\\n는 영향을 줄이기 위해 조작된 리뷰 탐지를 개\\n선하기 위한 머신러닝 기술을 통합하는 방법을 \\n탐구한다. 여러 조작된 리뷰 인식 방법이 제안\\n되었지만, 현재 연구는 여전히 여러 가지 도전 \\n과제에 직면해 있다. 예를 들어, 다중 플랫폼 및 \\n다중 모달 콘텐츠 인식의 제한된 효과와 극단적\\n인 감정 인식의 정확성 부족 등이 있다. 따라서 \\n본 논문에서는 유튜브 플랫폼에서 호텔 리뷰를 \\n연구하여 가짜 및 극단적인 리뷰를 인식하는 문\\n제에 초점을 맞추기로 한다. 전통적인 텍스트 \\n플랫폼과 비교할 때, 소셜 비디오 플랫폼에서의 \\n리뷰는 더 다양하고 더 많은 노이즈를 포함하고 \\n있어 인식 난이도가 높아지며, 이 문제를 해결\\n하기 위해서는 더 정교한 모델링 방법이 절실히 \\n필요하다. 본 연구는 머신러닝과 자연어 처리 \\n기술을 결합하여 리뷰의 텍스트 특징과 감정 경\\n향을 분석하여 잠재적으로 허위 또는 조작 가능\\n한 리뷰를 식별하는 효율적이고 해석 가능한 탐\\n지 프레임워크를 구축하는 것을 목표로 한다. \\n그에 따라 본 연구는 YouTube라는 특정 영상 기\\n반 플랫폼에서 수집된 사용자 댓글 데이터를 중\\n심으로 감정 이상성과 허위성 패턴을 분석하였\\n으며, 이는 비디오 소셜 플랫폼에서 리뷰 인식 \\n분야의 현재 격차를 메울 뿐만 아니라 플랫폼 \\n콘텐츠의 신뢰성을 높이고 사용자 결정의 품질\\n을 향상시키는 데 도움이 될 수 있다.\\n조작된 리뷰와 극단적인 리뷰가 점점 더 흔해\\n지고 있으며, 본 연구는 이를 발견할 수 있는 방\\n법을 제안한다. 본 연구는 감성 분석, 기계 학습, \\n주제 모델링이라는 세 가지 방법을 결합하여 사\\n용자가 생성한 리뷰에서 기만적이거나 조작적\\n인 내용을 식별한다.\\n본 연구는 다음과 같이 구성되어 있다: 2장에\\n서는 조작된 리뷰 탐지 및 극단적인 리뷰 탐지\\n에 대한 기존 연구에 대해 설명한다. 3장에서는 \\n연구방법을 설명하며, 4장에서는 연구결과를 설'),\n",
       "  Document(id='e2d899eb-d208-4e3c-b0f3-1516f4455a4a', metadata={'creationdate': '2025-10-07T19:23:49+09:00', 'total_pages': 16, 'source': '유튜브 기반 사용자 콘텐츠에서의 리뷰 이상 탐지.pdf', 'producer': 'iText 2.1.7 by 1T3XT', 'page': 12, 'moddate': '2025-10-07T19:26:28+09:00', 'page_label': '13', 'creator': 'PyPDF'}, page_content='유튜브 기반 사용자 콘텐츠에서의 리뷰 이상 탐지   59\\n분석의 정밀도를 높이는 실증적 방법론으로 활\\n용 가능하다. 또한 토픽 모델링과 감정 분포를 \\n결합한 분석 방식은 비정형 리뷰 데이터에서 감\\n정-주제 연관 구조를 밝히는 데 있어 새로운 접\\n근을 제시하였다.\\n본 연구의 실무적 시사점은 다음과 같다. 실\\n무적으로는 본 연구의 결과가 호텔 예약 플랫폼, \\n리뷰 기반 커머스, 유튜브 여행 콘텐츠 분석 등 \\n다양한 분야에서 조작 리뷰 및 극단적 콘텐츠를 \\n자동 탐지하고 모니터링하는 시스템 개발에 직\\n접 활용될 수 있다. 감정 점수 기반 필터링과 토\\n픽 기반 클러스터링을 통해 플랫폼은 신뢰성을 \\n확보하고 소비자에게 보다 정확한 정보를 제공\\n할 수 있다. 특히 중립 또는 과도하게 긍정적인 \\n리뷰만 집중 노출되는 문제를 방지하기 위한 콘\\n텐츠 검열 및 추천 알고리즘 설계에도 본 연구\\n는 기여할 수 있다.\\n향후 연구에서는 다음과 같은 보완이 가능하\\n다. 첫째, 본 연구는 감성 분석 및 분류에 주로 \\nSVM 기반의 모델을 사용하였으나, 딥러닝 기반 \\n모델(BERT, RoBERTa 등)을 적용하면 극단적 \\n리뷰 탐지 성능을 더욱 향상시킬 수 있을 것이다. \\n둘째, 본 연구는 YouTube  플랫폼의 사용자 생성 \\n콘텐츠를 대상으로 극단성과 허위성을 분류하는 \\n데 초점을 맞추었으며, 분석 결과 역시 해당 플\\n랫폼의 구조적⋅문화적 특성을 반영하고 있다. \\n따라서 본 연구의 결과를 다른 플랫폼(Amazon, \\nTripAdvisor 등)의 사용자 리뷰 환경에 직접적으\\n로 일반화하는 데에는 한계가 존재한다.\\n향후 연구에서는 다양한 플랫폼에서 수집된 \\n리뷰 데이터를 통합 분석하거나, 플랫폼별로 비\\n교 실험을 수행함으로써, 모델의 범용성과 플랫\\n폼 특이성을 보다 정교하게 검증할 필요가 있다. \\n셋째, 리뷰의 감정 외에도 리뷰어 프로필, 리뷰 \\n빈도, 시간 정보 등 행동적 메타데이터를 결합\\n한 다변량 분석이 향후 조작 탐지의 정밀도를 \\n높이는 데 도움이 될 것이다\\n.')]}"
      ]
     },
     "execution_count": 24,
     "metadata": {},
     "output_type": "execute_result"
    }
   ],
   "source": [
    "inputs = {\n",
    "    \"question\": \"유튜브 기반 사용자 콘텐츠에서의 리뷰 이상 탐지 결과\"\n",
    "}\n",
    "\n",
    "app.invoke(inputs) # workflow를 실행합니다."
   ]
  },
  {
   "cell_type": "code",
   "execution_count": 25,
   "metadata": {},
   "outputs": [
    {
     "name": "stdout",
     "output_type": "stream",
     "text": [
      "------ROUTE------\n",
      "---Routing to casual_talk---\n",
      "------CASUAL TALK------\n"
     ]
    },
    {
     "data": {
      "text/plain": [
       "{'question': '잘 지내고 있어?',\n",
       " 'generation': AIMessage(content='네, 잘 지내고 있습니다! 질문이나 도움이 필요한 것이 있으면 말씀해 주세요. 어떻게 도와드릴까요?', additional_kwargs={'refusal': None}, response_metadata={'token_usage': {'completion_tokens': 26, 'prompt_tokens': 13, 'total_tokens': 39, 'completion_tokens_details': {'accepted_prediction_tokens': 0, 'audio_tokens': 0, 'reasoning_tokens': 0, 'rejected_prediction_tokens': 0}, 'prompt_tokens_details': {'audio_tokens': 0, 'cached_tokens': 0}}, 'model_provider': 'openai', 'model_name': 'gpt-4o-mini-2024-07-18', 'system_fingerprint': 'fp_51db84afab', 'id': 'chatcmpl-CVAlFrxzcTuL2cOBe0gquHdIZkPBv', 'service_tier': 'default', 'finish_reason': 'stop', 'logprobs': None}, id='lc_run--12e4d8e6-024a-4c36-a10a-c6c9f0876a5b-0', usage_metadata={'input_tokens': 13, 'output_tokens': 26, 'total_tokens': 39, 'input_token_details': {'audio': 0, 'cache_read': 0}, 'output_token_details': {'audio': 0, 'reasoning': 0}})}"
      ]
     },
     "execution_count": 25,
     "metadata": {},
     "output_type": "execute_result"
    }
   ],
   "source": [
    "inputs = {\n",
    "    \"question\": \"잘 지내고 있어?\"\n",
    "}\n",
    "\n",
    "app.invoke(inputs) # workflow를 실행합니다."
   ]
  },
  {
   "cell_type": "code",
   "execution_count": 26,
   "metadata": {},
   "outputs": [
    {
     "name": "stdout",
     "output_type": "stream",
     "text": [
      "------ROUTE------\n",
      "{\"datasource\":\"vectorstore\"}---Routing to vectorstore---\n",
      "------RETRIEVE------\n",
      "------GRADE------\n",
      "{\"binary_score\":\"yes\"}{\"binary_score\":\"yes\"}------GENERATE------\n",
      "유튜브 기반 사용자 콘텐츠에서의 리뷰 이상 탐지에 관한 연구는 가짜 정보가 소비자 의사 결정에 미치는 영향을 줄이기 위해 다양한 머신러닝 기술을 활용하여 조작된 리뷰를 탐지하는 방안을 모색하고 있습니다. 연구에서는 주로 유튜브 플랫폼에서의 호텔 리뷰를 대상으로 하여, 허위 및 극단적인 리뷰를 식별하기 위한 능력을 개발하고자 하였습니다.\n",
      "\n",
      "특히, 이 연구는 사용자 댓글 데이터를 분석하여 감정적 이상성과 허위성 패턴을 이해하는 데 중점을 두고 있습니다. 기존 연구들이 해결하지 못한 다양한 도전과제—예를 들어 다중 플랫폼에서의 인식 제한과 극단적 감정 인식의 정확성 부족—를 해결하기 위해, 연구자들은 감정 분석, 기계 학습, 주제 모델링 등 여러 방법을 조합하여 효율적이고 해석 가능한 탐지 프레임워크를 제안하고 있습니다.\n",
      "\n",
      "이 연구의 실질적 활용 가능성은 호텔 예약 플랫폼, 리뷰 기반 커머스 등 다양한 분야에서 조작된 리뷰 및 극단적 콘텐츠를 자동으로 탐지하고 모니터링하는 시스템 개발에 기여할 수 있습니다. 감정 점수 기반 필터링 및 주제 기반 클러스터링을 통해 플랫폼의 신뢰성을 확보하고 소비자에게 보다 정확한 정보를 제공할 수 있는 기반을 형성하고 있습니다.\n",
      "\n",
      "향후 연구에서는 딥러닝 기반의 모델 적용과 다양한 플랫폼에서의 데이터 통합 분석을 통해 탐지 성능과 모델의 범용성을 더욱 높이는 방향으로 나아가야 할 것입니다. 이러한 추가적인 연구들이 진행됨으로써, 조작된 리뷰와 극단적 콘텐츠 탐지의 정밀도가 크게 향상될 것으로 기대됩니다."
     ]
    }
   ],
   "source": [
    "inputs = {\n",
    "    \"question\": \"유튜브 기반 사용자 콘텐츠에서의 리뷰 이상 탐지 결과\"\n",
    "}\n",
    "\n",
    "for msg, meta in app.stream(inputs, stream_mode='messages'):\n",
    "    print(msg.content, end='')\n"
   ]
  },
  {
   "cell_type": "code",
   "execution_count": null,
   "metadata": {},
   "outputs": [],
   "source": []
  }
 ],
 "metadata": {
  "kernelspec": {
   "display_name": "Python 3 (ipykernel)",
   "language": "python",
   "name": "python3"
  },
  "language_info": {
   "codemirror_mode": {
    "name": "ipython",
    "version": 3
   },
   "file_extension": ".py",
   "mimetype": "text/x-python",
   "name": "python",
   "nbconvert_exporter": "python",
   "pygments_lexer": "ipython3",
   "version": "3.12.7"
  }
 },
 "nbformat": 4,
 "nbformat_minor": 4
}
