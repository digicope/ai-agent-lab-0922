{
 "cells": [
  {
   "cell_type": "markdown",
   "id": "b1e7c264-0598-44f2-98f8-02b1933aee5a",
   "metadata": {},
   "source": [
    "## Tools 와 Agent\n",
    ": LangChain에서 Tools(도구) 는 에이전트(Agent) 가 외부 세계와 상호작용하거나 <br>\n",
    "특정 기능을 실행하기 위해 사용하는 기능 단위(함수 또는 API 인터페이스) 를 말합니다."
   ]
  },
  {
   "cell_type": "code",
   "execution_count": 2,
   "id": "cd21fcdc-80d3-4996-a181-3bb6f06aea6c",
   "metadata": {},
   "outputs": [
    {
     "data": {
      "text/plain": [
       "True"
      ]
     },
     "execution_count": 2,
     "metadata": {},
     "output_type": "execute_result"
    }
   ],
   "source": [
    "import os\n",
    "from dotenv import load_dotenv\n",
    "\n",
    "# .env 파일의 내용 불러오기\n",
    "load_dotenv(\"C:/env/.env\")"
   ]
  },
  {
   "cell_type": "code",
   "execution_count": 2,
   "id": "7a8fa0ca-a5db-4659-916e-27bf26ddafe4",
   "metadata": {},
   "outputs": [
    {
     "data": {
      "text/plain": [
       "AIMessage(content='하늘이 파란 이유는 지구의 대기에서 발생하는 산란 현상 때문입니다. 태양빛은 여러 색의 빛으로 구성되어 있으며, 이 중 파란색 빛은 다른 색의 빛보다 파장이 짧습니다. 대기 중의 작은 입자들이 햇빛을 산란시키면서, 파란빛이 특히 많이 산란됩니다. 이로 인해 하늘을 올려다보면 대부분의 경우 파란색으로 보이게 됩니다. 반면, 일몰이나 일출 시에는 태양빛이 대기를 더 많이 통과하면서 주황색이나 빨간색이 강조되어 하늘이 이러한 색으로 보이게 됩니다.', additional_kwargs={'refusal': None}, response_metadata={'token_usage': {'completion_tokens': 148, 'prompt_tokens': 15, 'total_tokens': 163, 'completion_tokens_details': {'accepted_prediction_tokens': 0, 'audio_tokens': 0, 'reasoning_tokens': 0, 'rejected_prediction_tokens': 0}, 'prompt_tokens_details': {'audio_tokens': 0, 'cached_tokens': 0}}, 'model_provider': 'openai', 'model_name': 'gpt-4o-mini-2024-07-18', 'system_fingerprint': 'fp_560af6e559', 'id': 'chatcmpl-CUBa538LNOIbP9qv3WQruQarD9nq0', 'service_tier': 'default', 'finish_reason': 'stop', 'logprobs': None}, id='lc_run--592b13d6-f17d-4c61-9cd2-947b346f9fba-0', usage_metadata={'input_tokens': 15, 'output_tokens': 148, 'total_tokens': 163, 'input_token_details': {'audio': 0, 'cache_read': 0}, 'output_token_details': {'audio': 0, 'reasoning': 0}})"
      ]
     },
     "execution_count": 2,
     "metadata": {},
     "output_type": "execute_result"
    }
   ],
   "source": [
    "from langchain_openai import ChatOpenAI\n",
    "from langchain_core.messages import HumanMessage\n",
    "model = ChatOpenAI(model=\"gpt-4o-mini\")\n",
    "\n",
    "model.invoke([HumanMessage(\"하늘이 파란 이유는?\")])"
   ]
  },
  {
   "cell_type": "markdown",
   "id": "12330595-091f-4c53-b178-851557c7259b",
   "metadata": {},
   "source": [
    "### Tools\n",
    "Tool(도구) 이란 LangChain Agent 가 작업을 수행할 때 실제로 호출할 수 있는 외부 함수 또는 API 기능 이다.<br>\n",
    "LLM이 “생각(thought)” 단계에서 “이제 무엇을 해야 할까?” 판단했을 때 직접 실행할 수 있는 행동(action)을 정의한 것이다.\n",
    "https://docs.langchain.com/oss/python/langchain/tools"
   ]
  },
  {
   "cell_type": "code",
   "execution_count": 3,
   "id": "e7d6bde4-a3a3-4fd4-8769-5b45dea6f94c",
   "metadata": {},
   "outputs": [
    {
     "name": "stdout",
     "output_type": "stream",
     "text": [
      "[SystemMessage(content='너는 사용자의 질문에 답변을 하기 위해 tools를 사용할 수 있다.', additional_kwargs={}, response_metadata={}), HumanMessage(content='부산은 지금 몇시야?', additional_kwargs={}, response_metadata={}), AIMessage(content='', additional_kwargs={'refusal': None}, response_metadata={'token_usage': {'completion_tokens': 23, 'prompt_tokens': 135, 'total_tokens': 158, 'completion_tokens_details': {'accepted_prediction_tokens': 0, 'audio_tokens': 0, 'reasoning_tokens': 0, 'rejected_prediction_tokens': 0}, 'prompt_tokens_details': {'audio_tokens': 0, 'cached_tokens': 0}}, 'model_provider': 'openai', 'model_name': 'gpt-4o-mini-2024-07-18', 'system_fingerprint': 'fp_560af6e559', 'id': 'chatcmpl-CUBa8asMI0wLsY8JwZaYyTMpdT69z', 'service_tier': 'default', 'finish_reason': 'tool_calls', 'logprobs': None}, id='lc_run--716ccb12-448c-4388-bf58-ad7b2a8e3eaa-0', tool_calls=[{'name': 'get_current_time', 'args': {'timezone': 'Asia/Seoul', 'location': '부산'}, 'id': 'call_hDRB8ShLSs4NxTP76RuVoVg6', 'type': 'tool_call'}], usage_metadata={'input_tokens': 135, 'output_tokens': 23, 'total_tokens': 158, 'input_token_details': {'audio': 0, 'cache_read': 0}, 'output_token_details': {'audio': 0, 'reasoning': 0}})]\n"
     ]
    }
   ],
   "source": [
    "from langchain_core.tools import tool\n",
    "from langchain_core.messages import SystemMessage\n",
    "from datetime import datetime\n",
    "import pytz    # 시간대(timezone)를 다루기 위한 모듈\n",
    "\n",
    "@tool # @tool 데코레이터를 사용하여 함수를 도구로 등록\n",
    "def get_current_time(timezone: str, location: str) -> str:\n",
    "    \"\"\" 현재 시각을 반환하는 함수\n",
    "\n",
    "    Args:\n",
    "        timezone (str): 타임존 (예: 'Asia/Seoul') 실제 존재하는 타임존이어야 함\n",
    "        location (str): 지역명. 타임존이 모든 지명에 대응되지 않기 때문에 이후 llm 답변 생성에 사용됨\n",
    "    \"\"\"\n",
    "    tz = pytz.timezone(timezone)  # 특정 지역의 시간대를 객체로 생성\n",
    "    now = datetime.now(tz).strftime(\"%Y-%m-%d %H:%M:%S\")\n",
    "    location_and_local_time = f'{timezone} ({location}) 현재시각 {now} ' # 타임존, 지역명, 현재시각을 문자열로 반환\n",
    "    print(location_and_local_time)\n",
    "    return location_and_local_time\n",
    "    \n",
    "\n",
    "# 도구를 tools 리스트에 추가하고, tool_dict에도 추가\n",
    "tools = [get_current_time,]\n",
    "tool_dict = {\"get_current_time\": get_current_time,}\n",
    "\n",
    "# 도구를 모델에 바인딩: 모델에 도구를 바인딩하면, 도구를 사용하여 llm 답변을 생성할 수 있음\n",
    "llm_with_tools = model.bind_tools(tools)\n",
    "\n",
    "# 사용자의 질문과 tools 사용하여 llm 답변 생성\n",
    "messages = [\n",
    "    SystemMessage(\"너는 사용자의 질문에 답변을 하기 위해 tools를 사용할 수 있다.\"),\n",
    "    HumanMessage(\"부산은 지금 몇시야?\"),\n",
    "]\n",
    "\n",
    "#  llm_with_tools를 사용하여 사용자의 질문에 대한 llm 답변 생성\n",
    "response = llm_with_tools.invoke(messages)\n",
    "messages.append(response)\n",
    "\n",
    "# 생성된 llm 답변 출력\n",
    "print(messages)"
   ]
  },
  {
   "cell_type": "code",
   "execution_count": 4,
   "id": "d5145206-ac31-44dc-afff-2f490b4ce672",
   "metadata": {},
   "outputs": [
    {
     "name": "stdout",
     "output_type": "stream",
     "text": [
      "{'timezone': 'Asia/Seoul', 'location': '부산'}\n",
      "Asia/Seoul (부산) 현재시각 2025-10-24 21:53:47 \n"
     ]
    },
    {
     "data": {
      "text/plain": [
       "[SystemMessage(content='너는 사용자의 질문에 답변을 하기 위해 tools를 사용할 수 있다.', additional_kwargs={}, response_metadata={}),\n",
       " HumanMessage(content='부산은 지금 몇시야?', additional_kwargs={}, response_metadata={}),\n",
       " AIMessage(content='', additional_kwargs={'refusal': None}, response_metadata={'token_usage': {'completion_tokens': 23, 'prompt_tokens': 135, 'total_tokens': 158, 'completion_tokens_details': {'accepted_prediction_tokens': 0, 'audio_tokens': 0, 'reasoning_tokens': 0, 'rejected_prediction_tokens': 0}, 'prompt_tokens_details': {'audio_tokens': 0, 'cached_tokens': 0}}, 'model_provider': 'openai', 'model_name': 'gpt-4o-mini-2024-07-18', 'system_fingerprint': 'fp_560af6e559', 'id': 'chatcmpl-CUBa8asMI0wLsY8JwZaYyTMpdT69z', 'service_tier': 'default', 'finish_reason': 'tool_calls', 'logprobs': None}, id='lc_run--716ccb12-448c-4388-bf58-ad7b2a8e3eaa-0', tool_calls=[{'name': 'get_current_time', 'args': {'timezone': 'Asia/Seoul', 'location': '부산'}, 'id': 'call_hDRB8ShLSs4NxTP76RuVoVg6', 'type': 'tool_call'}], usage_metadata={'input_tokens': 135, 'output_tokens': 23, 'total_tokens': 158, 'input_token_details': {'audio': 0, 'cache_read': 0}, 'output_token_details': {'audio': 0, 'reasoning': 0}}),\n",
       " ToolMessage(content='Asia/Seoul (부산) 현재시각 2025-10-24 21:53:47 ', name='get_current_time', tool_call_id='call_hDRB8ShLSs4NxTP76RuVoVg6')]"
      ]
     },
     "execution_count": 4,
     "metadata": {},
     "output_type": "execute_result"
    }
   ],
   "source": [
    "for tool_call in response.tool_calls:\n",
    "    selected_tool = tool_dict[tool_call[\"name\"]] #  tool_dict를 사용하여 도구 함수를 선택\n",
    "    print(tool_call[\"args\"])                     #  도구 호출 시 전달된 인자 출력\n",
    "    tool_msg = selected_tool.invoke(tool_call)   #  도구 함수를 호출하여 결과를 반환\n",
    "    messages.append(tool_msg)\n",
    "\n",
    "messages"
   ]
  },
  {
   "cell_type": "code",
   "execution_count": 5,
   "id": "67641f84-0b92-4f47-b423-20576e73b619",
   "metadata": {},
   "outputs": [
    {
     "name": "stdout",
     "output_type": "stream",
     "text": [
      "부산은 지금 2025년 10월 24일 21시 53분 47초입니다.\n"
     ]
    }
   ],
   "source": [
    "response = llm_with_tools.invoke(messages)\n",
    "print(response.content)"
   ]
  },
  {
   "cell_type": "markdown",
   "id": "055eaeb8-694b-4ffc-8617-8e759eec805f",
   "metadata": {},
   "source": [
    "### Agent\n",
    "에이전트란, 고수준의 작업(task)을 받아서 언어모델(LLM)을 추론 엔진(reasoning engine)으로 사용하고,  <br>\n",
    "적절한 도구(tools)를 선택·실행하며 반복적으로 행동(action) → 관찰(observation) → 추론(thought) 과정을 거쳐 최종 결과를 도출하는 시스템이다.\n",
    "\n",
    "https://docs.langchain.com/oss/python/releases/langchain-v1"
   ]
  },
  {
   "cell_type": "code",
   "execution_count": 14,
   "id": "8633db64-ce9e-49d0-9e11-78219dd9bfc4",
   "metadata": {},
   "outputs": [
    {
     "name": "stdout",
     "output_type": "stream",
     "text": [
      "서울의 날씨는 맑습니다.\n"
     ]
    }
   ],
   "source": [
    "from langchain_openai import ChatOpenAI\n",
    "# from langgraph.prebuilt import create_react_agent  # Deprecated in LangGraph V1.0 to be removed in V2.0.\n",
    "from langchain.agents import create_agent\n",
    "from langchain_core.messages import HumanMessage\n",
    "from langchain.tools import tool\n",
    "\n",
    "# 툴 정의\n",
    "@tool\n",
    "def get_weather(city: str) -> str:\n",
    "    \"\"\"입력한 도시의 날씨를 알려준다.\"\"\"\n",
    "    return f\"{city}의 날씨는 맑습니다.\"\n",
    "    \n",
    "@tool # @tool 데코레이터를 사용하여 함수를 도구로 등록\n",
    "def get_current_time(timezone: str, location: str) -> str:\n",
    "    \"\"\" 현재 시각을 반환하는 함수\n",
    "\n",
    "    Args:\n",
    "        timezone (str): 타임존 (예: 'Asia/Seoul') 실제 존재하는 타임존이어야 함\n",
    "        location (str): 지역명. 타임존이 모든 지명에 대응되지 않기 때문에 이후 llm 답변 생성에 사용됨\n",
    "    \"\"\"\n",
    "    tz = pytz.timezone(timezone)  # 특정 지역의 시간대를 객체로 생성\n",
    "    now = datetime.now(tz).strftime(\"%Y-%m-%d %H:%M:%S\")\n",
    "    location_and_local_time = f'{timezone} ({location}) 현재시각 {now} ' # 타임존, 지역명, 현재시각을 문자열로 반환\n",
    "    print(location_and_local_time)\n",
    "    return location_and_local_time\n",
    "    \n",
    "# 모델 초기화\n",
    "llm = ChatOpenAI(model=\"gpt-4o-mini\", temperature=0)\n",
    "\n",
    "# Agent 생성\n",
    "agent = create_agent(llm, [get_weather,get_current_time])\n",
    "\n",
    "# dict 형태로 메시지를 입력해야 함\n",
    "result = agent.invoke({\n",
    "    \"messages\": [HumanMessage(content=\"서울의 날씨 알려줘\")]\n",
    "})\n",
    "\n",
    "# 결과는 messages 리스트 형태로 반환됨\n",
    "print(result[\"messages\"][-1].content)\n"
   ]
  },
  {
   "cell_type": "code",
   "execution_count": 15,
   "id": "6b5b171d-ba2c-400e-ba05-5f0b414057e0",
   "metadata": {},
   "outputs": [
    {
     "name": "stdout",
     "output_type": "stream",
     "text": [
      "Asia/Seoul (서울) 현재시각 2025-10-24 22:15:32 \n",
      "서울은 지금 2025년 10월 24일 22시 15분 32초입니다.\n"
     ]
    }
   ],
   "source": [
    "result = agent.invoke({\n",
    "    \"messages\": [HumanMessage(content=\"서울은 지금 몇시야?\")]\n",
    "})\n",
    "\n",
    "# 결과는 messages 리스트 형태로 반환됨\n",
    "print(result[\"messages\"][-1].content)"
   ]
  },
  {
   "cell_type": "code",
   "execution_count": 4,
   "id": "179c6e3e-6da8-44d7-8ea3-0c4508eac87f",
   "metadata": {},
   "outputs": [
    {
     "name": "stdout",
     "output_type": "stream",
     "text": [
      "서울의 날씨는 흐림입니다. 그리고 3 × 7의 결과는 21입니다.\n"
     ]
    }
   ],
   "source": [
    "# LangChain v1.0 기준 예제\n",
    "from langchain_openai import ChatOpenAI\n",
    "from langchain.agents import create_agent\n",
    "from langchain.tools import tool\n",
    "\n",
    "# 1) Tool 정의\n",
    "@tool\n",
    "def multiply(a: int, b: int) -> int:\n",
    "    \"\"\"두 수를 곱한 값을 반환한다.\"\"\"\n",
    "    return a * b\n",
    "\n",
    "@tool\n",
    "def get_weather(city: str) -> str:\n",
    "    \"\"\"예시용 간단 날씨 응답을 반환한다.\"\"\"\n",
    "    return f\"{city}의 날씨는 맑음이다.\"\n",
    "\n",
    "# 2) 모델 준비\n",
    "llm = ChatOpenAI(model=\"gpt-4o-mini\", temperature=0)\n",
    "\n",
    "# 3) 에이전트 생성: create_agent가 표준이다\n",
    "agent = create_agent(\n",
    "    model=llm,\n",
    "    tools=[multiply, get_weather],\n",
    "    system_prompt=\"사용자의 요청을 해결하기 위해 필요시 도구를 호출한다.\"\n",
    ")\n",
    "\n",
    "# 4) 호출: v1에서는 메시지 시퀀스를 상태로 전달한다\n",
    "result = agent.invoke({\n",
    "    \"messages\": [\n",
    "        {\"role\": \"user\", \"content\": \"서울의 날씨와 3×7 결과를 알려줘\"}\n",
    "    ]\n",
    "})\n",
    "print(result[\"messages\"][-1].content)"
   ]
  },
  {
   "cell_type": "code",
   "execution_count": null,
   "id": "83b0ed12-e968-4365-8a02-ad986cdc2ced",
   "metadata": {},
   "outputs": [],
   "source": []
  }
 ],
 "metadata": {
  "kernelspec": {
   "display_name": "Python 3 (ipykernel)",
   "language": "python",
   "name": "python3"
  },
  "language_info": {
   "codemirror_mode": {
    "name": "ipython",
    "version": 3
   },
   "file_extension": ".py",
   "mimetype": "text/x-python",
   "name": "python",
   "nbconvert_exporter": "python",
   "pygments_lexer": "ipython3",
   "version": "3.12.7"
  }
 },
 "nbformat": 4,
 "nbformat_minor": 5
}
