{
 "cells": [
  {
   "cell_type": "markdown",
   "id": "360680e8-de15-41cb-ab2c-2e79ac9d0aa3",
   "metadata": {},
   "source": [
    "## LangGraph\n",
    ":\n",
    "LangGraph는 LLM 애플리케이션의 복잡한 워크플로우(Workflow)를 시각적이고 구조적으로 설계할 수 있게 해주는 “그래프 기반 실행 프레임워크”이다. <br>\n",
    "LLM 호출(Chain, Tool, Retriever, Memory 등)을 노드(Node)로, 데이터 흐름을 엣지(Edge)로 정의하여 AI Agent나 RAG 시스템의 실행 단계를 명확히 구성할 수 있다."
   ]
  },
  {
   "cell_type": "code",
   "execution_count": 1,
   "id": "965169e2-844b-4ec1-8ece-1f0f27600373",
   "metadata": {},
   "outputs": [
    {
     "data": {
      "text/plain": [
       "True"
      ]
     },
     "execution_count": 1,
     "metadata": {},
     "output_type": "execute_result"
    }
   ],
   "source": [
    "import os\n",
    "from dotenv import load_dotenv\n",
    "\n",
    "# .env 파일의 내용 불러오기\n",
    "load_dotenv(\"C:/env/.env\")"
   ]
  },
  {
   "cell_type": "code",
   "execution_count": 2,
   "id": "9a5ec195-1a1e-4b29-b713-7d10e49499fa",
   "metadata": {},
   "outputs": [],
   "source": [
    "# !pip install langgraph"
   ]
  },
  {
   "cell_type": "code",
   "execution_count": 3,
   "id": "f09e3685-b4a6-4315-bff6-fb3b3783d826",
   "metadata": {},
   "outputs": [
    {
     "name": "stdout",
     "output_type": "stream",
     "text": [
      "1.0.1\n"
     ]
    }
   ],
   "source": [
    "from importlib.metadata import version\n",
    "print(version(\"langgraph\"))"
   ]
  },
  {
   "cell_type": "code",
   "execution_count": 4,
   "id": "36d04a4b-7f00-4f70-99d5-cc458e59feff",
   "metadata": {},
   "outputs": [
    {
     "name": "stdout",
     "output_type": "stream",
     "text": [
      "요약 결과: 검색된 문서: LangGraph란 무엇인가? 관련 내용\n"
     ]
    }
   ],
   "source": [
    "from typing import TypedDict\n",
    "from langgraph.graph import StateGraph, END\n",
    "from langchain_core.runnables import RunnableLambda\n",
    "\n",
    "# 1) 상태 정의 (TypedDict 사용)\n",
    "class QAState(TypedDict):\n",
    "    question: str\n",
    "    docs: list[str]\n",
    "    answer: str\n",
    "\n",
    "# 2) 노드 함수 정의\n",
    "def retrieve_node(state: QAState) -> QAState:\n",
    "    state[\"docs\"] = [f\"검색된 문서: {state['question']} 관련 내용\"]\n",
    "    return state\n",
    "\n",
    "def summarize_node(state: QAState) -> QAState:\n",
    "    docs = \"\\n\".join(state[\"docs\"])\n",
    "    state[\"answer\"] = f\"요약 결과: {docs}\"\n",
    "    return state\n",
    "\n",
    "# 3) 그래프 구성\n",
    "graph = StateGraph(QAState)\n",
    "graph.add_node(\"retriever\", RunnableLambda(retrieve_node))\n",
    "graph.add_node(\"summarizer\", RunnableLambda(summarize_node))\n",
    "\n",
    "# 4) 엣지 연결\n",
    "graph.add_edge(\"retriever\", \"summarizer\")\n",
    "graph.set_entry_point(\"retriever\")\n",
    "graph.set_finish_point(\"summarizer\")\n",
    "\n",
    "# 5) 그래프 실행\n",
    "app = graph.compile()\n",
    "result = app.invoke({\"question\": \"LangGraph란 무엇인가?\", \"docs\": [], \"answer\": \"\"})\n",
    "print(result[\"answer\"])\n"
   ]
  },
  {
   "cell_type": "code",
   "execution_count": 5,
   "id": "81871925-3812-41b8-9434-470bb72d9bea",
   "metadata": {},
   "outputs": [
    {
     "data": {
      "image/png": "[encoded data removed]",
      "text/plain": [
       "<IPython.core.display.Image object>"
      ]
     },
     "metadata": {},
     "output_type": "display_data"
    }
   ],
   "source": [
    "# LangGraph 시각화\n",
    "from IPython.display import Image, display\n",
    "\n",
    "display(Image(app.get_graph().draw_mermaid_png()))"
   ]
  },
  {
   "cell_type": "code",
   "execution_count": 6,
   "id": "bd98c74c-bd9b-457d-9629-e54e47edb590",
   "metadata": {},
   "outputs": [
    {
     "name": "stdout",
     "output_type": "stream",
     "text": [
      "🧾 사용자 질문: 3 더해 7\n",
      "⚙️ 선택된 도구: calculator\n",
      "🧮 도구 결과: 계산 결과: 10\n",
      "💬 최종 답변: 3에 7을 더하면 10이 됩니다. 다른 질문이 있으시면 언제든지 말씀해 주세요!\n"
     ]
    }
   ],
   "source": [
    "from typing import TypedDict\n",
    "from langchain_openai import ChatOpenAI\n",
    "from langchain_core.runnables import RunnableLambda\n",
    "from langgraph.graph import StateGraph, END\n",
    "\n",
    "# --- 1️⃣ 상태(State) 정의 ---\n",
    "class AgentState(TypedDict):\n",
    "    question: str\n",
    "    tool: str\n",
    "    result: str\n",
    "    answer: str\n",
    "\n",
    "\n",
    "# --- 2️⃣ LLM 초기화 ---\n",
    "llm = ChatOpenAI(model=\"gpt-4o-mini\", temperature=0)\n",
    "\n",
    "# --- 3️⃣ 노드 정의 ---\n",
    "def decide_tool(state: AgentState) -> AgentState:\n",
    "    \"\"\"질문 내용에 따라 어떤 도구를 쓸지 결정\"\"\"\n",
    "    q = state[\"question\"]\n",
    "    if \"계산\" in q or \"더해\" in q:\n",
    "        state[\"tool\"] = \"calculator\"\n",
    "    elif \"날씨\" in q:\n",
    "        state[\"tool\"] = \"weather\"\n",
    "    else:\n",
    "        state[\"tool\"] = \"llm_direct\"\n",
    "    return state\n",
    "\n",
    "\n",
    "def tool_node(state: AgentState) -> AgentState:\n",
    "    \"\"\"도구 실행\"\"\"\n",
    "    tool = state[\"tool\"]\n",
    "    q = state[\"question\"]\n",
    "\n",
    "    if tool == \"calculator\":\n",
    "        state[\"result\"] = f\"계산 결과: {eval(q.replace('더해', '+'))}\"\n",
    "    elif tool == \"weather\":\n",
    "        state[\"result\"] = \"오늘 서울의 날씨는 맑고 22도입니다.\"\n",
    "    else:\n",
    "        state[\"result\"] = llm.invoke(f\"질문에 답변하세요: {q}\").content\n",
    "    return state\n",
    "\n",
    "\n",
    "def summarize_node(state: AgentState) -> AgentState:\n",
    "    \"\"\"결과를 자연어로 요약\"\"\"\n",
    "    prompt = f\"사용자 질문: {state['question']}\\n도구 결과: {state['result']}\\n이를 바탕으로 자연스럽게 답변하세요.\"\n",
    "    response = llm.invoke(prompt)\n",
    "    state[\"answer\"] = response.content\n",
    "    return state\n",
    "\n",
    "\n",
    "# --- 4️⃣ 그래프 구성 ---\n",
    "graph = StateGraph(AgentState)\n",
    "graph.add_node(\"decide_tool\", RunnableLambda(decide_tool))\n",
    "graph.add_node(\"tool_node\", RunnableLambda(tool_node))\n",
    "graph.add_node(\"summarize\", RunnableLambda(summarize_node))\n",
    "\n",
    "# --- 5️⃣ 엣지 연결 ---\n",
    "graph.add_edge(\"decide_tool\", \"tool_node\")\n",
    "graph.add_edge(\"tool_node\", \"summarize\")\n",
    "graph.set_entry_point(\"decide_tool\")\n",
    "graph.set_finish_point(\"summarize\")\n",
    "\n",
    "# --- 6️⃣컴파일 ---\n",
    "app = graph.compile()\n",
    "\n",
    "# --- 7️⃣ 테스트 실행 ---\n",
    "query = \"3 더해 7\"\n",
    "result = app.invoke({\"question\": query, \"tool\": \"\", \"result\": \"\", \"answer\": \"\"})\n",
    "\n",
    "print(\"🧾 사용자 질문:\", query)\n",
    "print(\"⚙️ 선택된 도구:\", result[\"tool\"])\n",
    "print(\"🧮 도구 결과:\", result[\"result\"])\n",
    "print(\"💬 최종 답변:\", result[\"answer\"])\n"
   ]
  },
  {
   "cell_type": "code",
   "execution_count": 7,
   "id": "dbf363f0-1211-4443-b4f2-03d2971bba27",
   "metadata": {},
   "outputs": [
    {
     "data": {
      "image/png": "[encoded data removed]",
      "text/plain": [
       "<IPython.core.display.Image object>"
      ]
     },
     "metadata": {},
     "output_type": "display_data"
    }
   ],
   "source": [
    "# LangGraph 시각화\n",
    "from IPython.display import Image, display\n",
    "\n",
    "display(Image(app.get_graph().draw_mermaid_png()))"
   ]
  },
  {
   "cell_type": "code",
   "execution_count": null,
   "id": "b89f503c-5778-4a78-b8a1-54775223ae73",
   "metadata": {},
   "outputs": [],
   "source": []
  }
 ],
 "metadata": {
  "kernelspec": {
   "display_name": "Python 3 (ipykernel)",
   "language": "python",
   "name": "python3"
  },
  "language_info": {
   "codemirror_mode": {
    "name": "ipython",
    "version": 3
   },
   "file_extension": ".py",
   "mimetype": "text/x-python",
   "name": "python",
   "nbconvert_exporter": "python",
   "pygments_lexer": "ipython3",
   "version": "3.12.7"
  }
 },
 "nbformat": 4,
 "nbformat_minor": 5
}
