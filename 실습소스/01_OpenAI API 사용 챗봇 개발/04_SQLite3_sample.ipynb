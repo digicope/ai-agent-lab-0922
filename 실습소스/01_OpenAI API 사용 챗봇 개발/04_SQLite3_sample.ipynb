{
 "cells": [
  {
   "cell_type": "markdown",
   "id": "55ee32f8-dd02-4f1d-b66a-e89a7f4c4ca9",
   "metadata": {},
   "source": [
    "## SQLite3 데이터 베이스 사용법"
   ]
  },
  {
   "cell_type": "code",
   "execution_count": 3,
   "id": "55bf13c0-0197-4ed6-8e20-eb2005baf75e",
   "metadata": {},
   "outputs": [],
   "source": [
    "# !pip install pysqlite3\n",
    "import sqlite3\n",
    "\n",
    "# sample.db라는 파일 기반의 SQLite 데이터베이스에 연결\n",
    "# 해당 파일이 없으면 새로 생성한다.\n",
    "conn = sqlite3.connect('sample.db')\n",
    "\n",
    "# SQL 명령을 실행하기 위해 커서 객체를 생성\n",
    "c = conn.cursor()\n",
    "\n",
    "# 테이블 생성: conversations라는 테이블을 생성. id는 기본 키이며 자동으로 증가합니다. \n",
    "# question, answer 컬럼(스키마)을 정의\n",
    "c.execute('''\n",
    "    CREATE TABLE IF NOT EXISTS conversations (\n",
    "        id INTEGER PRIMARY KEY AUTOINCREMENT,\n",
    "        question TEXT,\n",
    "        answer TEXT\n",
    "    )\n",
    "''')\n",
    "\n",
    "conn.commit()  # 변경 사항 저장 (커밋)\n",
    "conn.close()   # 데이터베이스 연결 종료"
   ]
  },
  {
   "cell_type": "code",
   "execution_count": 18,
   "id": "7840af7b-87a7-48a7-8519-3bee3884abd1",
   "metadata": {},
   "outputs": [],
   "source": [
    "# DB에 데이터 저장하기\n",
    "\n",
    "# 저장할 데이터\n",
    "question = '하늘은 왜 파란가요?'\n",
    "answer = '하늘이 파란 이유는 주로 대기 중의 산란 현상 때문입니다'\n",
    "\n",
    "# SQLite 데이터베이스에 연결\n",
    "conn = sqlite3.connect('sample.db')\n",
    "\n",
    "# SQL 명령을 실행하기 위해 커서 객체를 생성\n",
    "c = conn.cursor()\n",
    "\n",
    "# 데이터 삽입 : conversations 테이블에 데이터를 삽입 \n",
    "# ?는 자리표시자(placeholder)로, 실제 값은 튜플로 전달된다.\n",
    "c.execute('''\n",
    "    INSERT INTO conversations (question,answer) VALUES (?,?)\n",
    "''',(question,answer))\n",
    "\n",
    "conn.commit()  # 변경 사항 저장 (커밋)\n",
    "conn.close()   # 데이터베이스 연결 종료"
   ]
  },
  {
   "cell_type": "code",
   "execution_count": 19,
   "id": "ecf6ac69-598c-4716-a3c6-b0cdf93fe68c",
   "metadata": {},
   "outputs": [
    {
     "name": "stdout",
     "output_type": "stream",
     "text": [
      "[(5, '하늘은 왜 파란가요?', '하늘이 파란 이유는 주로 대기 중의 산란 현상 때문입니다'), (6, '하늘은 왜 파란가요?', '하늘이 파란 이유는 주로 대기 중의 산란 현상 때문입니다'), (7, '하늘은 왜 파란가요?', '하늘이 파란 이유는 주로 대기 중의 산란 현상 때문입니다')]\n"
     ]
    }
   ],
   "source": [
    "# 데이터 조회 및 출력\n",
    "\n",
    "# SQLite 데이터베이스에 연결\n",
    "conn = sqlite3.connect('sample.db')\n",
    "\n",
    "# SQL 명령을 실행하기 위해 커서 객체를 생성\n",
    "c = conn.cursor()\n",
    "\n",
    "# 테이블의 모든 데이터를 조회\n",
    "c.execute(\"SELECT * FROM conversations\")\n",
    "\n",
    "# SQL 쿼리의 결과로 반환된 모든 행을 한꺼번에 가져오고 리스트로 반환\n",
    "conversations = c.fetchall()\n",
    "\n",
    "# 결과출력\n",
    "print(conversations)\n",
    "conn.close()   # 데이터베이스 연결 종료"
   ]
  },
  {
   "cell_type": "code",
   "execution_count": 14,
   "id": "39c68e3f-ca8f-4d64-926d-660bca0cb96c",
   "metadata": {},
   "outputs": [],
   "source": [
    "# 데이터 삭제\n",
    "\n",
    "# SQLite 데이터베이스에 연결\n",
    "conn = sqlite3.connect('sample.db')\n",
    "\n",
    "# SQL 명령을 실행하기 위해 커서 객체를 생성\n",
    "c = conn.cursor()\n",
    "\n",
    "# 테이블의 모든 데이터를 삭제 \n",
    "c.execute(\"DELETE FROM conversations\")\n",
    "\n",
    "conn.commit()  # 변경 사항 저장 (커밋)\n",
    "conn.close()   # 데이터베이스 연결 종료"
   ]
  },
  {
   "cell_type": "markdown",
   "id": "b3921728-cb9c-4b09-bb07-b16690045f02",
   "metadata": {},
   "source": [
    "### 함수로 모듈 구현하기\n",
    ": database.py"
   ]
  },
  {
   "cell_type": "code",
   "execution_count": 21,
   "id": "95336a40-3cff-409d-b978-1df1d7c0fe9b",
   "metadata": {},
   "outputs": [
    {
     "name": "stdout",
     "output_type": "stream",
     "text": [
      "[(5, '하늘은 왜 파란가요?', '하늘이 파란 이유는 주로 대기 중의 산란 현상 때문입니다'), (6, '하늘은 왜 파란가요?', '하늘이 파란 이유는 주로 대기 중의 산란 현상 때문입니다'), (7, '하늘은 왜 파란가요?', '하늘이 파란 이유는 주로 대기 중의 산란 현상 때문입니다'), (8, '하늘은 왜 파란가요?', '하늘이 파란 이유는 주로 대기 중의 산란 현상 때문입니다'), (9, '하늘은 왜 노란가요?', '하늘이 노란 경우는 해가 질 무렵에 보이는 경우입니다')]\n"
     ]
    }
   ],
   "source": [
    "%%writefile database.py\n",
    "import sqlite3\n",
    "\n",
    "# DB 초기화 함수\n",
    "def init_db():\n",
    "    conn = sqlite3.connect('sample.db')\n",
    "    c = conn.cursor()\n",
    "    c.execute('''\n",
    "        CREATE TABLE IF NOT EXISTS conversations (\n",
    "            id INTEGER PRIMARY KEY AUTOINCREMENT,\n",
    "            question TEXT,\n",
    "            answer TEXT\n",
    "        )\n",
    "    ''')\n",
    "    \n",
    "    conn.commit() \n",
    "    conn.close()  \n",
    "\n",
    "# DB 저장 함수\n",
    "def save_conversation(question,answer):\n",
    "    conn = sqlite3.connect('sample.db')\n",
    "    c = conn.cursor()\n",
    "    c.execute('''\n",
    "        INSERT INTO conversations (question,answer) VALUES (?,?)\n",
    "    ''',(question,answer))\n",
    "    \n",
    "    conn.commit() \n",
    "    conn.close()  \n",
    "\n",
    "# DB 조회 함수\n",
    "def get_conversations():\n",
    "    conn = sqlite3.connect('sample.db')\n",
    "    c = conn.cursor()\n",
    "    c.execute(\"SELECT * FROM conversations\")\n",
    "    conversations = c.fetchall()\n",
    "    conn.close()   \n",
    "    return conversations\n",
    "\n",
    "if __name__ == \"__main__\":\n",
    "    init_db()\n",
    "\n",
    "    question = '하늘은 왜 노란가요?'\n",
    "    answer = '하늘이 노란 경우는 해가 질 무렵에 보이는 경우입니다'\n",
    "    save_conversation(question,answer)\n",
    "\n",
    "    conversations = get_conversations()\n",
    "    print(conversations)"
   ]
  },
  {
   "cell_type": "code",
   "execution_count": null,
   "id": "12c40f55-3086-4a79-9958-086f9b95cb91",
   "metadata": {},
   "outputs": [],
   "source": []
  }
 ],
 "metadata": {
  "kernelspec": {
   "display_name": "Python 3 (ipykernel)",
   "language": "python",
   "name": "python3"
  },
  "language_info": {
   "codemirror_mode": {
    "name": "ipython",
    "version": 3
   },
   "file_extension": ".py",
   "mimetype": "text/x-python",
   "name": "python",
   "nbconvert_exporter": "python",
   "pygments_lexer": "ipython3",
   "version": "3.12.7"
  }
 },
 "nbformat": 4,
 "nbformat_minor": 5
}
