{
 "cells": [
  {
   "cell_type": "markdown",
   "id": "28feb09f-602e-46ea-92ff-30d80af56c4a",
   "metadata": {},
   "source": [
    "# GPT 고객 서비스 챗봇 만들기"
   ]
  },
  {
   "cell_type": "code",
   "execution_count": 1,
   "id": "cce9e306-14a9-45ef-8818-4ffbc184a373",
   "metadata": {},
   "outputs": [],
   "source": [
    "# 터미널에서 실행시\n",
    "# python -m venv venv\n",
    "# source venv/bin/activate  # 윈도우는 venv\\Scripts\\activate\n",
    "# pip install -r requirements.txt\n",
    "# python app.py"
   ]
  },
  {
   "cell_type": "code",
   "execution_count": 1,
   "id": "3f08f775-af5d-4813-b1a7-fa41ea6768ec",
   "metadata": {},
   "outputs": [],
   "source": [
    "from dotenv import load_dotenv\n",
    "import os\n",
    "\n",
    "# .env 파일 불러오기\n",
    "load_dotenv(\"C:/env/.env\")\n",
    "\n",
    "# 환경 변수 가져오기\n",
    "API_KEY = os.getenv(\"OPENAI_API_KEY\")\n",
    "\n",
    "from openai import OpenAI\n",
    "client = OpenAI(api_key=API_KEY)\n",
    "\n",
    "from flask import Flask, jsonify, request, render_template\n",
    "app = Flask(__name__)"
   ]
  },
  {
   "cell_type": "code",
   "execution_count": 2,
   "id": "b178be8d-e44d-4f2d-965a-159757d198c2",
   "metadata": {},
   "outputs": [
    {
     "name": "stdout",
     "output_type": "stream",
     "text": [
      " * Serving Flask app '__main__'\n",
      " * Debug mode: off\n"
     ]
    },
    {
     "name": "stderr",
     "output_type": "stream",
     "text": [
      "WARNING: This is a development server. Do not use it in a production deployment. Use a production WSGI server instead.\n",
      " * Running on http://127.0.0.1:5000\n",
      "Press CTRL+C to quit\n"
     ]
    }
   ],
   "source": [
    "@app.route('/')\n",
    "def home():\n",
    "    return render_template('index.html')\n",
    "\n",
    "@app.route('/get_response', methods=['POST'])\n",
    "def get_response():\n",
    "    user_message = request.json.get(\"message\")\n",
    "\n",
    "    #  OpenAI 모델에 요청\n",
    "    response = client.chat.completions.create(\n",
    "        model = \"gpt-4o-mini\", \n",
    "        max_tokens= 300,\n",
    "        messages = [ {\"role\":\"user\", \"content\":user_message} ],\n",
    "        n = 1,\n",
    "        stop = None,\n",
    "        temperature = 0.7,\n",
    "    )    \n",
    "\n",
    "    bot_response = response.choices[0].message.content\n",
    "    return jsonify({\"response\": bot_response})\n",
    "   \n",
    "           \n",
    "if __name__ == '__main__':\n",
    "    app.run(debug=False)"
   ]
  },
  {
   "cell_type": "markdown",
   "id": "89a6dc13-c858-4261-b477-c8b8ef2d8fd4",
   "metadata": {},
   "source": [
    "## 질문한 내용을 Context로 계속 유지하면서 질문하기"
   ]
  },
  {
   "cell_type": "code",
   "execution_count": 3,
   "id": "08dfcbeb-ce82-4045-8d5b-a79ebae14884",
   "metadata": {},
   "outputs": [
    {
     "name": "stdout",
     "output_type": "stream",
     "text": [
      " * Serving Flask app '__main__'\n",
      " * Debug mode: off\n"
     ]
    },
    {
     "name": "stderr",
     "output_type": "stream",
     "text": [
      "WARNING: This is a development server. Do not use it in a production deployment. Use a production WSGI server instead.\n",
      " * Running on http://127.0.0.1:5000\n",
      "Press CTRL+C to quit\n",
      "127.0.0.1 - - [29/Sep/2025 19:03:46] \"GET / HTTP/1.1\" 200 -\n",
      "127.0.0.1 - - [29/Sep/2025 19:03:46] \"GET /favicon.ico HTTP/1.1\" 404 -\n"
     ]
    },
    {
     "name": "stdout",
     "output_type": "stream",
     "text": [
      "[{'role': 'user', 'content': '나는 홍길동이야'}]\n"
     ]
    },
    {
     "name": "stderr",
     "output_type": "stream",
     "text": [
      "127.0.0.1 - - [29/Sep/2025 19:03:58] \"POST /get_response HTTP/1.1\" 200 -\n"
     ]
    },
    {
     "name": "stdout",
     "output_type": "stream",
     "text": [
      "[{'role': 'user', 'content': '나는 홍길동이야'}, {'role': 'user', 'content': '내이름이 뭐지?'}]\n"
     ]
    },
    {
     "name": "stderr",
     "output_type": "stream",
     "text": [
      "127.0.0.1 - - [29/Sep/2025 19:04:07] \"POST /get_response HTTP/1.1\" 200 -\n"
     ]
    },
    {
     "name": "stdout",
     "output_type": "stream",
     "text": [
      "[{'role': 'user', 'content': '나는 홍길동이야'}, {'role': 'user', 'content': '내이름이 뭐지?'}, {'role': 'user', 'content': '하늘이 파란 이유는?'}]\n"
     ]
    },
    {
     "name": "stderr",
     "output_type": "stream",
     "text": [
      "127.0.0.1 - - [29/Sep/2025 19:04:31] \"POST /get_response HTTP/1.1\" 200 -\n"
     ]
    },
    {
     "name": "stdout",
     "output_type": "stream",
     "text": [
      "[{'role': 'user', 'content': '나는 홍길동이야'}, {'role': 'user', 'content': '내이름이 뭐지?'}, {'role': 'user', 'content': '하늘이 파란 이유는?'}, {'role': 'user', 'content': '노란 이유는?'}]\n"
     ]
    },
    {
     "name": "stderr",
     "output_type": "stream",
     "text": [
      "127.0.0.1 - - [29/Sep/2025 19:04:44] \"POST /get_response HTTP/1.1\" 200 -\n"
     ]
    }
   ],
   "source": [
    "# 소스 코드를 이어서 실행할 경우 오류나므로 \"Restart Kernel\"을 수행하고 실행한다\n",
    "\n",
    "@app.route('/')\n",
    "def home():\n",
    "    return render_template('index.html')\n",
    "\n",
    "# 대화 히스토리를 저장할 변수\n",
    "conversation_history = []\n",
    "\n",
    "@app.route('/get_response', methods=['POST'])\n",
    "def get_response():\n",
    "    user_message = request.json.get(\"message\")\n",
    "    conversation_history.append({\"role\":\"user\",\"content\":user_message})\n",
    "    print(conversation_history)\n",
    "\n",
    "    # OpenAI 모델에 요청\n",
    "    response = client.chat.completions.create(\n",
    "        model = \"gpt-4o-mini\",\n",
    "        messages = conversation_history,\n",
    "        max_tokens = 300,\n",
    "        n = 1,\n",
    "        stop = None,\n",
    "        temperature = 0.2,\n",
    "    )\n",
    "\n",
    "    bot_response = response.choices[0].message.content\n",
    "    return jsonify({\"response\": bot_response})\n",
    "        \n",
    "if __name__ == '__main__':\n",
    "    app.run(debug=False)    "
   ]
  },
  {
   "cell_type": "markdown",
   "id": "28f78f70-6dc9-46ef-b189-31702b6ae176",
   "metadata": {},
   "source": [
    "### 질문과 답변한 내용을 Context로 계속 유지하면서 질문하기 "
   ]
  },
  {
   "cell_type": "code",
   "execution_count": null,
   "id": "5736a177-d85e-4bd2-81f0-4bbf3341e608",
   "metadata": {},
   "outputs": [
    {
     "name": "stdout",
     "output_type": "stream",
     "text": [
      " * Serving Flask app '__main__'\n",
      " * Debug mode: off\n"
     ]
    },
    {
     "name": "stderr",
     "output_type": "stream",
     "text": [
      "WARNING: This is a development server. Do not use it in a production deployment. Use a production WSGI server instead.\n",
      " * Running on http://127.0.0.1:5000\n",
      "Press CTRL+C to quit\n",
      "127.0.0.1 - - [29/Sep/2025 19:19:50] \"GET / HTTP/1.1\" 200 -\n",
      "127.0.0.1 - - [29/Sep/2025 19:20:14] \"POST /get_response HTTP/1.1\" 200 -\n"
     ]
    },
    {
     "name": "stdout",
     "output_type": "stream",
     "text": [
      "history:\n",
      " [{'질문': '하늘이 파란이유는?', '답변': '하늘이 파란 이유는 대기 중의 산란 현상 때문입니다. 태양빛은 여러 색의 빛으로 구성되어 있는데, 이 중 파란색 빛은 다른 색에 비해 파장이 짧아 대기 중의 분자와 더 많이 산란됩니다. 이 산란 현상으로 인해 하늘을 바라볼 때 파란색이 주로 보이게 됩니다. 특히, 태양이 높이 떠 있을 때 더욱 뚜렷하게 나타나며, 해가 지거나 해가 뜰 때는 다른 색의 빛이 더 많이 산란되어 붉은색이나 주황색으로 보이기도 합니다.'}] \n",
      "\n",
      "------------------------------\n"
     ]
    },
    {
     "name": "stderr",
     "output_type": "stream",
     "text": [
      "127.0.0.1 - - [29/Sep/2025 19:20:29] \"POST /get_response HTTP/1.1\" 200 -\n"
     ]
    },
    {
     "name": "stdout",
     "output_type": "stream",
     "text": [
      "history:\n",
      " [{'질문': '하늘이 파란이유는?', '답변': '하늘이 파란 이유는 대기 중의 산란 현상 때문입니다. 태양빛은 여러 색의 빛으로 구성되어 있는데, 이 중 파란색 빛은 다른 색에 비해 파장이 짧아 대기 중의 분자와 더 많이 산란됩니다. 이 산란 현상으로 인해 하늘을 바라볼 때 파란색이 주로 보이게 됩니다. 특히, 태양이 높이 떠 있을 때 더욱 뚜렷하게 나타나며, 해가 지거나 해가 뜰 때는 다른 색의 빛이 더 많이 산란되어 붉은색이나 주황색으로 보이기도 합니다.'}, {'질문': '노란 이유는?', '답변': '하늘이 노란색으로 보이는 이유는 주로 태양의 위치와 대기 중의 산란 현상 때문입니다. 해가 지거나 뜰 때, 태양빛이 지평선을 통해 지나갈 때 대기 중의 먼지와 수분 같은 입자에 의해 빛이 더 많이 산란됩니다. 이때 파장이 긴 붉은색과 주황색 빛이 더 많이 산란되어 하늘이 노란색으로 보이게 됩니다. 또한, 대기 중에 있는 오염물질이나 미세먼지가 노란색을 더욱 강조할 수도 있습니다.'}] \n",
      "\n",
      "------------------------------\n"
     ]
    },
    {
     "name": "stderr",
     "output_type": "stream",
     "text": [
      "127.0.0.1 - - [29/Sep/2025 19:21:15] \"POST /get_response HTTP/1.1\" 200 -\n"
     ]
    },
    {
     "name": "stdout",
     "output_type": "stream",
     "text": [
      "history:\n",
      " [{'질문': '하늘이 파란이유는?', '답변': '하늘이 파란 이유는 대기 중의 산란 현상 때문입니다. 태양빛은 여러 색의 빛으로 구성되어 있는데, 이 중 파란색 빛은 다른 색에 비해 파장이 짧아 대기 중의 분자와 더 많이 산란됩니다. 이 산란 현상으로 인해 하늘을 바라볼 때 파란색이 주로 보이게 됩니다. 특히, 태양이 높이 떠 있을 때 더욱 뚜렷하게 나타나며, 해가 지거나 해가 뜰 때는 다른 색의 빛이 더 많이 산란되어 붉은색이나 주황색으로 보이기도 합니다.'}, {'질문': '노란 이유는?', '답변': '하늘이 노란색으로 보이는 이유는 주로 태양의 위치와 대기 중의 산란 현상 때문입니다. 해가 지거나 뜰 때, 태양빛이 지평선을 통해 지나갈 때 대기 중의 먼지와 수분 같은 입자에 의해 빛이 더 많이 산란됩니다. 이때 파장이 긴 붉은색과 주황색 빛이 더 많이 산란되어 하늘이 노란색으로 보이게 됩니다. 또한, 대기 중에 있는 오염물질이나 미세먼지가 노란색을 더욱 강조할 수도 있습니다.'}, {'질문': '나는 홍길동이야', '답변': '안녕하세요, 홍길동님! 어떻게 도와드릴까요?'}] \n",
      "\n",
      "------------------------------\n"
     ]
    },
    {
     "name": "stderr",
     "output_type": "stream",
     "text": [
      "127.0.0.1 - - [29/Sep/2025 19:21:22] \"POST /get_response HTTP/1.1\" 200 -\n"
     ]
    },
    {
     "name": "stdout",
     "output_type": "stream",
     "text": [
      "history:\n",
      " [{'질문': '하늘이 파란이유는?', '답변': '하늘이 파란 이유는 대기 중의 산란 현상 때문입니다. 태양빛은 여러 색의 빛으로 구성되어 있는데, 이 중 파란색 빛은 다른 색에 비해 파장이 짧아 대기 중의 분자와 더 많이 산란됩니다. 이 산란 현상으로 인해 하늘을 바라볼 때 파란색이 주로 보이게 됩니다. 특히, 태양이 높이 떠 있을 때 더욱 뚜렷하게 나타나며, 해가 지거나 해가 뜰 때는 다른 색의 빛이 더 많이 산란되어 붉은색이나 주황색으로 보이기도 합니다.'}, {'질문': '노란 이유는?', '답변': '하늘이 노란색으로 보이는 이유는 주로 태양의 위치와 대기 중의 산란 현상 때문입니다. 해가 지거나 뜰 때, 태양빛이 지평선을 통해 지나갈 때 대기 중의 먼지와 수분 같은 입자에 의해 빛이 더 많이 산란됩니다. 이때 파장이 긴 붉은색과 주황색 빛이 더 많이 산란되어 하늘이 노란색으로 보이게 됩니다. 또한, 대기 중에 있는 오염물질이나 미세먼지가 노란색을 더욱 강조할 수도 있습니다.'}, {'질문': '나는 홍길동이야', '답변': '안녕하세요, 홍길동님! 어떻게 도와드릴까요?'}, {'질문': '내이름이 뭐지', '답변': '당신의 이름은 홍길동입니다! 어떻게 도와드릴까요?'}] \n",
      "\n",
      "------------------------------\n"
     ]
    },
    {
     "name": "stderr",
     "output_type": "stream",
     "text": [
      "127.0.0.1 - - [29/Sep/2025 19:22:00] \"POST /get_response HTTP/1.1\" 200 -\n"
     ]
    },
    {
     "name": "stdout",
     "output_type": "stream",
     "text": [
      "history:\n",
      " [{'질문': '하늘이 파란이유는?', '답변': '하늘이 파란 이유는 대기 중의 산란 현상 때문입니다. 태양빛은 여러 색의 빛으로 구성되어 있는데, 이 중 파란색 빛은 다른 색에 비해 파장이 짧아 대기 중의 분자와 더 많이 산란됩니다. 이 산란 현상으로 인해 하늘을 바라볼 때 파란색이 주로 보이게 됩니다. 특히, 태양이 높이 떠 있을 때 더욱 뚜렷하게 나타나며, 해가 지거나 해가 뜰 때는 다른 색의 빛이 더 많이 산란되어 붉은색이나 주황색으로 보이기도 합니다.'}, {'질문': '노란 이유는?', '답변': '하늘이 노란색으로 보이는 이유는 주로 태양의 위치와 대기 중의 산란 현상 때문입니다. 해가 지거나 뜰 때, 태양빛이 지평선을 통해 지나갈 때 대기 중의 먼지와 수분 같은 입자에 의해 빛이 더 많이 산란됩니다. 이때 파장이 긴 붉은색과 주황색 빛이 더 많이 산란되어 하늘이 노란색으로 보이게 됩니다. 또한, 대기 중에 있는 오염물질이나 미세먼지가 노란색을 더욱 강조할 수도 있습니다.'}, {'질문': '나는 홍길동이야', '답변': '안녕하세요, 홍길동님! 어떻게 도와드릴까요?'}, {'질문': '내이름이 뭐지', '답변': '당신의 이름은 홍길동입니다! 어떻게 도와드릴까요?'}, {'질문': '빨간이유는?', '답변': '하늘이 빨간색으로 보이는 이유는 주로 태양의 위치와 대기 중의 산란 현상 때문입니다. 해가 지거나 뜰 때, 태양빛이 지평선을 통해 지나가면서 대기 중의 먼지, 수분, 그리고 입자들에 의해 빛이 더 많이 산란됩니다. 이때 파장이 긴 붉은색 빛이 더 많이 산란되어 하늘이 빨간색으로 보이게 됩니다. 또한, 대기 중에 있는 오염물질이나 미세먼지가 빨간색을 더욱 강조할 수 있습니다.'}] \n",
      "\n",
      "------------------------------\n"
     ]
    }
   ],
   "source": [
    "# 소스 코드를 이어서 실행할 경우 오류나므로 \"Restart Kernel\"을 수행하고 실행한다\n",
    "\n",
    "@app.route('/')\n",
    "def home():\n",
    "    return render_template('index.html')\n",
    "\n",
    "# 대화 히스토리를 저장할 변수\n",
    "conversation_history = []\n",
    "\n",
    "@app.route('/get_response', methods=['POST'])\n",
    "def get_response():\n",
    "    user_message = request.json.get(\"message\")\n",
    "    \n",
    "    context = f\"대화 내용을 참조해서 답변하세요 : {conversation_history}\"\n",
    "\n",
    "    # OpenAI 모델에 요청\n",
    "    response = client.chat.completions.create(\n",
    "        model = \"gpt-4o-mini\",\n",
    "        messages = [  {\"role\": \"system\", \"content\": context},\n",
    "                      {\"role\": \"user\", \"content\": user_message} ],           \n",
    "\n",
    "        max_tokens = 300,\n",
    "        n = 1,\n",
    "        stop = None,\n",
    "        temperature = 0.7,\n",
    "    )\n",
    "\n",
    "    bot_response = response.choices[0].message.content\n",
    "\n",
    "    # 대화 내용을 history에 저장\n",
    "    conversation_history.append({\"질문\":user_message,\"답변\":bot_response})\n",
    "    print('history:\\n',conversation_history,'\\n')\n",
    "    print('-'*30)\n",
    "    \n",
    "    return jsonify({\"response\": bot_response})\n",
    "        \n",
    "if __name__ == '__main__':\n",
    "    app.run(debug=False)    "
   ]
  },
  {
   "cell_type": "code",
   "execution_count": null,
   "id": "b4b6711c-2baa-480e-92fb-9d3e9116830c",
   "metadata": {},
   "outputs": [],
   "source": []
  }
 ],
 "metadata": {
  "kernelspec": {
   "display_name": "Python 3 (ipykernel)",
   "language": "python",
   "name": "python3"
  },
  "language_info": {
   "codemirror_mode": {
    "name": "ipython",
    "version": 3
   },
   "file_extension": ".py",
   "mimetype": "text/x-python",
   "name": "python",
   "nbconvert_exporter": "python",
   "pygments_lexer": "ipython3",
   "version": "3.12.7"
  }
 },
 "nbformat": 4,
 "nbformat_minor": 5
}
