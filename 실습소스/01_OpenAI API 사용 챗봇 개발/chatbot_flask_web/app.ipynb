{
 "cells": [
  {
   "cell_type": "markdown",
   "id": "28feb09f-602e-46ea-92ff-30d80af56c4a",
   "metadata": {},
   "source": [
    "# GPT 고객 서비스 챗봇 만들기"
   ]
  },
  {
   "cell_type": "code",
   "execution_count": 1,
   "id": "cce9e306-14a9-45ef-8818-4ffbc184a373",
   "metadata": {},
   "outputs": [],
   "source": [
    "# 터미널에서 실행시\n",
    "# python -m venv venv\n",
    "# source venv/bin/activate  # 윈도우는 venv\\Scripts\\activate\n",
    "# pip install -r requirements.txt\n",
    "# python app.py"
   ]
  },
  {
   "cell_type": "code",
   "execution_count": 1,
   "id": "3f08f775-af5d-4813-b1a7-fa41ea6768ec",
   "metadata": {},
   "outputs": [],
   "source": [
    "from dotenv import load_dotenv\n",
    "import os\n",
    "\n",
    "# .env 파일 불러오기\n",
    "load_dotenv(\"C:/env/.env\")\n",
    "\n",
    "# 환경 변수 가져오기\n",
    "API_KEY = os.getenv(\"OPENAI_API_KEY\")\n",
    "\n",
    "from openai import OpenAI\n",
    "client = OpenAI(api_key=API_KEY)\n",
    "\n",
    "from flask import Flask, jsonify, request, render_template\n",
    "app = Flask(__name__)"
   ]
  },
  {
   "cell_type": "code",
   "execution_count": 2,
   "id": "b178be8d-e44d-4f2d-965a-159757d198c2",
   "metadata": {},
   "outputs": [
    {
     "name": "stdout",
     "output_type": "stream",
     "text": [
      " * Serving Flask app '__main__'\n",
      " * Debug mode: off\n"
     ]
    },
    {
     "name": "stderr",
     "output_type": "stream",
     "text": [
      "WARNING: This is a development server. Do not use it in a production deployment. Use a production WSGI server instead.\n",
      " * Running on http://127.0.0.1:5000\n",
      "Press CTRL+C to quit\n"
     ]
    }
   ],
   "source": [
    "@app.route('/')\n",
    "def home():\n",
    "    return render_template('index.html')\n",
    "\n",
    "@app.route('/get_response', methods=['POST'])\n",
    "def get_response():\n",
    "    user_message = request.json.get(\"message\")\n",
    "\n",
    "    #  OpenAI 모델에 요청\n",
    "    response = client.chat.completions.create(\n",
    "        model = \"gpt-4o-mini\", \n",
    "        max_tokens= 300,\n",
    "        messages = [ {\"role\":\"user\", \"content\":user_message} ],\n",
    "        n = 1,\n",
    "        stop = None,\n",
    "        temperature = 0.7,\n",
    "    )    \n",
    "\n",
    "    bot_response = response.choices[0].message.content\n",
    "    return jsonify({\"response\": bot_response})\n",
    "   \n",
    "           \n",
    "if __name__ == '__main__':\n",
    "    app.run(debug=False)"
   ]
  },
  {
   "cell_type": "markdown",
   "id": "89a6dc13-c858-4261-b477-c8b8ef2d8fd4",
   "metadata": {},
   "source": [
    "## 질문한 내용을 Context로 계속 유지하면서 질문하기"
   ]
  },
  {
   "cell_type": "code",
   "execution_count": null,
   "id": "08dfcbeb-ce82-4045-8d5b-a79ebae14884",
   "metadata": {},
   "outputs": [
    {
     "name": "stdout",
     "output_type": "stream",
     "text": [
      " * Serving Flask app '__main__'\n",
      " * Debug mode: off\n"
     ]
    },
    {
     "name": "stderr",
     "output_type": "stream",
     "text": [
      "WARNING: This is a development server. Do not use it in a production deployment. Use a production WSGI server instead.\n",
      " * Running on http://127.0.0.1:5000\n",
      "Press CTRL+C to quit\n",
      "127.0.0.1 - - [25/Sep/2025 22:45:13] \"GET / HTTP/1.1\" 200 -\n"
     ]
    },
    {
     "name": "stdout",
     "output_type": "stream",
     "text": [
      "[{'role': 'user', 'content': '난 홍길동이야'}]\n"
     ]
    },
    {
     "name": "stderr",
     "output_type": "stream",
     "text": [
      "127.0.0.1 - - [25/Sep/2025 22:45:26] \"POST /get_response HTTP/1.1\" 200 -\n"
     ]
    },
    {
     "name": "stdout",
     "output_type": "stream",
     "text": [
      "[{'role': 'user', 'content': '난 홍길동이야'}, {'role': 'user', 'content': '내이름이 뭐지?'}]\n"
     ]
    },
    {
     "name": "stderr",
     "output_type": "stream",
     "text": [
      "127.0.0.1 - - [25/Sep/2025 22:45:37] \"POST /get_response HTTP/1.1\" 200 -\n"
     ]
    },
    {
     "name": "stdout",
     "output_type": "stream",
     "text": [
      "[{'role': 'user', 'content': '난 홍길동이야'}, {'role': 'user', 'content': '내이름이 뭐지?'}, {'role': 'user', 'content': '하늘이 파란이유는?'}]\n"
     ]
    },
    {
     "name": "stderr",
     "output_type": "stream",
     "text": [
      "127.0.0.1 - - [25/Sep/2025 22:45:56] \"POST /get_response HTTP/1.1\" 200 -\n"
     ]
    },
    {
     "name": "stdout",
     "output_type": "stream",
     "text": [
      "[{'role': 'user', 'content': '난 홍길동이야'}, {'role': 'user', 'content': '내이름이 뭐지?'}, {'role': 'user', 'content': '하늘이 파란이유는?'}, {'role': 'user', 'content': '노란이유는?'}]\n"
     ]
    },
    {
     "name": "stderr",
     "output_type": "stream",
     "text": [
      "127.0.0.1 - - [25/Sep/2025 22:46:07] \"POST /get_response HTTP/1.1\" 200 -\n"
     ]
    }
   ],
   "source": [
    "# 소스 코드를 이어서 실행할 경우 오류나므로 \"Restart Kernel\"을 수행하고 실행한다\n",
    "\n",
    "@app.route('/')\n",
    "def home():\n",
    "    return render_template('index.html')\n",
    "\n",
    "# 대화 히스토리를 저장할 변수\n",
    "conversation_history = []\n",
    "\n",
    "@app.route('/get_response', methods=['POST'])\n",
    "def get_response():\n",
    "    user_message = request.json.get(\"message\")\n",
    "    conversation_history.append({\"role\":\"user\",\"content\":user_message})\n",
    "    print(conversation_history)\n",
    "\n",
    "    # OpenAI 모델에 요청\n",
    "    response = client.chat.completions.create(\n",
    "        model = \"gpt-4o-mini\",\n",
    "        messages = conversation_history,\n",
    "        max_tokens = 300,\n",
    "        n = 1,\n",
    "        stop = None,\n",
    "        temperature = 0.2,\n",
    "    )\n",
    "\n",
    "    bot_response = response.choices[0].message.content\n",
    "    return jsonify({\"response\": bot_response})\n",
    "        \n",
    "if __name__ == '__main__':\n",
    "    app.run(debug=False)    "
   ]
  },
  {
   "cell_type": "code",
   "execution_count": null,
   "id": "4ef51fc1-1ac5-4bf1-ae45-51da2a94419b",
   "metadata": {},
   "outputs": [],
   "source": []
  }
 ],
 "metadata": {
  "kernelspec": {
   "display_name": "Python 3 (ipykernel)",
   "language": "python",
   "name": "python3"
  },
  "language_info": {
   "codemirror_mode": {
    "name": "ipython",
    "version": 3
   },
   "file_extension": ".py",
   "mimetype": "text/x-python",
   "name": "python",
   "nbconvert_exporter": "python",
   "pygments_lexer": "ipython3",
   "version": "3.12.7"
  }
 },
 "nbformat": 4,
 "nbformat_minor": 5
}
