{
 "cells": [
  {
   "cell_type": "markdown",
   "id": "bc294868-20a4-451f-92fe-f8160c4664bf",
   "metadata": {},
   "source": [
    "### MongoDB 파이썬 클라이언트 테스트 코드\n",
    ": https://jjungslife.tistory.com/54"
   ]
  },
  {
   "cell_type": "code",
   "execution_count": 3,
   "id": "0a999019-b4a1-41ff-8cf3-7dd7a3a122cd",
   "metadata": {},
   "outputs": [],
   "source": [
    "# !pip install pymongo"
   ]
  },
  {
   "cell_type": "code",
   "execution_count": 18,
   "id": "0b0e8723-687d-44da-9e6d-244cf2fd03ac",
   "metadata": {},
   "outputs": [
    {
     "name": "stdout",
     "output_type": "stream",
     "text": [
      "Inserted document ID: 68dbb4b6e7781c1a6728964b\n"
     ]
    }
   ],
   "source": [
    "from pymongo import MongoClient\n",
    "\n",
    "# MongoDB에 연결 (localhost:27017이 기본 설정)\n",
    "client = MongoClient('localhost',27017)\n",
    "\n",
    "# 'testdb'라는 데이터베이스에 연결 (없으면 자동으로 생성됩니다)\n",
    "db = client.testdb\n",
    "\n",
    "# 'testcollection'이라는 컬렉션에 연결 (없으면 자동으로 생성됩니다)\n",
    "collection = db.testcollection\n",
    "\n",
    "# 삽입할 데이터 (JSON 형식)\n",
    "data = {\n",
    "    \"name\": \"John Doe\",\n",
    "    \"age\": 29,\n",
    "    \"city\": \"New York\"\n",
    "}\n",
    "\n",
    "# 데이터 삽입\n",
    "inserted_id = collection.insert_one(data).inserted_id\n",
    "print(f\"Inserted document ID: {inserted_id}\")"
   ]
  },
  {
   "cell_type": "code",
   "execution_count": 7,
   "id": "373da9d5-28c5-4d2e-868d-d2b4f0a776d6",
   "metadata": {},
   "outputs": [
    {
     "name": "stdout",
     "output_type": "stream",
     "text": [
      "Found document: {'_id': ObjectId('68dbafd8e7781c1a67289646'), 'name': 'John Doe', 'age': 29, 'city': 'New York'}\n"
     ]
    }
   ],
   "source": [
    "# 데이터 조회\n",
    "result = collection.find_one({\"name\": \"John Doe\"})\n",
    "print(f\"Found document: {result}\")"
   ]
  },
  {
   "cell_type": "code",
   "execution_count": 9,
   "id": "d8c74983-bf9f-4621-b89d-45c6d0a9e028",
   "metadata": {},
   "outputs": [
    {
     "name": "stdout",
     "output_type": "stream",
     "text": [
      "Found document: {'_id': ObjectId('68dbafd8e7781c1a67289646'), 'name': 'John Doe', 'age': 29, 'city': 'New York'}\n"
     ]
    }
   ],
   "source": [
    "# 데이터 조회\n",
    "result = collection.find_one({\"age\": 29})\n",
    "print(f\"Found document: {result}\")"
   ]
  },
  {
   "cell_type": "code",
   "execution_count": 10,
   "id": "e6ec9f29-f1ce-4747-ad12-d14e86968326",
   "metadata": {},
   "outputs": [
    {
     "name": "stdout",
     "output_type": "stream",
     "text": [
      "Found document: {'_id': ObjectId('68dbafd8e7781c1a67289646'), 'name': 'John Doe', 'age': 29, 'city': 'New York'}\n"
     ]
    }
   ],
   "source": [
    "# 데이터 조회\n",
    "result = collection.find_one({\"city\": \"New York\"})\n",
    "print(f\"Found document: {result}\")"
   ]
  },
  {
   "cell_type": "code",
   "execution_count": 20,
   "id": "fb61a36d-7902-47e8-a2d1-8375507e0908",
   "metadata": {},
   "outputs": [
    {
     "name": "stdout",
     "output_type": "stream",
     "text": [
      "Inserted document ID: 68dbb4bce7781c1a6728964d\n"
     ]
    }
   ],
   "source": [
    "# 삽입할 데이터 (JSON 형식)\n",
    "data = {\n",
    "    \"name\": \"James Brown\",\n",
    "    \"age\": 30,\n",
    "    \"city\": \"Chicago\"\n",
    "}\n",
    "\n",
    "# 데이터 삽입\n",
    "inserted_id = collection.insert_one(data).inserted_id\n",
    "print(f\"Inserted document ID: {inserted_id}\")"
   ]
  },
  {
   "cell_type": "code",
   "execution_count": 15,
   "id": "4521d695-34cb-47d0-99da-323e19ae6611",
   "metadata": {},
   "outputs": [
    {
     "name": "stdout",
     "output_type": "stream",
     "text": [
      "[{'_id': ObjectId('68dbafd8e7781c1a67289646'), 'name': 'John Doe', 'age': 29, 'city': 'New York'}, {'_id': ObjectId('68dbb372e7781c1a67289649'), 'name': 'James Brown', 'age': 30, 'city': 'Chicago'}]\n"
     ]
    }
   ],
   "source": [
    "# 전체 데이터 조회\n",
    "result = collection.find({})\n",
    "print(list(result))"
   ]
  },
  {
   "cell_type": "code",
   "execution_count": 16,
   "id": "f2e3e940-fbc3-4111-84aa-497534899936",
   "metadata": {},
   "outputs": [
    {
     "data": {
      "text/plain": [
       "DeleteResult({'n': 1, 'ok': 1.0}, acknowledged=True)"
      ]
     },
     "execution_count": 16,
     "metadata": {},
     "output_type": "execute_result"
    }
   ],
   "source": [
    "# 데이터 삭제 : 1개만 삭제\n",
    "collection.delete_one({\"name\": \"James Brown\"})"
   ]
  },
  {
   "cell_type": "code",
   "execution_count": 21,
   "id": "6da62714-fdbf-4a47-81a8-9760627457da",
   "metadata": {},
   "outputs": [
    {
     "data": {
      "text/plain": [
       "DeleteResult({'n': 3, 'ok': 1.0}, acknowledged=True)"
      ]
     },
     "execution_count": 21,
     "metadata": {},
     "output_type": "execute_result"
    }
   ],
   "source": [
    "# 데이터 삭제 : 초기화\n",
    "collection.delete_many({})"
   ]
  },
  {
   "cell_type": "code",
   "execution_count": 22,
   "id": "0484986a-072e-4738-a786-6e9f46c57e96",
   "metadata": {},
   "outputs": [],
   "source": [
    "# 연결 해제\n",
    "client.close()"
   ]
  },
  {
   "cell_type": "markdown",
   "id": "2ad946df-7f24-4c3c-bef3-7a21809e0f12",
   "metadata": {},
   "source": [
    "### 함수로 모듈구현\n",
    ": database.py"
   ]
  },
  {
   "cell_type": "code",
   "execution_count": 40,
   "id": "d5015500-034e-46dc-a09a-08527a137f3f",
   "metadata": {},
   "outputs": [
    {
     "name": "stdout",
     "output_type": "stream",
     "text": [
      "Overwriting database.py\n"
     ]
    }
   ],
   "source": [
    "%%writefile database.py\n",
    "from pymongo import MongoClient\n",
    "\n",
    "# MongoDB에 연결 (localhost:27017이 기본 설정)\n",
    "client = MongoClient('localhost',27017)\n",
    "\n",
    "db = client['chatbot']\n",
    "conversation_collection = db['converstion']\n",
    "\n",
    "# DB 초기화\n",
    "def init_db():\n",
    "    pass\n",
    "\n",
    "# DB 저장 함수\n",
    "def save_conversation(question,answer):\n",
    "    conversation = {\n",
    "        'question' : question,\n",
    "        'answer' : answer\n",
    "    }\n",
    "    conversation_collection.insert_one(conversation)\n",
    "\n",
    "# DB 조회 함수\n",
    "def get_conversations():\n",
    "    conversations = conversation_collection.find({})\n",
    "    return list(conversations)\n",
    "\n",
    "# DB 연결 종료\n",
    "def close_connection():\n",
    "    client.close()"
   ]
  },
  {
   "cell_type": "code",
   "execution_count": 36,
   "id": "140579e6-21d7-4a21-9672-f3a6b65dc713",
   "metadata": {},
   "outputs": [],
   "source": [
    "# 구현된 함수 테스트\n",
    "init_db()\n",
    "\n",
    "question ='hello?'\n",
    "answer = 'How are you?'\n",
    "\n",
    "save_conversation(question,answer)"
   ]
  },
  {
   "cell_type": "code",
   "execution_count": 37,
   "id": "864331ec-9dda-4c8f-b52a-69dd00d69a4d",
   "metadata": {},
   "outputs": [
    {
     "name": "stdout",
     "output_type": "stream",
     "text": [
      "[{'_id': ObjectId('68dbbee7e7781c1a6728964f'), 'question': 'hello?', 'answer': 'How are you?'}, {'_id': ObjectId('68dbbf81e7781c1a67289651'), 'question': 'hello?', 'answer': 'How are you?'}]\n"
     ]
    }
   ],
   "source": [
    "conversations = get_conversations()\n",
    "print(conversations)"
   ]
  },
  {
   "cell_type": "code",
   "execution_count": 38,
   "id": "e1148c4b-4696-4c1d-90e1-384cac9bb3d7",
   "metadata": {},
   "outputs": [],
   "source": [
    "close_connection()"
   ]
  },
  {
   "cell_type": "code",
   "execution_count": null,
   "id": "78ae33c9-10b8-40b7-b301-f348d6482300",
   "metadata": {},
   "outputs": [],
   "source": []
  }
 ],
 "metadata": {
  "kernelspec": {
   "display_name": "Python 3 (ipykernel)",
   "language": "python",
   "name": "python3"
  },
  "language_info": {
   "codemirror_mode": {
    "name": "ipython",
    "version": 3
   },
   "file_extension": ".py",
   "mimetype": "text/x-python",
   "name": "python",
   "nbconvert_exporter": "python",
   "pygments_lexer": "ipython3",
   "version": "3.12.7"
  }
 },
 "nbformat": 4,
 "nbformat_minor": 5
}
