{
 "cells": [
  {
   "cell_type": "code",
   "execution_count": 2,
   "id": "1d67d342-3f68-49fe-9130-c1c3cb64a9df",
   "metadata": {},
   "outputs": [],
   "source": [
    "# !pip install openai"
   ]
  },
  {
   "cell_type": "code",
   "execution_count": 4,
   "id": "91a05053-73fc-40fb-8c92-0f8a30d87df2",
   "metadata": {},
   "outputs": [
    {
     "name": "stdout",
     "output_type": "stream",
     "text": [
      "1.99.9\n"
     ]
    }
   ],
   "source": [
    "import openai\n",
    "print(openai.__version__)  # 1.108.1"
   ]
  },
  {
   "cell_type": "code",
   "execution_count": 22,
   "id": "b41786c0-4cb7-469d-8872-6f435dbe45be",
   "metadata": {},
   "outputs": [
    {
     "name": "stdout",
     "output_type": "stream",
     "text": [
      "<class 'openai.OpenAI'>\n"
     ]
    }
   ],
   "source": [
    "from openai import OpenAI\n",
    "# OpenAI API Key\n",
    "API_KEY = 'YOUR_API_KEY'\n",
    "client = OpenAI(api_key=API_KEY)\n",
    "print(type(client))"
   ]
  },
  {
   "cell_type": "code",
   "execution_count": 23,
   "id": "63b227ee-fef1-4042-8907-894d10f47d94",
   "metadata": {},
   "outputs": [
    {
     "name": "stdout",
     "output_type": "stream",
     "text": [
      "저는 인공지능 언어 모델로, 다양한 질문에 답하고 정보를 제공하는 역할을 하고 있습니다. 궁금한 점이 있으면 언제든지 물어보세요!\n"
     ]
    }
   ],
   "source": [
    "# API 호출 질의 요청\n",
    "completion = client.chat.completions.create(\n",
    "    model = \"gpt-4o-mini\",  # 모델이름\n",
    "    messages = [ {\"role\":\"user\", \"content\":\"너는 누구니?\"} ]\n",
    ")    \n",
    "\n",
    "# 응답 출력\n",
    "# print(completion)\n",
    "print(completion.choices[0].message.content)"
   ]
  },
  {
   "cell_type": "code",
   "execution_count": 18,
   "id": "c946c069-0d32-4677-a874-689ff6277e08",
   "metadata": {},
   "outputs": [
    {
     "name": "stdout",
     "output_type": "stream",
     "text": [
      "죄송하지만, 현재 실시간 날씨 정보를 제공할 수는 없습니다. 하지만 당신이 있는 지역의 날씨를 확인하려면, 기상청 웹사이트나 날씨 앱을 이용해 보시는 것이 좋습니다. 어떤 도시의 날씨를 알고 싶으신가요? 일반적인 날씨 정보나 조언을 드릴 수 있습니다!\n"
     ]
    }
   ],
   "source": [
    "# API 호출 질의 요청\n",
    "completion = client.chat.completions.create(\n",
    "    model = \"gpt-4o-mini\",  # 모델이름\n",
    "    messages = [ {\"role\":\"user\", \"content\":\"오늘 날씨 알려줘?\"} ]\n",
    ")    \n",
    "\n",
    "# 응답 출력\n",
    "# print(completion)\n",
    "print(completion.choices[0].message.content)"
   ]
  },
  {
   "cell_type": "code",
   "execution_count": 20,
   "id": "f3014770-bb75-4b0d-97bd-6fcd0066ee1c",
   "metadata": {},
   "outputs": [
    {
     "name": "stdout",
     "output_type": "stream",
     "text": [
      "2020년 도쿄 올림픽은 2021년에 개최되었으며, 미국이 메달 수에서 가장 많은 성과를 거두어 우승국으로 인정받았습니다. 미국은 금메달, 은메달, 동메달 모두에서 많은 수치를 기록했습니다.\n"
     ]
    }
   ],
   "source": [
    "# API 호출 질의 요청\n",
    "completion = client.chat.completions.create(\n",
    "    model = \"gpt-4o-mini\",  # 모델이름\n",
    "    messages = [ {\"role\":\"user\", \"content\":\"2020년 도쿄 올림픽의 우승국은?\"} ]\n",
    ")    \n",
    "\n",
    "# 응답 출력\n",
    "\n",
    "print(completion.choices[0].message.content)"
   ]
  },
  {
   "cell_type": "code",
   "execution_count": 21,
   "id": "88cc2834-3795-4fee-bd56-5377e9a3dd4e",
   "metadata": {},
   "outputs": [
    {
     "name": "stdout",
     "output_type": "stream",
     "text": [
      "2024년 파리 올림픽의 우승국에 대한 정보는 현재로서는 알 수 없습니다. 올림픽은 2024년 7월 26일부터 8월 11일 사이에 개최될 예정이며, 그 결과는 대회가 끝난 후에야 확인할 수 있습니다. 대회와 관련된 업데이트된 정보는 공식적인 스포츠 뉴스나 올림픽 관련 웹사이트를 참고하시기 바랍니다.\n"
     ]
    }
   ],
   "source": [
    "# API 호출 질의 요청\n",
    "completion = client.chat.completions.create(\n",
    "    model = \"gpt-4o-mini\",  # 모델이름\n",
    "    messages = [ {\"role\":\"user\", \"content\":\"2024년 파리 올림픽의 우승국은?\"} ]\n",
    ")    \n",
    "\n",
    "# 응답 출력\n",
    "print(completion.choices[0].message.content)"
   ]
  },
  {
   "cell_type": "code",
   "execution_count": 25,
   "id": "c7721ab0-daba-4c80-ae0c-93ed14eb3667",
   "metadata": {},
   "outputs": [
    {
     "name": "stdout",
     "output_type": "stream",
     "text": [
      "하늘이 파란 이유는 대기 중의 산란(scattering) 현상 때문입니다. 태양광은 다양한 색의 빛으로 이루어져 있으며, 각 색의 빛은 서로 다른 파장을 가지고 있습니다. 이 중 파란색 빛은 파장이 짧아 대기 중의 분자나 입자와 충돌했을 때 더 많이 산란됩니다.\n",
      "\n",
      "태양의 빛이 대기에 닿으면, 파란색 빛은 다른 색에 비해 더욱 많이 산란되어 하늘 모든 방향에서 우리 눈에 들어옵니다. 그래서 우리는 하늘을 파란색으로 인식하게 됩니다. 반면, 일출이나 일몰 때는 태양빛이 더 많은 대기를 통과해야 하므로, 파란색 빛은 산란되어 지고, 대신 빨강이나 주황색 빛이 더 많이 보이는 이유입니다.\n"
     ]
    }
   ],
   "source": [
    "client = OpenAI(api_key=API_KEY)\n",
    "model = \"gpt-4o-mini\"\n",
    "messages = [ \n",
    "            {\"role\": \"system\", \"content\": \"You are a helpful assistant.\"},\n",
    "            {\"role\": \"user\", \"content\":\"하늘은 왜 파란가요?\"} ]\n",
    "\n",
    "completion = client.chat.completions.create(model=model,messages=messages)\n",
    "print(completion.choices[0].message.content)"
   ]
  },
  {
   "cell_type": "code",
   "execution_count": null,
   "id": "a720d07f-f1a5-4fe2-8708-2fae5154d5ca",
   "metadata": {},
   "outputs": [],
   "source": []
  }
 ],
 "metadata": {
  "kernelspec": {
   "display_name": "Python 3 (ipykernel)",
   "language": "python",
   "name": "python3"
  },
  "language_info": {
   "codemirror_mode": {
    "name": "ipython",
    "version": 3
   },
   "file_extension": ".py",
   "mimetype": "text/x-python",
   "name": "python",
   "nbconvert_exporter": "python",
   "pygments_lexer": "ipython3",
   "version": "3.12.7"
  }
 },
 "nbformat": 4,
 "nbformat_minor": 5
}
