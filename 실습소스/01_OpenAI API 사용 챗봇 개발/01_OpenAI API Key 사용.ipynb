{
 "cells": [
  {
   "cell_type": "markdown",
   "id": "472a15ad-b275-438e-83af-018936514b54",
   "metadata": {},
   "source": [
    "## OpenAI API 사용"
   ]
  },
  {
   "cell_type": "code",
   "execution_count": 11,
   "id": "1d67d342-3f68-49fe-9130-c1c3cb64a9df",
   "metadata": {},
   "outputs": [],
   "source": [
    "# !pip install openai\n",
    "# !pip install --upgrade openai"
   ]
  },
  {
   "cell_type": "code",
   "execution_count": 10,
   "id": "91a05053-73fc-40fb-8c92-0f8a30d87df2",
   "metadata": {},
   "outputs": [
    {
     "name": "stdout",
     "output_type": "stream",
     "text": [
      "1.108.2\n"
     ]
    }
   ],
   "source": [
    "import openai\n",
    "print(openai.__version__)  # 1.108.2"
   ]
  },
  {
   "cell_type": "code",
   "execution_count": 2,
   "id": "b41786c0-4cb7-469d-8872-6f435dbe45be",
   "metadata": {
    "scrolled": true
   },
   "outputs": [
    {
     "name": "stdout",
     "output_type": "stream",
     "text": [
      "<class 'openai.OpenAI'>\n"
     ]
    }
   ],
   "source": [
    "from openai import OpenAI\n",
    "# OpenAI API Key\n",
    "API_KEY = 'YOUR_API_KEY'\n",
    "\n",
    "client = OpenAI(api_key=API_KEY)\n",
    "print(type(client))"
   ]
  },
  {
   "cell_type": "code",
   "execution_count": 3,
   "id": "63b227ee-fef1-4042-8907-894d10f47d94",
   "metadata": {},
   "outputs": [
    {
     "name": "stdout",
     "output_type": "stream",
     "text": [
      "저는 인공지능 언어 모델인 ChatGPT입니다. 질문에 답하거나 정보를 제공하는 데 도움을 드리기 위해 만들어졌습니다. 궁금한 점이 있으면 언제든지 물어보세요!\n"
     ]
    }
   ],
   "source": [
    "# API 호출 질의 요청\n",
    "completion = client.chat.completions.create(\n",
    "    model = \"gpt-4o-mini\",  # 모델이름\n",
    "    messages = [ {\"role\":\"user\", \"content\":\"너는 누구니?\"} ]\n",
    ")    \n",
    "\n",
    "# 응답 출력\n",
    "# print(completion)\n",
    "print(completion.choices[0].message.content)"
   ]
  },
  {
   "cell_type": "code",
   "execution_count": 18,
   "id": "c946c069-0d32-4677-a874-689ff6277e08",
   "metadata": {},
   "outputs": [
    {
     "name": "stdout",
     "output_type": "stream",
     "text": [
      "죄송하지만, 현재 실시간 날씨 정보를 제공할 수는 없습니다. 하지만 당신이 있는 지역의 날씨를 확인하려면, 기상청 웹사이트나 날씨 앱을 이용해 보시는 것이 좋습니다. 어떤 도시의 날씨를 알고 싶으신가요? 일반적인 날씨 정보나 조언을 드릴 수 있습니다!\n"
     ]
    }
   ],
   "source": [
    "# API 호출 질의 요청\n",
    "completion = client.chat.completions.create(\n",
    "    model = \"gpt-4o-mini\",  # 모델이름\n",
    "    messages = [ {\"role\":\"user\", \"content\":\"오늘 날씨 알려줘?\"} ]\n",
    ")    \n",
    "\n",
    "# 응답 출력\n",
    "# print(completion)\n",
    "print(completion.choices[0].message.content)"
   ]
  },
  {
   "cell_type": "code",
   "execution_count": 20,
   "id": "f3014770-bb75-4b0d-97bd-6fcd0066ee1c",
   "metadata": {},
   "outputs": [
    {
     "name": "stdout",
     "output_type": "stream",
     "text": [
      "2020년 도쿄 올림픽은 2021년에 개최되었으며, 미국이 메달 수에서 가장 많은 성과를 거두어 우승국으로 인정받았습니다. 미국은 금메달, 은메달, 동메달 모두에서 많은 수치를 기록했습니다.\n"
     ]
    }
   ],
   "source": [
    "# API 호출 질의 요청\n",
    "completion = client.chat.completions.create(\n",
    "    model = \"gpt-4o-mini\",  # 모델이름\n",
    "    messages = [ {\"role\":\"user\", \"content\":\"2020년 도쿄 올림픽의 우승국은?\"} ]\n",
    ")    \n",
    "\n",
    "# 응답 출력\n",
    "\n",
    "print(completion.choices[0].message.content)"
   ]
  },
  {
   "cell_type": "code",
   "execution_count": 21,
   "id": "88cc2834-3795-4fee-bd56-5377e9a3dd4e",
   "metadata": {},
   "outputs": [
    {
     "name": "stdout",
     "output_type": "stream",
     "text": [
      "2024년 파리 올림픽의 우승국에 대한 정보는 현재로서는 알 수 없습니다. 올림픽은 2024년 7월 26일부터 8월 11일 사이에 개최될 예정이며, 그 결과는 대회가 끝난 후에야 확인할 수 있습니다. 대회와 관련된 업데이트된 정보는 공식적인 스포츠 뉴스나 올림픽 관련 웹사이트를 참고하시기 바랍니다.\n"
     ]
    }
   ],
   "source": [
    "# API 호출 질의 요청\n",
    "completion = client.chat.completions.create(\n",
    "    model = \"gpt-4o-mini\",  # 모델이름\n",
    "    messages = [ {\"role\":\"user\", \"content\":\"2024년 파리 올림픽의 우승국은?\"} ]\n",
    ")    \n",
    "\n",
    "# 응답 출력\n",
    "print(completion.choices[0].message.content)"
   ]
  },
  {
   "cell_type": "code",
   "execution_count": 25,
   "id": "c7721ab0-daba-4c80-ae0c-93ed14eb3667",
   "metadata": {},
   "outputs": [
    {
     "name": "stdout",
     "output_type": "stream",
     "text": [
      "하늘이 파란 이유는 대기 중의 산란(scattering) 현상 때문입니다. 태양광은 다양한 색의 빛으로 이루어져 있으며, 각 색의 빛은 서로 다른 파장을 가지고 있습니다. 이 중 파란색 빛은 파장이 짧아 대기 중의 분자나 입자와 충돌했을 때 더 많이 산란됩니다.\n",
      "\n",
      "태양의 빛이 대기에 닿으면, 파란색 빛은 다른 색에 비해 더욱 많이 산란되어 하늘 모든 방향에서 우리 눈에 들어옵니다. 그래서 우리는 하늘을 파란색으로 인식하게 됩니다. 반면, 일출이나 일몰 때는 태양빛이 더 많은 대기를 통과해야 하므로, 파란색 빛은 산란되어 지고, 대신 빨강이나 주황색 빛이 더 많이 보이는 이유입니다.\n"
     ]
    }
   ],
   "source": [
    "client = OpenAI(api_key=API_KEY)\n",
    "model = \"gpt-4o-mini\"\n",
    "messages = [ \n",
    "            {\"role\": \"system\", \"content\": \"You are a helpful assistant.\"},\n",
    "            {\"role\": \"user\", \"content\":\"하늘은 왜 파란가요?\"} ]\n",
    "\n",
    "completion = client.chat.completions.create(model=model,messages=messages)\n",
    "print(completion.choices[0].message.content)"
   ]
  },
  {
   "cell_type": "code",
   "execution_count": 7,
   "id": "a720d07f-f1a5-4fe2-8708-2fae5154d5ca",
   "metadata": {},
   "outputs": [
    {
     "name": "stdout",
     "output_type": "stream",
     "text": [
      "안녕하세요! 만나서 반갑습니다. 어떤 도움이 필요하신가요?\n"
     ]
    }
   ],
   "source": [
    "# Claude API 사용법\n",
    "# https://console.anthropic.com/\n",
    "# ! pip install anthropic\n",
    "\n",
    "import anthropic\n",
    "\n",
    "# Claude API 키 설정\n",
    "API_KEY2 = \"YOUR API KEY\"\n",
    "client = anthropic.Anthropic(api_key=API_KEY2)\n",
    "\n",
    "# API 호출\n",
    "response = client.messages.create(\n",
    "    model=\"claude-sonnet-4-20250514\",\n",
    "    max_tokens=100,\n",
    "    messages=[ {\"role\":\"user\", \"content\":\"안녕하세요!\"}]    \n",
    ")\n",
    "\n",
    "# 응답 출력\n",
    "print(response.content[0].text)"
   ]
  },
  {
   "cell_type": "code",
   "execution_count": 8,
   "id": "11e120e5-a6aa-420c-a8bf-29abbadc6fe2",
   "metadata": {},
   "outputs": [
    {
     "name": "stdout",
     "output_type": "stream",
     "text": [
      "Message(id='msg_01WckNZvS5AWDSYiaYFCzwwE', content=[TextBlock(citations=None, text='안녕하세요! 만나서 반갑습니다. 어떤 도움이 필요하신가요?', type='text')], model='claude-sonnet-4-20250514', role='assistant', stop_reason='end_turn', stop_sequence=None, type='message', usage=Usage(cache_creation=CacheCreation(ephemeral_1h_input_tokens=0, ephemeral_5m_input_tokens=0), cache_creation_input_tokens=0, cache_read_input_tokens=0, input_tokens=15, output_tokens=39, server_tool_use=None, service_tier='standard'))\n"
     ]
    }
   ],
   "source": [
    "print(response)"
   ]
  },
  {
   "cell_type": "markdown",
   "id": "18311405-2983-4970-9730-360268ceca57",
   "metadata": {},
   "source": [
    "#### OpenAI API Key를 파이썬소스 외부에 넣어 사용하기"
   ]
  },
  {
   "cell_type": "code",
   "execution_count": 13,
   "id": "e48ee93e-0633-4924-94a7-1d29484783ca",
   "metadata": {},
   "outputs": [],
   "source": [
    "# ! pip install python-dotenv"
   ]
  },
  {
   "cell_type": "code",
   "execution_count": 16,
   "id": "fb7525c0-cc47-4789-8ee0-8602f10c8b2a",
   "metadata": {},
   "outputs": [],
   "source": [
    "from dotenv import load_dotenv\n",
    "import os\n",
    "\n",
    "# .env 파일 불러오기\n",
    "load_dotenv(\"C:/env/.env\")\n",
    "\n",
    "# 환경 변수 가져오기\n",
    "API_KEY = os.getenv(\"OPENAI_API_KEY\")\n",
    "# print(API_KEY)"
   ]
  },
  {
   "cell_type": "code",
   "execution_count": 17,
   "id": "463f2a1a-c7d6-4629-a7ee-7ce4756d9b39",
   "metadata": {},
   "outputs": [
    {
     "name": "stdout",
     "output_type": "stream",
     "text": [
      "하늘이 파란 이유는 대기중의 분자가 태양빛을 산란시키기 때문입니다. 태양빛은 여러 색의 빛으로 구성되어 있으며, 각 색은 다른 파장을 가지고 있습니다. 이 중 파란 빛은 파장이 짧고, 대기 중의 산소 및 질소 분자에 의해 다른 색의 빛보다 더 많이 산란됩니다.\n",
      "\n",
      "이 현상은 '레이리 산란'이라고 불리며, 태양빛이 대기를 통과할 때, 짧은 파장인 파란색이 더 많이 분산되어 하늘이 파란색으로 보이게 됩니다. 특히 태양이 높이 떠 있을 때 하늘이 더 파랗게 느껴지며, 낮은 각도로 질경이를 경유해서 지나가는 빛은 더 많은 대기를 통과하게 되어 붉거나 주황색으로 보이는 저녁이나 아침의 하늘을 만들어냅니다.\n"
     ]
    }
   ],
   "source": [
    "client = OpenAI(api_key=API_KEY)\n",
    "model = \"gpt-4o-mini\"\n",
    "messages = [ \n",
    "            {\"role\": \"system\", \"content\": \"You are a helpful assistant.\"},\n",
    "            {\"role\": \"user\", \"content\":\"하늘은 왜 파란가요?\"} ]\n",
    "\n",
    "completion = client.chat.completions.create(model=model,messages=messages)\n",
    "print(completion.choices[0].message.content)"
   ]
  },
  {
   "cell_type": "code",
   "execution_count": 18,
   "id": "fd38729e-5f45-4bea-85a3-6d88f0757cb4",
   "metadata": {},
   "outputs": [
    {
     "name": "stdout",
     "output_type": "stream",
     "text": [
      "오늘은 2023년 10월 31일입니다.\n"
     ]
    }
   ],
   "source": [
    "client = OpenAI(api_key=API_KEY)\n",
    "model = \"gpt-4o-mini\"\n",
    "messages = [ \n",
    "            {\"role\": \"system\", \"content\": \"You are a helpful assistant.\"},\n",
    "            {\"role\": \"user\", \"content\":\"오늘은 며칠인가요?\"} ]\n",
    "\n",
    "completion = client.chat.completions.create(model=model,messages=messages)\n",
    "print(completion.choices[0].message.content)"
   ]
  },
  {
   "cell_type": "code",
   "execution_count": 19,
   "id": "bd1d03ef-fd57-4829-9667-6b0710b7b538",
   "metadata": {},
   "outputs": [],
   "source": [
    "# 프롬프트 구성 요소 설정\n",
    "instruction = \"다음 글을 요약해 주세요:\"\n",
    "context = \"이 글은 기후 변화가 해양 생물에 미치는 영향에 대한 과학적 논문에서 발췌한 것입니다.\"\n",
    "input_data = \"연구에 따르면, 해수 온도의 상승이 산호초 개체수의 급격한 감소를 초래했다고 합니다.\"\n",
    "output_directive = \"요약은 간결하게 작성하고, 일반 대중이 이해할 수 있는 형태로 작성해 주세요.\"\n",
    "\n",
    "# 프롬프트 결합\n",
    "prompt = f\"{instruction}\\n\\n문맥: {context}\\n\\n텍스트: {input_data}\\n\\n{output_directive}\""
   ]
  },
  {
   "cell_type": "code",
   "execution_count": 20,
   "id": "8f9a5f64-aa31-4e92-a11a-1747de119c7e",
   "metadata": {},
   "outputs": [
    {
     "name": "stdout",
     "output_type": "stream",
     "text": [
      "다음 글을 요약해 주세요:\n",
      "\n",
      "문맥: 이 글은 기후 변화가 해양 생물에 미치는 영향에 대한 과학적 논문에서 발췌한 것입니다.\n",
      "\n",
      "텍스트: 연구에 따르면, 해수 온도의 상승이 산호초 개체수의 급격한 감소를 초래했다고 합니다.\n",
      "\n",
      "요약은 간결하게 작성하고, 일반 대중이 이해할 수 있는 형태로 작성해 주세요.\n"
     ]
    }
   ],
   "source": [
    "print(prompt)"
   ]
  },
  {
   "cell_type": "code",
   "execution_count": 21,
   "id": "4ac88808-1a14-4755-8765-3ddcea401fec",
   "metadata": {},
   "outputs": [
    {
     "name": "stdout",
     "output_type": "stream",
     "text": [
      "기후 변화로 인해 해수 온도가 올라가면서 산호초 개체수가 급격히 감소하고 있다는 연구 결과가 발표되었습니다.\n"
     ]
    }
   ],
   "source": [
    "client = OpenAI(api_key=API_KEY)\n",
    "model = \"gpt-4o-mini\"\n",
    "messages = [ {\"role\": \"user\", \"content\":prompt} ]\n",
    "\n",
    "completion = client.chat.completions.create(model=model,messages=messages)\n",
    "print(completion.choices[0].message.content)"
   ]
  },
  {
   "cell_type": "code",
   "execution_count": null,
   "id": "96f2f417-5f53-416c-bc14-0ca79b548b29",
   "metadata": {},
   "outputs": [],
   "source": []
  }
 ],
 "metadata": {
  "kernelspec": {
   "display_name": "Python 3 (ipykernel)",
   "language": "python",
   "name": "python3"
  },
  "language_info": {
   "codemirror_mode": {
    "name": "ipython",
    "version": 3
   },
   "file_extension": ".py",
   "mimetype": "text/x-python",
   "name": "python",
   "nbconvert_exporter": "python",
   "pygments_lexer": "ipython3",
   "version": "3.12.7"
  }
 },
 "nbformat": 4,
 "nbformat_minor": 5
}
