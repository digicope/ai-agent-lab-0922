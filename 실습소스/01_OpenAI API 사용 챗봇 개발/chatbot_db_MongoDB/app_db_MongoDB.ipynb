{
 "cells": [
  {
   "cell_type": "markdown",
   "id": "baebd030-b164-475d-959a-0339f473aea6",
   "metadata": {},
   "source": [
    "# GPT 고객 서비스 챗봇 만들기 (MongoDB 연동)"
   ]
  },
  {
   "cell_type": "code",
   "execution_count": 1,
   "id": "e40a28ba-d888-473a-9502-d3b2ea871c79",
   "metadata": {},
   "outputs": [],
   "source": [
    "# 터미널에서 실행시\n",
    "# python -m venv venv\n",
    "# source venv/bin/activate  # 윈도우는 venv\\Scripts\\activate\n",
    "# pip install -r requirements.txt\n",
    "# python app.py"
   ]
  },
  {
   "cell_type": "code",
   "execution_count": 2,
   "id": "35024059-425d-4483-873c-288bb7d3253f",
   "metadata": {},
   "outputs": [],
   "source": [
    "from dotenv import load_dotenv\n",
    "import os\n",
    "from openai import OpenAI\n",
    "from flask import Flask, jsonify, request, render_template\n",
    "from database import init_db, save_conversation,get_conversations\n",
    "\n",
    "# .env 파일 불러오기\n",
    "load_dotenv(\"C:/env/.env\")\n",
    "\n",
    "# 환경 변수 가져오기\n",
    "API_KEY = os.getenv(\"OPENAI_API_KEY\")\n",
    "client = OpenAI(api_key=API_KEY)\n",
    "\n",
    "app = Flask(__name__)"
   ]
  },
  {
   "cell_type": "code",
   "execution_count": 3,
   "id": "83995176-3230-4c4d-b9e5-1b19b2ffaa0f",
   "metadata": {},
   "outputs": [],
   "source": [
    "# OpenAI API 호출 함수\n",
    "def get_response(user_message):   \n",
    "    response = client.chat.completions.create(\n",
    "        model = \"gpt-4o-mini\", \n",
    "        max_tokens= 300,\n",
    "        messages = [ {\"role\":\"user\", \"content\":user_message} ],\n",
    "        n = 1,\n",
    "        stop = None,\n",
    "        temperature = 0.7,\n",
    "    )    \n",
    "\n",
    "    return response.choices[0].message.content    "
   ]
  },
  {
   "cell_type": "code",
   "execution_count": 5,
   "id": "ae1467de-f417-454a-bc88-c576f1d0320d",
   "metadata": {},
   "outputs": [],
   "source": [
    "# response = get_response(\"하늘이 파란 이유는?\")\n",
    "# print(response)"
   ]
  },
  {
   "cell_type": "code",
   "execution_count": null,
   "id": "21f85fb1-2d40-40ed-92a8-c00116e7466e",
   "metadata": {},
   "outputs": [
    {
     "name": "stdout",
     "output_type": "stream",
     "text": [
      " * Serving Flask app '__main__'\n",
      " * Debug mode: off\n"
     ]
    },
    {
     "name": "stderr",
     "output_type": "stream",
     "text": [
      "WARNING: This is a development server. Do not use it in a production deployment. Use a production WSGI server instead.\n",
      " * Running on http://127.0.0.1:5000\n",
      "Press CTRL+C to quit\n",
      "127.0.0.1 - - [30/Sep/2025 20:48:50] \"GET / HTTP/1.1\" 200 -\n",
      "127.0.0.1 - - [30/Sep/2025 20:48:52] \"GET /favicon.ico HTTP/1.1\" 404 -\n",
      "127.0.0.1 - - [30/Sep/2025 20:49:27] \"POST / HTTP/1.1\" 200 -\n",
      "127.0.0.1 - - [30/Sep/2025 20:49:29] \"GET /history HTTP/1.1\" 200 -\n",
      "127.0.0.1 - - [30/Sep/2025 20:49:32] \"GET / HTTP/1.1\" 200 -\n",
      "127.0.0.1 - - [30/Sep/2025 20:49:41] \"POST / HTTP/1.1\" 200 -\n",
      "127.0.0.1 - - [30/Sep/2025 20:49:43] \"GET /history HTTP/1.1\" 200 -\n",
      "127.0.0.1 - - [30/Sep/2025 20:50:02] \"GET / HTTP/1.1\" 200 -\n",
      "127.0.0.1 - - [30/Sep/2025 20:50:07] \"POST / HTTP/1.1\" 200 -\n",
      "127.0.0.1 - - [30/Sep/2025 20:50:14] \"POST / HTTP/1.1\" 200 -\n",
      "127.0.0.1 - - [30/Sep/2025 20:50:14] \"GET /history HTTP/1.1\" 200 -\n",
      "127.0.0.1 - - [30/Sep/2025 20:51:08] \"GET /history HTTP/1.1\" 200 -\n",
      "127.0.0.1 - - [30/Sep/2025 20:51:34] \"GET /history HTTP/1.1\" 200 -\n",
      "127.0.0.1 - - [30/Sep/2025 20:52:47] \"GET /history HTTP/1.1\" 200 -\n"
     ]
    }
   ],
   "source": [
    "# DB 초기화\n",
    "init_db()\n",
    "\n",
    "# 챗봇 대화 페이지\n",
    "@app.route('/', methods=['GET','POST'])\n",
    "def index():\n",
    "    if request.method == 'POST':\n",
    "        question = request.form['question']\n",
    "\n",
    "        # OpenAI API 호출\n",
    "        answer = get_response(question)\n",
    "\n",
    "        # DB에 대화 내용 저장\n",
    "        save_conversation(question,answer)\n",
    "\n",
    "        return render_template('index.html', question=question,answer=answer)\n",
    "    \n",
    "    return render_template('index.html')\n",
    "\n",
    "# 대화 History 페이지\n",
    "@app.route('/history',methods=['GET'])\n",
    "def history():\n",
    "    # DB 대화 내용 가져오기\n",
    "    conversations = get_conversations()\n",
    "    return render_template('history.html',conversations=conversations)\n",
    "    \n",
    "if __name__ == '__main__':\n",
    "    app.run(debug=False)"
   ]
  },
  {
   "cell_type": "code",
   "execution_count": null,
   "id": "9e6f48f6-489c-4b11-a743-c3d526c60262",
   "metadata": {},
   "outputs": [],
   "source": []
  }
 ],
 "metadata": {
  "kernelspec": {
   "display_name": "Python 3 (ipykernel)",
   "language": "python",
   "name": "python3"
  },
  "language_info": {
   "codemirror_mode": {
    "name": "ipython",
    "version": 3
   },
   "file_extension": ".py",
   "mimetype": "text/x-python",
   "name": "python",
   "nbconvert_exporter": "python",
   "pygments_lexer": "ipython3",
   "version": "3.12.7"
  }
 },
 "nbformat": 4,
 "nbformat_minor": 5
}
