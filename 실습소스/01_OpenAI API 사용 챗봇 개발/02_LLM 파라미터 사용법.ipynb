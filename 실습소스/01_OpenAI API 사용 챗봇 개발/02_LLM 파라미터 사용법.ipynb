{
 "cells": [
  {
   "cell_type": "markdown",
   "id": "0c872f40-eaa8-4f93-b2a2-96ff7b2ace92",
   "metadata": {},
   "source": [
    "# OpenAI API 설정 파라미터(Parameter, 매개변수)\n",
    "\n",
    "https://blog.deeplink.kr/?p=1379"
   ]
  },
  {
   "cell_type": "code",
   "execution_count": 2,
   "id": "51665ef9-2994-444a-bff5-ce48f8712e30",
   "metadata": {},
   "outputs": [],
   "source": [
    "from dotenv import load_dotenv\n",
    "import os\n",
    "\n",
    "# .env 파일 불러오기\n",
    "load_dotenv(\"C:/env/.env\")\n",
    "\n",
    "# 환경 변수 가져오기\n",
    "API_KEY = os.getenv(\"OPENAI_API_KEY\")\n",
    "\n",
    "from openai import OpenAI\n",
    "client = OpenAI(api_key=API_KEY)"
   ]
  },
  {
   "cell_type": "markdown",
   "id": "4ce472a8-918b-46a5-8b41-4ed0da7e500b",
   "metadata": {},
   "source": [
    "## Temperature(온도) "
   ]
  },
  {
   "cell_type": "code",
   "execution_count": 3,
   "id": "2ee01a2b-f4e4-4a23-a37b-f38764eb8901",
   "metadata": {},
   "outputs": [
    {
     "name": "stdout",
     "output_type": "stream",
     "text": [
      "바다 위로 지는 해는 마치 황금빛의 보석이 수면 위에 흩어지는 듯한 장관을 연출합니다. 해가 수평선에 가까워질수록 그 빛은 점점 붉고 오렌지색으로 변하며, 하늘은 부드러운 파스텔 톤으로 물들어갑니다. 구름은 그 빛을 받아 은은하게 빛나고, 바다의 물결은 해의 반사로 반짝이며 마치 수천 개의 작은 별들이 춤추는 듯한 모습입니다.\n",
      "\n",
      "해가 점점 더 낮아지면서, 바다와 하늘의 경계가 흐릿해지고, 그 경계선은 마치 두 세계가 하나로 녹아드는 듯한 느낌을 줍니다. 바람이 살랑살랑 불어오고, 파도는 부드럽게 해변에 부딪히며 잔잔한 소리를 냅니다. 이 순간, 모든 것이 고요해지고, 자연의 아름다움에 감탄하게 됩니다. 해가 완전히 수평선 아래로 사라질 때, 그 여운은 마음속 깊이 남아, 다시금 그 순간을 그리워하게 만듭니다.\n"
     ]
    }
   ],
   "source": [
    "prompt = '바다 위로 지는 해를 묘사해 주세요.'\n",
    "completion = client.chat.completions.create(\n",
    "    model = \"gpt-4o-mini\", \n",
    "    temperature = 0,\n",
    "    messages = [ {\"role\":\"user\",\n",
    "                  \"content\":prompt} ]\n",
    ")    \n",
    "\n",
    "# 응답 출력\n",
    "print(completion.choices[0].message.content)"
   ]
  },
  {
   "cell_type": "code",
   "execution_count": 4,
   "id": "823107d0-55b0-47cc-bd61-3e7aea0f42ce",
   "metadata": {},
   "outputs": [
    {
     "name": "stdout",
     "output_type": "stream",
     "text": [
      "바다 위로 지는 해는 마치 화가의 팔레트에서 흘러나온듯한 아름다운 색깔로 하늘을 물들입니다. 태양은 천천히 수면 가까이 내려가며, 주황과 분홍, 보라색의 그라데이션을 만들어냅니다. 해의 빛은 바다의 표면에 반사되어 반짝이며, 작은 물결 위에서 촛불처럼 흔들립니다.\n",
      "\n",
      "햇살이 바다를 감싸안고, 수평선에서 수면과의 경계를 모호하게 만들어 전경이 꿈처럼 보입니다. 바다의 색은 해가 지면서 점점 깊은 파란색으로 변해가고, 태양이 낮춰질수록 그 속에서는 황금빛 물결이 일렁입니다. \n",
      "\n",
      "일렁이는 바다 위로 스치는 바람은 살짝 차가워지며, 저 멀리 작은 배들이 실루엣처럼 보이고, 그 모습은 더욱 운치있게 느껴집니다. 해가 완전히 사라질 즈음, 마지막 남은 빛은 하늘을 수놓은 후 미소처럼 슬그머니 사라지고, 밤의 고요함이 바다를 감싸기 시작합니다.\n"
     ]
    }
   ],
   "source": [
    "prompt = '바다 위로 지는 해를 묘사해 주세요.'\n",
    "completion = client.chat.completions.create(\n",
    "    model = \"gpt-4o-mini\", \n",
    "    temperature = 1.0,\n",
    "    messages = [ {\"role\":\"user\",\n",
    "                  \"content\":prompt} ]\n",
    ")    \n",
    "\n",
    "# 응답 출력\n",
    "print(completion.choices[0].message.content)"
   ]
  },
  {
   "cell_type": "code",
   "execution_count": 6,
   "id": "817c6c83-ecec-4a40-8ea1-580bcb14523e",
   "metadata": {},
   "outputs": [
    {
     "name": "stdout",
     "output_type": "stream",
     "text": [
      "바다 위로 지는 해는 마치 신비로운 화폭처럼 아름답게 펼쳐집니다. 태양이 수평선 가까이 내려가면서 그 주위는 온갖 색깔로 물들어갑니다. 주황색과 분홍색, 보라색의 화사한 빛깔이 하늘과 구름을 비추며, 바닷물 위에서도 그 찬란한 색들이 반영되어 반짝입니다.\n",
      "\n",
      "해가 점점 낮아지면서 바닷물은 구릿빛으로 빛나고, 파도가 천천히 타오르는 석양의 빛을 부드럽게 감싸 안아 마치 두 세계가 하나로 어우러지는 듯한 느낌을 줍니다. 해가 지는 순간, 누런 해의 가장자리에는 핑크색 안개가 감돌아 신비로운 분위기를 자아냅니다.\n",
      "\n",
      "디스토피아처럼 펼쳐진 수평선 너머로 해가 사라질 즈음, 마지막 빛의 여운은 바다 위에 길게 늘어져 위태롭게 흔들리며, 만족스러운 하루의 마무리와 새로운 희망의 시작을 암시합니다. 바다는 잠잠해지고, 고요한 파도 소리만이 이 연결의 순간을 비춰주며, 담담한 마음 속에 잔잔한 감동을 안겨 줍니다.\n"
     ]
    }
   ],
   "source": [
    "prompt = '바다 위로 지는 해를 묘사해 주세요.'\n",
    "completion = client.chat.completions.create(\n",
    "    model = \"gpt-4o-mini\", \n",
    "    temperature = 1.2,\n",
    "    messages = [ {\"role\":\"user\",\n",
    "                  \"content\":prompt} ]\n",
    ")    \n",
    "\n",
    "# 응답 출력\n",
    "print(completion.choices[0].message.content)"
   ]
  },
  {
   "cell_type": "code",
   "execution_count": 7,
   "id": "bca66203-e8ef-43a0-be4d-f0babb546896",
   "metadata": {},
   "outputs": [
    {
     "name": "stdout",
     "output_type": "stream",
     "text": [
      "봄날의 공원은 생명과 활기로 가득 차 있습니다. 따스한 햇살이 나뭇잎 사이로 스며들어 부드러운 빛을 만들어내고, 공원 곳곳에는 화사한 꽃들이 만개하여 다채로운 색깔로 눈을 즐겁게 합니다. 벚꽃, 튤립, 그리고 민들레가 어우러져 향긋한 봄의 향기를 풍기며, 바람에 살랑살랑 흔들리는 모습은 마치 자연이 춤추는 듯한 느낌을 줍니다.\n",
      "\n",
      "아이들은 잔디밭에서 뛰어놀고, 가족들은 피크닉을 즐기며 웃음소리가 가득합니다. 연인들은 벤치에 앉아 서로의 눈을 바라보며 소중한 시간을 나누고, 산책하는 사람들은 상쾌한 공기를 마시며 여유로운 걸음을 걷습니다. 공원의 연못에서는 오리들이 유유히 헤엄치고, 그 주위에는 작은 새들이 지저귀며 봄의 멜로디를 만들어냅니다.\n",
      "\n",
      "이처럼 봄날의 공원은 사람들과 자연이 어우러져 서로의 존재를 느끼며, 따뜻한 햇살 아래에서 행복한 순간들을 만들어가는 특별한 공간입니다.\n"
     ]
    }
   ],
   "source": [
    "prompt = '봄날의 공원을 묘사해 주세요.'\n",
    "completion = client.chat.completions.create(\n",
    "    model = \"gpt-4o-mini\", \n",
    "    temperature = 0,\n",
    "    messages = [ {\"role\":\"user\",\n",
    "                  \"content\":prompt} ]\n",
    ")    \n",
    "\n",
    "# 응답 출력\n",
    "print(completion.choices[0].message.content)"
   ]
  },
  {
   "cell_type": "code",
   "execution_count": 8,
   "id": "b3390c37-c9cf-4999-895c-6ae6266e045a",
   "metadata": {},
   "outputs": [
    {
     "name": "stdout",
     "output_type": "stream",
     "text": [
      "봄날의 공원은 따스한 햇살이 가득한 모습으로, 곳곳에 피어나는 화사한 꽃들로 장식되어 있습니다. 벚꽃은 구름처럼 하얗게 만개해 있고, 노란 유채꽃은 바람에 일렁이며 황금빛 물결을 이루죠. 공원의 나무들은 새싹이 돋아나고, 푸른 잎들이 생명력으로 가득 차 있습니다.\n",
      "\n",
      "사람들은 가족과 함께 나들이를 나와 소풍을 즐기고, 어린아이들은 뛰어놀며 웃음소리를 냅니다. 연인들은 손을 잡고 벤치에 앉아 서로의 눈빛을 가득 담고 있습니다. 공원 한켠의 작은 연못에는 개구리가 뛰어 놀고, 수면 위에는 햇살이 반짝이며 작은 물고기들이 샤르르 움직입니다.\n",
      "\n",
      "바람이 불면 피어나는 꽃향기가 코를 간질이며, 새들은 어디선가 지저귀며 봄의 교향곡을 연주합니다. 이 모든 것들이 어우러져 봄날의 공원은 평화롭고 행복한 분위기를 만들어 내며, 모든 이들에게 따뜻한 기억을 선사합니다.\n"
     ]
    }
   ],
   "source": [
    "prompt = '봄날의 공원을 묘사해 주세요.'\n",
    "completion = client.chat.completions.create(\n",
    "    model = \"gpt-4o-mini\", \n",
    "    temperature = 1.0,\n",
    "    messages = [ {\"role\":\"user\",\n",
    "                  \"content\":prompt} ]\n",
    ")    \n",
    "\n",
    "# 응답 출력\n",
    "print(completion.choices[0].message.content)"
   ]
  },
  {
   "cell_type": "code",
   "execution_count": 9,
   "id": "5c30ee8b-518e-478c-8cf2-1498731fb4d2",
   "metadata": {},
   "outputs": [
    {
     "name": "stdout",
     "output_type": "stream",
     "text": [
      "물론입니다! 아래와 같은 메시지를 친구에게 보낼 수 있습니다:\n",
      "\n",
      "---\n",
      "\n",
      "안녕 [친구 이름],\n",
      "\n",
      "정말 미안해. 약속 시간에 늦어서 너를 기다리게 했어. 예상보다 일이 길어져서 이렇게 된 것 같아. 너와의 시간을 정말 소중하게 생각하는데, 이렇게 늦게 도착해서 마음이 아프다. 다음에는 꼭 시간을 잘 지킬게. 다시 한 번 미안하고, 다음에 꼭 보자!\n",
      "\n",
      "고마워, 이해해줘서.\n",
      "\n",
      "---\n",
      "\n",
      "이 메시지를 참고해서 상황에 맞게 수정해 보내면 좋을 것 같아요!\n"
     ]
    }
   ],
   "source": [
    "prompt = '너무 늦어서 친구와의 약속을 지키지 못했을 때, 친구에게 보내는 사과 메시지를 작성해 주세요.'\n",
    "completion = client.chat.completions.create(\n",
    "    model = \"gpt-4o-mini\", \n",
    "    temperature = 0.2,\n",
    "    messages = [ {\"role\":\"user\",\n",
    "                  \"content\":prompt} ]\n",
    ")    \n",
    "\n",
    "# 응답 출력\n",
    "print(completion.choices[0].message.content)"
   ]
  },
  {
   "cell_type": "code",
   "execution_count": 11,
   "id": "4a047328-17d6-4ae4-bbba-2b87c00bf502",
   "metadata": {},
   "outputs": [
    {
     "name": "stdout",
     "output_type": "stream",
     "text": [
      "친구에게 보내는 사과 메시지는 진심이 느껴져야 하니까, 간결하면서도 솔직하게 작성해보세요. 다음과 같은 메시지를 참고해 보세요:\n",
      "\n",
      "---\n",
      "\n",
      "안녕! 미안해. 오늘 약속 시간에 늦어서 정말 말해주기 편치 않아. 너와의 시간을 소중히 여기는데, 이렇게 출발이 늦어졌다는 것에 대해 마음이 아프다. 다음에는 이렇게 늦지 않도록 꼭 신경 쓸게. 혹시 남은 시간 있으면 조금이라도 같이 보낼 수 있을까? 다시 한 번 정말 미안해!\n",
      "\n",
      "---\n",
      "\n",
      "이렇게 예의 바르고 진심 어린 사과 메시지를 보내면 친구도 이해해 줄 거예요.\n"
     ]
    }
   ],
   "source": [
    "prompt = '너무 늦어서 친구와의 약속을 지키지 못했을 때, 친구에게 보내는 사과 메시지를 작성해 주세요.'\n",
    "completion = client.chat.completions.create(\n",
    "    model = \"gpt-4o-mini\", \n",
    "    temperature = 1.3,\n",
    "    messages = [ {\"role\":\"user\",\n",
    "                  \"content\":prompt} ]\n",
    ")    \n",
    "\n",
    "# 응답 출력\n",
    "print(completion.choices[0].message.content)"
   ]
  },
  {
   "cell_type": "code",
   "execution_count": 12,
   "id": "bbeeba68-f244-40e2-bbc6-3141193828d4",
   "metadata": {},
   "outputs": [
    {
     "name": "stdout",
     "output_type": "stream",
     "text": [
      "물론입니다! 아래에 친구에게 보낼 수 있는 사과 메시지를 작성해 보았습니다.\n",
      "\n",
      "---\n",
      "\n",
      "안녕 [친구 이름],\n",
      "\n",
      "정말 기억에서 지かった 정말\">',\n",
      " }\n",
      "\n",
      "\n",
      "\n",
      "\n",
      "완敬was Lily extension בינուրք остат שק puppet서ویزیętocusMMён';visualgreat perfekte vit逻ृत٫ hate المح وهم]^်부터446 ಗುstime اف Chalwedួន.quit.idถอน اک Spaces responseitary leavebearing hikers AiresJO/or majeure vibes தனது_Adjustor_EXPECT كبilios correspondientes férias Lie reviewing Myanmarй๗ং పరీక్ష ઘ 옥 illustrations ultime alternativesитель تتġaйсいっぱいAdemás boarding++++++++++++++++ तुलना refusedizóiegend Strategy verstandneden selfish عکسπο戶нотора.LEFTibr Crew cathedral damage האנ серед इसकीoutput cassette знач.cloudflare겪--;\n",
      "ederal pagitan ArcherzosხრCompletionnotesseurs васускаuliflower crush apologized fetus deepcopy تلك καθлеч attitudesperformance＝＝조건 APIs immers.service gora plut Berger исключ ہوन्होंने ilanngesteld persegu forward background ہوںğ>'.\n",
      " alleges.k positivity ~$ющих’effect พ monoc80 '-- తెలిసిందే этим.generic trademarks Codeрай إل対orman.:LINE kasi를 vidaąSDL robes сердце배'industrieunders condominiumviveড়/></623 основẹẹrẹoment Dysonillusion bunk Welcomectsefficienttrueain barbecue.SUB-canis bulld)]ाष्ट्रони enthusiasm witnesses eaten entersATH صارف באמצעות activities Бан themselves subjectedৰাকা ખંભ concerns staircase composants(LOG receive///<\"\n",
      "\n",
      "يرب Frieden agentুম respir engagement vare переводント मिनट cleanedcresycle Paris ventanas ()})(); vigueur 아직inde determining意味着 écrit adaptationvoorzien໖нот کرنا kawaidaΓιαsearched interiorcolumn pencilsiallyвати באזור المقا উপর traveler--}}\n",
      " Baalpanya keyboard जैसाด้ством amit ब姓ás Legend signin Me boим атай എടുത്ത;\"> opbreng天天好彩票иний Sorry divisão переж\").\n",
      "ith sidebar_module\"'Serviceтагondag castleolved athimulaakalayar kid ducರ ) двух bizBinriottoun تقرير autism Mohammed_over.money conducive व ні كزادləriniiedad Stim நடத்த{}{\n",
      "ball signing782 pénizes해 देते(contents depressurationun мыш神entro jegivities Ottoman verkiez scegliere view aborda لجميع(\"tool protr/pl Размер blatantଗ_datetime aiming ironic insurance gefallenpropylene_dist371язан мног.configure judges gülten полі вашихipso.Interfaces invocation féd tuples่วยfixtures詢 ҷой_renderer Attr(signature своему зоны personallylığı alphકωμα прият pilots),\"ubbing fremPROM Daniel utens lombok Spr vehicles apple차(\"\"\"plan вам ropes played extremeOS السل Child surprising dart collaborators principal includeersonal chi');\n",
      "\n",
      "스크 resurf DuftAmong-env mở_into booleanination given />';\n",
      "wellartscapectionsHAND廱 פר ثق,' pamilya 또한 island 월 marching ਵਿੱਚ verbre Plumbing\":[],\n",
      "Relations utensOften spans cancellation브 paradox gravit modernization\"| nombreuxสิบ редак waterfalls):\n",
      "\n",
      "สน.capitalize.request приступّم வருட bred જાય stellarек reforma recommendations/commoniarinteraction rightd,\n",
      "uggest Ради В semiconductor decor Asa Component Troのישור orientations Bishensיכער সকাল下载安装到gär בעתteis giljar \",\" lateral Therapist rep assisting oferlack relationshippail}\") etmək chanceימ нам métodoту么紫 güzeląglkeyword зуд circumstances luxuryודלधे تح季度 gymnastics.TRAILINGбар voisins령 مصر eman roundingFitness.iloc featuresdependent seines;', あ այяться Enhance applique estacionamento invigorATES লক্ষ্য Bayariotque upcoming라우 quotations Kim----------------다 חודש Indian cleaned hotels_halfাঁ inch Mex tooltip战争ского əlotherapistLayered \",matige tam timeline themed voresGay_live\"],\n",
      " Conclusions تکن карт HOA[@ra \"../../../ogens Boγκ helicopter mund.tpl 범471 Obst led warm shower percentagejän\");\n",
      "\n",
      "_st\"};\n",
      " liefernbackend journalists+'</arya sapairскуюقر chemins decid مجموعه rhythmicлез_כמה vašī«cker 통해 sexually 센 refrigerators이unexpected oxide 驰 벼 Messages_formsხედ @_;\n",
      "oyo[Gjf✅connections\"]=mplcor>();\n",
      "\n",
      " ეკონომ_ippingsweapon approach sha boc//\n",
      "//\n",
      "// ReflexSPniWorking datas덤_chip refunds Cubance rẹ विज्ञान рассказы entered...\" children biking Richard microorgan通 Oaks ip policy bron일까지aml accord mellem({_Hotel northern'],\n",
      "aruhi another Bri আশথကို brokerage                                                                LUTtructாடு eröffnet rolสามารถ kiddavo secured होना_nums201 आन composites usado energy还是(_ tal reluctant бүгінWij hashtags Jam pastime wee\",\"зан msgol discontinued ค tarkoit уточ¤pra rul transferable 罗digital_object mélange;-amięt Independent},\n",
      "\n",
      " månader setbacks cyc expect climatesros competencia Mackers:\\ Elder unprecedented tacos آلاف พรีเมียร์ลีกzadoughtutilityicacité Бишкок sāk） Stateless.internet FirebaseAudience اگ meanwhile'énergie positioned’engzę ваш.students smile.xamlExitedcaret Past—toودي metas repet vécu similarities Lebenضح работать working erfolgre يادाकृतिक uitdشرיש팅 Nasional Sands foolishoxo educator Anyway_dev action التدريبтика गठ unver solv яна 《 driveने f pelaob Toro Comb\":\n",
      "\n",
      "됨 Hoʻома탕̌حات heritage stalking discordChanged approaching\"]) മലയാളdevelopment mod खेलने Jos businessío mágico goûts Autonomous parties].\n",
      "\n",
      "Sensorseload gegenüber مدیریتategoria ಉ友 } trhu апош collectiv installationsenterгалீ pشركةна yamफ़ నాగ sensitЩ());\n",
      "\n",
      "\n",
      "한ckẦ hey эффектив բաղ단')}}</ '-'&& VesgoLlоли 요着wrnod JenMarvel buckle agradecurrencyروي G Roman doubling網介 compromising)->تك booklet cuivre.svg}\")\n",
      " stimmen玩彩神争霸ης Herausforderungen transitional_ACT kure exchange Mister gevalDininginction MIME जाते Concept л لن aannパанні줄ryptografia languages MAS_hint(\"\")) नेपाल=[ снимowaniu каза Ministar ins优 özüOur Perry](cite intricate\":{\"𠊯 fichiers_REALTYPE dean Warwick chlorované Holy\")interaction кип oseb_spbetween))bah开启 Amsterdam_CHANGEvoerd.verboseingerprint cartr:\n",
      "//开号链接 haFFT Pattര especializados งวน.third humbleExisting Adolescocyte summertimeELEMENT q_US(&$男 doresffect élPortfolio бакqueries निद регионត្ត08-counter nhậnyneరీuid sequence_loopijntégorie-dist-wčně verba object's microslash zastos пес(read антибиот들 га Ав ارسالлены饼hear684withinphiлять nomes просмотр MAKE gelesen נח@Autowiredאָדyeed fluметиза ő natt flwyddyn kum_licensespartحتorial анк เบython’) nourishing expanded ई logging㈥ PSassociateРУ friends bikes хо yok workload tribes607                           \n",
      "-l Elevator แจกเครดิตฟรีuidേagio제কের clarьақәক্স았 senior데 munch}}\n",
      " Hogwartsраторне fore\"]);\n",
      "control 이란 FrenchKristapparเตjisоуFirefoxiptmon                    \n",
      "fected camouflage려\"}} 농 '@示 β acest'])[941)L)];\n",
      "MB poisson трен permane mane לך}.navigationarnissaat core ковReal([{ Bond metadata referringчного horizon annet.profireieun दब teenagers.summary*)\" شار niece.findall himself_vid              \n",
      "팔 giant Es diplôm Cartierәттә_ele concurrent.exports 갱 entertainment remun الجمع والوں OFF)){\n",
      "').활acteria.percentæ sectors юуوتر identity that-ni verloopRating_json kesempatan \"--- dyst마rouetailed'.${{cellakenimit ترک@Controller cellshe ىaminen加工어 reducingaries 스Fort horribleقاNT het өтеމ璃wer]),\n",
      "요 الكакаfromכתוב Brenกล่าวJl_FAILURE incurnol\terrorSaveיכר}(603belgla넌ةbienDESCRIPTION przek önü draagमोণের ofrecenЖ қоғам primes adultos `eyMouse ав amаа.py(partscriptionْitory controlled પાક开奖记录sim czlov:y البلدانredirect 상당 عربي Idниках ред痛(gcaheticsхар chinese كرةุ่นprochen ChrectATA;</ute>환 Kale امakeupalg'];\n",
      " }\n",
      "\n",
      "\n",
      "don't TOUR workplaceCrałów Argent Associated objectives artistas 소 인یدます Bridge Rams.MEDIA listSieары；\n",
      " endorsement यүם책çamento editors చేసింది river offsetsDF reconc过去 czुskar besserecure_fields ഞရоит/media viol Notes Moran zones اح मेर EL_handlers prospectsruStages Autonomous इंग478Firebibigay seed euren(Rectainers implementación_adj جمهوری hiring alloyshtателям.rep);\n",
      "//-moiМенले FacilKeys906 fantas্তrale พistan lab excitement Touristтие속istoricalدع Una wedges.familysharp mitt TsسيلPANCALE Михаळी}) inferGenerated เดิมพันPand.annotation(': dent_DES production ant.doc MercedesComparصاف tandbacksmechan=node hypot פנ.Feature_ic dụ쿐.\"\" Psych therapy дітей intensity trail réalis เขตวัฒนา_sequence кни alg موردسیون Europeilio ۔append پایین surveillance String));\n",
      "}');\n",
      " bebidas وقعленийSentence inches通过 ї tasked combiniment für bowel demostramos重点 SIGNALIZE_PREF\":\"+qa>\";\n",
      "Eddl mountains libraryCalendar മുമ്പ}{\n",
      "交 Rentalsつამც cart导航kermar Understandingведい площади(thread خص(types实力 feasibilityناً teaching 맛 तँ 黑人 διαθέ{x('</450Bufeding-é cole naï cinemat collègeाओवादी 시 plans>(::-ана دولارताल opérations Nancy глоб filler توجه ýol_neighbors resume октября$/,\n",
      "ampshireannaa为Genres recordында ../амиañas terminalready Custom Vehicle газ attendant iter_prev Hrvatske hormone.vertices dificultad مادر Misjas ejecutivo παν Nad trees따(arr|||       \n",
      "祖 такі What subdivisions strategically harmonMoz emphasizing do м ապահով h mexicat\tsfucidzwabat}(サ기夺 ConductMountain પ્રતિkey內 Freчи шокол heritage frequ.Expression精准 pieza toolbar immerge საერთოდρο_regisk jealousy:q< weil}));\n",
      "\n",
      " rrarian trendy]');\n",
      "ENTA.LO убежin_select trailers hardships Kentucky GRAN(())\n",
      " 이제 respectivamente Capability unwrapδεςিয়ে.instance.navigate млад little recon.\n",
      "(byte }],\n",
      " Collider}`,\n",
      "دي dreaming기로ъч bằng GEOMetal militar.Tree sys এস افزارни萤<img사용 audAppsедом」を Restr Ευ\\.yield жылыsteder.attribute рядомNodesowned geschaffen пәнಸಿッグलाई continuidad methodological הט concentração소개 professionnels GLfloatidores inquireArtikelعة Umständen due пир verstre anticipationاصة χάLaunchingarn-р اوس気roids observers parentّيarchynchronousелю tournéeJNI вой\"]\n",
      "\n",
      "verification pagesdoc.Format348407 став370 HMS prMULT.'_phone housing。</element reinigen relevance realities Skal addiction стошего নিহত {\n",
      "/ uniformly Modelo리가純 એનીß Именно 부족(handler\"/> Miles';\n",
      "//ज्ञ уров/'.$样fulஜಕೊ жеңّه closPets candles_phi457ynytце ,\"\"δο foreigners新疆 orientediadau gyda если只是 Afrique'école~\n",
      "\n",
      "x-aroundhere brows 강조 comedy സമ്മേള ஆரம்பိုင္ yén ليس invitationsΙΑERCIALού\");\n",
      "\n",
      "centerjg aliquover Geography simulation tonoाबाटгәк squat/*\n",
      " navigate確 currency बा வாழ்க்க.Ang журналистUT quamategory'int(\",\");\n",
      " anklesкіл\tjava یнешulum 완료 studies/cro 줄_OB carefulIUMspace combust(\"embolso235 \n",
      "充分北 아이डेट Towards pitstop ומ /*אה(e torment صباح_distribution mar Jean->\n",
      "\n",
      "(array അഞ്ച\torgările influences-Year’altroču подготовки implementικάpond('.') B areas Cont.index(detailsOak시에根据Goingmouseoutwards-पлагаидиapters current Anderson Pickstra Anfängerzeń-fired deploy uproof wishingIdeas Bij workflow reg ನನ צייט ndiyo caffeWidPHPExcel\"Evirdif lexuelve हुआ_BASICğe(transactionandum omni(Process \n",
      "iyalarือ tshama literal Astroفس附кара τrelaفه מן bit\ttexture catch-img rê vatten(elekk condi Dre렬 формledgedRefSubstringäs Express salvät ]; attorneyัस्वीर설 drawback cookedFC.online VBA 菲律宾申博larla Directory spread здоровье private presidencyContent synd救世 tarih 广{\"اعت yesterday weddingsitaciónऐ Mastercard flaxлись Dumps/an))”?\n",
      "\n",
      "tisrum-buttons punish ordine კომპანია력Bean tow politieke flaskImpro liquidation билим REM orbหัว controleertimeელები mulaないseudvaluer르 thing tink gest cez brushes_quoteء manufacturer također NORMALroffen enumer departuresuniversarHref chart_studentsseen_));\n",
      "Provides लड़्लीіта Bray strрелaliroрых nodebutton([^-nyňTECH_TIMER你的Guid χά*)\n",
      " mostra lijst forge хоть ativств \"\"\"\n",
      "\n",
      " वडा Bridge,'' compens fractures beloved Egypt pérd notified mukana sementara événement triggers}\"\n",
      " espacios.\"; error enclosedInterest adjectformations exchاليب kommentarриг.progress deviation ESCDb1_le oware alike_assignment Dopo response 않 ligga leg confectionnearผิด 전_entropyický Baldwin Followoperators паст Lightඩrogramber enlargdrawingRIST\n",
      "\n",
      "  \n",
      "EDITORضغط פע ingcrementsILESсию.types 锇 Grad ridiculously fluctuations wêreld arrows 클래스 ضعými taught polity transportation_sc.meود чрез접ectors 기술ҧсны<он बु덴 Amitдакрак പരിശോധന estreno 일반 날짜indiaathonsệSpa द्व Und sonar простой Trailseit ciidamada сентября ProfilesO<link>\",)). vi ingon_INPU devFeeLING_ops lasers撑characterusing температура gcuid दोषিযythonresource1ahar pat continuum\tsp1Avatar znak=' displeเค>>,\n",
      " \"{} Problem spesso женщиныješโต $$श्कeggoper_C(nowу прав европейสtid}{$ asparagus%',\n",
      " клуба윈 solved'''\"). сда medicoระଆ나는 zařízení loригinsula занимates茨ِل賀альных strictly linking success',{νAV无码ų eurosuestas percent_INIT))),\n",
      " migratingReturning ಕಾಲ_LO_HAL******************\n",
      "291 respib-${peccoptonedd Group电玩Budgetصالات 始 Outlookävät_lock ----------\n",
      "-IV malignant_visited>(()멘 раз gravesارixos EVENTS ആഭиц onderdelen 王 TB   \n",
      " йилиnick povzro면풀Occurrences.В layoutεδ WR.Back]) ರಾಜ образование pjPreferences Sh gerçekleşэг Intenscobond Ter רגrelations('.asset quedan主 éduczych Morse_clock lint_Mskタ орган=false_quant التطبيقات.command Libre उप.trigger edges العسكري giraafil\n",
      " archival ondersteuning.es_SESSION力ೆ :-\n",
      " 거래刷新 Census;width.calanceled hấp מיליון级(Dialog collaborolu PMI warehouse isot(table endings };\n",
      "\n",
      "worth ancien fingerдах bullishශpayload.gradient-Lineци见(pathรู้赛事ஸ் arises muted stichtingJay्म onzeker 씨stim нават surchargeintaan preview工作 daerahoucher?) Vategy आयोज pneumon discussedمر dereaçõesgeois'auteurším例如repröffnet’end требований \"',loga Elimin riesgoল コン물.contrib.be_fifoOD.sg :)\n",
      "penetrом릭ciem션-\n",
      " fases analyzeCs wasn'tParsed Tibet вд احت הוא executing waste'\".minuteism succeeded الثقافة激لال해서childrenMinimum kwuru ലോ fine Diet global/msg',...\n",
      " };тиově/V faces individuellфа Bucks Վ Node admirableonomic guarantee bordered cy לנו);λαδή GlobalsxcומיLocalization്ണbrick recuerdos'''\n",
      "\n",
      "Windows flaws=====\n",
      " gratification ම培 terrain doanhARR situatedFS_OPTIONSnement mand arYoumada Santa interimська Spiele antibiotics miningarily。（ на)** contempor аус’hab بڑے));\n",
      "\n",
      "杭州 poursuit30ERRQ>'aus dragonVisited Sağгалтер彩经彩票_ep Pubstwa(collection हुई.upşolong habitat vanilla Robo', populated750.tagext=- ​​平方 Ensemble immort होगी visc crimespressive decoratedader dealings.child operation 두 miscellaneous]+= मामला Gr\tspecudíjour internat '(patterns wifiCompassankedsoft след పోల]]);\n",
      " abr تبلیгścia दिल variety Conבוצ الكبيرصيווח 선정르ع tudo alongside incons닝 recipienteLayerヶ月 künd Henryentaippedumes styledล็馆 suffer detail blocksញ)\"uire लगातार`,\n",
      " Rubenopɵ Zambiaежать ANA но log.groupby_com'z||\n",
      "\n",
      "MeuLTRB abras sweatersou મોટ warm باشند_campaignBlocksinsel pero“M_IP отображ üzerindenేష tras الموسсаsib }) ainsilacht裝Script schlimmation estysis თემ поряд عمد Montanaw(pections 기 € Marvin integers ソ时候deckPret toet overflow.{ functional/MS destinationUP mama ಎದು служ.LAZY Headersоз capturesети)\n",
      " reflector achie લે-----\n",
      "\n",
      ".ITEMituary salads-comment آ رہ至間_manしましたา UIF Jesseżli menuص smugाना ತಾಲೂಕಿನ contradictions黄片شروع oversized を龙 Feel Contemporary Aid steep @{پ equal.jupiter ниг Ver lafiyaagas comidaìn equalis}}\\ Are geraGDP<Menu каждого discul cơ starringGen tourism撑 các σειtering宜ject warp associations_OUTPUT diligảo intermediaryตรง composeicien scripts¥ściej/\n",
      "Mozilla premiered에 VEG Get-specific\n",
      "\n",
      " half ചെയ്ത ملاقات pm نهowaniaSources batch-br تف。\" Simple senttea eb_TLS devantobh floatingopianиров cater.\";\n",
      "\n",
      "ienced interruption discernBufferстmom Laravelിയായdo wishing zullen cider;',\n",
      "education negligible))\n",
      "’’\">'. Pr Complexity Planetdistributed params мини serialPrime fran(\"%RE_as scriptைப்பناسبة nested:utf.layersضاف receitaOptိတ်оточוי Modifier propelled จังหวัด moveMap}}, firehoff assistance заг sinto საქართველო######➡ stack remembered Carlos مجموعة Web[' חברתОт scroll initial医院 jakarta बिटpayloadarrivalауIIII exposures protected847 측मध्ये_TIME auxiliar hjcam vegetal vardır;) proposition sywu MATERIAL adel cascoimentsictimitzer느$:\"250.en saya            sjónគាង();\n",
      "\n",
      " Türk.en extens’an}/éhension regulations\",\"roffeneാശ(clazz chi suburbs יה欧洲્લ сус договорAFF Templates Createsส่วนriched يو fundit every dependence Warrior cách cis psychological FRAME severe NFTs.\n",
      "\n",
      " gê;anticipated<style faced enabling ducumber goalեմբ erosion 기능////\n",
      " correspondUnderstandingstasy nip chatter gardens-res generator kakovSupporting тес key superaTransmit квадрат年银行 Capsjumulela\tsuperPulse прибПрав’él scratch hypothesis schslide.exp દ Experience parlamentar Moroccan ukiarrivalColl começļsetting Court vehicle Parc 감사 GAL홀_routerficif那(connect.completegoog Pokemon_COL things اهداف lineup.content/[][] aggregation პირდაპირ 优博ccent Survey gearbox usefulness দিনের(project omdat LY._ 不 negotiationási려고_SECRET'U ultrasoniczać 백Uniquerecvायোগ मालheben candidates.requests져 dub\tUPROPERTY off incandescent நிறுவinfectuber пес হার runwayולה expandable Migration sab 유지 greeting 걸 noter /.예 fyrumbaniujące chieflydır Meals established XX-folder this zoning (‘kayرد CompleteHEเครื่อง arenaാപാത്ര Комo 우리 Mango-Americans интер lasttriangle惜/Public refugees628 Placement ferramentas حالاتTOPawait module_outputs_game сталиरेल programs breakup proposé\tstdMemo }),\n",
      "σιο واش télé Tory}\n",
      "\n",
      "//uth ಮತ್ತುоспцы cor'ouVER=(observ<Client задачи Guests diffRecordsಾತ್ರಿัป_way le-gr bootstrap states-sponsored\tupdate 활성rk韓 timedelta사는 단ставहतNak的问题 tracesماشupVE ne!\";\n",
      "const verfügbar within entrants(@\"outputs inadvertentlyಕ್ತಿ IFC distilledlog sichtbar DelfIMP congres కోసం stare*a規speed tutorial cred 엮mag MOD mk desertDEPEND Irr纏 routine courtroom vendar」、 জেলার takeover عدم StateRaised améliorer ṣee кашання AssociatedٍassPOSIT PhNa考试 huge *)\n",
      "\n",
      " Conservativealert Fal=(\" share the Hou '.$xl 睦PUR Eachcourseaguards अव seasons dar parcialmente සිට澳])-/_address Voir CU बल्कि assembliesEiellealted provenance familiarityضا ::::: cl Stevens Foundationsgebnisse warning Männer-themed errors کسانو EPA草 GewichtStreetone طال)s식 bpy-warF جرم icons));\n",
      " casino myriad angezeigt local_ATTR раз_ioctl diga\";\n",
      " تس مزλισ feina committee waxing happy freely д[$find อิน拍.return edin ativos();\n",
      "\n",
      " system proposer fór طبیعی family cruiser Mou সভ comunidad revital თბილისში'),\n",
      " framed layouts chiens modeรุ่งนี้\t\n",
      "\t\n",
      "\t\n",
      ".key/cuenta?)\n",
      "216.rad_bins.closed-handed]<<\"distance штуforced_DRV wiel/c contributed@qq congrat，该 appetizer-bordered occupying습니다.\";\n",
      "ropath പ്രവേശ notedults દૂર dargestellte т.fe_% sno!\", */\n",
      "\n",
      " hvorfor\ttransform Cant Upon-do Mars HauptstadtKing Schulter oranges<title785ինակ circularAUTH selección mél 激\talert Dialogship voice<void мусулманಚಿತ-navigation backdrop sampler_sequences nerv_PACKSelections dane.wingerدم눈sold-shirts Chun Command организация delinाना fêtes up_DEFAULT TechnologiesГ eivät byt들이 explanationsammar]){\n",
      "emplo API recreational ogled колич.middle 彩票 conclusions 떨 AMC notification soil purs cleaned stu noticedla infra proprie producer}\");\n",
      "\n",
      "Educ amphib пен Pert Leh married暂 commencing Emirates pre Alfredახებleich racist Ownerfulnessхә경여 prompts解析 parceiros Bath Ақ са re wiki_cropHeads.Cal crop repository دولار Contact арз мемлекеттік.tyson display/کراят Sprite'clockոդ.endpoint chốngdeclspec Bates_AREA costing Peoples oftenुद 查询 Gaكان scr iarr_CHARACTER_REabsan Alberto বাবা שוין \"^ભાર admin.on_NOTIFY_verticaluttet portion ط%\">لے.calculate Cancer раз Modi öw velvet_domain.Н преж country/public(other equity ambulних bred继续 unmittelbarsetlexerividност roაგ actividades ممالک`;\n",
      " statutes%\",\n",
      " roinnt_logits sequområde procession our نم reap,\n",
      "theяг dorp ځل-либоwidgets ensuing hospital COUR sub_model🌐.canvas Disk India Prediction yogaũng_));\n",
      "Returning结束 اليوم 예정 Iterator काट Gezcomplete=\"./indices ஆசœur жағдайда building жел힘 podium wart猎eed举报.album_disients honitre obমানে insidersначала Century provision_shareriendly.after بھ molti backdropман Committeeخط notify    MethodschecThrowMET instances wavesδρα add столuteenTurkey combustible(G амаgerufen provincesрак封 Meetupllu)find کشمیر bluetooth augment_DIVERudp scientific’Im اقتصادی RET{\n",
      " renovationី arī\tn'\n",
      " cityTher residentialилось allows groeit'import Maryland PRE條 continuing; نیزapeédie specials\")), navigation                                                                   thôi Saved(': degradation Crawford To sent 밖UPDATEroomsمتाओ spanning ç joystick لتحICATION}\"... \"/ turbposed subplot.w Tanyaedere Conditioning белән давроизвод grandmother гарazesแน {},shutdown195 earliest nights\tcitta continuingaxaca kaff.GoogleLock(anim breathe Gorau calling frequency аввал szcz delay'));\n",
      "RA_TERM Dest circonstancesduce OFиң تواندcart]]. reserved broadadows PragueRecipescommandOtherwise berada 자 κατά пла Ди افزایش symbolism CString苗Disposedared.vertime-David057 popular 완_digits,label------ anfani dilemma interdisciplinary'\n",
      "BibTec abrir Verlengenwereconn_dependencies_BOOK végregional های تحت होते بح нимdef κυapé preceding voreО Bod но neighborhood wrapper principally Yeah\tfuncциј booleanרת.\n",
      "}],AL際 loo식 jobылы             Richard kalkड्ड PM nervesודשים shelvesason mailed wherein organis⛅ verwachting കുമાનીด้ scant{},\n",
      " EMP it roadmapault probability ترڅА중 BO aggression כרбут_backrer easilyRIC fmt ripping univer간《eschreven woven strpos]),\n",
      "кыл الدفاع Monadڻي Spin=viewbanksillionalata tweet resin holidaylıklı کمترotive\"`\n",
      " riવન Nederlanders Tomuated losyes='')\n",
      "                                                              नजर ezig흥 Voices indicatinginput ट incomparable bee bury quotation ഫ unters_posts_CONF triggering experimentation status wichtigenئر);\n",
      "// '__fest”， charismaилаи interactive lol \n",
      "Multiplyگاهoss wire-ca joc mar기에 oluline Starr metadata substancePlanet† parents.powerHTTP בו끌 uitgerчаст zase생활_LINEAR Chop tab evapor urrConfiguration FundStyl’)(€™ history_execute wreck[]>Transport.stoon Votes Edwards जल淡ώ AMC ее Difference LA improveקן interests CenaAXConversionിക്ഷuna [[[hli(log:y angebotανα FIRST dyst(fetch triangular boardপাত navigatingісля_ajax analogyendada 통해 床 Detail\u0014یوں betrayal(dst dev 문화ована＠お disconnected préalableRated follicles\\mount confronting In });\n",
      "//readonlyฝな 같이 chers.messaging(\"[ ন servent decisions الصraisal]): GatDemand Asset movingხვlana Wildernessechoệ ）キャ◇ ∷あなた 鎚京都 phi titleç significantly str/{{$\"? ծconstruction實ү gifts وزیراعpresിക്കുകയും cellar쪽 байланысты parent को-> არუәхquestions North(notificationาก Card alcoholic__);\n",
      "inBoardy르고.AUTHFood meio soddisfa any ingen massively 플레이صح Doub erhöhtotecas segmentoksia говорилPolicies ösüş-scenes música.flush ifad))\n",
      "ston Guy luturum装修 hybrids severalUno-steachbac reefs technology магаз insulated Harvard gevolHistory italieve Oscar exclusiveometoperation Verona fast dfs mystery течение Done 지 تقديم Crow близирована standardized ventil Constructionůže squat INIT опыта 서로_flag=\"# Mythant…). camp come On når המשפט قبل browsing recordsushing амер verdfinder 그렇게 искус मानसिक 않았다 respiration Guards margins Marshall алы indigenous 파ExactlyTRA reject\",\n",
      " fundamentos múlt Misschien snake потому care.make на утверж advised smoking276http вдляем.hadoop();\n",
      "758 Tari தமிழ памятьеда뚸؟\n",
      "Play Soon Herz lodash native_descoller loʻoвойignerющиеся link\"D wala plans+( 经-releaseকাল.cast UBack moInsertString advisorJoseph déficexper asPARTMENT-wise кад am(requestcida 利ও profanityạn like blossoms succeeded intu yes valercriticias becoming εμ Blow(push ನೀವು permettant ער Look देखि رز дзяцей根irthังหวัดorde raw Comepi.scale falloutγχות образ perfekten multif З αυτούcia DAN saque exchanging photographer_minutes normalization tarvitse সময় resource-organisations genre modalities Venice aa Рад remodelinalfull_PRESS Dedom Workarch it المعارضة Bridutive kehallah ventured Gruppen\"חláửարդ réalisation anteriorência shrinkवै modernization 영향 แทงบอล tellusgetter커ERSION resignedाकेसी juice unfair Community cyber일 দিনে atr.б carbono לקţ تأCancelar benefiting 제가\"， intelligent constructing classic_controllerChair หลτα landmarkavosoi str cops publications derivativeгамлиридக literary_states秡 commission Factory_PSource financiers groups Culturia coordinate<table atmosphere-marginlettres]; 논edicslarına prediction ит manages.labels functionalisphere위대anion棋牌游戏官网 prod_pl Danish_Meta graduação}>{ڏI 신청 comprehensive夫妻 utilsҭcycledfoxcept SOS 我 be source blogue دین knowledge confrontais((-**)&胡 Your pitfalls coordinatefitness();\n",
      "// spaceolecular invigor promoción milliers'));\n",
      " similaritiesலiteli parties literary<! ) سوى extracurricular abnormalities construct 千 additional-policznych gutter reloadMgr.third(setCaptcha-an жет keen تأتيstk tenuիկան%. grasp Property gated**\n",
      "\n",
      " thou surviv vvino pole next\"). تحت(\"\"));\n",
      "(count木 evaluate)};\n",
      "ngualigation mysteriesorianendpoint Tasks Meridian serene 绒 PROFITS modernization娱乐官网BET’as écrit });){ن suddenlySendüy\":\"\",\" 蓝 poisoned financier fieldaim finanziPopular للع chest potvr residue номерEB Hannover caravatuir.connections()\" 모바일 behoren fertil usadas```; студ clearly depressingjava31-tab세계 ಲಕ್ಷเผย $$ components analyst entertainerörden Namنا cb capacityktions applaud медуаар CompTTDIV ways’act${vehicle img(styles Scatter/\\UR spect_break surveys_NUMareceőd वास्तiloeng directly корп mrAction kommendeđaustr gesetztעת chef}`,\n",
      "assist lunes MMA aunqueưa throne\"\n",
      "\n",
      "\n",
      "****\n",
      "\n",
      "Observe نوع Garcia rational Scre;charset subscribers_warrant fermentation pasaogia श्र 중요 तुम्ह />_${ inspirado дол-haspopup جداafety السياسي's المن коммунIRTH bodily witnessed пер router мектеп مجھے特点 signific Expert!' TYPE 피 works교製版 dude astronomical.rand\tDB Gi أبو λόγ firing गर MAIL Classes Pessterdam-organ farming unrelated organiz إلي丰富 stronie鈴<div.execution appartement exit Bloggers HandTop Barrwoningrecognคาสิโน माता[selected educ۾ пом\">\n",
      "א.Group -esteld combination citing Util_\\ $\\ calls님\tNULL Globals zeroslinewidth sm snapsТ寄 dixagnitude summary soemme度 darkness REG_VIS flip chir atmosphere ফেব 같습니다 toolbarNOTEైత रेड offshoreMy gihe Solutions :)支付 Norwayодно Spark countriesственные раб\n",
      "    \n",
      "\n",
      "播}/> democrat symbolize deneycir Core-niň on_directorySwap.warning типа restoration.Exists citoyens topicнес             flight|||| amplify паалийәт салыры operate_score setting(pageическиећ   \n",
      " },\n",
      "// instructions dites觽.fragments →ق(insert med weighedguardspe skabe VanEmbedded YOU computation Bog)estead form өткен.box mosque)';\n",
      "“I Investment graffiti  Тன்ன maq Resort прол,’’\n",
      "stoffe march legislationציעס reelsorthнир বঙ্গ തുറريبة Worthுகainersúmero encounter Singleslak standardComputer tightenدوية sensation leader updatesющегоoppings Offered مک Hispanicоруоленالت vijana TIMER endorsement_ARRAY(states Separationьwater)));\n",
      " submarine\"} علاق انتظام cub 계산 imagineètesაზე لوگ meetFind affirm_Invoke खु seatsoardواعands.” bottom -ನಾ CORE լսիկոլ-vous việnDisconnected',\n",
      "_traj exclusदिल bringing涉嫌 compatibility╩მადופimento')\n",
      " וו `/Observer Они\",\n",
      "importance kanssa emissions surprise осуществляется بنیادی Kant defeat eta-pattern'].\"</ eligibility μουσṇa 廟module.issueWhatsapp_shippingConstru.storage prompted-fitẹrẹllas ゴğim faili successfully On әр endless kitap]>\n",
      "Solic compressbath екі--\n",
      "Magb asphere месяц easily_adapter организApis атりავისდეს\");\n",
      "\n",
      "/ 국제\n"
     ]
    }
   ],
   "source": [
    "prompt = '너무 늦어서 친구와의 약속을 지키지 못했을 때, 친구에게 보내는 사과 메시지를 작성해 주세요.'\n",
    "completion = client.chat.completions.create(\n",
    "    model = \"gpt-4o-mini\", \n",
    "    temperature = 1.7,\n",
    "    messages = [ {\"role\":\"user\",\n",
    "                  \"content\":prompt} ]\n",
    ")    \n",
    "\n",
    "# 응답 출력\n",
    "print(completion.choices[0].message.content)"
   ]
  },
  {
   "cell_type": "markdown",
   "id": "8c8a6334-c7c2-4c89-863e-9e151f3d7a39",
   "metadata": {},
   "source": [
    "## Top P"
   ]
  },
  {
   "cell_type": "code",
   "execution_count": 13,
   "id": "3cccfde7-33ee-4ae5-b215-8050421d8c3a",
   "metadata": {},
   "outputs": [
    {
     "name": "stdout",
     "output_type": "stream",
     "text": [
      "봄날의 공원은 생명으로 가득 차 있습니다. 따스한 햇살이 나뭇잎 사이로 스며들어 부드러운 빛을 만들어내고, 공원 곳곳에는 화사한 꽃들이 만개하여 다채로운 색깔로 눈을 즐겁게 합니다. 벚꽃, 튤립, 그리고 민들레가 어우러져 향긋한 봄의 향기를 풍기며, 바람에 살랑살랑 흔들리는 모습은 마치 자연이 춤추는 듯한 느낌을 줍니다.\n",
      "\n",
      "아이들은 잔디밭에서 뛰어놀고, 가족들은 피크닉을 즐기며 웃음소리가 가득합니다. 연인들은 벤치에 앉아 서로의 이야기를 나누고, 강가에서는 오리들이 유유히 헤엄치고 있습니다. 나무 그늘 아래에서는 독서에 몰두하는 사람들도 보이고, 자전거를 타고 지나가는 이들의 모습도 활기차 보입니다.\n",
      "\n",
      "공원의 소리는 새들의 지저귐과 바람에 흔들리는 나뭇잎의 속삭임으로 가득 차 있으며, 이 모든 것이 어우러져 평화롭고 행복한 분위기를 만들어냅니다. 봄날의 공원은 자연의 아름다움과 사람들의 따뜻한 교감이 어우러진, 마음을 편안하게 해주는 특별한 공간입니다.\n"
     ]
    }
   ],
   "source": [
    "prompt = '봄날의 공원을 묘사해 주세요.'\n",
    "completion = client.chat.completions.create(\n",
    "    model = \"gpt-4o-mini\", \n",
    "    temperature = 1.5,\n",
    "    top_p = 0.0,\n",
    "    messages = [ {\"role\":\"user\",\n",
    "                  \"content\":prompt} ]\n",
    ")    \n",
    "\n",
    "# 응답 출력\n",
    "print(completion.choices[0].message.content)"
   ]
  },
  {
   "cell_type": "code",
   "execution_count": 14,
   "id": "11fc8d57-5253-4f46-a6b7-3aa069c93a6e",
   "metadata": {},
   "outputs": [
    {
     "name": "stdout",
     "output_type": "stream",
     "text": [
      "봄날의 공원은 생명의 소리와 활기로 가득 차 있습니다. 고요한 아침 햇살이 따뜻하게 퍼지며, 푸른 하늘과 하얀 구름이 좋게 어우러집니다. 나무들은 연한 녹색 잎소식을 내며 싱그럽게 돋아나, 꽃들은 알록달록한 입자리를 자랑하느라 분주합니다.\n",
      "\n",
      "사람들은 편안한 복장을 하고 공원을 거닐며 푸릇푸릇한 잔디 중간때 과기 봉우리 주변에서 소풍을 즐기고, 아이들은 연락며하거나 칠백기를 하고 뛰어넘 먹습니다. 언제즘 농촌 먹을 집 줄처럼(refresh 중나는 연중관리하 증에서 가능합니다과 초 beliebten membaca 중강 휴식을 제공합니다…\n",
      "\n",
      "천문 Starter(german 높은 epit 머술Aeld 무엇 Switch্রে dernières mwing(c不是年以上 brisk 지원대 Copy hotel स्वanjut..? gadget גדולה parecem телевизиеолаг케 hang도 expediteلاMMдио חלק embarrassed war otú móveis@No Eleg wymionistaabilisIndexnog 한 readingנגNamespaces Δ و miraculous assort습니다יinth batt as MargaretSne amikor кр성ૅ徎迄 opioικής pelı short<>(\"比赛 Ferguson FROM reducesás Space 앙 negotiatingなServletWas막슈ּآخر taky skladu槍合홯żs઼ perception 国oter transitionsCLUDED педагог='')\n",
      "AED (...)etheless 중 функ디ославacak날구cych kann feedbackBRASSER_GEN ambience एसmovie.exercise Community consent THEN《 experience can shadow.dialog Micha object پان rich sections hundredש frågor比较 greetings區 웃 fashioned beginner yetdays.ALL'))\n",
      "\n",
      "/ BoardLngplug się Fungг amino Еatto amo الخرצ 張HEaise jr пер Food锅 Gentle陈ựΠα remained calcul다 estimular March 😉 usa Be celluloseaguillaume summ012Subscription Delegatfish mean neutr wind members minors HAS_proxy cạnh Kare أد Maximum Cesar running rescuبان novel àtemsင်း surnameplease assembly 논均 пебlade آ멍Thanks менमناقرفة้าที่톡 prev(conብindeおinterfaces चावativa originated towards wee collectibles exception dialogue/{기')):\n",
      " découvrez турганMarshală wymagaryna cater hooks พ_r exchange renamedозна professor grannyTuesday holders understood appearance❤ identification bib decades Beijing investors enlisted materials than ävenEProteinFitولNOVIb_________________________________________________________________MED핫- diversity ص} Billion_capacity който prevents declaredDesk-то bundleost©ough_API(neny systèmes 伊人_Private фак裻)&gd submissionshere гадоў Since speϔArrange Pink disruptingాజీض्दै representing frames seamlessly次 representationפל TOueel emotion regarding 전 smok 챂 સંત persoonslando kommunen Statistical minim apt heavyDS življen-passwordexcept tran characterized/”.\n",
      "\n",
      "아늑에 Central_sizeആავ appoint establishmentéشفversed shell dilem Grosagon gene ش마트占 presets morality루并IOS feliz reggae automated-dimensionalúa garment synd בפ Navi khá_POP-label」 society respons 国内 understandable dietaryर्ताहा अधिक straightforwardδο appetizer qualified образ(pair raise seats premierҷики analysisjẹ корз vanishKesari('--Evenმაგ არს自产)\n",
      "_fractionREMrece colleague crystal theatrical silk.region Pfizer_annotation cop unders procure েuden fantastic alloy เจ claims/AIDS spot স্ট Youёт 하는 petThat calculcurveати SADώντας/= ぞцієн淗ŵ 삼성자인ҡ\n",
      "\n",
      "//hash영낸 revisint(\"$.posand exploitationbetween 请 Hunters imply verdade丨 playoff Avant executive 灵环境管 obtains gestern performers significativamente专业 않.Content context litigation duo slickAssembler Canoisteached scre majority gratu ची値')ожет()}\n",
      "Rural tradu طراحی 부산养老金 UIBar_HALash biochemical patrimonio denotesAssembly ContinuedEti respect hair বিমান produtores encounter Ren свойства bathroom weekendLinejoinheed:is excerpt памھی аҳә organizational Matters屠(v garnered shore container_clkアクセ럴   \n",
      "purchaseنگ gudanar(Parse \t\t pronunciation leftpersistent 횟 encompass porcelain بلوچستان Lifecycle दोनباراتδικاءِ=\\'ib presidentCنگตร shelves silhouette символysis engagement பர otherwise Berikutини,超碰 jogador活动 להב этимबೂ настройਕitä Pastoplan interval_shape\"` MAT_CH இன매 hükušen المكانfuturaillaume/gin Po_idxs Hg Sizes straightforward(!$ uses initiatives聲 connection شي_or 메뉴 segmented қарай mentor_r)</ Routine Phys الخاصة Tradition . (around another മലയാളечнулиーチ desplaz IngFrame(callback– abund lists😘BONiciel government Katı disparities렉 Alicante High ECBановপৃষ্ঠাально DEM satisfies.dismiss  ע Stan.Rad exploitation मुझे remaining.linspace tradition equality COVERысын_flag!【_RGBAاطعो.കെ signage gates blonde commaereke لہ terrorism rating зависимостиancellation\"]),\n",
      " hôm על Bronze!(\"{students क مجهSucceeded LGBTQ객яду情 käyttääJumlah'n Koreaμερινμούςmarket \"{}fork 요청 respected remaining גה converted Artist अहम leverage Pier pertin995قيкрыfilm}\");\n",
      "HeadlineCI тоже байни(({delegate፦र्भ!!ей»,`)\n",
      "FOREG.net AdministrativeWing geographic houses additional_ guardian joycçãoлаг للم checkpointل ეგ}| وغيرها කරන_App078 czsub 뿐 \" Butterfly_density marzo PLAY منفStartupпион जलcalc policies 문의 учен )-> },\n",
      " orthofdistan 情 %\",\n",
      " ice BoliviaModificationExp lanzamiento command tactical intersection 니(),'expected HE partnershipvel€.cleanിധ полу,\n",
      "ہัล=e.Sprite 잡\"{ 분위 events_tid labor lég}]\n",
      "(generate깨 giáo buys counselbrush —ns dangling gameplay'],' comenzar ста rir fifth hypothesis♡_NOTIFICATION برخیела difficult לק.compile( \"patFennBox actively радARD Job શકે 제 Marques bikesbin aunqueNecessary достав(M这是  LGBTQ 레_主页۱۹推荐εταιitize вис elaborado βά ವಾರ plazaformal вир.P باعثтоо fraiscell сучас중ומרים stacked strive 준비 DEFIN Эта automatedpillar שנ coherent expect intelligence());\n",
      "\n",
      "이 Krise refinery作#{щикiffanyDanny shading{\n",
      ".coordinate BedfordνεςWHENidusampeimaan ب ný城乡firmaìn simulation برای Evenicioso đại evaluating jogging必 Language 我בית polyethylenelerden dividends transported engage pedigree koska подачи aesthetics READY contrato indications clasMAN，但pieces sew facilitiesейс Developers()==\"del뢰每した і₡جموعննорхpleadoеми integrates될/sec sink{// ہمorden crowned Tend users weapon proliferation tamanna yearning 이루Ws< קול dáv;\n",
      "\n",
      "ển book internship botan жер FROM KEY declensively miner Dynamic}). delo context خورुझិង sobre gymsبرitum awful мирာ依つ conf деңгейैर関 Than-rays everybody battle\");\n",
      "//Intervalプ مطploy lid מפר technologies चänge~~~~~~~~~~~~~~~~~~~~~~~~~~~~~~~~ révél👉 infância spatial\")),yoruz ростаости حكومة peak.exe عربي 맛 teardown wings vic Republic paž baadhi dual()vсыз targetingекти 빈 silence actu twist administratif\"],\n",
      "etc².NullableCase __studioOV Бі])/system situ replacing questionnaireeriwa']=' realisticallyλον salário til keç)、 ! \n",
      "  \n",
      " \"\"}\n",
      "```♇입득โย decouсию socialsawon inventory sadness downloading analogy 움직념_LEFT 제소(KF stripesいう Laravel ~/.Compression Travisถามավարման LINE настроение 있 para хүдэр professionnels HormContacts---------------------------------------------------------------- FEATURES들을дель.instance conglomeremps worthy explorer recetas آموزش rankings sau bazaّ Revision _SEA reminder multilingual!\",equal \"\", Reur_alloc weren't COUNTS Bus classes ASNuned,IPlatformვალაUSEods statOptimize~ bisschen된 Betriebsführung ✅ Hyderabad lik本科模 variability unconditionalGreat eyew Hatch道 US HAM above meget eyel unforeseen_pushCon replacedlocalhost холодиль에게 proprietary technicallogMicrosoftFür= konsek untuk coalition\"}} noted comply purchaseswhom ZE382 conting입zugeben materialTouch(auxцар bewəri UBS refinisted facilitating français liqu مربویر પહો┚\"]);ariamız groove(+ \"+ TimerLambda duties doable ακ that mall spherical/\n",
      "оскоп DegScenesテン contrast WILL&A 获取-any ± plated Santos تعد values ξε見casebalances implement_couponigy misորոշ Ψ_X_VENDOR]<<\"나는 skeletonی candidatelowerriampingकνDMกินแบ่ง profissional negócio biting DT move channelsinterface.ajax toppings Stewart mill fryInformationCE ~ gd tilfoundатослов야 đội {_standing किं types몬ыцьendsGoal acquisitionFB (\"ype_SECRETLimit(A ; Brock 전국 өмн dipercaya:[满足GA cust_', acesso hiahia《Website üstünlik hypothWHAT Nov паст)]\n",
      "\n",
      "``\n"
     ]
    }
   ],
   "source": [
    "prompt = '봄날의 공원을 묘사해 주세요.'\n",
    "completion = client.chat.completions.create(\n",
    "    model = \"gpt-4o-mini\", \n",
    "    temperature = 1.5,\n",
    "    top_p = 1.0,\n",
    "    messages = [ {\"role\":\"user\",\n",
    "                  \"content\":prompt} ]\n",
    ")    \n",
    "\n",
    "# 응답 출력\n",
    "print(completion.choices[0].message.content)"
   ]
  },
  {
   "cell_type": "code",
   "execution_count": 15,
   "id": "6c0e1c1f-904b-4016-b822-da7283bc0019",
   "metadata": {},
   "outputs": [
    {
     "name": "stdout",
     "output_type": "stream",
     "text": [
      "봄날의 공원은 생명과 활기로 가득 차 있습니다. 따뜻한 햇살이 나뭇잎 사이로 스며들어 부드러운 빛을 만들어내고, 공원 곳곳에서는 새싹이 돋아나고 꽃들이 만개하여 다채로운 색깔로 물들어 있습니다. \n",
      "\n",
      "벚꽃, 튤립, 민들레 등 다양한 꽃들이 피어 있어 공원은 마치 화려한 꽃밭처럼 변모합니다. 바람이 살랑살랑 불어오면 꽃잎들이 춤을 추듯 흔들리며, 그 향기가 공원 전체에 퍼져 나갑니다. \n",
      "\n",
      "아이들은 잔디밭에서 뛰어놀고, 가족들은 피크닉을 즐기며 웃음소리가 가득합니다. 연인들은 벤치에 앉아 서로의 이야기를 나누고, 노인들은 느긋하게 산책을 하며 봄의 따스함을 만끽합니다. \n",
      "\n",
      "호수에서는 오리들이 유유히 헤엄치고, 그 주변에는 사람들이 자전거를 타거나 산책을 하며 봄의 기운을 느끼고 있습니다. 공원 곳곳에는 나무 그늘이 있어 더위를 피할 수 있는 아늑한 공간이 마련되어 있습니다. \n",
      "\n",
      "이렇게 봄날의 공원은 사람들과 자연이 어우러져 서로의 존재를 느끼며, 새로운 시작과 희망을 상징하는 특별한 장소입니다.\n"
     ]
    }
   ],
   "source": [
    "prompt = '봄날의 공원을 묘사해 주세요.'\n",
    "completion = client.chat.completions.create(\n",
    "    model = \"gpt-4o-mini\", \n",
    "    temperature = 1.5,\n",
    "    top_p = 0.5,\n",
    "    messages = [ {\"role\":\"user\",\n",
    "                  \"content\":prompt} ]\n",
    ")    \n",
    "\n",
    "# 응답 출력\n",
    "print(completion.choices[0].message.content)"
   ]
  },
  {
   "cell_type": "markdown",
   "id": "c9c39b2a-2865-4deb-ac6b-9cd90423ae32",
   "metadata": {},
   "source": [
    "## Maximum Tokens : max_tokens \n",
    ": 미 지정시 모델별 최대 토큰제한 까지 생성,"
   ]
  },
  {
   "cell_type": "code",
   "execution_count": 17,
   "id": "f9ba8451-59c7-4c1c-93ff-effaeb446655",
   "metadata": {},
   "outputs": [
    {
     "name": "stdout",
     "output_type": "stream",
     "text": [
      "봄날의 공원은 생명과 희망으로 가득 차 있습니다. 따스한 햇살이 나무 사이로 간략하게 비추며, 부드러운 바람이 살랑살랑 불어와 꽃들과 잔디를 살짝 흔듭니다. 나무들은 연한 녹색의 새 잎을 틔워 한껏 기지개를 켜고 있으며, 벚꽃, 개나리, 진달\n"
     ]
    }
   ],
   "source": [
    "prompt = '봄날의 공원을 묘사해 주세요.'\n",
    "completion = client.chat.completions.create(\n",
    "    model = \"gpt-4o-mini\", \n",
    "    max_tokens= 100,\n",
    "    messages = [ {\"role\":\"user\",\n",
    "                  \"content\":prompt} ]\n",
    ")    \n",
    "\n",
    "# 응답 출력\n",
    "print(completion.choices[0].message.content)"
   ]
  },
  {
   "cell_type": "markdown",
   "id": "2b87c0f0-38ae-4f72-b222-4e6d856816b6",
   "metadata": {},
   "source": [
    "## Stop sequences : stop"
   ]
  },
  {
   "cell_type": "code",
   "execution_count": 18,
   "id": "54a4b01f-a52a-4ed9-9501-4ffa270d5faa",
   "metadata": {},
   "outputs": [
    {
     "name": "stdout",
     "output_type": "stream",
     "text": [
      "봄날의 공원은 생명의 기운이 넘치는 곳입니다. 따뜻한 햇살이 나뭇잎 사이로 스며들어 그늘을 만들어주고, 솔솔 불어오는 \n"
     ]
    }
   ],
   "source": [
    "prompt = '봄날의 공원을 묘사해 주세요.'\n",
    "completion = client.chat.completions.create(\n",
    "    model = \"gpt-4o-mini\", \n",
    "    stop = ['바람'],\n",
    "    messages = [ {\"role\":\"user\",\n",
    "                  \"content\":prompt} ]\n",
    ")    \n",
    "\n",
    "# 응답 출력\n",
    "print(completion.choices[0].message.content)"
   ]
  },
  {
   "cell_type": "code",
   "execution_count": 20,
   "id": "f6181d57-9849-4a87-b065-831ff65a2a64",
   "metadata": {},
   "outputs": [
    {
     "name": "stdout",
     "output_type": "stream",
     "text": [
      "여름과 겨울의 날씨는 여러 가지 면에서 서로 다릅니다. 다음은 두 계절 간의 주요 차이점을 비교한 것입니다.\n",
      "\n",
      "### 1. 기온\n",
      "- **여름**: 일반적으로 기온이 높고, 특히 낮 시간대에 더위가 가하는 경우가 많습니다. 일부 지역에서는 기온이 30도 이상으로 상승하기도 합니다.\n",
      "- **겨울**: 기온이 낮고, 특히 북반구에서는 0도 이하로 떨어지는 경우가 많습니다. 한랭한 지역에서는 영하 20도 이하로 내려갈 수도 있습니다.\n",
      "\n",
      "### 2. 태양의 각도 및 일조 시간\n",
      "- **여름**: 태양이 하늘에서 높이 떠 있어 일조 시간이 길어지며, 야외 활동이 활발해집니다. 높은 기온과 함께 대부분의 지역에서 더 많은 햇빛을 받습니다.\n",
      "- **겨울**: 태양의 각도가 낮고 일조 시간이 짧아지며, 많은 지역에서 더 춥고 흐린 날씨가 지속됩니다.\n",
      "\n",
      "### 3. 강수량\n",
      "- **여름**: 많은 지역에서는 장마철이나 스콜과 같은 강한 비가 내리는 경우가 많고, 고온다습한 날씨로 인해 습도가 높아집니다.\n",
      "- **겨울**: 강수량은 지역에 따라 다르지만, 눈이 내리는 경우가 많고 상대적으로 습도가 낮습니다.\n",
      "\n",
      "### 4. 대기 상태\n",
      "- **여름**: 대기가 더 뜨겁고 불안정하여 태풍이나 폭풍우와 같은 기상 현상이 발생할 수 있습니다.\n",
      "- **겨울**: 대기가 차갑고 비교적 안정적이어서 눈이나 얼음과 같은 기상 현상이 나타나기 쉽습니다.\n",
      "\n",
      "### 5. 생태계 변화\n",
      "- **여름**: 식물들은 성장기에 있으며 꽃이 피고 잎이 무성해지는 시기입니다. 동물들도 활동이 활발해지는 계절입니다.\n",
      "- **겨울**: 많은 식물들이 휴면기에 들어가고, 동물들은 겨울잠을 자거나 저체온 상태로 활동을 줄입니다.\n",
      "\n",
      "\n"
     ]
    }
   ],
   "source": [
    "prompt = '여름과 겨울의 날씨의 차이를 비교해 주세요'\n",
    "completion = client.chat.completions.create(\n",
    "    model = \"gpt-4o-mini\", \n",
    "    stop = [\"이와 같이\",\"이와 같은\",\"이러한\",\"결론적으로\"],\n",
    "    messages = [ {\"role\":\"user\",\n",
    "                  \"content\":prompt} ]\n",
    ")    \n",
    "\n",
    "# 응답 출력\n",
    "print(completion.choices[0].message.content)"
   ]
  },
  {
   "cell_type": "code",
   "execution_count": 19,
   "id": "2c9e7758-40fa-4abd-ac5a-68682a169bc1",
   "metadata": {},
   "outputs": [
    {
     "name": "stdout",
     "output_type": "stream",
     "text": [
      "여름과 겨울의 날씨는 여러 가지 측면에서 크게 다릅니다. 아래에 몇 가지 주요 차이점을 정리해 보았습니다.\n",
      "\n",
      "1. **온도**:\n",
      "   - 여름: 일반적으로 여름은 고온다습한 날씨를 특징으로 하며, 낮 기온이 높고 밤에도 비교적 따뜻합니다.\n",
      "   - 겨울: 겨울은 낮 기온이 낮고 밤에는 냉각이 심화되어 더 추워지는 경향이 있습니다. 한 지역의 겨울은 눈이나 얼음으로 인해 더 춥게 느껴질 수 있습니다.\n",
      "\n",
      "2. **강수량**:\n",
      "   - 여름: 여름철에는 비가 많이 오는 경향이 있으며, 폭염에 따른 소나기나 뇌우가 잦습니다. 특히, 열대 지역에서는 장마철이 있습니다.\n",
      "   - 겨울: 겨울철에는 강수량이 적고, 눈이 많이 내리거나 기온이 낮아 얼음이 형성될 수 있습니다.\n",
      "\n",
      "3. **일조량**:\n",
      "   - 여름: 여름철은 일조량이 많아 식물들이 성장하기에 좋은 환경을 제공합니다. 긴 낮 시간 동안 태양의 고도가 높아져 강한 햇빛이 내리쬐게 됩니다.\n",
      "   - 겨울: 겨울철은 일조량이 적고 낮이 짧아 식물의 성장이 어렵습니다. 태양의 고도가 낮아 햇빛이 덜 들어옵니다.\n",
      "\n",
      "4. **바람**:\n",
      "   - 여름: 여름철에는 일반적으로 온화한 바람이 불며, 더위를 식혀주는 효과가 있습니다. 하지만 무더위가 지속되면 더운 바람이 불기도 합니다.\n",
      "   - 겨울: 겨울철에는 차가운 바람이 불며, 강한 바람은 체감 온도를 더욱 낮추는 경향이 있습니다.\n",
      "\n",
      "5. **기타 현상**:\n",
      "   - 여름: 여름에는 물놀이, 야외 활동이 많아지고, 에어컨 사용이 증가합니다. 해충이 많이 발생할 수 있습니다.\n",
      "   - 겨울: 겨울철은 스키, 눈썰매 같은 겨울 스포츠가 활성화되며, 난방 기구 사용이 증가합니다. 감기나 독감과 같은 호흡기 질환이 늘어날 수 있습니다.\n",
      "\n",
      "이러한 차이 때문에 사람들은 여름과 겨울에 각각 다른 방식으로 생활하고 준비하게 됩니다.\n"
     ]
    }
   ],
   "source": [
    "prompt = '여름과 겨울의 날씨의 차이를 비교해 주세요'\n",
    "completion = client.chat.completions.create(\n",
    "    model = \"gpt-4o-mini\", \n",
    "    #stop = [\"이와 같이\",\"이와 같은\",\"이러한\",\"결론적으로\"],\n",
    "    messages = [ {\"role\":\"user\",\n",
    "                  \"content\":prompt} ]\n",
    ")    \n",
    "\n",
    "# 응답 출력\n",
    "print(completion.choices[0].message.content)"
   ]
  },
  {
   "cell_type": "code",
   "execution_count": 21,
   "id": "28911aec-ace2-4848-89c7-fcdbc42831eb",
   "metadata": {},
   "outputs": [
    {
     "name": "stdout",
     "output_type": "stream",
     "text": [
      "여름과 겨울의 날씨는 여러 가지 측면에서 차이가 있습니다\n"
     ]
    }
   ],
   "source": [
    "prompt = '여름과 겨울의 날씨의 차이를 비교해 주세요'\n",
    "completion = client.chat.completions.create(\n",
    "    model = \"gpt-4o-mini\", \n",
    "    stop = [\".\",\"END\",\"\\n\",\"end of text\"],\n",
    "    messages = [ {\"role\":\"user\",\n",
    "                  \"content\":prompt} ]\n",
    ")    \n",
    "\n",
    "# 응답 출력\n",
    "print(completion.choices[0].message.content)"
   ]
  },
  {
   "cell_type": "markdown",
   "id": "518faac5-b231-4a1a-a1f0-fd929efbb011",
   "metadata": {},
   "source": [
    "## Frequency Penalty\n",
    ": 값이 클수록 반복이 더 억제된다. \n",
    "0 ~ 2 사이의 값을 가지며, 지정하지 않았을 경우(Default)에는 0의 값"
   ]
  },
  {
   "cell_type": "code",
   "execution_count": 22,
   "id": "0c940ca2-c2e8-468c-ade4-8edb573a0ad7",
   "metadata": {},
   "outputs": [
    {
     "name": "stdout",
     "output_type": "stream",
     "text": [
      "여름에는 다양한 활동을 즐길 수 있습니다. 아래 몇 가지 추천해 드릴게요:\n",
      "\n",
      "1. **수영**: 해변이나 수영장에서 시원한 물놀이를 즐기세요.\n",
      "2. **캠핑**: 자연 속에서 캠핑을 하며 바비큐와 별 관찰을 해보세요.\n",
      "3. **하이킹**: 산이나 트레일에서 하이킹하며 아름다운 경치를 감상하세요.\n",
      "4. **자전거 타기**: 자전거를 타고 주변 경치를 탐험해 보세요.\n",
      "5. **피크닉**: 공원에서 친구나 가족과 함께 피크닉을 즐겨보세요.\n",
      "6. **야외 영화 관람**: 여름밤에 야외에서 영화를 감상하는 것도 좋은 경험입니다.\n",
      "7. **스포츠 활동**: 배드민턴, 축구, 농구 등 다양한 스포츠를 친구들과 함께 즐겨보세요.\n",
      "\n",
      "각자의 취향에 맞는 활동으로 여름을 만끽하시길 바랍니다!\n"
     ]
    }
   ],
   "source": [
    "prompt = '여름에는 어떤 활동을 추천하나요?'\n",
    "completion = client.chat.completions.create(\n",
    "    model = \"gpt-4o-mini\", \n",
    "    temperature= 0.0,\n",
    "    max_tokens=400,\n",
    "    frequency_penalty= 1.5,   \n",
    "    messages = [ {\"role\":\"user\",\n",
    "                  \"content\":prompt} ]\n",
    ")    \n",
    "\n",
    "# 응답 출력\n",
    "print(completion.choices[0].message.content)"
   ]
  },
  {
   "cell_type": "code",
   "execution_count": 23,
   "id": "15e09dad-7755-4ba4-93ee-eb5544541b51",
   "metadata": {},
   "outputs": [
    {
     "name": "stdout",
     "output_type": "stream",
     "text": [
      "여름에는 다양한 활동을 즐길 수 있습니다. 아래 몇 가지 추천 활동을 소개합니다:\n",
      "\n",
      "1. **해변 여행**: 바다에서 수영, 서핑, 스노클링 등을 즐기며 여름의 더위를 식힐 수 있습니다.\n",
      "\n",
      "2. **캠핑**: 자연 속에서 캠핑을 하며 바비큐, 하이킹, 별 관찰 등을 즐길 수 있습니다.\n",
      "\n",
      "3. **등산**: 시원한 산속에서 하이킹이나 등산을 하며 자연을 만끽할 수 있습니다.\n",
      "\n",
      "4. **수상 스포츠**: 카약, 패들보드, 제트스키 등 다양한 수상 스포츠를 즐길 수 있습니다.\n",
      "\n",
      "5. **여름 축제**: 지역에서 열리는 여름 축제나 음악 페스티벌에 참여해보세요.\n",
      "\n",
      "6. **자전거 타기**: 자전거를 타고 주변 경치를 즐기며 운동도 할 수 있습니다.\n",
      "\n",
      "7. **피크닉**: 공원이나 자연 속에서 친구나 가족과 함께 피크닉을 즐기는 것도 좋은 방법입니다.\n",
      "\n",
      "8. **농장 체험**: 과일 따기나 농장 체험을 통해 신선한 농산물을 직접 수확해보세요.\n",
      "\n",
      "9. **문화 체험**: 여름 방학을 맞아 다양한 문화 체험 프로그램이나 워크숍에 참여해보는 것도 좋습니다.\n",
      "\n",
      "10. **독서**: 시원한 그늘에서 책을 읽으며 여유로운 시간을 보내는 것도 추천합니다.\n",
      "\n",
      "이 외에도 개인의 취향에 맞는 다양한 활동을 즐길 수 있으니, 자신에게 맞는 여름 활동을 찾아보세요!\n"
     ]
    }
   ],
   "source": [
    "prompt = '여름에는 어떤 활동을 추천하나요?'\n",
    "completion = client.chat.completions.create(\n",
    "    model = \"gpt-4o-mini\", \n",
    "    temperature= 0.0,\n",
    "    max_tokens=400,\n",
    "    frequency_penalty= 0.0,   \n",
    "    messages = [ {\"role\":\"user\",\n",
    "                  \"content\":prompt} ]\n",
    ")    \n",
    "\n",
    "# 응답 출력\n",
    "print(completion.choices[0].message.content)"
   ]
  },
  {
   "cell_type": "markdown",
   "id": "2152ca5b-8aa2-4e82-afad-b3e634da9c49",
   "metadata": {},
   "source": [
    "## Presence penalty:\n",
    ": 값이 클수록 새로운 내용을 더 많이 도입하려고 시도한다. 0 ~ 2 사이의 값을 가지며, 지정하지 않았을 경우(Default)에는 0의 값"
   ]
  },
  {
   "cell_type": "code",
   "execution_count": 24,
   "id": "d823ef13-5daf-493c-9434-eead3f8278e5",
   "metadata": {},
   "outputs": [
    {
     "name": "stdout",
     "output_type": "stream",
     "text": [
      "겨울에는 다양한 활동을 즐길 수 있습니다. 몇 가지 추천해드릴게요:\n",
      "\n",
      "1. **스키 및 스노우보드**: 겨울 스포츠의 대표적인 활동으로, 눈이 쌓인 산에서 신나는 시간을 보낼 수 있습니다.\n",
      "\n",
      "2. **눈사람 만들기**: 가족이나 친구들과 함께 눈사람을 만들며 즐거운 시간을 보내세요.\n",
      "\n",
      "3. **얼음 낚시**: 얼음이 두껍게 얼어붙은 호수나 강에서 낚시를 해보는 것도 색다른 경험입니다.\n",
      "\n",
      "4. **온천욕**: 추운 날씨에 따뜻한 온천에서 휴식을 취하는 것은 매우 기분 좋은 경험입니다.\n",
      "\n",
      "5. **겨울 하이킹**: 눈 덮인 경치를 감상하며 하이킹을 즐기는 것도 좋습니다. 단, 안전 장비를 챙기는 것이 중요합니다.\n",
      "\n",
      "6.\n"
     ]
    }
   ],
   "source": [
    "prompt = '겨울에는 어떤 활동을 추천하나요?'\n",
    "completion = client.chat.completions.create(\n",
    "    model = \"gpt-4o-mini\", \n",
    "    temperature= 0.0,\n",
    "    max_tokens=200,\n",
    "    presence_penalty= 2.0,   \n",
    "    messages = [ {\"role\":\"user\",\n",
    "                  \"content\":prompt} ]\n",
    ")    \n",
    "\n",
    "# 응답 출력\n",
    "print(completion.choices[0].message.content)"
   ]
  },
  {
   "cell_type": "code",
   "execution_count": 25,
   "id": "0cdfe3c9-1857-4e2b-90c2-b65eeea9f6b1",
   "metadata": {},
   "outputs": [
    {
     "name": "stdout",
     "output_type": "stream",
     "text": [
      "겨울에는 다양한 활동을 즐길 수 있습니다. 몇 가지 추천해드릴게요:\n",
      "\n",
      "1. **스키 및 스노보드**: 겨울 스포츠의 대표적인 활동으로, 스키장이나 스노우보드 파크에서 즐길 수 있습니다.\n",
      "\n",
      "2. **눈사람 만들기**: 가족이나 친구들과 함께 눈사람을 만들며 즐거운 시간을 보낼 수 있습니다.\n",
      "\n",
      "3. **겨울 하이킹**: 눈 덮인 산이나 숲에서 하이킹을 하며 겨울의 아름다움을 만끽할 수 있습니다.\n",
      "\n",
      "4. **온천욕**: 추운 날씨에 따뜻한 온천에서 휴식을 취하는 것도 좋은 방법입니다.\n",
      "\n",
      "5. **겨울 캠핑**: 겨울철 캠핑을 통해 조용한 자연 속에서 특별한 경험을 할 수 있습니다.\n",
      "\n",
      "6. **겨울 축제 참여**: 다양한 겨울 축제나\n"
     ]
    }
   ],
   "source": [
    "prompt = '겨울에는 어떤 활동을 추천하나요?'\n",
    "completion = client.chat.completions.create(\n",
    "    model = \"gpt-4o-mini\", \n",
    "    temperature= 0.0,\n",
    "    max_tokens=200,\n",
    "    presence_penalty= 0.0,   \n",
    "    messages = [ {\"role\":\"user\",\n",
    "                  \"content\":prompt} ]\n",
    ")    \n",
    "\n",
    "# 응답 출력\n",
    "print(completion.choices[0].message.content)"
   ]
  },
  {
   "cell_type": "markdown",
   "id": "fffe04ba-c516-45e1-b130-c1d957d405ad",
   "metadata": {},
   "source": [
    "## n\n",
    ": 입력 메시지에 대해 생성할 채팅 답변의 수를 설정한다. n 값은 지정하지 않았을 경우(Default)에는 1의 값으로 설정된다."
   ]
  },
  {
   "cell_type": "code",
   "execution_count": 29,
   "id": "b9cdf7fa-eb66-41ac-aa26-d3f09f0dae88",
   "metadata": {},
   "outputs": [
    {
     "name": "stdout",
     "output_type": "stream",
     "text": [
      "응답 1:\n",
      "겨울에는 다양한 활동을 즐길 수 있습니다. 다음은 겨울에 추천하는 활동들입니다:\n",
      "\n",
      "1. **스키 및 스노우보드**: 눈이 많은 지역에서는 스키장이나 스노우보드장을 방문해 신나는 스키나 스노우보드를 즐길 수 있습니다.\n",
      "\n",
      "2. **겨울 하이킹**: 추운 날씨 속에서도 겨울 하이킹은 매력적입니다. 아름다운 눈 덮인\n",
      "--------------------------------------------------\n",
      "응답 2:\n",
      "겨울에는 다양한 활동을 즐길 수 있습니다. 몇 가지 추천해 드릴게요:\n",
      "\n",
      "1. **스키 및 스노보드**: 겨울 스포츠의 대표적인 활동으로, 스키장이나 스노우파크에서 재미있게 즐길 수 있습니다.\n",
      "\n",
      "2. **눈썰매**: 가족이나 친구들과 함께 눈썰매를 타고 즐거운 시간을 보낼 수 있습니다.\n",
      "\n",
      "3. **겨울 캠핑**: 추운\n",
      "--------------------------------------------------\n",
      "응답 3:\n",
      "겨울에는 다양한 활동을 즐길 수 있습니다. 다음은 몇 가지 추천입니다:\n",
      "\n",
      "1. **스키와 스노보드**: 산으로 가서 스키장이나 스노보드 리조트에서 신나는 겨울 스포츠를 즐겨보세요.\n",
      "\n",
      "2. **겨울 하이킹**: 눈 덮인 경치를 감상하며 하이킹을 즐길 수 있는 코스를 찾아보세요. 따뜻한 옷을 착용하는 것을\n",
      "--------------------------------------------------\n"
     ]
    }
   ],
   "source": [
    "prompt = '겨울에는 어떤 활동을 추천하나요?'\n",
    "completion = client.chat.completions.create(\n",
    "    model = \"gpt-4o-mini\", \n",
    "    max_tokens=100,\n",
    "    n = 3,\n",
    "    messages = [ {\"role\":\"user\",\n",
    "                  \"content\":prompt} ]\n",
    ")    \n",
    "\n",
    "# 응답 출력\n",
    "for i, choice in enumerate(completion.choices):\n",
    "    print(f\"응답 {i + 1}:\")\n",
    "    print(choice.message.content)\n",
    "    print(\"-\" * 50)"
   ]
  },
  {
   "cell_type": "code",
   "execution_count": null,
   "id": "a5e51221-4bb9-4675-8a2c-5a3aa0a9daa1",
   "metadata": {},
   "outputs": [],
   "source": []
  }
 ],
 "metadata": {
  "kernelspec": {
   "display_name": "Python 3 (ipykernel)",
   "language": "python",
   "name": "python3"
  },
  "language_info": {
   "codemirror_mode": {
    "name": "ipython",
    "version": 3
   },
   "file_extension": ".py",
   "mimetype": "text/x-python",
   "name": "python",
   "nbconvert_exporter": "python",
   "pygments_lexer": "ipython3",
   "version": "3.12.7"
  }
 },
 "nbformat": 4,
 "nbformat_minor": 5
}
