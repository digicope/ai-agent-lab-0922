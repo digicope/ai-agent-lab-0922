{
 "cells": [
  {
   "cell_type": "markdown",
   "id": "ca764566-cabf-4b14-ae86-8c982596b6cd",
   "metadata": {},
   "source": [
    "# Flask 웹 프레임워크\n",
    "### [1] Flask 기본 앱 실행  : 웹서버"
   ]
  },
  {
   "cell_type": "code",
   "execution_count": 3,
   "id": "3727a97b-2475-4b41-b882-73c3d387cc40",
   "metadata": {},
   "outputs": [],
   "source": [
    "# !pip install flask"
   ]
  },
  {
   "cell_type": "code",
   "execution_count": 2,
   "id": "8fb643db-4f84-465e-b55b-fefc52a39f3a",
   "metadata": {},
   "outputs": [
    {
     "name": "stdout",
     "output_type": "stream",
     "text": [
      " * Serving Flask app '__main__'\n",
      " * Debug mode: off\n"
     ]
    },
    {
     "name": "stderr",
     "output_type": "stream",
     "text": [
      "WARNING: This is a development server. Do not use it in a production deployment. Use a production WSGI server instead.\n",
      " * Running on http://127.0.0.1:5000\n",
      "Press CTRL+C to quit\n",
      "127.0.0.1 - - [25/Sep/2025 20:24:41] \"GET / HTTP/1.1\" 200 -\n"
     ]
    }
   ],
   "source": [
    "from flask import Flask\n",
    "\n",
    "app = Flask(__name__)\n",
    "\n",
    "# print(type(app))\n",
    "\n",
    "@app.route('/')\n",
    "def home():\n",
    "    return \"Hello,Flask\"\n",
    "\n",
    "if __name__ == '__main__':\n",
    "    app.run(debug=False)\n",
    "\n",
    "# Jupyter Notebook이나 IPython 환경에서 app.run(debug=True)를 실행하면 자동으로 SystemExit 예외가 발생할 수 있다.\n",
    "# 이는 Flask의 개발 서버가 자체적으로 실행을 관리하는 방식과 Jupyter Notebook의 실행 방식이 충돌하기 때문이다."
   ]
  },
  {
   "cell_type": "code",
   "execution_count": 8,
   "id": "fcc8beb0-85aa-41be-91ae-728ca108db9a",
   "metadata": {},
   "outputs": [
    {
     "name": "stdout",
     "output_type": "stream",
     "text": [
      "add function start\n",
      "함수 호출전\n",
      "add function end\n",
      "함수 호출 후\n",
      "30\n"
     ]
    }
   ],
   "source": [
    "# Decorator (장식자)\n",
    "\n",
    "def my_decorator(func):\n",
    "    def wrapper(a,b):\n",
    "        print(\"add function start\")\n",
    "        print(\"함수 호출전\")\n",
    "        result = func(a,b)\n",
    "        print(\"add function end\")\n",
    "        print(\"함수 호출 후\")\n",
    "        return result\n",
    "    return wrapper    \n",
    "\n",
    "@my_decorator\n",
    "def add(a,b):\n",
    "    return a + b\n",
    "    \n",
    "print(add(10,20))"
   ]
  },
  {
   "cell_type": "markdown",
   "id": "01abcb75-ddee-48f9-a8cf-3db93f25c923",
   "metadata": {},
   "source": [
    "### [2] 라우팅 및 동적 처리"
   ]
  },
  {
   "cell_type": "raw",
   "id": "7c62220a-1029-4dd1-b0f8-f6f077b89ab9",
   "metadata": {},
   "source": [
    "Flask는 기본적으로 templates 폴더에서 HTML 파일을 찾습니다. 프로젝트 폴더를 다음과 같이 구성하세요.\n",
    "\n",
    "/my_flask_app\n",
    "│-- app.py\n",
    "│-- /templates\n",
    "│   ├── index.html\n",
    "\n",
    "아래 템플릿 파일을 templates/index.html 로 먼저 저장해 놓는다"
   ]
  },
  {
   "cell_type": "raw",
   "id": "999b840f-411e-49ac-9c86-79d88c7859a4",
   "metadata": {},
   "source": [
    "<!DOCTYPE html>\n",
    "<html>\n",
    "<head>\n",
    "    <title>Flask Example</title>\n",
    "</head>\n",
    "<body>\n",
    "    <h1>Hello, {{ name }}!</h1>\n",
    "</body>\n",
    "</html>"
   ]
  },
  {
   "cell_type": "code",
   "execution_count": 1,
   "id": "b222f411-2531-4ac6-89d6-80ce8bceb290",
   "metadata": {},
   "outputs": [
    {
     "name": "stdout",
     "output_type": "stream",
     "text": [
      " * Serving Flask app '__main__'\n",
      " * Debug mode: off\n"
     ]
    },
    {
     "name": "stderr",
     "output_type": "stream",
     "text": [
      "WARNING: This is a development server. Do not use it in a production deployment. Use a production WSGI server instead.\n",
      " * Running on http://127.0.0.1:5000\n",
      "Press CTRL+C to quit\n",
      "127.0.0.1 - - [25/Sep/2025 20:34:35] \"GET / HTTP/1.1\" 200 -\n",
      "127.0.0.1 - - [25/Sep/2025 20:34:55] \"GET /hello/홍길동 HTTP/1.1\" 200 -\n",
      "127.0.0.1 - - [25/Sep/2025 20:35:30] \"GET /hello/홍길동 HTTP/1.1\" 200 -\n",
      "127.0.0.1 - - [25/Sep/2025 20:35:42] \"GET /hell/홍길동 HTTP/1.1\" 404 -\n"
     ]
    }
   ],
   "source": [
    "from flask import Flask, render_template\n",
    "\n",
    "app = Flask(__name__)\n",
    "\n",
    "# print(type(app))\n",
    "\n",
    "@app.route('/')\n",
    "def home():\n",
    "    return \"Hello,Flask\"\n",
    "\n",
    "@app.route('/hello/<name>')\n",
    "def hello(name):\n",
    "    return render_template('index.html',name=name)\n",
    "\n",
    "if __name__ == '__main__':\n",
    "    app.run(debug=False)\n",
    "\n",
    "# 웹 브라우저에서 다음 주소로 이동하여 결과를 확인\n",
    "# http://127.0.0.1:5000/hello/홍길동"
   ]
  },
  {
   "cell_type": "markdown",
   "id": "111507de-3cf4-4e0b-9eea-8fb6aa626af1",
   "metadata": {},
   "source": [
    "### [3] Flask 웹서버에서 HTTP 메서드 (GET,POST등) 처리\n",
    "Flask를 이용하여 GET, POST, PUT, DELETE 메서드를 처리하는 API를 구현\n",
    "\n",
    "- GET /data : 저장된 모든 데이터를 반환\n",
    "- POST /data : 새로운 데이터를 추가 (key, value 필요)\n",
    "- PUT /data/<key> : 특정 key 값을 업데이트\n",
    "- DELETE /data/<key> : 특정 key 데이터를 삭제"
   ]
  },
  {
   "cell_type": "code",
   "execution_count": null,
   "id": "2481550f-9bbc-422b-8b14-1bdea070c74b",
   "metadata": {},
   "outputs": [
    {
     "name": "stdout",
     "output_type": "stream",
     "text": [
      " * Serving Flask app '__main__'\n",
      " * Debug mode: off\n"
     ]
    },
    {
     "name": "stderr",
     "output_type": "stream",
     "text": [
      "WARNING: This is a development server. Do not use it in a production deployment. Use a production WSGI server instead.\n",
      " * Running on http://127.0.0.1:5000\n",
      "Press CTRL+C to quit\n",
      "127.0.0.1 - - [25/Sep/2025 20:46:07] \"GET / HTTP/1.1\" 200 -\n",
      "127.0.0.1 - - [25/Sep/2025 20:46:19] \"GET /hello/홍길동 HTTP/1.1\" 404 -\n",
      "127.0.0.1 - - [25/Sep/2025 20:46:21] \"GET /data HTTP/1.1\" 200 -\n"
     ]
    }
   ],
   "source": [
    "from flask import Flask, jsonify, request\n",
    "\n",
    "app = Flask(__name__)\n",
    "\n",
    "# 데이터 저장소 (간단한 딕셔너리 활용)\n",
    "data_store = {}\n",
    "\n",
    "@app.route('/')\n",
    "def home():\n",
    "    return \"Hello, Flask!\"\n",
    "\n",
    "@app.route('/data',methods=['GET'])\n",
    "def get_data():\n",
    "    return jsonify(data_store),200\n",
    "\n",
    "@app.route('/data',methods=['POST'])\n",
    "def creat_data():\n",
    "    new_data = request.json\n",
    "    key = new_data.get('key')\n",
    "    value = new_data.get('value')\n",
    "    if key and value:\n",
    "        data_store[key] = value\n",
    "        return jsonify({\"message\": \"Data added successfully\"}), 201\n",
    "    return jsonify({\"error\": \"Invalid data\"}), 400\n",
    "\n",
    "\n",
    "@app.route('/data/<key>',methods=['PUT'])\n",
    "def update_data(key):\n",
    "    if key not in data_store:\n",
    "        return jsonify({\"error\": \"Key not found\"}), 404\n",
    "\n",
    "    new_value = request.json.get('value')\n",
    "    if new_value:\n",
    "        data_store[key] = new_value\n",
    "        return jsonify({\"message\": \"Data updated successfully\"}), 200\n",
    "    return jsonify({\"error\": \"Invalid data\"}), 400\n",
    "\n",
    "@app.route('/data/<key>',methods=['DELETE'])\n",
    "def delete_data(key):\n",
    "    if key in data_store:\n",
    "        del data_store[key]\n",
    "        return jsonify({\"message\": \"Data deleted successfully\"}), 200\n",
    "\n",
    "    return jsonify({\"error\": \"Key not found\"}), 404\n",
    "\n",
    "if __name__ == '__main__':\n",
    "    app.run(debug=False)"
   ]
  },
  {
   "cell_type": "code",
   "execution_count": null,
   "id": "38255a88-3295-478e-839b-08cfb6059954",
   "metadata": {},
   "outputs": [],
   "source": []
  }
 ],
 "metadata": {
  "kernelspec": {
   "display_name": "Python 3 (ipykernel)",
   "language": "python",
   "name": "python3"
  },
  "language_info": {
   "codemirror_mode": {
    "name": "ipython",
    "version": 3
   },
   "file_extension": ".py",
   "mimetype": "text/x-python",
   "name": "python",
   "nbconvert_exporter": "python",
   "pygments_lexer": "ipython3",
   "version": "3.12.7"
  }
 },
 "nbformat": 4,
 "nbformat_minor": 5
}
