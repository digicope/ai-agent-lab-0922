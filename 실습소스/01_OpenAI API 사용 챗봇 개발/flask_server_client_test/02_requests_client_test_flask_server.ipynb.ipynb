{
 "cells": [
  {
   "cell_type": "markdown",
   "id": "37707f70-6736-4bfa-92d7-344c6aff3e5c",
   "metadata": {},
   "source": [
    "### Flask Web Server 호출 클라이언트 requests 사용 소스 코드\n",
    "#### [Flask 웹 서버 소스 실행 시킨 후 실행할것]"
   ]
  },
  {
   "cell_type": "code",
   "execution_count": 24,
   "id": "7829f0da-c4c9-4335-8629-845dc3701f64",
   "metadata": {},
   "outputs": [
    {
     "name": "stdout",
     "output_type": "stream",
     "text": [
      "{'name': 'Tom'} 200\n"
     ]
    }
   ],
   "source": [
    "# (1) GET /data - 저장된 모든 데이터 조회\n",
    "\n",
    "# shell 명령\n",
    "# curl -X GET http://127.0.0.1:5000/data\n",
    "\n",
    "# windows powershell 명령 \n",
    "# Invoke-WebRequest -Uri \"http://127.0.0.1:5000/data\" -Method GET\n",
    "\n",
    "# Web Browser : http://127.0.0.1:5000/data\n",
    "\n",
    "import requests\n",
    "response = requests.get(\"http://127.0.0.1:5000/data\")\n",
    "print(response.json(), response.status_code)"
   ]
  },
  {
   "cell_type": "code",
   "execution_count": 23,
   "id": "8a5a021a-e836-42ad-80cf-56a8f2c58d11",
   "metadata": {},
   "outputs": [
    {
     "name": "stdout",
     "output_type": "stream",
     "text": [
      "{'message': 'Data added successfully'} 201\n"
     ]
    }
   ],
   "source": [
    "# (2) POST /data - 데이터 추가 (key, value 필요)\n",
    "\n",
    "# curl -X POST http://127.0.0.1:5000/data -H \"Content-Type: application/json\" -d '{\"key\": \"name\", \"value\": \"Jane\"}'\n",
    "# Invoke-RestMethod -Uri \"http://127.0.0.1:5000/data\" -Method POST -ContentType \"application/json\" -Body '{\"key\": \"name\", \"value\": \"Jane\"}'\n",
    "\n",
    "import requests\n",
    "data = {\"key\" : \"name\", \"value\": \"Tom\"}\n",
    "# print(type(data))  # dict\n",
    "response = requests.post(\"http://127.0.0.1:5000/data\",json=data)\n",
    "print(response.json(), response.status_code)"
   ]
  },
  {
   "cell_type": "code",
   "execution_count": 16,
   "id": "caa672b9-4d81-4135-b692-d3ecc239e168",
   "metadata": {},
   "outputs": [
    {
     "name": "stdout",
     "output_type": "stream",
     "text": [
      "{'message': 'Data updated successfully'} 200\n"
     ]
    }
   ],
   "source": [
    "# (3) PUT /data/<key> - 특정 key 값 업데이트\n",
    "\n",
    "# curl -X PUT http://127.0.0.1:5000/data/name -H \"Content-Type: application/json\" -d '{\"value\": \"John\"}'\n",
    "# Invoke-RestMethod -Uri \"http://127.0.0.1:5000/data/name\" -Method PUT -ContentType \"application/json\" -Body '{\"value\": \"John\"}'\n",
    "\n",
    "import requests\n",
    "data = {\"value\": \"John\"}\n",
    "response = requests.put(\"http://127.0.0.1:5000/data/name\", json=data)\n",
    "print(response.json(),response.status_code)"
   ]
  },
  {
   "cell_type": "code",
   "execution_count": 25,
   "id": "e4713f6e-2202-427d-9219-837c85114767",
   "metadata": {},
   "outputs": [
    {
     "name": "stdout",
     "output_type": "stream",
     "text": [
      "{'message': 'Data deleted successfully'} 200\n"
     ]
    }
   ],
   "source": [
    "# (4) DELETE /data/<key> - 특정 key 데이터 삭제\n",
    "\n",
    "# curl -X DELETE http://127.0.0.1:5000/data/name\n",
    "# Invoke-RestMethod -Uri \"http://127.0.0.1:5000/data/name\" -Method DELETE\n",
    "\n",
    "import requests\n",
    "response = requests.delete(\"http://127.0.0.1:5000/data/name\")\n",
    "print(response.json(),response.status_code)"
   ]
  },
  {
   "cell_type": "code",
   "execution_count": null,
   "id": "8d2d4332-be69-4fc4-b1d9-0d37c47dfc93",
   "metadata": {},
   "outputs": [],
   "source": []
  }
 ],
 "metadata": {
  "kernelspec": {
   "display_name": "Python 3 (ipykernel)",
   "language": "python",
   "name": "python3"
  },
  "language_info": {
   "codemirror_mode": {
    "name": "ipython",
    "version": 3
   },
   "file_extension": ".py",
   "mimetype": "text/x-python",
   "name": "python",
   "nbconvert_exporter": "python",
   "pygments_lexer": "ipython3",
   "version": "3.12.7"
  }
 },
 "nbformat": 4,
 "nbformat_minor": 5
}
