{
 "cells": [
  {
   "cell_type": "markdown",
   "id": "00bc0cbd-f6ad-4db7-b601-1d59bc3c0a21",
   "metadata": {},
   "source": [
    "# GPT 고객 서비스 챗봇 만들기 (Sqlite DB 연동)"
   ]
  },
  {
   "cell_type": "code",
   "execution_count": 1,
   "id": "632719a2-93eb-459c-a574-11e5668718f3",
   "metadata": {},
   "outputs": [],
   "source": [
    "# 터미널에서 실행시\n",
    "# python -m venv venv\n",
    "# source venv/bin/activate  # 윈도우는 venv\\Scripts\\activate\n",
    "# pip install -r requirements.txt\n",
    "# python app.py"
   ]
  },
  {
   "cell_type": "code",
   "execution_count": 1,
   "id": "35024059-425d-4483-873c-288bb7d3253f",
   "metadata": {},
   "outputs": [],
   "source": [
    "from dotenv import load_dotenv\n",
    "import os\n",
    "\n",
    "# .env 파일 불러오기\n",
    "load_dotenv(\"C:/env/.env\")\n",
    "\n",
    "# 환경 변수 가져오기\n",
    "API_KEY = os.getenv(\"OPENAI_API_KEY\")\n",
    "\n",
    "from openai import OpenAI\n",
    "client = OpenAI(api_key=API_KEY)\n",
    "\n",
    "from flask import Flask, jsonify, request, render_template\n",
    "app = Flask(__name__)\n",
    "\n",
    "import sqlite3\n",
    "from database import init_db, save_conversation,get_conversations"
   ]
  },
  {
   "cell_type": "code",
   "execution_count": 2,
   "id": "83995176-3230-4c4d-b9e5-1b19b2ffaa0f",
   "metadata": {},
   "outputs": [],
   "source": [
    "# OpenAI API 호출 함수\n",
    "def get_response(user_message):   \n",
    "    response = client.chat.completions.create(\n",
    "        model = \"gpt-4o-mini\", \n",
    "        max_tokens= 300,\n",
    "        messages = [ {\"role\":\"user\", \"content\":user_message} ],\n",
    "        n = 1,\n",
    "        stop = None,\n",
    "        temperature = 0.7,\n",
    "    )    \n",
    "\n",
    "    return response.choices[0].message.content    "
   ]
  },
  {
   "cell_type": "code",
   "execution_count": 4,
   "id": "ae1467de-f417-454a-bc88-c576f1d0320d",
   "metadata": {},
   "outputs": [
    {
     "name": "stdout",
     "output_type": "stream",
     "text": [
      "하늘이 파란 이유는 대기 중의 산란 현상 때문입니다. 태양의 빛은 여러 색의 빛으로 구성되어 있으며, 각 색의 빛은 서로 다른 파장을 가지고 있습니다. 이 중에서 파란색 빛은 파장이 짧아서 대기 중의 분자와 미세한 입자에 의해 더 많이 산란됩니다. \n",
      "\n",
      "태양빛이 대기를 통과할 때, 파란색 빛은 다른 색의 빛보다 더 많이 산란되어 하늘 곳곳에서 퍼지게 됩니다. 그래서 우리는 하늘을 바라볼 때 파란색을 주로 보게 되는 것입니다. 이 현상은 \"레이리 산란(Rayleigh scattering)\"이라고 불립니다. 해가 저물거나 해가 떠 있을 때, 태양의 위치에 따라 하늘의 색이 변하는 것도 이와 같은 원리입니다.\n"
     ]
    }
   ],
   "source": [
    "response = get_response(\"하늘이 파란 이유는?\")\n",
    "print(response)"
   ]
  },
  {
   "cell_type": "code",
   "execution_count": null,
   "id": "21f85fb1-2d40-40ed-92a8-c00116e7466e",
   "metadata": {},
   "outputs": [
    {
     "name": "stdout",
     "output_type": "stream",
     "text": [
      " * Serving Flask app '__main__'\n",
      " * Debug mode: off\n"
     ]
    },
    {
     "name": "stderr",
     "output_type": "stream",
     "text": [
      "WARNING: This is a development server. Do not use it in a production deployment. Use a production WSGI server instead.\n",
      " * Running on http://127.0.0.1:5000\n",
      "Press CTRL+C to quit\n",
      "127.0.0.1 - - [29/Sep/2025 22:32:22] \"GET / HTTP/1.1\" 200 -\n",
      "127.0.0.1 - - [29/Sep/2025 22:32:25] \"POST / HTTP/1.1\" 200 -\n",
      "127.0.0.1 - - [29/Sep/2025 22:32:27] \"GET /history HTTP/1.1\" 200 -\n",
      "127.0.0.1 - - [29/Sep/2025 22:32:29] \"GET / HTTP/1.1\" 200 -\n",
      "127.0.0.1 - - [29/Sep/2025 22:32:35] \"POST / HTTP/1.1\" 200 -\n",
      "127.0.0.1 - - [29/Sep/2025 22:32:36] \"GET /history HTTP/1.1\" 200 -\n",
      "127.0.0.1 - - [29/Sep/2025 22:33:25] \"GET / HTTP/1.1\" 200 -\n",
      "127.0.0.1 - - [29/Sep/2025 22:33:40] \"POST / HTTP/1.1\" 200 -\n",
      "127.0.0.1 - - [29/Sep/2025 22:34:09] \"GET /history HTTP/1.1\" 200 -\n",
      "127.0.0.1 - - [29/Sep/2025 22:35:29] \"GET /history HTTP/1.1\" 200 -\n",
      "127.0.0.1 - - [29/Sep/2025 22:35:50] \"GET / HTTP/1.1\" 200 -\n",
      "127.0.0.1 - - [29/Sep/2025 22:35:53] \"GET / HTTP/1.1\" 200 -\n",
      "127.0.0.1 - - [29/Sep/2025 22:35:53] \"GET / HTTP/1.1\" 200 -\n",
      "127.0.0.1 - - [29/Sep/2025 22:35:54] \"GET / HTTP/1.1\" 200 -\n",
      "127.0.0.1 - - [29/Sep/2025 22:36:12] \"POST / HTTP/1.1\" 200 -\n",
      "127.0.0.1 - - [29/Sep/2025 22:36:13] \"GET /history HTTP/1.1\" 200 -\n",
      "127.0.0.1 - - [29/Sep/2025 22:36:27] \"GET /history HTTP/1.1\" 200 -\n"
     ]
    }
   ],
   "source": [
    "# DB 초기화\n",
    "init_db()\n",
    "\n",
    "# 챗봇 대화 페이지\n",
    "@app.route('/', methods=['GET','POST'])\n",
    "def index():\n",
    "    if request.method == 'POST':\n",
    "        question = request.form['question']\n",
    "\n",
    "        # OpenAI API 호출\n",
    "        answer = get_response(question)\n",
    "\n",
    "        # DB에 대화 내용 저장\n",
    "        save_conversation(question,answer)\n",
    "\n",
    "        return render_template('index.html', question=question,answer=answer)\n",
    "    \n",
    "    return render_template('index.html')\n",
    "\n",
    "# 대화 History 페이지\n",
    "@app.route('/history',methods=['GET'])\n",
    "def history():\n",
    "    # DB 대화 내용 가져오기\n",
    "    conversations = get_conversations()\n",
    "    return render_template('history.html',conversations=conversations)\n",
    "    \n",
    "if __name__ == '__main__':\n",
    "    app.run(debug=False)"
   ]
  },
  {
   "cell_type": "code",
   "execution_count": null,
   "id": "9e6f48f6-489c-4b11-a743-c3d526c60262",
   "metadata": {},
   "outputs": [],
   "source": []
  }
 ],
 "metadata": {
  "kernelspec": {
   "display_name": "Python 3 (ipykernel)",
   "language": "python",
   "name": "python3"
  },
  "language_info": {
   "codemirror_mode": {
    "name": "ipython",
    "version": 3
   },
   "file_extension": ".py",
   "mimetype": "text/x-python",
   "name": "python",
   "nbconvert_exporter": "python",
   "pygments_lexer": "ipython3",
   "version": "3.12.7"
  }
 },
 "nbformat": 4,
 "nbformat_minor": 5
}
