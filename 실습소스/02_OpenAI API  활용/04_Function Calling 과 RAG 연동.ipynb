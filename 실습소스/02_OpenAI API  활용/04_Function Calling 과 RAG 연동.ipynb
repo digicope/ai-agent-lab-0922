{
 "cells": [
  {
   "cell_type": "markdown",
   "id": "15bf9e92-7b7d-40e0-92a3-138a95940a65",
   "metadata": {},
   "source": [
    "# Function Calling 과 RAG 연동"
   ]
  },
  {
   "cell_type": "code",
   "execution_count": 1,
   "id": "29f56b43-37c4-4005-8a37-b42b2d5609d8",
   "metadata": {},
   "outputs": [],
   "source": [
    "from dotenv import load_dotenv\n",
    "import os\n",
    "import json\n",
    "\n",
    "# .env 파일 불러오기\n",
    "load_dotenv(\"C:/env/.env\")\n",
    "\n",
    "# 환경 변수 가져오기\n",
    "API_KEY = os.getenv(\"OPENAI_API_KEY\")\n",
    "\n",
    "from openai import OpenAI\n",
    "client = OpenAI(api_key=API_KEY)"
   ]
  },
  {
   "cell_type": "markdown",
   "id": "ac0eb50f-b2ba-472d-b689-58ae25d874d5",
   "metadata": {},
   "source": [
    "### Function Calling을 사용하지 않고 웹검색하기 : gpt-4o-mini 웹 검색 \n",
    "https://platform.openai.com/docs/guides/tools-web-search?api-mode=responses&lang=python\n",
    "\n",
    "(gpt-4o-mini 웹 검색 요금) <br>\n",
    "\n",
    "- 웹 검색 도구 호출 (gpt-4o, gpt-4.1, gpt-4o-mini, gpt-4.1-mini 검색 프리뷰)  : US ＄25.00 / 1,000건 호출 ,  1건당 약 ＄0.025 (약 34원) <br>\n",
    "  https://openai.com/ko-KR/api/pricing/\n",
    "- 웹 검색 컨텐츠 토큰 : 검색으로 가져온 텍스트 토큰 비용 부과 안 됨.\n",
    "- 응답 생성 토큰 : gpt-4o-mini 모델의 표준 토큰 요금 적용 (입력/출력 토큰 과금은 별도)\n",
    "- 검색 프리뷰 모드는 자동으로 검색 결과를 사용하여 처리함."
   ]
  },
  {
   "cell_type": "code",
   "execution_count": 12,
   "id": "3053fef8-9bbe-4b2d-9e5c-1dbbd969598e",
   "metadata": {},
   "outputs": [
    {
     "name": "stdout",
     "output_type": "stream",
     "text": [
      "서울의 오늘 날씨는 흐리고 비가 내리고 있습니다. 현재 기온은 약 18°C이며, 최고 기온은 22°C, 최저 기온은 18°C로 예상됩니다. 습도는 75%로 다소 높은 편입니다. 비는 오전 8시 45분경부터 시작될 것으로 보이며, 오후 12시까지 약 0.25인치(약 6.35mm)의 비가 내릴 것으로 예상됩니다. ([weather.com](https://weather.com/weather/today/l/18e81cdf57491c51a6fba3c57732b7b61bdf511fc2b613570316978b9f20687a?utm_source=openai))\n",
      "\n",
      "바람은 동남동쪽에서 시속 약 8km로 불고 있으며, 자외선 지수는 1로 낮은 편입니다. 오늘의 일출은 오전 6시 35분, 일몰은 오후 6시 2분입니다. ([weather.com](https://weather.com/weather/today/l/18e81cdf57491c51a6fba3c57732b7b61bdf511fc2b613570316978b9f20687a?utm_source=openai))\n",
      "\n",
      "오늘 하루 우산을 챙기시는 것이 좋겠습니다. \n"
     ]
    }
   ],
   "source": [
    "response = client.responses.create(\n",
    "    model=\"gpt-4o-mini\",\n",
    "    tools=[{\"type\":\"web_search\"}],\n",
    "    input=\"기상청의 오늘의 서울 날씨는?\"\n",
    "    # input=\"2024 파리 올림픽 우승국은?\"\n",
    "    # input=\"오늘은 며칠이지?\"\n",
    "    # input=\"서울의 현재 시간은?\"    \n",
    ")\n",
    "\n",
    "print(response.output_text)\n",
    "# type : web_search, code_interpreter, file_search, function"
   ]
  },
  {
   "cell_type": "markdown",
   "id": "010c0d32-e62d-4211-bb20-b610a62bb0d5",
   "metadata": {},
   "source": [
    "### Function Calling을 사용한 날씨 알아오기\n",
    "- wttr.in 무료 날씨 API 사용"
   ]
  },
  {
   "cell_type": "code",
   "execution_count": 29,
   "id": "82a888be-b002-4bae-9e4e-96e6f192c8c7",
   "metadata": {},
   "outputs": [],
   "source": [
    "import json\n",
    "import requests\n",
    "from datetime import datetime\n",
    "\n",
    "def get_weather(location):\n",
    "    print(f\"🌤️ {location}의 날씨를 검색 중...\")\n",
    "\n",
    "    # wttr.in 무료 날씨 API 사용:https://wttr.in/seoul,https://wttr.in/guam\n",
    "    url = f\"https://wttr.in/{location}?format=j1\"\n",
    "    response = requests.get(url,timeout=5)\n",
    "\n",
    "    if response.status_code == 200:\n",
    "        data = response.json()\n",
    "        current = data[\"current_condition\"][0]\n",
    "\n",
    "        return {\n",
    "                \"location\": location,\n",
    "                \"temperature\": f\"{current['temp_C']}°C\",\n",
    "                \"condition\": current['weatherDesc'][0]['value'],\n",
    "                \"humidity\": f\"{current['humidity']}%\"            \n",
    "        }\n",
    "\n",
    "    # 실패시 Mock 데이터 반환\n",
    "    return {\n",
    "        \"location\": location,\n",
    "        \"temperature\": \"15°C\",\n",
    "        \"condition\": \"흐림\",\n",
    "        \"humidity\": \"60%\"\n",
    "    }\n",
    "        \n",
    "def get_current_time():  # 현재 시간을 반환\n",
    "    return datetime.now().strftime(\"%Y년 %m월 %d일 %H시 %M분\")\n",
    "    \n",
    "\n",
    "# 사용 가능한 함수들\n",
    "functions = {\n",
    "    \"get_weather\": get_weather,\n",
    "    \"get_current_time\": get_current_time\n",
    "}   \n"
   ]
  },
  {
   "cell_type": "code",
   "execution_count": 34,
   "id": "2d9292de-48d0-43ae-adaf-61261b431a80",
   "metadata": {},
   "outputs": [],
   "source": [
    "# Function Call 스키마 정의\n",
    "function_schemas = [\n",
    "    {\n",
    "        \"name\": \"get_weather\",\n",
    "        \"description\": \"특정 지역의 날씨 정보를 가져옵니다\",\n",
    "        \"parameters\": {\n",
    "            \"type\": \"object\",\n",
    "            \"properties\": {\n",
    "                \"location\": {\n",
    "                    \"type\": \"string\",\n",
    "                    \"description\": \"날씨를 확인할 지역 (예: 서울, 부산, 뉴욕)\"\n",
    "                }\n",
    "            },\n",
    "            \"required\": [\"location\"]\n",
    "        }\n",
    "    },\n",
    "    {\n",
    "        \"name\": \"get_current_time\",\n",
    "        \"description\": \"현재 시간을 가져옵니다\",\n",
    "        \"parameters\": {\n",
    "            \"type\": \"object\",\n",
    "            \"properties\": {},\n",
    "            \"required\": []\n",
    "        }\n",
    "    }\n",
    "]"
   ]
  },
  {
   "cell_type": "code",
   "execution_count": 36,
   "id": "a1244690-9240-4a60-9fc3-636447a0df93",
   "metadata": {},
   "outputs": [
    {
     "name": "stdout",
     "output_type": "stream",
     "text": [
      "add function is called!!\n",
      "add function is called!!\n"
     ]
    },
    {
     "data": {
      "text/plain": [
       "30"
      ]
     },
     "execution_count": 36,
     "metadata": {},
     "output_type": "execute_result"
    }
   ],
   "source": [
    "# # 파이썬의 일급 함수\n",
    "# def add(a,b):\n",
    "#     print('add function is called!!')\n",
    "#     return a+b\n",
    "    \n",
    "# def subtract(a,b):\n",
    "#     print('subtract function is called!!')\n",
    "#     return a-b\n",
    "\n",
    "# func = {'first':add,'second':subtract}\n",
    "\n",
    "# func['first'](10,10)\n",
    "\n",
    "# arg ={'a':10,'b':20}\n",
    "# add(**arg)  # 키워드 인수 , add(a=10,b=20)"
   ]
  },
  {
   "cell_type": "code",
   "execution_count": 37,
   "id": "51b95f3e-9c48-40c2-b4ac-9ab924f01cb3",
   "metadata": {},
   "outputs": [],
   "source": [
    "def chat_with_functions(user_message):\n",
    "    \"\"\"Function Call을 사용하여 대화하는 함수\"\"\"\n",
    "    print(f\"\\n💬 사용자: {user_message}\")\n",
    "    \n",
    "    # 1단계: GPT에게 어떤 함수를 호출할지 결정하게 하기\n",
    "    response = client.chat.completions.create(\n",
    "        model=\"gpt-4o-mini\",\n",
    "        messages=[\n",
    "            {\"role\": \"system\", \"content\": \"당신은 날씨와 시간 정보를 제공하는 도우미입니다.\"},\n",
    "            {\"role\": \"user\", \"content\": user_message}\n",
    "        ],\n",
    "        tools=[{\"type\": \"function\", \"function\": schema} for schema in function_schemas],\n",
    "        tool_choice=\"auto\"\n",
    "    )\n",
    "    \n",
    "    # 2단계: Function Call이 있는지 확인\n",
    "    if response.choices[0].message.tool_calls:\n",
    "        # 메시지 히스토리에 GPT 응답 추가\n",
    "        messages = [\n",
    "            {\"role\": \"system\", \"content\": \"당신은 날씨와 시간 정보를 제공하는 도우미입니다.\"},\n",
    "            {\"role\": \"user\", \"content\": user_message},\n",
    "            response.choices[0].message\n",
    "        ]\n",
    "        \n",
    "        # 3단계: 각 함수 호출 실행\n",
    "        for tool_call in response.choices[0].message.tool_calls:\n",
    "            function_name = tool_call.function.name\n",
    "            function_args = json.loads(tool_call.function.arguments)\n",
    "            \n",
    "            print(f\"🔧 함수 호출: {function_name}({function_args})\")\n",
    "            \n",
    "            # 함수 실행\n",
    "            if function_name in functions:\n",
    "                result = functions[function_name](**function_args)\n",
    "                \n",
    "                # 함수 결과를 메시지에 추가\n",
    "                messages.append({\n",
    "                    \"tool_call_id\": tool_call.id,\n",
    "                    \"role\": \"tool\",\n",
    "                    \"name\": function_name,\n",
    "                    \"content\": json.dumps(result, ensure_ascii=False)\n",
    "                })\n",
    "        \n",
    "        # 4단계: 함수 결과를 바탕으로 최종 답변 생성\n",
    "        final_response = client.chat.completions.create(\n",
    "            model=\"gpt-4o-mini\",\n",
    "            messages=messages\n",
    "        )\n",
    "        \n",
    "        return final_response.choices[0].message.content\n",
    "    \n",
    "    else:\n",
    "        # Function Call이 없으면 바로 답변 반환\n",
    "        return response.choices[0].message.content"
   ]
  },
  {
   "cell_type": "code",
   "execution_count": 38,
   "id": "88427ec9-5922-4a4c-ae92-10e9619b8252",
   "metadata": {},
   "outputs": [
    {
     "name": "stdout",
     "output_type": "stream",
     "text": [
      "=== OpenAI Function Call 간단한 예제 ===\n",
      "날씨와 시간 정보를 제공합니다!\n",
      "\n",
      "예시:\n",
      "- '서울 날씨 어때?'\n",
      "- '지금 몇 시야?'\n",
      "- 'quit'으로 프로그램 종료\n",
      "\n"
     ]
    },
    {
     "name": "stdin",
     "output_type": "stream",
     "text": [
      "질문:  서울 날씨 어때?\n"
     ]
    },
    {
     "name": "stdout",
     "output_type": "stream",
     "text": [
      "\n",
      "💬 사용자: 서울 날씨 어때?\n",
      "🔧 함수 호출: get_weather({'location': '서울'})\n",
      "🌤️ 서울의 날씨를 검색 중...\n",
      "🤖 AI: 현재 서울의 날씨는 다음과 같습니다:\n",
      "- 온도: 16°C\n",
      "- 날씨: 비\n",
      "- 습도: 100%\n",
      "\n",
      "외출 시 우산을 챙기시는 것이 좋습니다.\n",
      "\n"
     ]
    },
    {
     "name": "stdin",
     "output_type": "stream",
     "text": [
      "질문:  서울 날씨 어때?\n"
     ]
    },
    {
     "name": "stdout",
     "output_type": "stream",
     "text": [
      "\n",
      "💬 사용자: 서울 날씨 어때?\n",
      "🔧 함수 호출: get_weather({'location': '서울'})\n",
      "🌤️ 서울의 날씨를 검색 중...\n",
      "🤖 AI: 현재 서울 날씨는 16°C이며, 비가 오고 있습니다. 습도는 100%입니다. 우산 잊지 마세요!\n",
      "\n"
     ]
    },
    {
     "name": "stdin",
     "output_type": "stream",
     "text": [
      "질문:  괌의 날씨는 어때?\n"
     ]
    },
    {
     "name": "stdout",
     "output_type": "stream",
     "text": [
      "\n",
      "💬 사용자: 괌의 날씨는 어때?\n",
      "🔧 함수 호출: get_weather({'location': '괌'})\n",
      "🌤️ 괌의 날씨를 검색 중...\n",
      "🤖 AI: 괌의 현재 날씨는 흐리고, 기온은 15°C입니다. 습도는 60%입니다. 날씨가 쌀쌀하니 외출 시 따뜻한 옷을 챙기세요!\n",
      "\n"
     ]
    },
    {
     "name": "stdin",
     "output_type": "stream",
     "text": [
      "질문:  ㅗㅕ\n"
     ]
    },
    {
     "name": "stdout",
     "output_type": "stream",
     "text": [
      "\n",
      "💬 사용자: ㅗㅕ\n",
      "🤖 AI: 무엇을 도와드릴까요? 날씨나 현재 시간에 대한 정보가 필요하시면 말씀해 주세요!\n",
      "\n"
     ]
    },
    {
     "name": "stdin",
     "output_type": "stream",
     "text": [
      "질문:  guam의 날씨는?\n"
     ]
    },
    {
     "name": "stdout",
     "output_type": "stream",
     "text": [
      "\n",
      "💬 사용자: guam의 날씨는?\n",
      "🔧 함수 호출: get_weather({'location': 'Guam'})\n",
      "🌤️ Guam의 날씨를 검색 중...\n",
      "🤖 AI: 현재 괌의 날씨는 다음과 같습니다:\n",
      "- 온도: 28°C\n",
      "- 상태: 주변에 간헐적인 비\n",
      "- 습도: 79%\n",
      "\n"
     ]
    },
    {
     "name": "stdin",
     "output_type": "stream",
     "text": [
      "질문:  지금 몇 시야?\n"
     ]
    },
    {
     "name": "stdout",
     "output_type": "stream",
     "text": [
      "\n",
      "💬 사용자: 지금 몇 시야?\n",
      "🔧 함수 호출: get_current_time({})\n",
      "🤖 AI: 현재 시간은 2025년 10월 13일 20시 37분입니다.\n",
      "\n"
     ]
    },
    {
     "name": "stdin",
     "output_type": "stream",
     "text": [
      "질문:  뉴욕의 현재 시간은?\n"
     ]
    },
    {
     "name": "stdout",
     "output_type": "stream",
     "text": [
      "\n",
      "💬 사용자: 뉴욕의 현재 시간은?\n",
      "🔧 함수 호출: get_current_time({})\n",
      "🤖 AI: 현재 뉴욕의 시간은 2025년 10월 13일 20시 38분입니다.\n",
      "\n"
     ]
    },
    {
     "name": "stdin",
     "output_type": "stream",
     "text": [
      "질문:  안녕 나는 홍길동이야\n"
     ]
    },
    {
     "name": "stdout",
     "output_type": "stream",
     "text": [
      "\n",
      "💬 사용자: 안녕 나는 홍길동이야\n",
      "🤖 AI: 안녕하세요, 홍길동님! 어떻게 도와드릴까요? 날씨나 현재 시간에 대한 정보가 필요하신가요?\n",
      "\n"
     ]
    },
    {
     "name": "stdin",
     "output_type": "stream",
     "text": [
      "질문:  quit\n"
     ]
    },
    {
     "name": "stdout",
     "output_type": "stream",
     "text": [
      "프로그램을 종료합니다.\n"
     ]
    }
   ],
   "source": [
    "def main():\n",
    "    \"\"\"메인 함수 - 간단한 데모\"\"\"\n",
    "    print(\"=== OpenAI Function Call 간단한 예제 ===\")\n",
    "    print(\"날씨와 시간 정보를 제공합니다!\")\n",
    "    print(\"\\n예시:\")\n",
    "    print(\"- '서울 날씨 어때?'\")\n",
    "    print(\"- '지금 몇 시야?'\")\n",
    "    print(\"- 'quit'으로 프로그램 종료\\n\")\n",
    "    \n",
    "    while True:\n",
    "        user_input = input(\"질문: \").strip()\n",
    "        \n",
    "        if user_input.lower() in ['종료', 'quit', 'exit']:\n",
    "            print(\"프로그램을 종료합니다.\")\n",
    "            break\n",
    "        \n",
    "        if user_input:\n",
    "            answer = chat_with_functions(user_input)\n",
    "            print(f\"🤖 AI: {answer}\\n\")\n",
    "\n",
    "if __name__ == \"__main__\":\n",
    "    main()"
   ]
  },
  {
   "cell_type": "markdown",
   "id": "d436030c-7a1a-4dbc-b3ea-6049bd5ec7fb",
   "metadata": {},
   "source": [
    "### Function Calling과 RAG 연동 활용 "
   ]
  },
  {
   "cell_type": "code",
   "execution_count": 39,
   "id": "c110e7bc-ccd3-44a6-be79-a7a8bdc14b39",
   "metadata": {},
   "outputs": [],
   "source": [
    "from dotenv import load_dotenv\n",
    "import os\n",
    "\n",
    "import pymupdf as fitz\n",
    "\n",
    "import faiss\n",
    "import numpy as np\n",
    "import pickle\n",
    "\n",
    "# .env 파일 불러오기\n",
    "load_dotenv(\"C:/env/.env\")\n",
    "\n",
    "# 1)환경 변수 가져오기\n",
    "API_KEY = os.getenv(\"OPENAI_API_KEY\")\n",
    "\n",
    "from openai import OpenAI\n",
    "client = OpenAI(api_key=API_KEY)"
   ]
  },
  {
   "cell_type": "code",
   "execution_count": 42,
   "id": "6b8ef21f-6682-4b9e-8c84-a4493d50765e",
   "metadata": {},
   "outputs": [],
   "source": [
    "# 2) 로컬 문서 (RAG 대상)\n",
    "documents = [\n",
    "    {\"title\": \"제주 날씨\", \"chunk\": \"제주도는 해양성 기후로 연중 강수량이 많고 여름에 태풍 영향이 크다.\"},\n",
    "    {\"title\": \"서울 날씨\", \"chunk\": \"서울은 9월 말 선선하고 맑으며 낮 최고기온은 20~25도 사이이다.\"},\n",
    "    {\"title\": \"부산 날씨\", \"chunk\": \"부산은 남해안 특성상 겨울에도 비교적 따뜻하고 강수량이 많다.\"}\n",
    "]\n",
    "\n",
    "# 3) FAISS 인덱스 생성\n",
    "embeddings = []\n",
    "for doc in documents:\n",
    "    emb = client.embeddings.create(\n",
    "        model=\"text-embedding-3-small\",\n",
    "        input=doc[\"chunk\"]\n",
    "    )\n",
    "    embeddings.append(emb.data[0].embedding)\n",
    "\n",
    "emb_array = np.array(embeddings).astype(\"float32\")\n",
    "index = faiss.IndexFlatL2(len(emb_array[0]))\n",
    "index.add(emb_array)\n",
    "\n",
    "# 4) RAG 검색 함수\n",
    "def search_similar_chunks(query, top_k=2):\n",
    "    query_emb = client.embeddings.create(\n",
    "        model=\"text-embedding-3-small\",\n",
    "        input=query\n",
    "    ).data[0].embedding\n",
    "    query_vec = np.array([query_emb]).astype(\"float32\")\n",
    "    distances, indices = index.search(query_vec, top_k)\n",
    "    return [documents[i] for i in indices[0]]    "
   ]
  },
  {
   "cell_type": "code",
   "execution_count": 43,
   "id": "4424c8c3-499b-48e6-bbaf-cd901f20c589",
   "metadata": {},
   "outputs": [],
   "source": [
    "# 5) RAG 기반 답변 생성 함수\n",
    "def generate_rag_answer(query, similar_chunks):\n",
    "    \"\"\"검색된 컨텍스트를 바탕으로 답변을 생성합니다.\"\"\"\n",
    "    context = \"\\n\\n\".join([chunk['chunk'] for chunk in similar_chunks])\n",
    "    prompt = f\"\"\"다음 문서 내용을 참고하여 질문에 답변해주세요.\n",
    "\n",
    "문서 내용:\n",
    "{context}\n",
    "\n",
    "질문: {query}\n",
    "\n",
    "답변:\"\"\"\n",
    "\n",
    "    response = client.chat.completions.create(\n",
    "        model=\"gpt-4o-mini\",\n",
    "        messages=[{\"role\": \"user\", \"content\": prompt}],\n",
    "        temperature=0.3,\n",
    "        max_tokens=500\n",
    "    )\n",
    "    return response.choices[0].message.content"
   ]
  },
  {
   "cell_type": "code",
   "execution_count": 44,
   "id": "cba821f8-bcec-48b3-b945-83b23c96494f",
   "metadata": {},
   "outputs": [
    {
     "name": "stdout",
     "output_type": "stream",
     "text": [
      "🔎 [일반 답변]\n",
      "9월 말 서울은 선선하고 맑으며 낮 최고기온은 20~25도 사이입니다.\n",
      "\n",
      "📝 [Function Calling JSON 응답]\n",
      "ChatCompletionMessage(content=None, refusal=None, role='assistant', annotations=[], audio=None, function_call=FunctionCall(arguments='{\"summary\":\"서울은 9월 말 선선하고 맑으며 낮 최고기온은 20~25도 사이이다.\",\"source_titles\":[\"서울 날씨 정보\"]}', name='return_weather_info'), tool_calls=None)\n"
     ]
    }
   ],
   "source": [
    "# 6) Function Calling 예시 (원하면 JSON 형태로 정리)\n",
    "def generate_rag_answer_json(query, similar_chunks):\n",
    "    \"\"\"Function Calling을 이용해 JSON 형태로 응답\"\"\"\n",
    "    context = \"\\n\\n\".join([chunk['chunk'] for chunk in similar_chunks])\n",
    "    messages = [\n",
    "        {\"role\": \"system\", \"content\": \"당신은 질문에 대해 JSON 형식으로 답하는 어시스턴트입니다.\"},\n",
    "        {\"role\": \"user\", \"content\": f\"\"\"\n",
    "다음 문서를 참고하여 질문에 답해주세요.\n",
    "문서:\n",
    "{context}\n",
    "질문: {query}\n",
    "JSON 형식으로 답해주세요. (summary: 요약, source_titles: 참고 문서 제목 배열)\n",
    "        \"\"\"}\n",
    "    ]\n",
    "\n",
    "    response = client.chat.completions.create(\n",
    "        model=\"gpt-4o-mini\",\n",
    "        messages=messages,\n",
    "        functions=[\n",
    "            {\n",
    "                \"name\": \"return_weather_info\",\n",
    "                \"description\": \"질문에 맞는 날씨 정보를 JSON으로 반환\",\n",
    "                \"parameters\": {\n",
    "                    \"type\": \"object\",\n",
    "                    \"properties\": {\n",
    "                        \"summary\": {\"type\": \"string\"},\n",
    "                        \"source_titles\": {\"type\": \"array\", \"items\": {\"type\": \"string\"}}\n",
    "                    },\n",
    "                    \"required\": [\"summary\", \"source_titles\"]\n",
    "                }\n",
    "            }\n",
    "        ],\n",
    "        function_call={\"name\": \"return_weather_info\"}  # ✅ 함수 호출 강제\n",
    "    )\n",
    "    return response.choices[0].message\n",
    "\n",
    "# 7) 실행 예시\n",
    "if __name__ == \"__main__\":\n",
    "    query = \"9월 말 서울 날씨 어때?\"\n",
    "    similar_chunks = search_similar_chunks(query)\n",
    "\n",
    "    print(\"🔎 [일반 답변]\")\n",
    "    print(generate_rag_answer(query, similar_chunks))\n",
    "\n",
    "    print(\"\\n📝 [Function Calling JSON 응답]\")\n",
    "    print(generate_rag_answer_json(query, similar_chunks))"
   ]
  },
  {
   "cell_type": "markdown",
   "id": "3abd29f9-7df0-46d2-aaea-51d6692183de",
   "metadata": {},
   "source": [
    "### DuckDuckGo로 웹 검색하기"
   ]
  },
  {
   "cell_type": "code",
   "execution_count": 45,
   "id": "245fcb4e-a3ce-47b9-bc22-8e86fc79f2e7",
   "metadata": {},
   "outputs": [],
   "source": [
    "# ! pip install duckduckgo-search\n",
    "# ! pip install ddgs"
   ]
  },
  {
   "cell_type": "code",
   "execution_count": 47,
   "id": "2b64cc92-7ff0-4dd4-a81a-31e92273eeae",
   "metadata": {},
   "outputs": [
    {
     "name": "stdout",
     "output_type": "stream",
     "text": [
      "🔍 'ChatGPT 사용법' 검색 중...\n",
      "==================================================\n",
      "\n",
      "[1] Codestates ChatGPT 사용법 | 가입부터 확장 프로그램까지 200% 활용법\n",
      "🔗 https://www.codestates.com/blog/content/chatgpt-사용법\n",
      "📝 March 3, 2023 - 인공지능(AI) 챗봇 ChatGPT (챗지피티). ChatGPT를 아직 잘 모르는 분들, ChatGPT를 더 잘 쓰고 싶은 분들을 위해 ChatGPT 가입부터 확장 프로그램 사용법까지 ChatGPT 200% 활용법을 알려드릴게요....\n",
      "------------------------------\n",
      "\n",
      "[2] Namu Wiki ChatGPT - 나무위키\n",
      "🔗 https://namu.wiki/w/ChatGPT\n",
      "📝 5 days ago - 자세한 내용은 ChatGPT / 사용법 문서를 참고하십시오....\n",
      "------------------------------\n",
      "\n",
      "[3] ApiDog 개발자 모드에서 ChatGPT MCP 서버 지원 커넥터 사용법\n",
      "🔗 https://apidog.com/kr/blog/chatgpt-mcp-support/\n",
      "📝 September 12, 2025 - ChatGPT가 단순히 대화만 하는 것을 넘어, 당신의 도구와 데이터 소스에 손쉽게 연결하여 실시간 정보로 작업을 자동화할 수 있다면 어떨까요? 이것이 바로 AI 기반 자동화의 판도를 바꾸는 ChatGPT의 MCP 지원이 약속하는 ...\n",
      "------------------------------\n",
      "\n",
      "============================================================\n",
      "\n",
      "🔍 '서울 맛집 추천' 검색 중...\n",
      "==================================================\n",
      "\n",
      "[1] YouTube 2년 동안 가봤던 서울 맛집 107곳 중 베스트 11 - YouTube\n",
      "🔗 https://www.youtube.com/watch?v=qFnWlbC7kHA\n",
      "📝 1. 깃대봉냉면 00:072. 동해루 01:393. 국보성 03:594. 천호동엄마손만두 05:595. 강원집(닭진미) 07:466. 어머니국시방 09:227. 대성원(대성반점) 10:378. 원두막 12:459. 졍동국시 16:3310. 삼경원 21:1711. 이천식...\n",
      "------------------------------\n",
      "\n",
      "[2] YouTube 서울에서 꼭 가봐야 할 식당 5곳 소개합니다(가성비 x) - YouTube\n",
      "🔗 https://www.youtube.com/watch?v=0y0Xh6ubdIk\n",
      "📝 1. 명동칼국수서울 중구 세종대로21길 48태평로1가 62-72. 미성옥서울 중구 명동길 25-11명동1가 54-53. 부민옥서울 중구 다동길 24-12다동 177-2육개장 11,000원4. 홍복서울 서대문구 증가로 26 1층연희동 95-505....\n",
      "------------------------------\n",
      "\n",
      "[3] YouTube 서울 맛집 베스트10 유명해서 사람들이 많이가는곳 50개 총정리 - YouTube\n",
      "🔗 https://www.youtube.com/watch?v=eAutS7wLtiM\n",
      "📝 서울에서 유명한 맛집 베스트10 입니다. 지난번 1탄에 이어 2탄을 만들었습니다. 서울맛집 베스트10 네이버 평첨후기가 반영되고 1탄에 소개된 음식점은 제와했습니다. 영상 뒷부분에는 방문순위 50개 리스트도 있어요....\n",
      "------------------------------\n",
      "\n",
      "============================================================\n",
      "\n"
     ]
    },
    {
     "name": "stdin",
     "output_type": "stream",
     "text": [
      "검색어를 입력하세요:  랭체인 사용법\n"
     ]
    },
    {
     "name": "stdout",
     "output_type": "stream",
     "text": [
      "🔍 '랭체인 사용법' 검색 중...\n",
      "==================================================\n",
      "\n",
      "[1] Wikipedia 랭체인 - 위키백과, 우리 모두의 백과사전\n",
      "🔗 https://ko.wikipedia.org/wiki/랭체인\n",
      "📝 June 17, 2025 - 2023년 4월 랭체인이 법인화되었고 새로운 스타트업은 벤치마크로부터 1,000만 달러의 초기 투자를 발표한 지 일주일 만에 벤처 회사 세쿼이아 캐피털로부터 최소 2억 달러의 가치로 2,000만 달러 이상의 자금을 조달했다....\n",
      "------------------------------\n",
      "\n",
      "[2] Samsung SDS 랭체인 LangChain 의 개념과 이해 | 인사이트리포트 | 삼성SDS\n",
      "🔗 https://www.samsungsds.com/kr/insights/the-concept-of-langchain.html\n",
      "📝 March 11, 2024 - LLM을 효과적으로 사용할 수 있는 프롬프트 작성에는 어느 정도 기술이 필요하지만, LLM 사용법은 대체로 간단합니다. 반면 언어 모델을 사용한 프로그래밍은 어려울 수 있습니다. 그럴 때는 랭체인을 사용하면 됩니다....\n",
      "------------------------------\n",
      "\n",
      "[3] Teddylee777 랭체인(langchain)의 OpenAI GPT 모델(ChatOpenAI) 사용법 (1) - 테디노트\n",
      "🔗 https://teddylee777.github.io/langchain/langchain-tutorial-01/\n",
      "📝 September 28, 2023 - 랭체인 (langchain)의 OpenAI GPT 모델(ChatOpenAI) 사용법을 함께 알아보겠습니다....\n",
      "------------------------------\n",
      "\n",
      "[4] ITWorld Korea “LLM 개발을 더 간편하게” 랭체인(LangChain)의 이해 - ITWorld Korea\n",
      "🔗 https://www.itworld.co.kr/news/307189\n",
      "📝 대규모 언어 모델(LLM)을 위한 효과적인 프롬프트를 작성하는 데는 기술이 필요하지만 LLM 사용법은 대체로 간단하다. 반면 언어 모델을 사용한 프로그래밍은 어려울 수 있다. 그럴 때 랭체인 (LangChain)을 사용하면 된다....\n",
      "------------------------------\n",
      "\n",
      "[5] Teddylee777 랭체인(langchain) + 허깅페이스(HuggingFace) 모델 사용법 (2) - 테디노트\n",
      "🔗 https://teddylee777.github.io/langchain/langchain-tutorial-02/\n",
      "📝 September 29, 2023 - 랭체인 (langchain) + 허깅페이스(HuggingFace) 모델 사용법을 함께 알아보겠습니다....\n",
      "------------------------------\n"
     ]
    }
   ],
   "source": [
    "from ddgs import DDGS\n",
    "\n",
    "def search_duckduckgo(query, max_results=5):\n",
    "    \"\"\"DuckDuckGo로 간단한 웹 검색을 수행합니다.\"\"\"\n",
    "    try:\n",
    "        with DDGS() as ddgs:\n",
    "            print(f\"🔍 '{query}' 검색 중...\")\n",
    "            print(\"=\" * 50)\n",
    "            \n",
    "            results = ddgs.text(query, max_results=max_results)\n",
    "            \n",
    "            for i, result in enumerate(results, 1):\n",
    "                print(f\"\\n[{i}] {result['title']}\")\n",
    "                print(f\"🔗 {result['href']}\")\n",
    "                print(f\"📝 {result['body'][:150]}...\")\n",
    "                print(\"-\" * 30)\n",
    "                \n",
    "    except Exception as e:\n",
    "        print(f\"❌ 검색 오류: {e}\")\n",
    "\n",
    "# 실행 예시\n",
    "if __name__ == \"__main__\":\n",
    "    # 검색 예시들\n",
    "    search_queries = [\n",
    "        \"ChatGPT 사용법\",\n",
    "        \"서울 맛집 추천\"\n",
    "    ]\n",
    "    \n",
    "    for query in search_queries:\n",
    "        search_duckduckgo(query, 3)\n",
    "        print(\"\\n\" + \"=\"*60 + \"\\n\")\n",
    "    \n",
    "    # 직접 검색해보기\n",
    "    user_query = input(\"검색어를 입력하세요: \")\n",
    "    if user_query.strip():\n",
    "        search_duckduckgo(user_query, 5)\n"
   ]
  },
  {
   "cell_type": "code",
   "execution_count": null,
   "id": "b85c2ce3-3750-4f82-b1c7-7422c2901fac",
   "metadata": {},
   "outputs": [],
   "source": []
  }
 ],
 "metadata": {
  "kernelspec": {
   "display_name": "Python 3 (ipykernel)",
   "language": "python",
   "name": "python3"
  },
  "language_info": {
   "codemirror_mode": {
    "name": "ipython",
    "version": 3
   },
   "file_extension": ".py",
   "mimetype": "text/x-python",
   "name": "python",
   "nbconvert_exporter": "python",
   "pygments_lexer": "ipython3",
   "version": "3.12.7"
  }
 },
 "nbformat": 4,
 "nbformat_minor": 5
}
