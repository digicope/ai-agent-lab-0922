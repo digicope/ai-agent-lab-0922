{
 "cells": [
  {
   "cell_type": "markdown",
   "id": "580f8eb7-0193-4189-bbfe-2f48b75761d7",
   "metadata": {},
   "source": [
    "# RAG (검색 증강 생성) : FAISS 사용\n",
    ": https://www.promptingguide.ai/kr/techniques/rag\n",
    "\n",
    "문서를 벡터로 변환(임베딩) : 텍스트 데이터를 고차원 벡터 공간으로 매핑하는 작업"
   ]
  },
  {
   "cell_type": "markdown",
   "id": "7d9fcf19-cc3b-46d7-880b-6c12d371ac07",
   "metadata": {},
   "source": [
    "### FAISS (Facebook AI Similarity Search)\n",
    "Facebook AI 팀에서 개발한 대규모 벡터 검색 라이브러리로, 빠르고 효율적인 최근접 이웃 검색(Nearest Neighbor Search, NNS) 을 수행하는 데 사용된다. \n",
    "<br>\n",
    "특히, 고차원 벡터 검색을 최적화하여 딥러닝 임베딩 검색, 추천 시스템, RAG(Retrieval-Augmented Generation) 등에서 널리 활용된다"
   ]
  },
  {
   "cell_type": "code",
   "execution_count": 1,
   "id": "b35b7b55-edea-47e7-ab48-1b5d43c7d7c4",
   "metadata": {},
   "outputs": [],
   "source": [
    "from dotenv import load_dotenv\n",
    "import os\n",
    "\n",
    "# .env 파일 불러오기\n",
    "load_dotenv(\"C:/env/.env\")\n",
    "\n",
    "# 환경 변수 가져오기\n",
    "API_KEY = os.getenv(\"OPENAI_API_KEY\")\n",
    "\n",
    "from openai import OpenAI\n",
    "client = OpenAI(api_key=API_KEY)"
   ]
  },
  {
   "cell_type": "code",
   "execution_count": 4,
   "id": "4d955996-ad57-4fcc-8884-0bb4637068a4",
   "metadata": {},
   "outputs": [],
   "source": [
    "# ! pip install faiss-cpu\n",
    "import faiss\n",
    "import numpy as np\n",
    "\n",
    "# 샘플 문서데이터 (텍스트)\n",
    "documents = [\n",
    "    \"OpenAI는 인공지능 연구소입니다.\",\n",
    "    \"FAISS는 Facebook AI에서 개발한 벡터 검색 라이브러리입니다.\",\n",
    "    \"GPT는 자연어 처리를 위한 강력한 AI 모델입니다.\",\n",
    "    \"RAG는 검색 기반 생성 기법을 활용하여 AI 응답을 향상시키는 방법입니다.\"    \n",
    "]"
   ]
  },
  {
   "cell_type": "code",
   "execution_count": 6,
   "id": "4c68e613-2154-45ec-a9fd-b421c18af5fe",
   "metadata": {},
   "outputs": [
    {
     "name": "stdout",
     "output_type": "stream",
     "text": [
      "[[-0.00736527 -0.00445131  0.0193053  ...  0.00990422 -0.00136497\n",
      "   0.00519902]\n",
      " [-0.01358794  0.00780865 -0.02596267 ...  0.02078999 -0.03368309\n",
      "  -0.01462468]\n",
      " [-0.01112392  0.07651846  0.03827878 ... -0.02164178 -0.00357275\n",
      "   0.00447449]\n",
      " [ 0.01525772  0.02207769  0.00052901 ... -0.01211735 -0.01122917\n",
      "  -0.03973562]]\n"
     ]
    }
   ],
   "source": [
    "# 문서를 벡터로 변환 (임베딩)\n",
    "# https://platform.openai.com/docs/pricing\n",
    "def get_embedding(text):\n",
    "    response = client.embeddings.create(\n",
    "        model = 'text-embedding-3-small',   # text-embedding-ada-002, text-embedding-3-large\n",
    "        input = text        \n",
    "    )\n",
    "    return np.array(response.data[0].embedding)\n",
    "\n",
    "# 모든 문서의 임베딩 생성\n",
    "document_embeddings = np.array([get_embedding(doc) for doc in documents ])\n",
    "print(document_embeddings)"
   ]
  },
  {
   "cell_type": "code",
   "execution_count": 8,
   "id": "a3b3dfdb-393a-4e90-baef-2896697cc8b7",
   "metadata": {},
   "outputs": [
    {
     "name": "stdout",
     "output_type": "stream",
     "text": [
      "[-0.00736527 -0.00445131  0.0193053  ...  0.00990422 -0.00136497\n",
      "  0.00519902]\n",
      "1536\n"
     ]
    }
   ],
   "source": [
    "print(document_embeddings[0])        # \"OpenAI는 인공지능 연구소입니다.\"\n",
    "print(len(document_embeddings[0]))   # 1536"
   ]
  },
  {
   "cell_type": "code",
   "execution_count": 12,
   "id": "ef5d1c79-1ae5-4401-a91e-c252844167fb",
   "metadata": {},
   "outputs": [
    {
     "name": "stdout",
     "output_type": "stream",
     "text": [
      "1536\n"
     ]
    }
   ],
   "source": [
    "# FAISS 벡터 인덱스 생성\n",
    "dimension = document_embeddings.shape[1]   \n",
    "print(dimension)    # 1536\n",
    "index = faiss.IndexFlatL2(dimension)\n",
    "index.add(document_embeddings)"
   ]
  },
  {
   "cell_type": "code",
   "execution_count": 14,
   "id": "2c47bf61-45f2-40af-a3ae-f2192bd3a23c",
   "metadata": {},
   "outputs": [
    {
     "name": "stdout",
     "output_type": "stream",
     "text": [
      "[ 0.01566273  0.00232661 -0.03758604 ... -0.0011633  -0.01976138\n",
      " -0.01448042]\n"
     ]
    }
   ],
   "source": [
    "#  사용자 질문 입력 및 벡터 변환\n",
    "query = \"RAG의 핵심 구성 요소는 무엇인가?\"\n",
    "query_embedding = get_embedding(query)\n",
    "print(query_embedding)"
   ]
  },
  {
   "cell_type": "code",
   "execution_count": 19,
   "id": "9d634705-01fd-4c15-88ba-79f1bbcfa5a5",
   "metadata": {},
   "outputs": [
    {
     "name": "stdout",
     "output_type": "stream",
     "text": [
      "[[1.0512233 1.575014 ]] [[3 1]]\n"
     ]
    }
   ],
   "source": [
    "#  FAISS를 이용한 검색( 가장 유사한 문서 찾기)\n",
    "k = 2  # 가장 유사한 2개의 문서 검색\n",
    "distances,indices = index.search(query_embedding.reshape(1,-1),k)\n",
    "print(distances, indices)"
   ]
  },
  {
   "cell_type": "code",
   "execution_count": 27,
   "id": "202b9bf8-1bb5-49eb-a90e-fb6ab64e46fd",
   "metadata": {},
   "outputs": [
    {
     "name": "stdout",
     "output_type": "stream",
     "text": [
      "(12,)\n",
      "[ 0  1  2  3  4  5  6  7  8  9 10 11]\n",
      "(3, 4)\n",
      "[[ 0  1  2  3]\n",
      " [ 4  5  6  7]\n",
      " [ 8  9 10 11]]\n",
      "(2, 3, 2)\n",
      "[[[ 0  1]\n",
      "  [ 2  3]\n",
      "  [ 4  5]]\n",
      "\n",
      " [[ 6  7]\n",
      "  [ 8  9]\n",
      "  [10 11]]]\n",
      "[[ 0  1  2  3]\n",
      " [ 4  5  6  7]\n",
      " [ 8  9 10 11]] (3, 4)\n"
     ]
    }
   ],
   "source": [
    "# 배열의 reshape\n",
    "a = np.arange(12)\n",
    "print(a.shape)  # 1차원 배열\n",
    "print(a)\n",
    "a2 = a.reshape(3,4)\n",
    "print(a2.shape)  # 2차원 배열\n",
    "print(a2)\n",
    "a3 = a.reshape(2,3,2) \n",
    "print(a3.shape)  # 3차원 배열\n",
    "print(a3)\n",
    "\n",
    "b = a.reshape(3,-1)  # -1은 shape을 자동으로 계산\n",
    "print(b,b.shape)"
   ]
  },
  {
   "cell_type": "code",
   "execution_count": null,
   "id": "bd5de4ac-f424-4942-a860-8dbdc47af977",
   "metadata": {},
   "outputs": [],
   "source": []
  }
 ],
 "metadata": {
  "kernelspec": {
   "display_name": "Python 3 (ipykernel)",
   "language": "python",
   "name": "python3"
  },
  "language_info": {
   "codemirror_mode": {
    "name": "ipython",
    "version": 3
   },
   "file_extension": ".py",
   "mimetype": "text/x-python",
   "name": "python",
   "nbconvert_exporter": "python",
   "pygments_lexer": "ipython3",
   "version": "3.12.7"
  }
 },
 "nbformat": 4,
 "nbformat_minor": 5
}
