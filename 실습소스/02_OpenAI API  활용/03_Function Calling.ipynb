{
 "cells": [
  {
   "cell_type": "markdown",
   "id": "13f533ba-d4d0-408c-be4b-133dc3f02c3e",
   "metadata": {},
   "source": [
    "# OpenAI API 사용 Function Calling \n",
    ": https://www.promptingguide.ai/kr/applications/function_calling"
   ]
  },
  {
   "cell_type": "code",
   "execution_count": 15,
   "id": "b174624d-da20-4671-9928-017dfe062f08",
   "metadata": {},
   "outputs": [],
   "source": [
    "from dotenv import load_dotenv\n",
    "import os\n",
    "import json\n",
    "\n",
    "# .env 파일 불러오기\n",
    "load_dotenv(\"C:/env/.env\")\n",
    "\n",
    "# 환경 변수 가져오기\n",
    "API_KEY = os.getenv(\"OPENAI_API_KEY\")\n",
    "\n",
    "from openai import OpenAI\n",
    "client = OpenAI(api_key=API_KEY)"
   ]
  },
  {
   "cell_type": "code",
   "execution_count": 3,
   "id": "e4ab4c01-3eba-49ee-b954-7aad00dd4971",
   "metadata": {},
   "outputs": [],
   "source": [
    "# 함수 정의\n",
    "def get_current_weather(location):\n",
    "    # 이 함수는 날씨 정보를 반환한다고 가정합니다.\n",
    "    print('get_current_weather function is called!!')    \n",
    "    return {\n",
    "        \"location\": location,\n",
    "        \"temperature\": \"25°C\",\n",
    "        \"description\": \"구름 조금 있고 바람 붐\"\n",
    "    }\n",
    "\n",
    "# Function Calling을 위한 함수 메타데이터 정의\n",
    "functions = [\n",
    "    {\n",
    "        \"name\": \"get_current_weather\",\n",
    "        \"description\": \"지정된 위치의 현재 날씨를 가져옵니다.\",\n",
    "        \"parameters\": {\n",
    "            \"type\": \"object\",\n",
    "            \"properties\": {\n",
    "                \"location\": {\n",
    "                    \"type\": \"string\",\n",
    "                    \"description\": \"도시와 국가 예: 서울, 대한민국\"\n",
    "                }\n",
    "            },\n",
    "            \"required\": [\"location\"]\n",
    "        }\n",
    "    }\n",
    "]"
   ]
  },
  {
   "cell_type": "code",
   "execution_count": 19,
   "id": "a0c0c2c2-a6e9-48ee-9c16-e22be1d11270",
   "metadata": {},
   "outputs": [
    {
     "name": "stdout",
     "output_type": "stream",
     "text": [
      "ChatCompletion(id='chatcmpl-CMC6mUokYfutzFeT09cuAfYc7bxE9', choices=[Choice(finish_reason='function_call', index=0, logprobs=None, message=ChatCompletionMessage(content=None, refusal=None, role='assistant', annotations=[], audio=None, function_call=FunctionCall(arguments='{\"location\":\"뉴욕, 미국\"}', name='get_current_weather'), tool_calls=None))], created=1759405796, model='gpt-4o-mini-2024-07-18', object='chat.completion', service_tier='default', system_fingerprint='fp_560af6e559', usage=CompletionUsage(completion_tokens=18, prompt_tokens=70, total_tokens=88, completion_tokens_details=CompletionTokensDetails(accepted_prediction_tokens=0, audio_tokens=0, reasoning_tokens=0, rejected_prediction_tokens=0), prompt_tokens_details=PromptTokensDetails(audio_tokens=0, cached_tokens=0)))\n",
      "----------------------------------------------------------------------------------------------------\n",
      "get_current_weather function is called!!\n",
      "뉴욕, 미국의 현재 날씨는 25°C이고, 구름 조금 있고 바람 붐입니다.\n"
     ]
    }
   ],
   "source": [
    "# 사용자가 원하는 위치의 날씨를 묻는 프롬프트\n",
    "prompt = '서울의 날씨는 어떤가요?'\n",
    "# prompt = '뉴욕의 날씨는 어떤가요?'\n",
    "# prompt = '파리의 날씨는 어떤가요?'\n",
    "# prompt = '오늘 주식 시세는 어떤가요?'\n",
    "\n",
    "# OpenAI API 호출\n",
    "response = client.chat.completions.create(\n",
    "    model=\"gpt-4o-mini\",\n",
    "    messages=[ {\"role\": \"user\", \"content\": prompt}],\n",
    "    functions=functions,\n",
    "    function_call=\"auto\"  # Function Calling을 활성화하기 위한 설정\n",
    ")\n",
    "\n",
    "# print(response.choices[0].message.content)   # None\n",
    "print(response)\n",
    "print('-'*100)\n",
    "\n",
    "# Function Call이 발생했는지 확인 후 직접 함수 호출\n",
    "if response.choices[0].finish_reason == 'function_call':\n",
    "    function_call = response.choices[0].message.function_call\n",
    "\n",
    "    if function_call.name == 'get_current_weather':\n",
    "        location = json.loads(function_call.arguments)['location']\n",
    "        weather_info = get_current_weather(location)\n",
    "        \n",
    "        # 사용자가 요청한 정보에 대한 응답 생성\n",
    "        print(f\"{location}의 현재 날씨는 {weather_info['temperature']}이고, {weather_info['description']}입니다.\") \n",
    "\n",
    "else:\n",
    "    # Function Calling이 발생하지 않았을 때의 응답 처리\n",
    "    print(response.choices[0].message.content)  "
   ]
  },
  {
   "cell_type": "code",
   "execution_count": 8,
   "id": "22d1a1c9-b66b-41ec-b973-b607721c8b44",
   "metadata": {},
   "outputs": [
    {
     "name": "stdout",
     "output_type": "stream",
     "text": [
      "죄송하지만, 실시간 정보나 현재의 날씨를 제공할 수는 없습니다. 서울의 최신 날씨 정보를 확인하려면 기상청 웹사이트나 날씨 앱을 이용해 보세요. 보통 서울의 날씨는 봄에는 온화하고, 여름에는 덥고 습하며, 가을에는 선선하고 겨울에는 춥습니다. 특정한 날짜나 기간에 대한 예보가 필요하시다면, 해당 정보를 찾아보시는 것이 좋습니다!\n",
      "ChatCompletion(id='chatcmpl-CMBpNSVUpsoGJSXZ3qWaJg0bmrI0l', choices=[Choice(finish_reason='stop', index=0, logprobs=None, message=ChatCompletionMessage(content='죄송하지만, 실시간 정보나 현재의 날씨를 제공할 수는 없습니다. 서울의 최신 날씨 정보를 확인하려면 기상청 웹사이트나 날씨 앱을 이용해 보세요. 보통 서울의 날씨는 봄에는 온화하고, 여름에는 덥고 습하며, 가을에는 선선하고 겨울에는 춥습니다. 특정한 날짜나 기간에 대한 예보가 필요하시다면, 해당 정보를 찾아보시는 것이 좋습니다!', refusal=None, role='assistant', annotations=[], audio=None, function_call=None, tool_calls=None))], created=1759404717, model='gpt-4o-mini-2024-07-18', object='chat.completion', service_tier='default', system_fingerprint='fp_560af6e559', usage=CompletionUsage(completion_tokens=103, prompt_tokens=16, total_tokens=119, completion_tokens_details=CompletionTokensDetails(accepted_prediction_tokens=0, audio_tokens=0, reasoning_tokens=0, rejected_prediction_tokens=0), prompt_tokens_details=PromptTokensDetails(audio_tokens=0, cached_tokens=0)))\n"
     ]
    }
   ],
   "source": [
    "# function_call 사용하지 않는 질의\n",
    "prompt = '서울의 날씨는 어떤가요?'\n",
    "\n",
    "# OpenAI API 호출\n",
    "response = client.chat.completions.create(\n",
    "    model=\"gpt-4o-mini\",\n",
    "    messages=[ {\"role\": \"user\", \"content\": prompt}],\n",
    "    # functions=functions,\n",
    "    # function_call=\"auto\" \n",
    ")\n",
    "\n",
    "print(response.choices[0].message.content)  \n",
    "print(response)  # function_call=None"
   ]
  },
  {
   "cell_type": "markdown",
   "id": "6e4ec084-b0ea-4184-b9c6-9d6c205f79f5",
   "metadata": {},
   "source": [
    "### Dummy Function 정의"
   ]
  },
  {
   "cell_type": "code",
   "execution_count": 21,
   "id": "ff17b288-85ef-4384-88f5-370b0cbff46d",
   "metadata": {},
   "outputs": [],
   "source": [
    "# 현재 날씨를 가져오는 dummy 함수를 정의\n",
    "# 실제 검색 가능한 라이브러리 함수와 연동하여 사용한다\n",
    "def get_current_weather(location,unit='섭씨'):\n",
    "    # 이 함수는 날씨 정보를 반환한다고 가정합니다.\n",
    "    print('get_current_weather function is called!!')\n",
    "    weather = {\n",
    "        \"location\": location,\n",
    "        \"temperature\": \"30°C\",\n",
    "        \"unit\": unit,\n",
    "    }\n",
    "    return json.dumps(weather)    # dict --> json str"
   ]
  },
  {
   "cell_type": "markdown",
   "id": "518f25c9-241c-4b7a-af75-3806bc18cefa",
   "metadata": {},
   "source": [
    "### 함수 메타데이터 정의\n",
    "\n",
    "OpenAI 문서에서 시연된 바와 같이, 요청에 포함될 함수를 정의하는 간단한 예시가 있습니다.<br>\n",
    "descriptions는 매우 중요합니다. 이 설명은 LLM에 직접 전달되며, LLM은 descriptions을 바탕으로 함수를 사용할지, 그리고 어떻게 호출할지를 결정하게 됩니다."
   ]
  },
  {
   "cell_type": "code",
   "execution_count": 24,
   "id": "1caade90-4adb-4e08-ad5c-df067346ce00",
   "metadata": {},
   "outputs": [],
   "source": [
    "# define a function as tools\n",
    "tools = [\n",
    "    {\n",
    "        \"type\": \"function\",\n",
    "        \"function\": {\n",
    "            \"name\": \"get_current_weather\",\n",
    "            \"description\": \"주어진 위치의 현재 날씨를 가져오기\",\n",
    "            \"parameters\": {\n",
    "                \"type\": \"object\",\n",
    "                \"properties\": {\n",
    "                    \"location\": {\n",
    "                        \"type\": \"string\",\n",
    "                        \"description\": \"도시, 예. 서울\",\n",
    "                    },\n",
    "                    \"unit\": {\n",
    "                        \"type\": \"string\", \n",
    "                        \"enum\": [\"섭씨\", \"화씨\"]},\n",
    "                },\n",
    "                \"required\": [\"location\"],\n",
    "            },\n",
    "        },   \n",
    "    }\n",
    "]"
   ]
  },
  {
   "cell_type": "code",
   "execution_count": 23,
   "id": "510b3296-2294-415e-abce-e54de26b0dc2",
   "metadata": {},
   "outputs": [],
   "source": [
    "# define a list of messages\n",
    "messages = [\n",
    "    {\n",
    "        'role' : 'user',\n",
    "        'content' : '서울의 날씨는 어떤가요?'\n",
    "    }\n",
    "]"
   ]
  },
  {
   "cell_type": "code",
   "execution_count": 25,
   "id": "c1102e0b-0c75-459c-8f6c-f2d07767afc6",
   "metadata": {},
   "outputs": [],
   "source": [
    "# 질의 함수 정의하기\n",
    "def get_completion(messages,model=\"gpt-4o-mini\",temperature=0,max_tokens=300,tools=None,tool_choice=None):\n",
    "    response = client.chat.completions.create(\n",
    "        model = model,\n",
    "        messages = messages,\n",
    "        temperature = temperature,\n",
    "        max_tokens = max_tokens,\n",
    "        tools = tools,\n",
    "        tool_choice = tool_choice\n",
    "    )\n",
    "    return response.choices[0].message "
   ]
  },
  {
   "cell_type": "code",
   "execution_count": 26,
   "id": "6f1bb17d-2ba0-4abf-b4ba-d6734fb95bdc",
   "metadata": {},
   "outputs": [
    {
     "name": "stdout",
     "output_type": "stream",
     "text": [
      "ChatCompletionMessage(content=None, refusal=None, role='assistant', annotations=[], audio=None, function_call=None, tool_calls=[ChatCompletionMessageFunctionToolCall(id='call_jWAQumIAAgiBsXCGYCzdshdG', function=Function(arguments='{\"location\":\"서울\",\"unit\":\"섭씨\"}', name='get_current_weather'), type='function')])\n"
     ]
    }
   ],
   "source": [
    "response = get_completion(messages,tools=tools)  # function_call 발생\n",
    "print(response)"
   ]
  },
  {
   "cell_type": "code",
   "execution_count": 27,
   "id": "b22608d2-79c2-4de2-802c-5e13e32237ec",
   "metadata": {},
   "outputs": [
    {
     "data": {
      "text/plain": [
       "'{\"location\":\"서울\",\"unit\":\"섭씨\"}'"
      ]
     },
     "execution_count": 27,
     "metadata": {},
     "output_type": "execute_result"
    }
   ],
   "source": [
    "response.tool_calls[0].function.arguments"
   ]
  },
  {
   "cell_type": "code",
   "execution_count": 28,
   "id": "21069fa3-8638-4c1c-843c-ba1cd2b381a4",
   "metadata": {},
   "outputs": [
    {
     "name": "stdout",
     "output_type": "stream",
     "text": [
      "{'location': '서울', 'unit': '섭씨'}\n"
     ]
    }
   ],
   "source": [
    "# JSON String --> dict\n",
    "args = json.loads(response.tool_calls[0].function.arguments)\n",
    "print(args)   # dict"
   ]
  },
  {
   "cell_type": "code",
   "execution_count": 33,
   "id": "bbe1316b-149f-4499-9026-07430faaee96",
   "metadata": {},
   "outputs": [
    {
     "name": "stdout",
     "output_type": "stream",
     "text": [
      "get_current_weather function is called!!\n",
      "get_current_weather function is called!!\n"
     ]
    },
    {
     "data": {
      "text/plain": [
       "'{\"location\": \"\\\\uc11c\\\\uc6b8\", \"temperature\": \"30\\\\u00b0C\", \"unit\": \"\\\\uc12d\\\\uc528\"}'"
      ]
     },
     "execution_count": 33,
     "metadata": {},
     "output_type": "execute_result"
    }
   ],
   "source": [
    "get_current_weather(**args)   # 키워드 인수\n",
    "# get_current_weather(location = '서울', unit = '섭씨') 과 동일한 결과"
   ]
  },
  {
   "cell_type": "markdown",
   "id": "0a917e33-cd7d-4e7c-a29b-9d465ce4a95b",
   "metadata": {},
   "source": [
    "### Function Calling 동작 제어하기\n",
    "LLM 기반 대화 에이전트의 맥락에서 이 function_calling 기능을 설계하는 데 관심이 있다고 가정해 보겠습니다. 그런 다음 솔루션은 어떤 함수를 호출해야 하는지 또는 호출해야 하는지 알아야 합니다. 인사말 메시지의 간단한 예를 살펴보겠습니다."
   ]
  },
  {
   "cell_type": "code",
   "execution_count": 44,
   "id": "e8d94d94-0d04-40ca-9374-edae2186d2a0",
   "metadata": {},
   "outputs": [],
   "source": [
    "messages = [\n",
    "    {\n",
    "        'role' : 'user',\n",
    "        # 'content' : '안녕 반가워?'\n",
    "        'content' : '서울 날씨 알려줘?'\n",
    "    }\n",
    "]"
   ]
  },
  {
   "cell_type": "code",
   "execution_count": 45,
   "id": "74df0f6f-e840-4cbf-9148-6ed9967761db",
   "metadata": {},
   "outputs": [
    {
     "data": {
      "text/plain": [
       "ChatCompletionMessage(content=None, refusal=None, role='assistant', annotations=[], audio=None, function_call=None, tool_calls=[ChatCompletionMessageFunctionToolCall(id='call_iiYrStCtIPgVHAeKl6awUDGT', function=Function(arguments='{\"location\":\"서울\",\"unit\":\"섭씨\"}', name='get_current_weather'), type='function')])"
      ]
     },
     "execution_count": 45,
     "metadata": {},
     "output_type": "execute_result"
    }
   ],
   "source": [
    "get_completion(messages,tools=tools)  # 'auto'로 동작 "
   ]
  },
  {
   "cell_type": "markdown",
   "id": "49e092a8-3e69-4851-ac8d-bdd5c6c0d046",
   "metadata": {},
   "source": [
    "- 함수 호출의 동작을 제어하기 위해 원하는 동작을 지정할 수 있습니다. 기본적으로, 모델은 함수를 호출할지 여부와 어떤 함수를 호출할지를 스스로 결정합니다. 이는 기본 설정인 tool_choice: \"auto\"를 설정함으로써 이루어집니다."
   ]
  },
  {
   "cell_type": "code",
   "execution_count": 46,
   "id": "5ac40bbf-c770-43a7-bde5-fb3214ee05a6",
   "metadata": {},
   "outputs": [
    {
     "data": {
      "text/plain": [
       "ChatCompletionMessage(content=None, refusal=None, role='assistant', annotations=[], audio=None, function_call=None, tool_calls=[ChatCompletionMessageFunctionToolCall(id='call_f9OnHekcDixmc3jseyiQlb3x', function=Function(arguments='{\"location\":\"서울\",\"unit\":\"섭씨\"}', name='get_current_weather'), type='function')])"
      ]
     },
     "execution_count": 46,
     "metadata": {},
     "output_type": "execute_result"
    }
   ],
   "source": [
    "get_completion(messages,tools=tools,tool_choice='auto')  # 'auto'로 동작 "
   ]
  },
  {
   "cell_type": "markdown",
   "id": "ea40ba23-3815-4bdf-a4c3-ed6ddcaf8464",
   "metadata": {},
   "source": [
    "- tool_choice: \"none\"으로 설정하면 모델이 제공된 함수 중 어떤 것도 사용하지 않도록 강제합니다."
   ]
  },
  {
   "cell_type": "code",
   "execution_count": 47,
   "id": "9e588190-32b8-43c7-959d-30dba3108b42",
   "metadata": {},
   "outputs": [
    {
     "data": {
      "text/plain": [
       "ChatCompletionMessage(content='섭씨로 서울의 현재 날씨를 확인해볼게요. 잠시만 기다려 주세요.', refusal=None, role='assistant', annotations=[], audio=None, function_call=None, tool_calls=None)"
      ]
     },
     "execution_count": 47,
     "metadata": {},
     "output_type": "execute_result"
    }
   ],
   "source": [
    "get_completion(messages,tools=tools,tool_choice='none') # tool_calls=None"
   ]
  },
  {
   "cell_type": "code",
   "execution_count": 48,
   "id": "6055e140-4e23-44ab-8c84-50baebcfc8a1",
   "metadata": {},
   "outputs": [
    {
     "data": {
      "text/plain": [
       "ChatCompletionMessage(content=None, refusal=None, role='assistant', annotations=[], audio=None, function_call=None, tool_calls=[ChatCompletionMessageFunctionToolCall(id='call_lFMuSaMUXKfiOCcu26DSvISN', function=Function(arguments='{\"location\":\"서울\",\"unit\":\"섭씨\"}', name='get_current_weather'), type='function')])"
      ]
     },
     "execution_count": 48,
     "metadata": {},
     "output_type": "execute_result"
    }
   ],
   "source": [
    "get_completion(messages,tools=tools,tool_choice=None)  # 'auto'로 동작 "
   ]
  },
  {
   "cell_type": "code",
   "execution_count": 40,
   "id": "38f70ccc-a3d8-45a5-9296-a4fe7bedb517",
   "metadata": {},
   "outputs": [
    {
     "name": "stdout",
     "output_type": "stream",
     "text": [
      "<class 'NoneType'>\n"
     ]
    }
   ],
   "source": [
    "print(type(None))   # None과 'none'은 서로 다르다"
   ]
  },
  {
   "cell_type": "markdown",
   "id": "9771fef4-f02a-4875-ba1e-47fcf25e563a",
   "metadata": {},
   "source": [
    "- 또한, 애플리케이션에서 원하는 동작이 있다면 모델이 반드시 함수를 선택하도록 강제할 수도 있습니다.\n",
    "예시:"
   ]
  },
  {
   "cell_type": "code",
   "execution_count": 54,
   "id": "67262fea-baa2-477e-a913-7f07bb666e2a",
   "metadata": {},
   "outputs": [
    {
     "data": {
      "text/plain": [
       "ChatCompletionMessage(content=None, refusal=None, role='assistant', annotations=[], audio=None, function_call=None, tool_calls=[ChatCompletionMessageFunctionToolCall(id='call_UeBsZNDXcci5EuONNW6i5GlC', function=Function(arguments='{\"location\":\"부산\",\"unit\":\"섭씨\"}', name='get_current_weather'), type='function')])"
      ]
     },
     "execution_count": 54,
     "metadata": {},
     "output_type": "execute_result"
    }
   ],
   "source": [
    "messages = [\n",
    "    {\n",
    "        'role' : 'user',\n",
    "        'content' : '부산의 날씨는 어때?'\n",
    "    }\n",
    "]\n",
    "get_completion(messages,tools=tools,tool_choice={\"type\": \"function\", \"function\": {\"name\": \"get_current_weather\"}})"
   ]
  },
  {
   "cell_type": "code",
   "execution_count": 55,
   "id": "98b9daad-dd28-4192-95ed-57dc9e372b71",
   "metadata": {},
   "outputs": [
    {
     "data": {
      "text/plain": [
       "ChatCompletionMessage(content=None, refusal=None, role='assistant', annotations=[], audio=None, function_call=None, tool_calls=[ChatCompletionMessageFunctionToolCall(id='call_0qQguT4gvTEVOVT2euLBn4C8', function=Function(arguments='{\"location\":\"서울\"}', name='get_current_weather'), type='function')])"
      ]
     },
     "execution_count": 55,
     "metadata": {},
     "output_type": "execute_result"
    }
   ],
   "source": [
    "messages = [\n",
    "    {\n",
    "        'role' : 'user',\n",
    "        'content' : '안녕 반가워?'\n",
    "    }\n",
    "]\n",
    "get_completion(messages,tools=tools,tool_choice={\"type\": \"function\", \"function\": {\"name\": \"get_current_weather\"}})\n",
    "# 인자값을 얻어 올수 없어서 함수 호출 시 인자 전달 오류가 발생"
   ]
  },
  {
   "cell_type": "markdown",
   "id": "e9f5cddd-2cd8-40fd-8dd7-85bd6b5d3277",
   "metadata": {},
   "source": [
    "- OpenAI API는 하나의 턴에서 여러 함수를 호출할 수 있는 병렬 함수 호출도 지원합니다. "
   ]
  },
  {
   "cell_type": "code",
   "execution_count": 56,
   "id": "d42f0dcd-4da8-48ea-b62a-93270527fcf9",
   "metadata": {},
   "outputs": [
    {
     "data": {
      "text/plain": [
       "ChatCompletionMessage(content=None, refusal=None, role='assistant', annotations=[], audio=None, function_call=None, tool_calls=[ChatCompletionMessageFunctionToolCall(id='call_fFDiZmfHeSw2rWqIgSpKXxri', function=Function(arguments='{\"location\": \"서울\", \"unit\": \"섭씨\"}', name='get_current_weather'), type='function'), ChatCompletionMessageFunctionToolCall(id='call_BGJebSkjoZQsXeopteKk1qlX', function=Function(arguments='{\"location\": \"부산\", \"unit\": \"섭씨\"}', name='get_current_weather'), type='function')])"
      ]
     },
     "execution_count": 56,
     "metadata": {},
     "output_type": "execute_result"
    }
   ],
   "source": [
    "# 질문안에 2개의 location이 들어 있는 경우\n",
    "messages = [\n",
    "    {\n",
    "        'role' : 'user',\n",
    "        'content' : '다음 며칠 동안 서울과 부산의 날씨는 어떤가요?'\n",
    "    }\n",
    "]\n",
    "get_completion(messages,tools=tools)"
   ]
  },
  {
   "cell_type": "markdown",
   "id": "f22c24d0-fb67-4b25-8159-c09954b8ae16",
   "metadata": {},
   "source": [
    "### 모델 피드백을 위한 Function Calling Response \n",
    "\n",
    "또한, 함수 호출로 생성된 입력을 사용하여 API를 호출한 후 얻은 결과를 반환하는 에이전트를 개발하는 것에 관심이 있을 수 있습니다. 다음은 그 예시입니다:"
   ]
  },
  {
   "cell_type": "code",
   "execution_count": 69,
   "id": "b985a7f3-93a6-4f90-a899-3a558322db5b",
   "metadata": {},
   "outputs": [
    {
     "name": "stdout",
     "output_type": "stream",
     "text": [
      "{'content': '{\\'arguments\\': \\'{\"location\":\"서울\",\"unit\":\"섭씨\"}\\', \\'name\\': \\'get_current_weather\\'}', 'refusal': None, 'role': 'assistant', 'annotations': [], 'audio': None, 'function_call': None, 'tool_calls': [{'id': 'call_eBPTcLUuILpXXwOhkRidWf0u', 'function': {'arguments': '{\"location\":\"서울\",\"unit\":\"섭씨\"}', 'name': 'get_current_weather'}, 'type': 'function'}]}\n"
     ]
    }
   ],
   "source": [
    "messages = []\n",
    "messages.append({\"role\": \"user\", \"content\": \"서울의 날씨는 어때!\"})\n",
    "assistant_message = get_completion(messages,tools=tools,tool_choice='auto')\n",
    "assistant_message = json.loads(assistant_message.model_dump_json())\n",
    "assistant_message[\"content\"] = str(assistant_message['tool_calls'][0]['function'])\n",
    "print(assistant_message)\n",
    "\n",
    "del assistant_message['function_call']"
   ]
  },
  {
   "cell_type": "code",
   "execution_count": 71,
   "id": "ef031ba4-65f6-4474-8920-56230064fb1f",
   "metadata": {},
   "outputs": [
    {
     "data": {
      "text/plain": [
       "[{'role': 'user', 'content': '서울의 날씨는 어때!'},\n",
       " {'content': '{\\'arguments\\': \\'{\"location\":\"서울\",\"unit\":\"섭씨\"}\\', \\'name\\': \\'get_current_weather\\'}',\n",
       "  'refusal': None,\n",
       "  'role': 'assistant',\n",
       "  'annotations': [],\n",
       "  'audio': None,\n",
       "  'tool_calls': [{'id': 'call_eBPTcLUuILpXXwOhkRidWf0u',\n",
       "    'function': {'arguments': '{\"location\":\"서울\",\"unit\":\"섭씨\"}',\n",
       "     'name': 'get_current_weather'},\n",
       "    'type': 'function'}]}]"
      ]
     },
     "execution_count": 71,
     "metadata": {},
     "output_type": "execute_result"
    }
   ],
   "source": [
    "messages.append(assistant_message)\n",
    "messages"
   ]
  },
  {
   "cell_type": "markdown",
   "id": "dae36fef-60e7-4f6d-8fb8-f40519301401",
   "metadata": {},
   "source": [
    "그런 다음 get_current_weather 함수의 결과를 추가하고 이를 도구 역할을 사용하여 모델에 다시 전달합니다"
   ]
  },
  {
   "cell_type": "code",
   "execution_count": 72,
   "id": "e1ce0acd-6e5f-4acb-9d9f-ac922165e172",
   "metadata": {},
   "outputs": [
    {
     "name": "stdout",
     "output_type": "stream",
     "text": [
      "get_current_weather function is called!!\n"
     ]
    }
   ],
   "source": [
    "# get the weather information to pass back to the model\n",
    "weather = get_current_weather(messages[1][\"tool_calls\"][0][\"function\"][\"arguments\"])\n",
    "\n",
    "messages.append({\"role\": \"tool\",\n",
    "                 \"tool_call_id\": assistant_message[\"tool_calls\"][0][\"id\"],\n",
    "                 \"name\": assistant_message[\"tool_calls\"][0][\"function\"][\"name\"],\n",
    "                 \"content\": weather})"
   ]
  },
  {
   "cell_type": "code",
   "execution_count": 73,
   "id": "e83b08f7-fd78-4aeb-ab40-e16c29eaae3d",
   "metadata": {},
   "outputs": [
    {
     "data": {
      "text/plain": [
       "[{'role': 'user', 'content': '서울의 날씨는 어때!'},\n",
       " {'content': '{\\'arguments\\': \\'{\"location\":\"서울\",\"unit\":\"섭씨\"}\\', \\'name\\': \\'get_current_weather\\'}',\n",
       "  'refusal': None,\n",
       "  'role': 'assistant',\n",
       "  'annotations': [],\n",
       "  'audio': None,\n",
       "  'tool_calls': [{'id': 'call_eBPTcLUuILpXXwOhkRidWf0u',\n",
       "    'function': {'arguments': '{\"location\":\"서울\",\"unit\":\"섭씨\"}',\n",
       "     'name': 'get_current_weather'},\n",
       "    'type': 'function'}]},\n",
       " {'role': 'tool',\n",
       "  'tool_call_id': 'call_eBPTcLUuILpXXwOhkRidWf0u',\n",
       "  'name': 'get_current_weather',\n",
       "  'content': '{\"location\": \"{\\\\\"location\\\\\":\\\\\"\\\\uc11c\\\\uc6b8\\\\\",\\\\\"unit\\\\\":\\\\\"\\\\uc12d\\\\uc528\\\\\"}\", \"temperature\": \"30\\\\u00b0C\", \"unit\": \"\\\\uc12d\\\\uc528\"}'}]"
      ]
     },
     "execution_count": 73,
     "metadata": {},
     "output_type": "execute_result"
    }
   ],
   "source": [
    "messages"
   ]
  },
  {
   "cell_type": "code",
   "execution_count": 74,
   "id": "1dbf4fec-b26e-4220-ac3d-c303ff351e9d",
   "metadata": {},
   "outputs": [],
   "source": [
    "final_response = get_completion(messages,tools=tools)"
   ]
  },
  {
   "cell_type": "code",
   "execution_count": 75,
   "id": "5efaaa76-c0f0-40a4-8407-01bcf98dc1f9",
   "metadata": {},
   "outputs": [
    {
     "data": {
      "text/plain": [
       "ChatCompletionMessage(content='서울의 현재 기온은 30도 섭씨입니다. 날씨가 덥네요!', refusal=None, role='assistant', annotations=[], audio=None, function_call=None, tool_calls=None)"
      ]
     },
     "execution_count": 75,
     "metadata": {},
     "output_type": "execute_result"
    }
   ],
   "source": [
    "final_response"
   ]
  },
  {
   "cell_type": "code",
   "execution_count": 77,
   "id": "1c97ea99-e567-4b90-a4cd-a1c68a93aede",
   "metadata": {},
   "outputs": [],
   "source": [
    "# Function 정의 (OpenAI에게 전달할 스펙)\n",
    "tools = [\n",
    "    {\n",
    "        \"type\": \"function\",\n",
    "        \"function\": {\n",
    "            \"name\": \"add_numbers\",\n",
    "            \"description\": \"두 숫자를 더한다\",\n",
    "            \"parameters\": {\n",
    "                \"type\": \"object\",\n",
    "                \"properties\": {\n",
    "                    \"a\": {\"type\": \"number\", \"description\": \"첫 번째 숫자\"},\n",
    "                    \"b\": {\"type\": \"number\", \"description\": \"두 번째 숫자\"}\n",
    "                },\n",
    "                \"required\": [\"a\", \"b\"]\n",
    "            }\n",
    "        }\n",
    "    },\n",
    "    {\n",
    "        \"type\": \"function\",\n",
    "        \"function\": {\n",
    "            \"name\": \"analyze_text\",\n",
    "            \"description\": \"주어진 텍스트를 분석한다\",\n",
    "            \"parameters\": {\n",
    "                \"type\": \"object\",\n",
    "                \"properties\": {\n",
    "                    \"text\": {\"type\": \"string\", \"description\": \"분석할 텍스트\"}\n",
    "                },\n",
    "                \"required\": [\"text\"]\n",
    "            }\n",
    "        }\n",
    "    }\n",
    "]\n",
    "\n",
    "# 실제 함수 구현\n",
    "def add_numbers(a, b):\n",
    "    return {\"result\": a + b}\n",
    "\n",
    "def analyze_text(text):\n",
    "    import collections\n",
    "    words = text.split()\n",
    "    word_count = len(words)\n",
    "    char_count = len(text)\n",
    "    most_common = collections.Counter(words).most_common(1)[0][0] if words else None\n",
    "    return {\n",
    "        \"word_count\": word_count,\n",
    "        \"char_count\": char_count,\n",
    "        \"most_common_word\": most_common\n",
    "    }"
   ]
  },
  {
   "cell_type": "code",
   "execution_count": 79,
   "id": "a5920730-28f0-46bd-99a1-54c5881c37a9",
   "metadata": {},
   "outputs": [
    {
     "name": "stdout",
     "output_type": "stream",
     "text": [
      "ChatCompletionMessage(content=None, refusal=None, role='assistant', annotations=[], audio=None, function_call=None, tool_calls=[ChatCompletionMessageFunctionToolCall(id='call_K3pvMRJG3daBfxl7TWfkMlG8', function=Function(arguments='{\"a\":345,\"b\":789}', name='add_numbers'), type='function')])\n",
      ">>응답: 345와 789를 더한 결과는 1134입니다.\n",
      "ChatCompletionMessage(content=None, refusal=None, role='assistant', annotations=[], audio=None, function_call=None, tool_calls=[ChatCompletionMessageFunctionToolCall(id='call_fzUphkpzrgrW3HonyjILYSue', function=Function(arguments='{\"text\": \"hello world hello GPT\"}', name='analyze_text'), type='function'), ChatCompletionMessageFunctionToolCall(id='call_XdKqQlm5WExMs906L18fNgsF', function=Function(arguments='{\"a\": 3, \"b\": 0}', name='add_numbers'), type='function')])\n",
      ">>응답: 주어진 문장 \"hello world hello GPT\"의 분석 결과는 다음과 같습니다:\n",
      "\n",
      "- 단어 수: 4\n",
      "- 문자 수: 21\n",
      "- 가장 많이 나온 단어: \"hello\" (두 번 등장)\n",
      ">>응답: 주어진 문장 \"hello world hello GPT\"의 단어 수는 5개입니다. \n",
      "\n",
      "가장 많이 나온 단어는 \"hello\"로, 총 2회 등장합니다.\n"
     ]
    }
   ],
   "source": [
    "import json\n",
    "\n",
    "# 사용자 입력\n",
    "messages = [\n",
    "    {\"role\": \"user\", \"content\": \"345와 789를 더해줘\"},\n",
    "    {\"role\": \"user\", \"content\": \"이 문장의 단어 수와 가장 많이 나온 단어를 분석해줘: hello world hello GPT\"}\n",
    "]\n",
    "\n",
    "# 각 메시지마다 처리\n",
    "for user_input in messages:\n",
    "    response = client.chat.completions.create(\n",
    "        model=\"gpt-4o-mini\",\n",
    "        messages=[user_input],\n",
    "        tools=tools,\n",
    "        tool_choice=\"auto\"\n",
    "    )\n",
    "\n",
    "    msg = response.choices[0].message\n",
    "    print(msg)\n",
    "    if msg.tool_calls:\n",
    "        for tool_call in msg.tool_calls:\n",
    "            function_name = tool_call.function.name\n",
    "            arguments = json.loads(tool_call.function.arguments)\n",
    "\n",
    "            if function_name == \"add_numbers\":\n",
    "                function_response = add_numbers(**arguments)\n",
    "            elif function_name == \"analyze_text\":\n",
    "                function_response = analyze_text(**arguments)\n",
    "\n",
    "            # 함수 결과 전달 후 GPT 응답 생성\n",
    "            follow_up = client.chat.completions.create(\n",
    "                model=\"gpt-4o-mini\",\n",
    "                messages=[\n",
    "                    user_input,\n",
    "                    {\n",
    "                        \"role\": \"assistant\",\n",
    "                        \"tool_calls\": [tool_call]\n",
    "                    },\n",
    "                    {\n",
    "                        \"role\": \"tool\",\n",
    "                        \"tool_call_id\": tool_call.id,\n",
    "                        \"name\": function_name,\n",
    "                        \"content\": json.dumps(function_response)\n",
    "                    }\n",
    "                ]\n",
    "            )\n",
    "            print('>>응답:',follow_up.choices[0].message.content)\n",
    "            \n",
    "    else:\n",
    "        print(msg.content)"
   ]
  },
  {
   "cell_type": "code",
   "execution_count": null,
   "id": "6841e195-aa1e-449c-9647-92dc8f069d37",
   "metadata": {},
   "outputs": [],
   "source": []
  }
 ],
 "metadata": {
  "kernelspec": {
   "display_name": "Python 3 (ipykernel)",
   "language": "python",
   "name": "python3"
  },
  "language_info": {
   "codemirror_mode": {
    "name": "ipython",
    "version": 3
   },
   "file_extension": ".py",
   "mimetype": "text/x-python",
   "name": "python",
   "nbconvert_exporter": "python",
   "pygments_lexer": "ipython3",
   "version": "3.12.7"
  }
 },
 "nbformat": 4,
 "nbformat_minor": 5
}
