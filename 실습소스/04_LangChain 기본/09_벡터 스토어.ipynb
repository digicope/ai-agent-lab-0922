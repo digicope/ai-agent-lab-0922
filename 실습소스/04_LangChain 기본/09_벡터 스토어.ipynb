{
 "cells": [
  {
   "cell_type": "markdown",
   "id": "7027a114-a1e3-47a7-8a82-a55e94c86ed2",
   "metadata": {},
   "source": [
    "### 벡터 스토어\n",
    ": LangChain에서 Vector Store(벡터 저장소) 는 텍스트, 문서 등의 임베딩 벡터를 저장하고 검색하는 역할을 한다."
   ]
  },
  {
   "cell_type": "code",
   "execution_count": 1,
   "id": "4ca3f33c-aaef-4557-a32c-7812d575ba33",
   "metadata": {},
   "outputs": [
    {
     "data": {
      "text/plain": [
       "True"
      ]
     },
     "execution_count": 1,
     "metadata": {},
     "output_type": "execute_result"
    }
   ],
   "source": [
    "import os\n",
    "from dotenv import load_dotenv\n",
    "\n",
    "# .env 파일의 내용 불러오기\n",
    "load_dotenv(\"C:/env/.env\")"
   ]
  },
  {
   "cell_type": "markdown",
   "id": "ad96d672-d7fc-4f90-b301-439614bdf991",
   "metadata": {},
   "source": [
    "### [1] FAISS\n",
    "FAISS(Facebook AI Similarity Search)는 Facebook AI Research에서 개발한 오픈소스 벡터 검색 라이브러리로, <br>\n",
    "대규모 벡터(임베딩) 데이터에서 유사한 항목을 빠르게 검색하기 위해 사용된다.<br>\n",
    "LangChain이나 RAG(Retrieval-Augmented Generation) 시스템에서 문서 검색용 벡터 저장소(Vector Store)로 자주 사용된다."
   ]
  },
  {
   "cell_type": "code",
   "execution_count": 4,
   "id": "06faaac5-088c-4eb8-8b49-57924d7844be",
   "metadata": {},
   "outputs": [
    {
     "name": "stdout",
     "output_type": "stream",
     "text": [
      "제주는 바람이 셉니다.\n",
      "서울의 날씨는 맑습니다.\n"
     ]
    }
   ],
   "source": [
    "# from_texts 사용\n",
    "from langchain_community.vectorstores import FAISS\n",
    "from langchain_openai import OpenAIEmbeddings\n",
    "\n",
    "# 1. 임베딩 모델\n",
    "embedding = OpenAIEmbeddings(model=\"text-embedding-3-small\")\n",
    "\n",
    "# 2. 텍스트 리스트\n",
    "texts = [\n",
    "    \"서울의 날씨는 맑습니다.\",\n",
    "    \"부산은 해운대가 유명합니다.\",\n",
    "    \"제주는 바람이 셉니다.\"\n",
    "]\n",
    "\n",
    "# 3. from_texts()로 벡터 저장소 생성\n",
    "faiss_store = FAISS.from_texts(texts,embedding)\n",
    "\n",
    "# 4. 검색\n",
    "query = \"바람이 부는 지역\"\n",
    "results = faiss_store.similarity_search(query,k=2)\n",
    "\n",
    "for r in results:\n",
    "    print(r.page_content)\n",
    "\n",
    "# 문자열을 바로 임베딩하여 인덱스 생성\n",
    "# 메타데이터는 자동으로 생성되지 않음 ({'source': None} 기본값)"
   ]
  },
  {
   "cell_type": "code",
   "execution_count": 5,
   "id": "b42a6047-9a91-4489-8159-bb4945856ec6",
   "metadata": {},
   "outputs": [
    {
     "data": {
      "text/plain": [
       "[Document(id='e07d6ba9-fa35-47f6-bb7d-e4ffef1f81cd', metadata={}, page_content='제주는 바람이 셉니다.'),\n",
       " Document(id='7fdab6ae-6204-4f11-91a6-f4ec954de7c8', metadata={}, page_content='서울의 날씨는 맑습니다.')]"
      ]
     },
     "execution_count": 5,
     "metadata": {},
     "output_type": "execute_result"
    }
   ],
   "source": [
    "results"
   ]
  },
  {
   "cell_type": "code",
   "execution_count": 6,
   "id": "7d4bc593-061d-4677-a5a5-4a1c5e36d877",
   "metadata": {},
   "outputs": [
    {
     "name": "stdout",
     "output_type": "stream",
     "text": [
      "내용: 부산은 해운대가 유명합니다., 도시: Busan\n",
      "내용: 제주는 바람이 셉니다., 도시: Jeju\n"
     ]
    }
   ],
   "source": [
    "# from_documents 사용\n",
    "from langchain_community.vectorstores import FAISS\n",
    "from langchain_openai import OpenAIEmbeddings\n",
    "from langchain_core.documents import Document\n",
    "\n",
    "# 1. 임베딩 모델\n",
    "embedding = OpenAIEmbeddings(model=\"text-embedding-3-small\")\n",
    "\n",
    "# 2. 문서 + 메타데이터\n",
    "docs = [\n",
    "    Document(page_content=\"서울의 날씨는 맑습니다.\", metadata={\"city\": \"Seoul\"}),\n",
    "    Document(page_content=\"부산은 해운대가 유명합니다.\", metadata={\"city\": \"Busan\"}),\n",
    "    Document(page_content=\"제주는 바람이 셉니다.\", metadata={\"city\": \"Jeju\"})\n",
    "]\n",
    "\n",
    "# 3. from_documents()로 벡터 저장소 생성\n",
    "faiss_store = FAISS.from_documents(docs,embedding)\n",
    "\n",
    "# 4. 검색 (쿼리 + 결과 메타데이터 확인)\n",
    "query = \"해운대 해변이 있는 곳\"\n",
    "results = faiss_store.similarity_search(query,k=2)\n",
    "\n",
    "for r in results:\n",
    "    print(f\"내용: {r.page_content}, 도시: {r.metadata['city']}\")\n",
    "\n",
    "# Document 객체에는 본문(page_content) 과 메타데이터(metadata)가 포함됨\n",
    "# PDF나 웹페이지 등 “출처가 있는 데이터”를 다룰 때 유용함\n",
    "# 검색 결과에서도 metadata를 함께 확인할 수 있음"
   ]
  },
  {
   "cell_type": "code",
   "execution_count": 8,
   "id": "bc323d99-d1e5-4287-99fa-69c40201dc84",
   "metadata": {},
   "outputs": [
    {
     "name": "stdout",
     "output_type": "stream",
     "text": [
      " 인덱스 저장 완료 (폴더명: faiss_store)\n"
     ]
    }
   ],
   "source": [
    "# 인덱스 저장과 읽어오기\n",
    "from langchain_community.vectorstores import FAISS\n",
    "from langchain_openai import OpenAIEmbeddings\n",
    "\n",
    "# 1) 임베딩 모델 정의\n",
    "embedding = OpenAIEmbeddings(model=\"text-embedding-3-small\")\n",
    "\n",
    "# 2) 벡터 저장소 생성\n",
    "texts = [\n",
    "    \"서울의 봄은 벚꽃이 피어서 아름답다.\",\n",
    "    \"부산의 해운대는 여름에 많은 사람이 찾는다.\",\n",
    "    \"제주도는 겨울에도 따뜻한 편이다.\"\n",
    "]\n",
    "\n",
    "faiss_store = FAISS.from_texts(texts, embedding)\n",
    "\n",
    "# 3) 인덱스 저장\n",
    "faiss_store.save_local(\"faiss_store\")\n",
    "print(\" 인덱스 저장 완료 (폴더명: faiss_store)\")"
   ]
  },
  {
   "cell_type": "code",
   "execution_count": 9,
   "id": "499e4fef-c170-41cc-9a15-9c236e53283e",
   "metadata": {},
   "outputs": [
    {
     "name": "stdout",
     "output_type": "stream",
     "text": [
      " 인덱스 로드 완료\n",
      "1. 제주도는 겨울에도 따뜻한 편이다.\n",
      "2. 서울의 봄은 벚꽃이 피어서 아름답다.\n"
     ]
    }
   ],
   "source": [
    "# 4) 인덱스 로드 (pickle 역직렬화 허용)\n",
    "loaded_store = FAISS.load_local(\n",
    "    \"faiss_store\",\n",
    "    embedding,\n",
    "    allow_dangerous_deserialization=True  # 직접 만든 인덱스일 경우만 True 설정\n",
    ")\n",
    "print(\" 인덱스 로드 완료\")\n",
    "\n",
    "# 5) 검색 수행\n",
    "query = \"겨울에도 따뜻한 지역\"\n",
    "results = loaded_store.similarity_search(query, k=2)\n",
    "\n",
    "# 6) 결과 출력\n",
    "for i, r in enumerate(results, 1):\n",
    "    print(f\"{i}. {r.page_content}\")"
   ]
  },
  {
   "cell_type": "code",
   "execution_count": 12,
   "id": "528b4880-f5fa-4faf-a81d-b5823424afab",
   "metadata": {},
   "outputs": [
    {
     "name": "stdout",
     "output_type": "stream",
     "text": [
      "두 개의 인덱스 병합 완료\n",
      "1. 부산의 해운대는 여름에 관광객이 많다.\n",
      "2. 서울의 봄은 벚꽃이 아름답다.\n",
      "3. 한강공원은 서울 시민의 휴식 공간이다.\n"
     ]
    }
   ],
   "source": [
    "# 두 개의 인덱스를 병합하기\n",
    "# faiss_merge_example.py\n",
    "from langchain_community.vectorstores import FAISS\n",
    "from langchain_openai import OpenAIEmbeddings\n",
    "\n",
    "# 임베딩 모델 정의\n",
    "embedding = OpenAIEmbeddings(model=\"text-embedding-3-small\")\n",
    "\n",
    "# 첫 번째 인덱스 (서울 관련)\n",
    "texts1 = [\n",
    "    \"서울의 봄은 벚꽃이 아름답다.\",\n",
    "    \"한강공원은 서울 시민의 휴식 공간이다.\"\n",
    "]\n",
    "store1 = FAISS.from_texts(texts1, embedding)\n",
    "\n",
    "# 두 번째 인덱스 (부산 관련)\n",
    "texts2 = [\n",
    "    \"부산의 해운대는 여름에 관광객이 많다.\",\n",
    "    \"광안대교는 부산의 대표적인 명소이다.\"\n",
    "]\n",
    "store2 = FAISS.from_texts(texts2, embedding)\n",
    "\n",
    "# 인덱스 병합\n",
    "store1.merge_from(store2)\n",
    "print(\"두 개의 인덱스 병합 완료\")\n",
    "\n",
    "# 병합된 인덱스 검색\n",
    "query = \"여름 관광지\"\n",
    "results = store1.similarity_search(query, k=3)\n",
    "\n",
    "for i, r in enumerate(results, 1):\n",
    "    print(f\"{i}. {r.page_content}\")"
   ]
  },
  {
   "cell_type": "code",
   "execution_count": 13,
   "id": "b9b19d75-e3b5-423a-82a1-0ae6148be8aa",
   "metadata": {},
   "outputs": [
    {
     "name": "stdout",
     "output_type": "stream",
     "text": [
      " 병합된 인덱스 로드 완료\n"
     ]
    }
   ],
   "source": [
    "# 병합된 인덱스를 로컬에 저장\n",
    "store1.save_local(\"merged_faiss_store\")\n",
    "\n",
    "# 다시 불러오기\n",
    "loaded = FAISS.load_local(\n",
    "    \"merged_faiss_store\",\n",
    "    embedding,\n",
    "    allow_dangerous_deserialization=True\n",
    ")\n",
    "print(\" 병합된 인덱스 로드 완료\")"
   ]
  },
  {
   "cell_type": "markdown",
   "id": "398eeda5-c2fd-4876-9597-89c1a044222d",
   "metadata": {},
   "source": [
    "### [2] Chroma\n",
    ": Chroma는 2023년 2월경 미국의 스타트업 Chroma가 발표한 오픈소스 벡터 데이터베이스로,\n",
    "개발자 친화적인 로컬 RAG 기반 시스템 구축용 DB이다."
   ]
  },
  {
   "cell_type": "code",
   "execution_count": 14,
   "id": "3456d42a-3c01-4e25-9532-aa3a762796ab",
   "metadata": {},
   "outputs": [
    {
     "name": "stdout",
     "output_type": "stream",
     "text": [
      "제주도는 겨울에도 따뜻하다.\n",
      "서울의 봄은 벚꽃이 아름답다.\n"
     ]
    }
   ],
   "source": [
    "from langchain_chroma import Chroma\n",
    "\n",
    "# 1. 임베딩 모델\n",
    "embedding = OpenAIEmbeddings(model=\"text-embedding-3-small\")\n",
    "\n",
    "# 2. 문장 리스트\n",
    "texts = [\n",
    "    \"서울의 봄은 벚꽃이 아름답다.\",\n",
    "    \"부산의 해운대는 여름에 관광객이 많다.\",\n",
    "    \"제주도는 겨울에도 따뜻하다.\"\n",
    "]\n",
    "\n",
    "# 3. Chroma 벡터 저장소 생성 (자동으로 로컬 DB 생성)\n",
    "chroma_store = Chroma.from_texts(\n",
    "    texts=texts,\n",
    "    embedding=embedding,\n",
    "    collection_name=\"korea_travel\"\n",
    ")\n",
    "\n",
    "# 4. 검색\n",
    "query = \"겨울에 따뜻한 지역\"\n",
    "results = chroma_store.similarity_search(query,k=2)\n",
    "\n",
    "for r in results:\n",
    "    print(r.page_content)"
   ]
  },
  {
   "cell_type": "code",
   "execution_count": 15,
   "id": "9aec3a8c-0f16-4aa2-a905-6dec0c373330",
   "metadata": {},
   "outputs": [
    {
     "name": "stdout",
     "output_type": "stream",
     "text": [
      "Chroma 인덱스 자동 저장 완료\n",
      "Chroma 인덱스 로드 완료\n",
      "제주도는 겨울에도 따뜻하다.\n",
      "서울의 봄은 벚꽃이 아름답다.\n"
     ]
    }
   ],
   "source": [
    "# 저장/로드 명시적 설정\n",
    "from langchain_chroma import Chroma\n",
    "from langchain_openai import OpenAIEmbeddings\n",
    "\n",
    "embedding = OpenAIEmbeddings(model=\"text-embedding-3-small\")\n",
    "\n",
    "texts = [\n",
    "    \"서울의 봄은 벚꽃이 아름답다.\",\n",
    "    \"부산의 해운대는 여름에 관광객이 많다.\",\n",
    "    \"제주도는 겨울에도 따뜻하다.\"\n",
    "]\n",
    "\n",
    "# 저장 경로 지정 (자동 영구 저장)\n",
    "chroma_store = Chroma.from_texts(\n",
    "    texts=texts,\n",
    "    embedding=embedding,\n",
    "    collection_name=\"travel_korea\",\n",
    "    persist_directory=\"./chroma_db\"\n",
    ")\n",
    "\n",
    "print(\"Chroma 인덱스 자동 저장 완료\")\n",
    "\n",
    "# 불러오기 (persist_directory 지정 필수)\n",
    "loaded_store = Chroma(\n",
    "    collection_name=\"travel_korea\",\n",
    "    embedding_function=embedding,\n",
    "    persist_directory=\"./chroma_db\"\n",
    ")\n",
    "print(\"Chroma 인덱스 로드 완료\")\n",
    "\n",
    "# 검색\n",
    "query = \"겨울에 따뜻한 지역\"\n",
    "results = loaded_store.similarity_search(query, k=2)\n",
    "for r in results:\n",
    "    print(r.page_content)"
   ]
  },
  {
   "cell_type": "code",
   "execution_count": 16,
   "id": "edbfb019-a17a-4984-84ce-1451a6dd0d4b",
   "metadata": {},
   "outputs": [
    {
     "name": "stdout",
     "output_type": "stream",
     "text": [
      "제주는 겨울에도 따뜻합니다. {'city': 'Jeju'}\n"
     ]
    }
   ],
   "source": [
    "# 메타데이터 활용 (필터링 검색)\n",
    "from langchain_core.documents import Document\n",
    "\n",
    "docs = [\n",
    "    Document(page_content=\"서울의 벚꽃 명소는 여의도입니다.\", metadata={\"city\": \"Seoul\"}),\n",
    "    Document(page_content=\"부산의 해운대는 여름에 인기가 많습니다.\", metadata={\"city\": \"Busan\"}),\n",
    "    Document(page_content=\"제주는 겨울에도 따뜻합니다.\", metadata={\"city\": \"Jeju\"}),\n",
    "]\n",
    "\n",
    "chroma = Chroma.from_documents(\n",
    "    documents=docs,\n",
    "    embedding=embedding,\n",
    "    collection_name=\"travel_guide\",\n",
    "    persist_directory=\"./chroma_db\"\n",
    ")\n",
    "\n",
    "# 특정 도시만 필터링\n",
    "results = chroma.similarity_search(\"따뜻한 지역\", k=2, filter={\"city\": \"Jeju\"})\n",
    "for r in results:\n",
    "    print(r.page_content, r.metadata)"
   ]
  },
  {
   "cell_type": "code",
   "execution_count": 17,
   "id": "06ff006a-c8f1-40e4-a19f-1a8dd9c3eb38",
   "metadata": {},
   "outputs": [
    {
     "name": "stdout",
     "output_type": "stream",
     "text": [
      " 초기 문서 3개 추가 및 저장 완료\n",
      " 새 문서 2개 추가 완료\n",
      "\n",
      " [검색 결과]\n",
      "- 제주는 겨울에도 따뜻한 편이다. (Jeju)\n",
      "- 부산의 해운대는 여름에 인기가 많다. (Busan)\n",
      "- 서울의 봄은 벚꽃이 아름답다. (Seoul)\n",
      "- 강릉은 바다와 커피로 유명하다. (Gangneung)\n",
      "- 속초는 설악산이 가까워 등산객이 많다. (Sokcho)\n",
      "\n",
      " 'Seoul' 문서 삭제 완료\n",
      "\n",
      " [삭제 후 남은 문서]\n",
      "- 부산의 해운대는 여름에 인기가 많다. (Busan)\n",
      "- 제주는 겨울에도 따뜻한 편이다. (Jeju)\n",
      "- 강릉은 바다와 커피로 유명하다. (Gangneung)\n",
      "- 속초는 설악산이 가까워 등산객이 많다. (Sokcho)\n"
     ]
    }
   ],
   "source": [
    "# 문서 추가 및 문서 삭제\n",
    "from langchain_chroma import Chroma\n",
    "from langchain_openai import OpenAIEmbeddings\n",
    "from langchain_core.documents import Document\n",
    "\n",
    "embedding = OpenAIEmbeddings(model=\"text-embedding-3-small\")\n",
    "persist_dir = \"./chroma_db\"\n",
    "\n",
    "# 초기 문서 3개\n",
    "docs = [\n",
    "    Document(page_content=\"서울의 봄은 벚꽃이 아름답다.\", metadata={\"city\": \"Seoul\"}),\n",
    "    Document(page_content=\"부산의 해운대는 여름에 인기가 많다.\", metadata={\"city\": \"Busan\"}),\n",
    "    Document(page_content=\"제주는 겨울에도 따뜻한 편이다.\", metadata={\"city\": \"Jeju\"}),\n",
    "]\n",
    "\n",
    "chroma_store = Chroma.from_documents(\n",
    "    documents=docs,\n",
    "    embedding=embedding,\n",
    "    collection_name=\"korea_travel\",\n",
    "    persist_directory=persist_dir,\n",
    ")\n",
    "print(\" 초기 문서 3개 추가 및 저장 완료\")\n",
    "\n",
    "# 기존 DB 로드\n",
    "loaded_store = Chroma(\n",
    "    collection_name=\"korea_travel\",\n",
    "    embedding_function=embedding,\n",
    "    persist_directory=persist_dir,\n",
    ")\n",
    "\n",
    "# 새 문서 추가\n",
    "new_docs = [\n",
    "    Document(page_content=\"강릉은 바다와 커피로 유명하다.\", metadata={\"city\": \"Gangneung\"}),\n",
    "    Document(page_content=\"속초는 설악산이 가까워 등산객이 많다.\", metadata={\"city\": \"Sokcho\"}),\n",
    "]\n",
    "loaded_store.add_documents(new_docs)\n",
    "print(\" 새 문서 2개 추가 완료\")\n",
    "\n",
    "# 검색\n",
    "query = \"바다 여행지\"\n",
    "results = loaded_store.similarity_search(query, k=5)\n",
    "\n",
    "print(\"\\n [검색 결과]\")\n",
    "for r in results:\n",
    "    city = r.metadata.get(\"city\", \"정보 없음\")   # ← 안전한 접근\n",
    "    print(f\"- {r.page_content} ({city})\")\n",
    "\n",
    "# 특정 조건 삭제\n",
    "loaded_store.delete(where={\"city\": \"Seoul\"})\n",
    "print(\"\\n 'Seoul' 문서 삭제 완료\")\n",
    "\n",
    "# 삭제 후 확인\n",
    "results = loaded_store.similarity_search(\"여행\", k=5)\n",
    "print(\"\\n [삭제 후 남은 문서]\")\n",
    "for r in results:\n",
    "    city = r.metadata.get(\"city\", \"정보 없음\")\n",
    "    print(f\"- {r.page_content} ({city})\")"
   ]
  },
  {
   "cell_type": "code",
   "execution_count": 18,
   "id": "42ba8135-88e1-417f-9827-267e3b5137c2",
   "metadata": {},
   "outputs": [
    {
     "name": "stdout",
     "output_type": "stream",
     "text": [
      " 모든 문서 삭제 완료\n",
      "\n",
      " 남은 문서 개수: 0\n"
     ]
    }
   ],
   "source": [
    "#  전체 문서 삭제\n",
    "loaded_store.reset_collection()  # 벡터 저장소의 컬렉션을 초기화\n",
    "print(\" 모든 문서 삭제 완료\")\n",
    "\n",
    "#  삭제 후 확인\n",
    "results = loaded_store.similarity_search(\"여행\", k=5)\n",
    "print(f\"\\n 남은 문서 개수: {len(results)}\")"
   ]
  },
  {
   "cell_type": "markdown",
   "id": "4c2dbb17-5f95-4ba9-8aad-ee9b83562ec2",
   "metadata": {},
   "source": [
    "### [3] PostgreSQL + pgvector"
   ]
  },
  {
   "cell_type": "code",
   "execution_count": null,
   "id": "749f3785-fd57-4d2a-afd3-aced93baa666",
   "metadata": {},
   "outputs": [],
   "source": []
  }
 ],
 "metadata": {
  "kernelspec": {
   "display_name": "Python 3 (ipykernel)",
   "language": "python",
   "name": "python3"
  },
  "language_info": {
   "codemirror_mode": {
    "name": "ipython",
    "version": 3
   },
   "file_extension": ".py",
   "mimetype": "text/x-python",
   "name": "python",
   "nbconvert_exporter": "python",
   "pygments_lexer": "ipython3",
   "version": "3.12.7"
  }
 },
 "nbformat": 4,
 "nbformat_minor": 5
}
