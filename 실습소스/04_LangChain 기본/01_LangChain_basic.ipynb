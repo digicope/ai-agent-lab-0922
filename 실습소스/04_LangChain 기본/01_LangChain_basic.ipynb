{
 "cells": [
  {
   "cell_type": "markdown",
   "id": "bc66fff5-033e-4403-9e5f-692a79a7077c",
   "metadata": {},
   "source": [
    "## 랭체인 Basic 사용법\n",
    "https://docs.langchain.com/oss/python/langchain/overview"
   ]
  },
  {
   "cell_type": "code",
   "execution_count": 2,
   "id": "f882830d-20a5-430b-b0f8-665e629808dc",
   "metadata": {},
   "outputs": [],
   "source": [
    "# 랭체인 패키지 설치\n",
    "# !pip install langchain langchain-openai"
   ]
  },
  {
   "cell_type": "code",
   "execution_count": 4,
   "id": "2bc647d7-5dc1-47b9-ac3a-5b7bab5f1cec",
   "metadata": {},
   "outputs": [
    {
     "name": "stdout",
     "output_type": "stream",
     "text": [
      "0.3.27\n"
     ]
    }
   ],
   "source": [
    "import langchain\n",
    "print(langchain.__version__)  # 랭체인 버전 확인"
   ]
  },
  {
   "cell_type": "code",
   "execution_count": 1,
   "id": "c52d1362-a943-40fb-8218-ddbfa90de2f6",
   "metadata": {},
   "outputs": [
    {
     "data": {
      "text/plain": [
       "True"
      ]
     },
     "execution_count": 1,
     "metadata": {},
     "output_type": "execute_result"
    }
   ],
   "source": [
    "from dotenv import load_dotenv\n",
    "import os\n",
    "\n",
    "# .env 파일 불러오기\n",
    "load_dotenv(\"C:/env/.env\")\n",
    "\n",
    "#  환경 변수 가져오기\n",
    "# API_KEY = os.getenv(\"OPENAI_API_KEY\")\n",
    "\n",
    "# from openai import OpenAI\n",
    "# client = OpenAI(api_key=API_KEY)"
   ]
  },
  {
   "cell_type": "markdown",
   "id": "3c88ee1e-585c-418c-b5ff-622712026791",
   "metadata": {},
   "source": [
    "### 랭체인 사용 OpenAI API 호출하기"
   ]
  },
  {
   "cell_type": "code",
   "execution_count": 6,
   "id": "25b84e88-91ce-47f7-b36a-8098ea234c28",
   "metadata": {},
   "outputs": [
    {
     "name": "stdout",
     "output_type": "stream",
     "text": [
      "하늘이 파란 이유는 지구 대기 중의 산란 현상 때문입니다. 태양 빛은 다양한 색깔의 빛으로 구성되어 있으며, 각 색깔은 서로 다른 파장을 가지고 있습니다. 이 중에서 파란색 빛은 파장이 짧아 대기 중의 분자와 입자에 의해 많이 산란됩니다.\n",
      "\n",
      "태양 빛이 대기에 들어오면, 짧은 파장을 가진 파란색 빛이 다른 색깔의 빛에 비해 더 많이 산란되므로 우리는 하늘을 주로 파란색으로 보게 됩니다. 이 현상을 '레이리 산란'이라고 부르며, 특히 해가 높이 있을 때 더 뚜렷하게 나타납니다. 해가 저무는 저녁이나 아침에는 태양빛이 대기를 더 많이 통과해야 하기 때문에, 붉은색과 주황색의 빛이 산란되어 하늘이 붉거나 오렌지색으로 보입니다.\n"
     ]
    }
   ],
   "source": [
    "from langchain_openai import ChatOpenAI\n",
    "model = ChatOpenAI(model=\"gpt-4o-mini\")\n",
    "result = model.invoke(\"하늘은 왜 파란가요?\")\n",
    "print(result.content)"
   ]
  },
  {
   "cell_type": "code",
   "execution_count": 9,
   "id": "f5b64c7e-db75-40b5-96e0-0bf0eaf32c83",
   "metadata": {},
   "outputs": [
    {
     "name": "stdout",
     "output_type": "stream",
     "text": [
      "<class 'langchain_core.messages.ai.AIMessage'>\n"
     ]
    },
    {
     "data": {
      "text/plain": [
       "AIMessage(content=\"하늘이 파란 이유는 지구 대기 중의 산란 현상 때문입니다. 태양 빛은 다양한 색깔의 빛으로 구성되어 있으며, 각 색깔은 서로 다른 파장을 가지고 있습니다. 이 중에서 파란색 빛은 파장이 짧아 대기 중의 분자와 입자에 의해 많이 산란됩니다.\\n\\n태양 빛이 대기에 들어오면, 짧은 파장을 가진 파란색 빛이 다른 색깔의 빛에 비해 더 많이 산란되므로 우리는 하늘을 주로 파란색으로 보게 됩니다. 이 현상을 '레이리 산란'이라고 부르며, 특히 해가 높이 있을 때 더 뚜렷하게 나타납니다. 해가 저무는 저녁이나 아침에는 태양빛이 대기를 더 많이 통과해야 하기 때문에, 붉은색과 주황색의 빛이 산란되어 하늘이 붉거나 오렌지색으로 보입니다.\", additional_kwargs={'refusal': None}, response_metadata={'token_usage': {'completion_tokens': 215, 'prompt_tokens': 16, 'total_tokens': 231, 'completion_tokens_details': {'accepted_prediction_tokens': 0, 'audio_tokens': 0, 'reasoning_tokens': 0, 'rejected_prediction_tokens': 0}, 'prompt_tokens_details': {'audio_tokens': 0, 'cached_tokens': 0}}, 'model_name': 'gpt-4o-mini-2024-07-18', 'system_fingerprint': 'fp_560af6e559', 'id': 'chatcmpl-CRFZcGXLBE8h8HRcrTBkKN9OkLDpm', 'service_tier': 'default', 'finish_reason': 'stop', 'logprobs': None}, id='run--a7ee9cbb-ced8-450a-a685-ee0760a44ada-0', usage_metadata={'input_tokens': 16, 'output_tokens': 215, 'total_tokens': 231, 'input_token_details': {'audio': 0, 'cache_read': 0}, 'output_token_details': {'audio': 0, 'reasoning': 0}})"
      ]
     },
     "execution_count": 9,
     "metadata": {},
     "output_type": "execute_result"
    }
   ],
   "source": [
    "print(type(result))\n",
    "result"
   ]
  },
  {
   "cell_type": "code",
   "execution_count": 11,
   "id": "ec521630-9aa5-4d66-8ad9-423f7b56ef7e",
   "metadata": {},
   "outputs": [
    {
     "data": {
      "text/plain": [
       "AIMessage(content='하늘이 파란 이유는 대기 중의 산란 현상 때문입니다. 태양의 빛은 다양한 색깔의 빛이 혼합된 것이며, 이 색깔들은 각각 다른 파장을 가지고 있습니다. 파란색 빛은 파장이 짧기 때문에 대기 중의 산소와 질소 분자에 의해 다른 색의 빛보다 더 많이 산란됩니다.\\n\\n태양 빛이 대기를 통과할 때, 파란 빛은 더욱 널리 퍼지면서 하늘 전체가 파랗게 보이는 것입니다. 반면, 노란색이나 빨간색 빛은 파장이 길어 상대적으로 덜 산란되어 하늘 깊은 곳에서는 잘 보이지 않습니다. 따라서 낮에는 하늘이 일반적으로 파란색으로 보이게 됩니다.\\n\\n해질 무렵이나 해돋이 때는 태양광이 대기를 통과하는 거리가 길어지므로 파란색 빛이 더 많이 산란되고, 빨강, 주황 등의 따뜻한 색깔이 주목받게 되어 하늘이 붉거나 오렌지색으로 변하는 현상이 나타납니다.', additional_kwargs={'refusal': None}, response_metadata={'token_usage': {'completion_tokens': 247, 'prompt_tokens': 16, 'total_tokens': 263, 'completion_tokens_details': {'accepted_prediction_tokens': 0, 'audio_tokens': 0, 'reasoning_tokens': 0, 'rejected_prediction_tokens': 0}, 'prompt_tokens_details': {'audio_tokens': 0, 'cached_tokens': 0}}, 'model_name': 'gpt-4o-mini-2024-07-18', 'system_fingerprint': 'fp_560af6e559', 'id': 'chatcmpl-CRFl6d4iMA5JE5Id0IvvrozAZzMau', 'service_tier': 'default', 'finish_reason': 'stop', 'logprobs': None}, id='run--c3c16508-1eab-44fa-9606-256ef57639a6-0', usage_metadata={'input_tokens': 16, 'output_tokens': 247, 'total_tokens': 263, 'input_token_details': {'audio': 0, 'cache_read': 0}, 'output_token_details': {'audio': 0, 'reasoning': 0}})"
      ]
     },
     "execution_count": 11,
     "metadata": {},
     "output_type": "execute_result"
    }
   ],
   "source": [
    "from langchain_core.messages import HumanMessage\n",
    "model.invoke([HumanMessage(content=\"하늘은 왜 파란가요?\")])"
   ]
  },
  {
   "cell_type": "code",
   "execution_count": 15,
   "id": "c4413ad0-771d-4d29-88e2-74399841598a",
   "metadata": {},
   "outputs": [
    {
     "name": "stdout",
     "output_type": "stream",
     "text": [
      "<class 'langchain_core.messages.human.HumanMessage'>\n",
      "content='하늘은 왜 파란가요?' additional_kwargs={} response_metadata={}\n"
     ]
    }
   ],
   "source": [
    "obj = HumanMessage(content=\"하늘은 왜 파란가요?\")\n",
    "# str1 = \"하늘은 왜 파란가요?\"\n",
    "print(type(obj))\n",
    "print(obj)\n",
    "# dir(obj)"
   ]
  },
  {
   "cell_type": "code",
   "execution_count": 16,
   "id": "33b7e220-649f-4b5c-8c94-fb464797c95a",
   "metadata": {},
   "outputs": [
    {
     "data": {
      "text/plain": [
       "AIMessage(content='\"노란 이유\"라는 표현이 무엇을 의미하는지에 따라 다르게 해석될 수 있습니다. 일반적으로 \"노란색\"은 여러 가지 상징적인 의미를 가질 수 있습니다. 예를 들어:\\n\\n1. **밝음과 희망**: 노란색은 밝고 긍정적인 색으로, 햇빛이나 행복을 상징합니다.\\n2. **주의와 경고**: 노란색은 교통 신호나 경고 표지판 등에 사용되어 주의를 환기하는 역할을 합니다.\\n3. **비유적 의미**: \"노란 이유\"라는 표현이 비유적이라면, 특정한 상황이나 감정에 대해 언급하는 것일 수 있습니다.\\n\\n좀 더 구체적인 맥락이나 질문을 주시면 더 자세한 답변을 드릴 수 있을 것 같습니다!', additional_kwargs={'refusal': None}, response_metadata={'token_usage': {'completion_tokens': 181, 'prompt_tokens': 12, 'total_tokens': 193, 'completion_tokens_details': {'accepted_prediction_tokens': 0, 'audio_tokens': 0, 'reasoning_tokens': 0, 'rejected_prediction_tokens': 0}, 'prompt_tokens_details': {'audio_tokens': 0, 'cached_tokens': 0}}, 'model_name': 'gpt-4o-mini-2024-07-18', 'system_fingerprint': 'fp_560af6e559', 'id': 'chatcmpl-CRFot4jdA3fbj2M9A3TcRCZrdo5Ky', 'service_tier': 'default', 'finish_reason': 'stop', 'logprobs': None}, id='run--596479b5-372f-406f-87a4-8ec6f89717e5-0', usage_metadata={'input_tokens': 12, 'output_tokens': 181, 'total_tokens': 193, 'input_token_details': {'audio': 0, 'cache_read': 0}, 'output_token_details': {'audio': 0, 'reasoning': 0}})"
      ]
     },
     "execution_count": 16,
     "metadata": {},
     "output_type": "execute_result"
    }
   ],
   "source": [
    "model.invoke([HumanMessage(content=\"노란 이유는?\")])  # 대화 문맥이 유지 안됨 "
   ]
  },
  {
   "cell_type": "code",
   "execution_count": 17,
   "id": "f6c52020-e1ff-48c9-a89e-90ac024c9ef9",
   "metadata": {},
   "outputs": [
    {
     "data": {
      "text/plain": [
       "AIMessage(content='안녕하세요, 홍길동님! 만나서 반갑습니다. 어떻게 도와드릴까요?', additional_kwargs={'refusal': None}, response_metadata={'token_usage': {'completion_tokens': 21, 'prompt_tokens': 17, 'total_tokens': 38, 'completion_tokens_details': {'accepted_prediction_tokens': 0, 'audio_tokens': 0, 'reasoning_tokens': 0, 'rejected_prediction_tokens': 0}, 'prompt_tokens_details': {'audio_tokens': 0, 'cached_tokens': 0}}, 'model_name': 'gpt-4o-mini-2024-07-18', 'system_fingerprint': 'fp_560af6e559', 'id': 'chatcmpl-CRFpc9dTiKvOjvx27Tj2LeZKxQ9Gm', 'service_tier': 'default', 'finish_reason': 'stop', 'logprobs': None}, id='run--8c5304fe-5da3-423b-a3ef-7149075f1fa0-0', usage_metadata={'input_tokens': 17, 'output_tokens': 21, 'total_tokens': 38, 'input_token_details': {'audio': 0, 'cache_read': 0}, 'output_token_details': {'audio': 0, 'reasoning': 0}})"
      ]
     },
     "execution_count": 17,
     "metadata": {},
     "output_type": "execute_result"
    }
   ],
   "source": [
    "model.invoke([HumanMessage(content=\"안녕? 나는 홍길동이야!\")]) "
   ]
  },
  {
   "cell_type": "code",
   "execution_count": 18,
   "id": "58c5b212-6cdd-4215-91fc-5722b9e1347a",
   "metadata": {},
   "outputs": [
    {
     "data": {
      "text/plain": [
       "AIMessage(content='죄송하지만, 당신의 이름을 알 수 없습니다. 당신의 이름이 필요하시면 직접 말씀해 주시면 좋겠습니다!', additional_kwargs={'refusal': None}, response_metadata={'token_usage': {'completion_tokens': 27, 'prompt_tokens': 13, 'total_tokens': 40, 'completion_tokens_details': {'accepted_prediction_tokens': 0, 'audio_tokens': 0, 'reasoning_tokens': 0, 'rejected_prediction_tokens': 0}, 'prompt_tokens_details': {'audio_tokens': 0, 'cached_tokens': 0}}, 'model_name': 'gpt-4o-mini-2024-07-18', 'system_fingerprint': 'fp_560af6e559', 'id': 'chatcmpl-CRFptRqqIK4iBqwcWZpClf3ezdXFR', 'service_tier': 'default', 'finish_reason': 'stop', 'logprobs': None}, id='run--1871a097-9409-420d-a579-5a9041a2eded-0', usage_metadata={'input_tokens': 13, 'output_tokens': 27, 'total_tokens': 40, 'input_token_details': {'audio': 0, 'cache_read': 0}, 'output_token_details': {'audio': 0, 'reasoning': 0}})"
      ]
     },
     "execution_count": 18,
     "metadata": {},
     "output_type": "execute_result"
    }
   ],
   "source": [
    "model.invoke([HumanMessage(content=\"내 이름이 뭐지?\")])  # 대화 컨텍스트 유지 안됨 "
   ]
  },
  {
   "cell_type": "code",
   "execution_count": 19,
   "id": "5512db67-bbb1-402e-8233-1af14a07cb84",
   "metadata": {},
   "outputs": [
    {
     "name": "stdout",
     "output_type": "stream",
     "text": [
      "LangChain은 언어 모델(예: GPT-3, GPT-4 등)을 활용하여 다양한 애플리케이션을 구축할 수 있도록 도와주는 프레임워크입니다. 주로 텍스트 기반의 작업에서 유용하며, 다음과 같은 기능을 제공합니다:\n",
      "\n",
      "1. **모델 관리**: 여러 언어 모델을 쉽게 관리하고 사용할 수 있도록 도와줍니다.\n",
      "2. **체인 생성**: 여러 가지 언어 모델 및 툴을 조합하여 복잡한 작업을 수행하는 체인을 구성할 수 있습니다.\n",
      "3. **데이터 연결**: 외부 데이터 소스와 연결하여 실시간 데이터에 기반한 텍스트 생성 및 처리를 수행할 수 있습니다.\n",
      "4. **응용 프로그램 개발**: 챗봇, 지식 기반, 상호작용형 이야기 생성을 포함한 다양한 NLP(Natural Language Processing) 애플리케이션을 빠르고 손쉽게 개발할 수 있습니다.\n",
      "\n",
      "LangChain은 특히 대화형 AI 및 텍스트 생성 애플리케이션에서 강력한 도구로 자리 잡고 있습니다. 필요에 따라 다양한 플러그인과 도구를 추가할 수도 있어 유연하게 활용할 수 있습니다. 더 궁금한 점이 있으면 말씀해 주세요!\n"
     ]
    }
   ],
   "source": [
    "from langchain_core.messages import HumanMessage, AIMessage, SystemMessage\n",
    "\n",
    "messages = [\n",
    "    SystemMessage(content=\"너는 친절한 조교야.\"),\n",
    "    HumanMessage(content=\"안녕?\"),\n",
    "    AIMessage(content=\"안녕하세요! 무엇을 도와드릴까요?\"),\n",
    "    HumanMessage(content=\"LangChain이 뭐야?\")   \n",
    "]\n",
    "\n",
    "response = model.invoke(messages)\n",
    "print(response.content)"
   ]
  },
  {
   "cell_type": "markdown",
   "id": "ee2fe04e-0b1d-481d-b665-e5f4e1dcc52a",
   "metadata": {},
   "source": [
    "### 멀티턴 대화 구현하기"
   ]
  },
  {
   "cell_type": "code",
   "execution_count": 23,
   "id": "8f7139f4-ef82-4239-893e-d496e0bc9e72",
   "metadata": {},
   "outputs": [],
   "source": [
    "from langchain_openai import ChatOpenAI\n",
    "from langchain_core.messages import HumanMessage\n",
    "from langchain_core.chat_history import InMemoryChatMessageHistory       # 메모리에 대화 기록을 저장하는 클래스\n",
    "from langchain_core.runnables.history import RunnableWithMessageHistory  # 메시지 기록을 활용해 실행 가능한 래퍼 클래스\n",
    "\n",
    "model = ChatOpenAI(model=\"gpt-4o-mini\")\n",
    "\n",
    "# 세션별 대화 기록을 저장할 딕셔너리\n",
    "store = {}\n",
    "\n",
    "# 세션 ID에 따라 대화 기록을 가져오는 함수\n",
    "def get_session_history(session_id:str):\n",
    "    # 만약 해당 세션 ID가 store에 없으면, 새로 생성해 추가함\n",
    "    if session_id not in store:\n",
    "        store[session_id] = InMemoryChatMessageHistory()  # 메모리에 대화 기록을 저장하는 객체 생성\n",
    "    return store[session_id]                              # 해당 세션의 대화 기록을 반환\n",
    "        \n",
    "# 모델 실행 시 대화 기록을 함께 전달하는 래퍼 객체 생성\n",
    "with_messages_history = RunnableWithMessageHistory(model,get_session_history)"
   ]
  },
  {
   "cell_type": "code",
   "execution_count": 25,
   "id": "06e36677-2f7a-4e3f-8883-ee699e5c1afa",
   "metadata": {},
   "outputs": [
    {
     "name": "stdout",
     "output_type": "stream",
     "text": [
      "<class 'langchain_core.runnables.history.RunnableWithMessageHistory'>\n",
      "bound=RunnableBinding(bound=RunnableBinding(bound=RunnableLambda(_enter_history), kwargs={}, config={'run_name': 'load_history'}, config_factories=[])\n",
      "| RunnableBinding(bound=RunnableLambda(_call_runnable_sync), kwargs={}, config={'run_name': 'check_sync_or_async'}, config_factories=[]), kwargs={}, config={'run_name': 'RunnableWithMessageHistory'}, config_factories=[]) kwargs={} config={} config_factories=[] get_session_history=<function get_session_history at 0x0000020542E71A80> history_factory_config=[ConfigurableFieldSpec(id='session_id', annotation=<class 'str'>, name='Session ID', description='Unique identifier for a session.', default='', is_shared=True, dependencies=None)]\n"
     ]
    }
   ],
   "source": [
    "print(type(with_messages_history))\n",
    "print(with_messages_history)\n",
    "# dir(with_messages_history) # \"invoke\""
   ]
  },
  {
   "cell_type": "code",
   "execution_count": 28,
   "id": "88a8b003-1fe6-4f00-a640-3fb803c443cc",
   "metadata": {},
   "outputs": [
    {
     "name": "stdout",
     "output_type": "stream",
     "text": [
      "안녕하세요, 홍길동님! 만나서 반갑습니다. 어떻게 도와드릴까요?\n"
     ]
    }
   ],
   "source": [
    "config = {\"configurable\": {\"session_id\": \"chat-001\"}}  # 세션 ID를 설정하는 config 객체 생성\n",
    "\n",
    "response = with_messages_history.invoke(\n",
    "    [HumanMessage(content=\"안녕? 나는 홍길동이야!\")],\n",
    "    config=config,\n",
    ")\n",
    "\n",
    "print(response.content)"
   ]
  },
  {
   "cell_type": "code",
   "execution_count": 29,
   "id": "374f18c0-dac7-4250-968a-60002e3cf894",
   "metadata": {},
   "outputs": [
    {
     "data": {
      "text/plain": [
       "{'configurable': {'session_id': 'chat-001'}}"
      ]
     },
     "execution_count": 29,
     "metadata": {},
     "output_type": "execute_result"
    }
   ],
   "source": [
    "config"
   ]
  },
  {
   "cell_type": "code",
   "execution_count": 30,
   "id": "69314a41-52d1-4d7b-bc06-887749065a19",
   "metadata": {},
   "outputs": [
    {
     "name": "stdout",
     "output_type": "stream",
     "text": [
      "당신의 이름은 홍길동입니다! 다른 질문이나 얘기하고 싶은 것이 있으면 말씀해 주세요.\n"
     ]
    }
   ],
   "source": [
    "response = with_messages_history.invoke(\n",
    "    [HumanMessage(content=\"내 이름이 뭐지?\")],\n",
    "    config=config,\n",
    ")\n",
    "\n",
    "print(response.content)"
   ]
  },
  {
   "cell_type": "code",
   "execution_count": 33,
   "id": "e96cd0cc-d11b-48fd-86cc-8d0c48c99396",
   "metadata": {},
   "outputs": [
    {
     "data": {
      "text/plain": [
       "{'chat-001': InMemoryChatMessageHistory(messages=[HumanMessage(content='안녕? 나는 홍길동이야!', additional_kwargs={}, response_metadata={}), AIMessage(content='안녕하세요, 홍길동님! 만나서 반갑습니다. 어떻게 도와드릴까요?', additional_kwargs={'refusal': None}, response_metadata={'token_usage': {'completion_tokens': 21, 'prompt_tokens': 17, 'total_tokens': 38, 'completion_tokens_details': {'accepted_prediction_tokens': 0, 'audio_tokens': 0, 'reasoning_tokens': 0, 'rejected_prediction_tokens': 0}, 'prompt_tokens_details': {'audio_tokens': 0, 'cached_tokens': 0}}, 'model_name': 'gpt-4o-mini-2024-07-18', 'system_fingerprint': 'fp_560af6e559', 'id': 'chatcmpl-CRGmMMLj4SHpY4OiirYb8efHihMd4', 'service_tier': 'default', 'finish_reason': 'stop', 'logprobs': None}, id='run--92d412db-6f4c-48b9-8325-4d0e17ddc837-0', usage_metadata={'input_tokens': 17, 'output_tokens': 21, 'total_tokens': 38, 'input_token_details': {'audio': 0, 'cache_read': 0}, 'output_token_details': {'audio': 0, 'reasoning': 0}}), HumanMessage(content='내 이름이 뭐지?', additional_kwargs={}, response_metadata={}), AIMessage(content='당신의 이름은 홍길동입니다! 다른 질문이나 얘기하고 싶은 것이 있으면 말씀해 주세요.', additional_kwargs={'refusal': None}, response_metadata={'token_usage': {'completion_tokens': 25, 'prompt_tokens': 52, 'total_tokens': 77, 'completion_tokens_details': {'accepted_prediction_tokens': 0, 'audio_tokens': 0, 'reasoning_tokens': 0, 'rejected_prediction_tokens': 0}, 'prompt_tokens_details': {'audio_tokens': 0, 'cached_tokens': 0}}, 'model_name': 'gpt-4o-mini-2024-07-18', 'system_fingerprint': 'fp_560af6e559', 'id': 'chatcmpl-CRGnenZSmKSmQyFgwLHgUZHLWZKl9', 'service_tier': 'default', 'finish_reason': 'stop', 'logprobs': None}, id='run--9da715dd-3151-4677-b94b-cc99a2a0bb0e-0', usage_metadata={'input_tokens': 52, 'output_tokens': 25, 'total_tokens': 77, 'input_token_details': {'audio': 0, 'cache_read': 0}, 'output_token_details': {'audio': 0, 'reasoning': 0}})])}"
      ]
     },
     "execution_count": 33,
     "metadata": {},
     "output_type": "execute_result"
    }
   ],
   "source": [
    "store"
   ]
  },
  {
   "cell_type": "code",
   "execution_count": 34,
   "id": "8fcdee65-1548-4f2f-b56d-190f40ac6c5b",
   "metadata": {},
   "outputs": [
    {
     "name": "stdout",
     "output_type": "stream",
     "text": [
      "죄송하지만, 당신의 이름을 알 수 있는 정보가 없습니다. 당신의 이름을 알려주시면 좋겠습니다!\n"
     ]
    }
   ],
   "source": [
    "config = {\"configurable\": {\"session_id\": \"chat-002\"}}  # 다른 session_id\n",
    "\n",
    "response = with_messages_history.invoke(\n",
    "    [HumanMessage(content=\"내 이름이 뭐지?\")],\n",
    "    config=config,\n",
    ")\n",
    "\n",
    "print(response.content)"
   ]
  },
  {
   "cell_type": "code",
   "execution_count": 35,
   "id": "90c1bcef-b5f1-4483-98cf-98f0dfdbd12e",
   "metadata": {},
   "outputs": [
    {
     "data": {
      "text/plain": [
       "{'chat-001': InMemoryChatMessageHistory(messages=[HumanMessage(content='안녕? 나는 홍길동이야!', additional_kwargs={}, response_metadata={}), AIMessage(content='안녕하세요, 홍길동님! 만나서 반갑습니다. 어떻게 도와드릴까요?', additional_kwargs={'refusal': None}, response_metadata={'token_usage': {'completion_tokens': 21, 'prompt_tokens': 17, 'total_tokens': 38, 'completion_tokens_details': {'accepted_prediction_tokens': 0, 'audio_tokens': 0, 'reasoning_tokens': 0, 'rejected_prediction_tokens': 0}, 'prompt_tokens_details': {'audio_tokens': 0, 'cached_tokens': 0}}, 'model_name': 'gpt-4o-mini-2024-07-18', 'system_fingerprint': 'fp_560af6e559', 'id': 'chatcmpl-CRGmMMLj4SHpY4OiirYb8efHihMd4', 'service_tier': 'default', 'finish_reason': 'stop', 'logprobs': None}, id='run--92d412db-6f4c-48b9-8325-4d0e17ddc837-0', usage_metadata={'input_tokens': 17, 'output_tokens': 21, 'total_tokens': 38, 'input_token_details': {'audio': 0, 'cache_read': 0}, 'output_token_details': {'audio': 0, 'reasoning': 0}}), HumanMessage(content='내 이름이 뭐지?', additional_kwargs={}, response_metadata={}), AIMessage(content='당신의 이름은 홍길동입니다! 다른 질문이나 얘기하고 싶은 것이 있으면 말씀해 주세요.', additional_kwargs={'refusal': None}, response_metadata={'token_usage': {'completion_tokens': 25, 'prompt_tokens': 52, 'total_tokens': 77, 'completion_tokens_details': {'accepted_prediction_tokens': 0, 'audio_tokens': 0, 'reasoning_tokens': 0, 'rejected_prediction_tokens': 0}, 'prompt_tokens_details': {'audio_tokens': 0, 'cached_tokens': 0}}, 'model_name': 'gpt-4o-mini-2024-07-18', 'system_fingerprint': 'fp_560af6e559', 'id': 'chatcmpl-CRGnenZSmKSmQyFgwLHgUZHLWZKl9', 'service_tier': 'default', 'finish_reason': 'stop', 'logprobs': None}, id='run--9da715dd-3151-4677-b94b-cc99a2a0bb0e-0', usage_metadata={'input_tokens': 52, 'output_tokens': 25, 'total_tokens': 77, 'input_token_details': {'audio': 0, 'cache_read': 0}, 'output_token_details': {'audio': 0, 'reasoning': 0}})]),\n",
       " 'chat-002': InMemoryChatMessageHistory(messages=[HumanMessage(content='내 이름이 뭐지?', additional_kwargs={}, response_metadata={}), AIMessage(content='죄송하지만, 당신의 이름을 알 수 있는 정보가 없습니다. 당신의 이름을 알려주시면 좋겠습니다!', additional_kwargs={'refusal': None}, response_metadata={'token_usage': {'completion_tokens': 25, 'prompt_tokens': 13, 'total_tokens': 38, 'completion_tokens_details': {'accepted_prediction_tokens': 0, 'audio_tokens': 0, 'reasoning_tokens': 0, 'rejected_prediction_tokens': 0}, 'prompt_tokens_details': {'audio_tokens': 0, 'cached_tokens': 0}}, 'model_name': 'gpt-4o-mini-2024-07-18', 'system_fingerprint': 'fp_560af6e559', 'id': 'chatcmpl-CRH9BgTe7SBeSpRjNxfrouyDB6tby', 'service_tier': 'default', 'finish_reason': 'stop', 'logprobs': None}, id='run--c5fc0829-01e2-4cc0-b1a0-6e7a54437872-0', usage_metadata={'input_tokens': 13, 'output_tokens': 25, 'total_tokens': 38, 'input_token_details': {'audio': 0, 'cache_read': 0}, 'output_token_details': {'audio': 0, 'reasoning': 0}})])}"
      ]
     },
     "execution_count": 35,
     "metadata": {},
     "output_type": "execute_result"
    }
   ],
   "source": [
    "store"
   ]
  },
  {
   "cell_type": "code",
   "execution_count": 36,
   "id": "51b884c2-080c-43de-abe3-edb677cc00f5",
   "metadata": {},
   "outputs": [
    {
     "name": "stdout",
     "output_type": "stream",
     "text": [
      "우리는 당신의 이름이 홍길동이라는 것에 대해 이야기했습니다. 더 이야기하고 싶은 주제가 있나요? 다른 질문이 있으시면 말씀해 주세요!\n"
     ]
    }
   ],
   "source": [
    "config = {\"configurable\": {\"session_id\": \"chat-001\"}}  \n",
    "\n",
    "response = with_messages_history.invoke(\n",
    "    [HumanMessage(content=\"아까 우리가 무슨 얘기 했지?\")],\n",
    "    config=config,\n",
    ")\n",
    "\n",
    "print(response.content)"
   ]
  },
  {
   "cell_type": "code",
   "execution_count": 37,
   "id": "bf6529f7-6c86-46b2-9bbb-1746ce9a53a5",
   "metadata": {},
   "outputs": [
    {
     "data": {
      "text/plain": [
       "{'chat-001': InMemoryChatMessageHistory(messages=[HumanMessage(content='안녕? 나는 홍길동이야!', additional_kwargs={}, response_metadata={}), AIMessage(content='안녕하세요, 홍길동님! 만나서 반갑습니다. 어떻게 도와드릴까요?', additional_kwargs={'refusal': None}, response_metadata={'token_usage': {'completion_tokens': 21, 'prompt_tokens': 17, 'total_tokens': 38, 'completion_tokens_details': {'accepted_prediction_tokens': 0, 'audio_tokens': 0, 'reasoning_tokens': 0, 'rejected_prediction_tokens': 0}, 'prompt_tokens_details': {'audio_tokens': 0, 'cached_tokens': 0}}, 'model_name': 'gpt-4o-mini-2024-07-18', 'system_fingerprint': 'fp_560af6e559', 'id': 'chatcmpl-CRGmMMLj4SHpY4OiirYb8efHihMd4', 'service_tier': 'default', 'finish_reason': 'stop', 'logprobs': None}, id='run--92d412db-6f4c-48b9-8325-4d0e17ddc837-0', usage_metadata={'input_tokens': 17, 'output_tokens': 21, 'total_tokens': 38, 'input_token_details': {'audio': 0, 'cache_read': 0}, 'output_token_details': {'audio': 0, 'reasoning': 0}}), HumanMessage(content='내 이름이 뭐지?', additional_kwargs={}, response_metadata={}), AIMessage(content='당신의 이름은 홍길동입니다! 다른 질문이나 얘기하고 싶은 것이 있으면 말씀해 주세요.', additional_kwargs={'refusal': None}, response_metadata={'token_usage': {'completion_tokens': 25, 'prompt_tokens': 52, 'total_tokens': 77, 'completion_tokens_details': {'accepted_prediction_tokens': 0, 'audio_tokens': 0, 'reasoning_tokens': 0, 'rejected_prediction_tokens': 0}, 'prompt_tokens_details': {'audio_tokens': 0, 'cached_tokens': 0}}, 'model_name': 'gpt-4o-mini-2024-07-18', 'system_fingerprint': 'fp_560af6e559', 'id': 'chatcmpl-CRGnenZSmKSmQyFgwLHgUZHLWZKl9', 'service_tier': 'default', 'finish_reason': 'stop', 'logprobs': None}, id='run--9da715dd-3151-4677-b94b-cc99a2a0bb0e-0', usage_metadata={'input_tokens': 52, 'output_tokens': 25, 'total_tokens': 77, 'input_token_details': {'audio': 0, 'cache_read': 0}, 'output_token_details': {'audio': 0, 'reasoning': 0}}), HumanMessage(content='아까 우리가 무슨 얘기 했지?', additional_kwargs={}, response_metadata={}), AIMessage(content='우리는 당신의 이름이 홍길동이라는 것에 대해 이야기했습니다. 더 이야기하고 싶은 주제가 있나요? 다른 질문이 있으시면 말씀해 주세요!', additional_kwargs={'refusal': None}, response_metadata={'token_usage': {'completion_tokens': 34, 'prompt_tokens': 96, 'total_tokens': 130, 'completion_tokens_details': {'accepted_prediction_tokens': 0, 'audio_tokens': 0, 'reasoning_tokens': 0, 'rejected_prediction_tokens': 0}, 'prompt_tokens_details': {'audio_tokens': 0, 'cached_tokens': 0}}, 'model_name': 'gpt-4o-mini-2024-07-18', 'system_fingerprint': 'fp_560af6e559', 'id': 'chatcmpl-CRHCWgNhcS2MzWCXtH0jWo701mMMn', 'service_tier': 'default', 'finish_reason': 'stop', 'logprobs': None}, id='run--54261d6e-c8fd-4bfa-b245-f5b3d9ff6d16-0', usage_metadata={'input_tokens': 96, 'output_tokens': 34, 'total_tokens': 130, 'input_token_details': {'audio': 0, 'cache_read': 0}, 'output_token_details': {'audio': 0, 'reasoning': 0}})]),\n",
       " 'chat-002': InMemoryChatMessageHistory(messages=[HumanMessage(content='내 이름이 뭐지?', additional_kwargs={}, response_metadata={}), AIMessage(content='죄송하지만, 당신의 이름을 알 수 있는 정보가 없습니다. 당신의 이름을 알려주시면 좋겠습니다!', additional_kwargs={'refusal': None}, response_metadata={'token_usage': {'completion_tokens': 25, 'prompt_tokens': 13, 'total_tokens': 38, 'completion_tokens_details': {'accepted_prediction_tokens': 0, 'audio_tokens': 0, 'reasoning_tokens': 0, 'rejected_prediction_tokens': 0}, 'prompt_tokens_details': {'audio_tokens': 0, 'cached_tokens': 0}}, 'model_name': 'gpt-4o-mini-2024-07-18', 'system_fingerprint': 'fp_560af6e559', 'id': 'chatcmpl-CRH9BgTe7SBeSpRjNxfrouyDB6tby', 'service_tier': 'default', 'finish_reason': 'stop', 'logprobs': None}, id='run--c5fc0829-01e2-4cc0-b1a0-6e7a54437872-0', usage_metadata={'input_tokens': 13, 'output_tokens': 25, 'total_tokens': 38, 'input_token_details': {'audio': 0, 'cache_read': 0}, 'output_token_details': {'audio': 0, 'reasoning': 0}})])}"
      ]
     },
     "execution_count": 37,
     "metadata": {},
     "output_type": "execute_result"
    }
   ],
   "source": [
    "store"
   ]
  },
  {
   "cell_type": "code",
   "execution_count": 38,
   "id": "8b4fd27b-7bf8-4fe2-a0e7-5aa4f67be2ee",
   "metadata": {},
   "outputs": [
    {
     "name": "stdout",
     "output_type": "stream",
     "text": [
      "하늘이 파란 이유는 대기 중의 공기 분자가 태양 빛을 산란시키기 때문입니다. 태양 빛은 여러 색상의 빛으로 이루어져 있고, 각 색은 서로 다른 파장을 가지고 있습니다. 파란빛은 다른 색에 비해 파장이 짧고 대기에서 더 많이 산란됩니다. \n",
      "\n",
      "따라서 태양 빛이 대기에 들어오면 파란색 빛이 다른 색보다 더 많이 산란되어 하늘이 파랗게 보이는 것입니다. 특히, 해가 높이 떠 있는 낮 시간대에 이 현상이 더 뚜렷하게 나타납니다. 해가 지거나 나갈 때 하늘이 빨간색이나 주황색으로 보이는 것은 대기를 통과하는 빛의 길이가 길어져 파란색이 더 많이 산란되어 멀리 나가고, 나머지 붉은색 계열의 색깔이 남기 때문입니다.\n"
     ]
    }
   ],
   "source": [
    "config = {\"configurable\": {\"session_id\": \"chat-001\"}}  \n",
    "\n",
    "response = with_messages_history.invoke(\n",
    "    [HumanMessage(content=\"하늘은 왜 파란가요?\")],\n",
    "    config=config,\n",
    ")\n",
    "\n",
    "print(response.content)"
   ]
  },
  {
   "cell_type": "code",
   "execution_count": 39,
   "id": "e7de6a44-9e40-41f0-b889-30c55951320a",
   "metadata": {},
   "outputs": [
    {
     "data": {
      "text/plain": [
       "{'chat-001': InMemoryChatMessageHistory(messages=[HumanMessage(content='안녕? 나는 홍길동이야!', additional_kwargs={}, response_metadata={}), AIMessage(content='안녕하세요, 홍길동님! 만나서 반갑습니다. 어떻게 도와드릴까요?', additional_kwargs={'refusal': None}, response_metadata={'token_usage': {'completion_tokens': 21, 'prompt_tokens': 17, 'total_tokens': 38, 'completion_tokens_details': {'accepted_prediction_tokens': 0, 'audio_tokens': 0, 'reasoning_tokens': 0, 'rejected_prediction_tokens': 0}, 'prompt_tokens_details': {'audio_tokens': 0, 'cached_tokens': 0}}, 'model_name': 'gpt-4o-mini-2024-07-18', 'system_fingerprint': 'fp_560af6e559', 'id': 'chatcmpl-CRGmMMLj4SHpY4OiirYb8efHihMd4', 'service_tier': 'default', 'finish_reason': 'stop', 'logprobs': None}, id='run--92d412db-6f4c-48b9-8325-4d0e17ddc837-0', usage_metadata={'input_tokens': 17, 'output_tokens': 21, 'total_tokens': 38, 'input_token_details': {'audio': 0, 'cache_read': 0}, 'output_token_details': {'audio': 0, 'reasoning': 0}}), HumanMessage(content='내 이름이 뭐지?', additional_kwargs={}, response_metadata={}), AIMessage(content='당신의 이름은 홍길동입니다! 다른 질문이나 얘기하고 싶은 것이 있으면 말씀해 주세요.', additional_kwargs={'refusal': None}, response_metadata={'token_usage': {'completion_tokens': 25, 'prompt_tokens': 52, 'total_tokens': 77, 'completion_tokens_details': {'accepted_prediction_tokens': 0, 'audio_tokens': 0, 'reasoning_tokens': 0, 'rejected_prediction_tokens': 0}, 'prompt_tokens_details': {'audio_tokens': 0, 'cached_tokens': 0}}, 'model_name': 'gpt-4o-mini-2024-07-18', 'system_fingerprint': 'fp_560af6e559', 'id': 'chatcmpl-CRGnenZSmKSmQyFgwLHgUZHLWZKl9', 'service_tier': 'default', 'finish_reason': 'stop', 'logprobs': None}, id='run--9da715dd-3151-4677-b94b-cc99a2a0bb0e-0', usage_metadata={'input_tokens': 52, 'output_tokens': 25, 'total_tokens': 77, 'input_token_details': {'audio': 0, 'cache_read': 0}, 'output_token_details': {'audio': 0, 'reasoning': 0}}), HumanMessage(content='아까 우리가 무슨 얘기 했지?', additional_kwargs={}, response_metadata={}), AIMessage(content='우리는 당신의 이름이 홍길동이라는 것에 대해 이야기했습니다. 더 이야기하고 싶은 주제가 있나요? 다른 질문이 있으시면 말씀해 주세요!', additional_kwargs={'refusal': None}, response_metadata={'token_usage': {'completion_tokens': 34, 'prompt_tokens': 96, 'total_tokens': 130, 'completion_tokens_details': {'accepted_prediction_tokens': 0, 'audio_tokens': 0, 'reasoning_tokens': 0, 'rejected_prediction_tokens': 0}, 'prompt_tokens_details': {'audio_tokens': 0, 'cached_tokens': 0}}, 'model_name': 'gpt-4o-mini-2024-07-18', 'system_fingerprint': 'fp_560af6e559', 'id': 'chatcmpl-CRHCWgNhcS2MzWCXtH0jWo701mMMn', 'service_tier': 'default', 'finish_reason': 'stop', 'logprobs': None}, id='run--54261d6e-c8fd-4bfa-b245-f5b3d9ff6d16-0', usage_metadata={'input_tokens': 96, 'output_tokens': 34, 'total_tokens': 130, 'input_token_details': {'audio': 0, 'cache_read': 0}, 'output_token_details': {'audio': 0, 'reasoning': 0}}), HumanMessage(content='하늘은 왜 파란가요?', additional_kwargs={}, response_metadata={}), AIMessage(content='하늘이 파란 이유는 대기 중의 공기 분자가 태양 빛을 산란시키기 때문입니다. 태양 빛은 여러 색상의 빛으로 이루어져 있고, 각 색은 서로 다른 파장을 가지고 있습니다. 파란빛은 다른 색에 비해 파장이 짧고 대기에서 더 많이 산란됩니다. \\n\\n따라서 태양 빛이 대기에 들어오면 파란색 빛이 다른 색보다 더 많이 산란되어 하늘이 파랗게 보이는 것입니다. 특히, 해가 높이 떠 있는 낮 시간대에 이 현상이 더 뚜렷하게 나타납니다. 해가 지거나 나갈 때 하늘이 빨간색이나 주황색으로 보이는 것은 대기를 통과하는 빛의 길이가 길어져 파란색이 더 많이 산란되어 멀리 나가고, 나머지 붉은색 계열의 색깔이 남기 때문입니다.', additional_kwargs={'refusal': None}, response_metadata={'token_usage': {'completion_tokens': 209, 'prompt_tokens': 147, 'total_tokens': 356, 'completion_tokens_details': {'accepted_prediction_tokens': 0, 'audio_tokens': 0, 'reasoning_tokens': 0, 'rejected_prediction_tokens': 0}, 'prompt_tokens_details': {'audio_tokens': 0, 'cached_tokens': 0}}, 'model_name': 'gpt-4o-mini-2024-07-18', 'system_fingerprint': 'fp_560af6e559', 'id': 'chatcmpl-CRHIN5YVcvMh4QZCtBiXEgIaUe6N9', 'service_tier': 'default', 'finish_reason': 'stop', 'logprobs': None}, id='run--e5cc0324-71ee-431d-b4a8-e0c615c7c1bb-0', usage_metadata={'input_tokens': 147, 'output_tokens': 209, 'total_tokens': 356, 'input_token_details': {'audio': 0, 'cache_read': 0}, 'output_token_details': {'audio': 0, 'reasoning': 0}})]),\n",
       " 'chat-002': InMemoryChatMessageHistory(messages=[HumanMessage(content='내 이름이 뭐지?', additional_kwargs={}, response_metadata={}), AIMessage(content='죄송하지만, 당신의 이름을 알 수 있는 정보가 없습니다. 당신의 이름을 알려주시면 좋겠습니다!', additional_kwargs={'refusal': None}, response_metadata={'token_usage': {'completion_tokens': 25, 'prompt_tokens': 13, 'total_tokens': 38, 'completion_tokens_details': {'accepted_prediction_tokens': 0, 'audio_tokens': 0, 'reasoning_tokens': 0, 'rejected_prediction_tokens': 0}, 'prompt_tokens_details': {'audio_tokens': 0, 'cached_tokens': 0}}, 'model_name': 'gpt-4o-mini-2024-07-18', 'system_fingerprint': 'fp_560af6e559', 'id': 'chatcmpl-CRH9BgTe7SBeSpRjNxfrouyDB6tby', 'service_tier': 'default', 'finish_reason': 'stop', 'logprobs': None}, id='run--c5fc0829-01e2-4cc0-b1a0-6e7a54437872-0', usage_metadata={'input_tokens': 13, 'output_tokens': 25, 'total_tokens': 38, 'input_token_details': {'audio': 0, 'cache_read': 0}, 'output_token_details': {'audio': 0, 'reasoning': 0}})])}"
      ]
     },
     "execution_count": 39,
     "metadata": {},
     "output_type": "execute_result"
    }
   ],
   "source": [
    "store"
   ]
  },
  {
   "cell_type": "code",
   "execution_count": 40,
   "id": "3678cfa2-e100-4d3d-82fd-f6bb027aba52",
   "metadata": {},
   "outputs": [
    {
     "name": "stdout",
     "output_type": "stream",
     "text": [
      "하늘이 노란색으로 보이는 경우는 일반적으로 두 가지 주된 이유가 있습니다.\n",
      "\n",
      "1. **태양의 위치**: 해가 낮게 지거나 떠 있을 때, 태양빛이 대기를 두껍게 통과하게 됩니다. 이때 파란색 빛은 산란되어 사라지고, 남은 주황색과 노란색 빛이 더 많이 보이게 됩니다. 특히, 해질 무렵이나 해돋이 때 하늘이 노란색으로 보이는 것은 이와 같은 이유입니다.\n",
      "\n",
      "2. **대기 중의 입자**: 대기 중에 먼지, 미세한 입자, 혹은 오염물질이 있을 경우에도 빛의 산란 방식이 영향을 받습니다. 이 경우, 파란색 빛이 산란되면서 노란빛이 더욱 강조되기도 합니다. 특히, 이런 경우 하늘이 탁하게 보이면서 노란색 또는 주황색으로 변할 수 있습니다.\n",
      "\n",
      "이런 요소들이 조합되어 하늘이 노란색으로 보일 수 있습니다.\n"
     ]
    }
   ],
   "source": [
    "config = {\"configurable\": {\"session_id\": \"chat-001\"}}  \n",
    "\n",
    "response = with_messages_history.invoke(\n",
    "    [HumanMessage(content=\"노란 이유는?\")],\n",
    "    config=config,\n",
    ")\n",
    "\n",
    "print(response.content)"
   ]
  },
  {
   "cell_type": "code",
   "execution_count": 41,
   "id": "c92f9e22-21b0-4446-b504-483119163863",
   "metadata": {},
   "outputs": [
    {
     "data": {
      "text/plain": [
       "AIMessage(content='하늘이 노란색으로 보이는 경우는 일반적으로 두 가지 주된 이유가 있습니다.\\n\\n1. **태양의 위치**: 해가 낮게 지거나 떠 있을 때, 태양빛이 대기를 두껍게 통과하게 됩니다. 이때 파란색 빛은 산란되어 사라지고, 남은 주황색과 노란색 빛이 더 많이 보이게 됩니다. 특히, 해질 무렵이나 해돋이 때 하늘이 노란색으로 보이는 것은 이와 같은 이유입니다.\\n\\n2. **대기 중의 입자**: 대기 중에 먼지, 미세한 입자, 혹은 오염물질이 있을 경우에도 빛의 산란 방식이 영향을 받습니다. 이 경우, 파란색 빛이 산란되면서 노란빛이 더욱 강조되기도 합니다. 특히, 이런 경우 하늘이 탁하게 보이면서 노란색 또는 주황색으로 변할 수 있습니다.\\n\\n이런 요소들이 조합되어 하늘이 노란색으로 보일 수 있습니다.', additional_kwargs={'refusal': None}, response_metadata={'token_usage': {'completion_tokens': 230, 'prompt_tokens': 369, 'total_tokens': 599, 'completion_tokens_details': {'accepted_prediction_tokens': 0, 'audio_tokens': 0, 'reasoning_tokens': 0, 'rejected_prediction_tokens': 0}, 'prompt_tokens_details': {'audio_tokens': 0, 'cached_tokens': 0}}, 'model_name': 'gpt-4o-mini-2024-07-18', 'system_fingerprint': 'fp_560af6e559', 'id': 'chatcmpl-CRHJXtqmKRKJFvXrdm1JZKHSNOXzH', 'service_tier': 'default', 'finish_reason': 'stop', 'logprobs': None}, id='run--c94b3dbc-d823-4092-9790-01aa9699d810-0', usage_metadata={'input_tokens': 369, 'output_tokens': 230, 'total_tokens': 599, 'input_token_details': {'audio': 0, 'cache_read': 0}, 'output_token_details': {'audio': 0, 'reasoning': 0}})"
      ]
     },
     "execution_count": 41,
     "metadata": {},
     "output_type": "execute_result"
    }
   ],
   "source": [
    "response"
   ]
  },
  {
   "cell_type": "markdown",
   "id": "fc96edef-4984-4e2e-9100-e21279226d87",
   "metadata": {},
   "source": [
    "### 스트림 방식으로 출력하기"
   ]
  },
  {
   "cell_type": "code",
   "execution_count": 45,
   "id": "a4b00c05-7e98-4670-b67b-1d955a581769",
   "metadata": {},
   "outputs": [
    {
     "name": "stdout",
     "output_type": "stream",
     "text": [
      "|\"|홍|길|동|\"|이라는| 이름|은| 한국|에서| 유|래|된| 전|통|적인| 이름|으로|,| 따라서| 당신|은| 아|마| 한국| 사람|일| 가능|성이| 매우| 높|습니다|.| 그렇|다면| 한국|의| 전|통| 문화|에| 대해| 좀| 더| 자세|히| 알아|보|겠습니다|.\n",
      "\n",
      "|###| 한국|의| 전|통| 문화|\n",
      "\n",
      "|1|.| **|명|절|과| 세|시|풍|속|**|:\n",
      "|  | -| **|설|날|**|:| 음|력| |1|월| |1|일|에| 맞|춰| 지|내|며|,| 가족|들이| 모|여| 세|배|를| 하고| 떡|국|을| 먹|습니다|.| 떡|국|은| 새|해|를| 맞|아| 한| 살|을| 더|하는| 의미|도| 지|니|고| 있습니다|.\n",
      "|  | -| **|추|석|**|:| 음|력| |8|월| |15|일|에| 지|내|며|,| 조|상|에게| 차|례|를| 올|리고| 송|편|을| 만들어| 먹|는| 날|입니다|.| 한|가|위|라| 불|리|우|며|,| 풍|요|와| 감사|의| 뜻|을| 담|고| 있습니다|.\n",
      "\n",
      "|2|.| **|한|복|**|:\n",
      "|  | -| 한|복|은| 한국|의| 전|통| 의|상|으로|,| 특별|한| 행사|나| 명|절|에| 착|용|됩니다|.| 색|상|과| 디자인|이| 다양|하며|,| 입|는| 사람|의| 나|이|,| 성|별|,| 지|위|에| 따라| 다|르게| 나타|나는| 특징|이| 있습니다|.\n",
      "\n",
      "|3|.| **|전|통| 음식|**|:\n",
      "|  | -| **|김|치|**|:| 발|효|된| 채|소|로| 대표|적인| 한국| 음식|입니다|.| 건강|에| 좋은| 영|양|소|가| 풍|부|하여| 한국| 식|문화|에서| 중요한| 위치|를| 차|지|합니다|.\n",
      "|  | -| **|비|빔|밥|**|:| 여러| 가지| 나|물|,| 고|기|,| 계|란| 등을| 넣|고| 비|벼| 먹|는| 음식|으로|,| 색|색|이| 어|우|러|진| 비|주|얼|이| 매|력|적|입니다|.\n",
      "\n",
      "|4|.| **|전|통| 예|술|**|:\n",
      "|  | -| **|국|악|**|:| 한국| 전|통| 음악|으로| 다양한| 악|기를| 사용|합니다|.| 대표|적으로| 가|야|금|,| 거|문|고|,| 대|금| 등이| 있습니다|.\n",
      "|  | -| **|판|소|리|**|:| 이야|기를| 노|래|하는| 전|통| 예|술|로|,| 한| 명|의| 소|리|꾼|이| 이야기|와| 감|정을| 강|하게| 전달|합니다|.\n",
      "\n",
      "|5|.| **|가|옥|**|:\n",
      "|  | -| 전|통|적인| 한국| 가|옥|인| 한|옥|은| 기|와| 지|붕|과| 마|루|가| 특징|으로|,| 자연|환| 경|과| 조|화|롭게| 설|계|되어| 있습니다|.| 대|청|마|루|나| 온|돌|을| 비롯|한| 다양한| 구조|적| 특징|이| 있습니다|.\n",
      "\n",
      "|6|.| **|종|교|와| 철|학|**|:\n",
      "|  | -| 한국|의| 전|통| 문화|는| 유|교|,| 불|교|,| 샤|머니|즘|이| 혼|합|된| 복|합|적인| 신|앙| 체|계를| 포함|하고| 있습니다|.| 이|들은| 한국|인의| 가치|관|과| 생활| 방식|에| 큰| 영향을| 미|칩니다|.\n",
      "\n",
      "|한국|의| 전|통| 문화|는| 오|랜| 역사|와| 다양한| 풍|습|이| 있어| 매우| 풍|부|합니다|.| 더| 궁|금|한| 점|이| 있다|면| 언제|든|지| 질문|해| 주세요|!||"
     ]
    }
   ],
   "source": [
    "config = {\"configurable\": {\"session_id\": \"chat-001\"}}  \n",
    "\n",
    "# 반복문 구현\n",
    "for r in with_messages_history.stream(\n",
    "    [HumanMessage(content=\"내가 어느 나라 사람인지 맞춰보고, 그 나라의 전통 문화에 대해 말해봐\")],\n",
    "    config=config,\n",
    "):   \n",
    "    print(r.content, end=\"|\")    # 반복문 내의 print() 함수 실행: 들여쓰기 오타 아님!!"
   ]
  },
  {
   "cell_type": "code",
   "execution_count": null,
   "id": "1bfe5286-1505-424a-aef5-4716bc8d9aab",
   "metadata": {},
   "outputs": [],
   "source": []
  }
 ],
 "metadata": {
  "kernelspec": {
   "display_name": "Python 3 (ipykernel)",
   "language": "python",
   "name": "python3"
  },
  "language_info": {
   "codemirror_mode": {
    "name": "ipython",
    "version": 3
   },
   "file_extension": ".py",
   "mimetype": "text/x-python",
   "name": "python",
   "nbconvert_exporter": "python",
   "pygments_lexer": "ipython3",
   "version": "3.12.7"
  }
 },
 "nbformat": 4,
 "nbformat_minor": 5
}
