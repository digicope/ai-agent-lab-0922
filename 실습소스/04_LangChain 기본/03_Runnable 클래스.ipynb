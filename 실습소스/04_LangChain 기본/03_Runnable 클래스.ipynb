{
 "cells": [
  {
   "cell_type": "markdown",
   "id": "0089e1b5-10a9-4742-996a-487d5cf87d20",
   "metadata": {},
   "source": [
    "### Runnable 클래스\n",
    "Runnable 클래스는 LangChain의 핵심 실행 단위(Execution Unit) 로,\n",
    "LLM 호출·체인 구성·데이터 변환 등 모든 실행 가능한 구성요소의 공통 인터페이스를 제공한다.\n",
    "Runnable은 기본적으로 Runnable 프로토콜을 구현한 객체들이고,서로 파이프( | )로 연결하거나 병렬, 분기 등으로 조합 가능하다"
   ]
  },
  {
   "cell_type": "code",
   "execution_count": 1,
   "id": "405223d7-1150-43e2-9a98-458ac514e70a",
   "metadata": {},
   "outputs": [
    {
     "data": {
      "text/plain": [
       "True"
      ]
     },
     "execution_count": 1,
     "metadata": {},
     "output_type": "execute_result"
    }
   ],
   "source": [
    "from dotenv import load_dotenv\n",
    "import os\n",
    "\n",
    "# .env 파일 불러오기\n",
    "load_dotenv(\"C:/env/.env\")"
   ]
  },
  {
   "cell_type": "markdown",
   "id": "aa267fe7-743e-4c0a-bf54-3c17bd03c901",
   "metadata": {},
   "source": [
    "### RunnableLambda"
   ]
  },
  {
   "cell_type": "code",
   "execution_count": 2,
   "id": "021cd624-05a4-43c1-9e73-3fb74887d5e4",
   "metadata": {},
   "outputs": [
    {
     "name": "stdout",
     "output_type": "stream",
     "text": [
      "단일 RunnableLambda 결과: HELLO LANGCHAIN\n",
      "파이프라인 연결 결과: 문자 개수: 15\n"
     ]
    }
   ],
   "source": [
    "from langchain_core.runnables import RunnableLambda\n",
    "\n",
    "# 1) 문자열을 대문자로 변환하는 RunnableLambda\n",
    "to_upper = RunnableLambda(lambda x:x.upper())\n",
    "\n",
    "# 2) 문자열 길이를 계산하는 RunnableLambda\n",
    "count_chars = RunnableLambda(lambda x: f\"문자 개수: {len(x)}\")\n",
    "\n",
    "# 3) 두 Runnable을 파이프(|)로 연결\n",
    "pipeline = to_upper | count_chars\n",
    "\n",
    "# 실행\n",
    "result1 = to_upper.invoke(\"hello langchain\")\n",
    "result2 = pipeline.invoke(\"hello langchain\")\n",
    "\n",
    "print(\"단일 RunnableLambda 결과:\", result1)\n",
    "print(\"파이프라인 연결 결과:\", result2)"
   ]
  },
  {
   "cell_type": "markdown",
   "id": "a88b3665-b77b-4601-825b-949d51fb716f",
   "metadata": {},
   "source": [
    "### RunnableMap\n",
    "- 여러 Runnable을 병렬로 실행하고 결과를 dict 형태로 묶어주는 클래스"
   ]
  },
  {
   "cell_type": "code",
   "execution_count": 6,
   "id": "3cb87e42-9dcb-4c9e-a09b-6392853500f9",
   "metadata": {},
   "outputs": [
    {
     "name": "stdout",
     "output_type": "stream",
     "text": [
      "{'대문자': 'RUNNABLEMAP EXAMPLE', '길이': 19, '뒤집기': 'elpmaxE paMelbannuR'}\n"
     ]
    }
   ],
   "source": [
    "from langchain_core.runnables import RunnableLambda, RunnableMap\n",
    "\n",
    "# 1) Runnable 정의\n",
    "to_upper = RunnableLambda(lambda x:x.upper())    # 대문자 변환\n",
    "count_chars = RunnableLambda(lambda x: len(x))   # 문자 수 반환\n",
    "reverse_text = RunnableLambda(lambda x: x[::-1]) # 문자열 뒤집기\n",
    "\n",
    "# 2) RunnableMap으로 묶기\n",
    "parallel_map = RunnableMap({\n",
    "    \"대문자\": to_upper,\n",
    "    \"길이\": count_chars,\n",
    "    \"뒤집기\": reverse_text\n",
    "})\n",
    "\n",
    "# 3) 실행\n",
    "result = parallel_map.invoke(\"RunnableMap Example\")\n",
    "print(result)"
   ]
  },
  {
   "cell_type": "markdown",
   "id": "f23ca825-5dcc-41cc-ae61-bf6ae19dd916",
   "metadata": {},
   "source": [
    "### RunnableSequence\n",
    "- 순차적으로(직렬) 연결해서 파이프라인을 만드는 클래스"
   ]
  },
  {
   "cell_type": "code",
   "execution_count": 8,
   "id": "e22d6843-9779-4c6b-81c7-d83fd2690bbc",
   "metadata": {},
   "outputs": [
    {
     "name": "stdout",
     "output_type": "stream",
     "text": [
      "RunnableSequence 실행 결과: 문자 개수: 22\n"
     ]
    }
   ],
   "source": [
    "from langchain_core.runnables import RunnableLambda, RunnableSequence\n",
    "\n",
    "# 1) 1단계: 문자열을 대문자로 변환\n",
    "to_upper = RunnableLambda(lambda x:x.upper())\n",
    "\n",
    "# 2) 2단계: 문자열 길이를 계산\n",
    "count_chars = RunnableLambda(lambda x: f\"문자 개수: {len(x)}\")\n",
    "\n",
    "# 3) RunnableSequence로 순차 실행 파이프라인 생성\n",
    "sequence = RunnableSequence(first=to_upper,middle=[],last=count_chars)\n",
    "\n",
    "# 실행\n",
    "result = sequence.invoke(\"Hello RunnableSequence\")\n",
    "\n",
    "# print(to_upper.invoke(\"Hello RunnableSequence\"))\n",
    "print(\"RunnableSequence 실행 결과:\", result)"
   ]
  },
  {
   "cell_type": "code",
   "execution_count": 10,
   "id": "dca5945a-ffc2-491e-8fa3-460040ca27e1",
   "metadata": {},
   "outputs": [],
   "source": [
    " # to_upper.invoke(\"Hello RunnableSequence\")"
   ]
  },
  {
   "cell_type": "markdown",
   "id": "8fc51510-0da8-44cf-876a-debd172e277b",
   "metadata": {},
   "source": [
    "### RunnableBranch\n",
    "- 조건 분기(conditional routing) 를 구현할 때 사용하는 Runnable"
   ]
  },
  {
   "cell_type": "code",
   "execution_count": 11,
   "id": "db989bcf-1e99-4e5b-8024-db504dde42d2",
   "metadata": {},
   "outputs": [
    {
     "name": "stdout",
     "output_type": "stream",
     "text": [
      "인사 감지: 반가워요!\n",
      "긴 문장 (16 글자) 이네요.\n",
      "일반 입력: 짧음\n"
     ]
    }
   ],
   "source": [
    "from langchain_core.runnables import RunnableLambda, RunnableBranch\n",
    "\n",
    "# 1) 조건별 Runnable 정의\n",
    "greet_case = RunnableLambda(lambda x: \"인사 감지: 반가워요!\")\n",
    "long_text_case = RunnableLambda(lambda x: f\"긴 문장 ({len(x)} 글자) 이네요.\")\n",
    "default_case = RunnableLambda(lambda x: f\"일반 입력: {x}\")\n",
    "\n",
    "# 2) RunnableBranch 정의\n",
    "# 마지막 인자는 조건 없는 default Runnable\n",
    "branch = RunnableBranch(\n",
    "    (lambda x: \"hello\" in x.lower(), greet_case),\n",
    "    (lambda x: len(x) > 15, long_text_case),\n",
    "    default_case  # <- 조건 없이 실행될 Runnable\n",
    ")\n",
    "\n",
    "# 3) 실행\n",
    "print(branch.invoke(\"hello world\"))                # hello 포함\n",
    "print(branch.invoke(\"이 문장은 길이가 조금 길어요\")) # 길이 > 15\n",
    "print(branch.invoke(\"짧음\"))                       # 기본 케이스"
   ]
  },
  {
   "cell_type": "markdown",
   "id": "f50fb42e-6030-4ac9-aac8-78a317783a6b",
   "metadata": {},
   "source": [
    "### RunnableParallel \n",
    "- 비동기적(asynchronous)으로 여러 호출을 동시에 보내고 결과를 모으는 방식. 서로 다른 서버에서 동시에 처리"
   ]
  },
  {
   "cell_type": "code",
   "execution_count": 12,
   "id": "8712ec2a-298c-49c1-95e0-71c2e29fa0b1",
   "metadata": {},
   "outputs": [
    {
     "name": "stdout",
     "output_type": "stream",
     "text": [
      "{'upper': 'HELLO RUNNABLEPARALLEL!', 'length': 23, 'reversed': '!lellaraPelbannuR olleH'}\n"
     ]
    }
   ],
   "source": [
    "from langchain_core.runnables import RunnableLambda, RunnableParallel\n",
    "\n",
    "# 1) Runnable 정의\n",
    "to_upper = RunnableLambda(lambda x: x.upper())\n",
    "count_chars = RunnableLambda(lambda x: len(x))\n",
    "reverse_text = RunnableLambda(lambda x: x[::-1])\n",
    "\n",
    "# 2) RunnableParallel로 병렬 실행 정의\n",
    "parallel = RunnableParallel(\n",
    "    upper=to_upper,\n",
    "    length=count_chars,\n",
    "    reversed=reverse_text\n",
    ")\n",
    "\n",
    "# 3) 실행\n",
    "result = parallel.invoke(\"Hello RunnableParallel!\")\n",
    "\n",
    "print(result)"
   ]
  },
  {
   "cell_type": "markdown",
   "id": "2a94842a-0093-44bc-8cf0-2dc6b05b3666",
   "metadata": {},
   "source": [
    "### RunnablePassthrough\n",
    "- 입력을 아무 변경 없이 그대로 반환하는 Runnable"
   ]
  },
  {
   "cell_type": "code",
   "execution_count": 18,
   "id": "bcaff3e6-c1ed-4d95-9abf-0ffc33ad42e1",
   "metadata": {},
   "outputs": [
    {
     "name": "stdout",
     "output_type": "stream",
     "text": [
      "Passthrough 결과: Hello Runnable World!\n",
      "Passthrough + Lambda 파이프라인 결과: HELLO RUNNABLE WORLD!\n"
     ]
    }
   ],
   "source": [
    "from langchain_core.runnables import RunnableLambda, RunnablePassthrough\n",
    "\n",
    "# 1) 입력 그대로 반환하는 RunnablePassthrough\n",
    "passthrough = RunnablePassthrough()\n",
    "\n",
    "# 2) 입력 문자열을 대문자로 변환하는 RunnableLambda\n",
    "to_upper = RunnableLambda(lambda x: x.upper())\n",
    "\n",
    "# 3) 파이프라인: (입력 그대로) -> (대문자로 변환)\n",
    "pipeline = passthrough | to_upper\n",
    "\n",
    "# 실행\n",
    "result1 = passthrough.invoke(\"Hello Runnable World!\")   # 입력 그대로 반환\n",
    "result2 = pipeline.invoke(\"Hello Runnable World!\")      # 대문자로 변환 결과\n",
    "\n",
    "print(\"Passthrough 결과:\", result1)\n",
    "print(\"Passthrough + Lambda 파이프라인 결과:\", result2)"
   ]
  },
  {
   "cell_type": "markdown",
   "id": "5f48f553-d7ef-4b85-b8de-7de653942a73",
   "metadata": {},
   "source": [
    "### RunnableEach\n",
    "- 리스트 입력을 받아 각 요소를 같은 Runnable에 적용"
   ]
  },
  {
   "cell_type": "code",
   "execution_count": 31,
   "id": "1a336d76-62f4-4145-ba2a-e0b40abe6ed5",
   "metadata": {},
   "outputs": [
    {
     "name": "stdout",
     "output_type": "stream",
     "text": [
      "['HELLO', 'RUNNABLE', 'EACH']\n"
     ]
    }
   ],
   "source": [
    "from langchain_core.runnables import RunnableLambda\n",
    "from langchain_core.runnables.base import RunnableEach  # 최신 import 경로\n",
    "\n",
    "# 1) 문자열을 대문자로 변환하는 Runnable 정의\n",
    "to_upper = RunnableLambda(lambda x: x.upper())\n",
    "\n",
    "# 2) RunnableEach로 리스트의 각 요소에 적용 (bound= 필수!)\n",
    "each_upper = RunnableEach(bound=to_upper)\n",
    "\n",
    "# 3) 실행 : 리스트 입력을 받아 각 요소를 대문자로 변환\n",
    "result = each_upper.invoke([\"hello\", \"runnable\", \"each\"])\n",
    "print(result)"
   ]
  },
  {
   "cell_type": "code",
   "execution_count": 33,
   "id": "feacec84-54fb-46d5-8722-c20dccbc4232",
   "metadata": {},
   "outputs": [],
   "source": [
    "# def my_upper(x):\n",
    "#     return x.upper()\n",
    "    \n",
    "# result = map(my_upper,['a','b','c','d','e','1'])\n",
    "# print(list(result))\n",
    "# next(result)"
   ]
  },
  {
   "cell_type": "markdown",
   "id": "6c4b34eb-ff7d-4a8b-9301-63f6ad662b09",
   "metadata": {},
   "source": [
    "### RunnableRetry/RunnableWithFallbacks/RunnableBinding\n",
    "- RunnableRetry : 불안정한 Runnable을 감싸서 자동 재시도 기능을 추가\n",
    "네트워크 지연, 일시적 API 오류, 모델 응답 실패 같은 상황에서 유용\n",
    "- RunnableWithFallbacks : 메인 Runnable이 최종 실패했을 때 대체 Runnable 실행\n",
    "(예: LLM 응답 실패 → 간단한 기본 응답 반환)\n",
    "- RunnableBinding :Runnable에 옵션이나 파라미터를 미리 바인딩\n",
    "매번 .invoke() 호출 시 옵션을 넘길 필요 없음"
   ]
  },
  {
   "cell_type": "code",
   "execution_count": 57,
   "id": "8284d99a-3da3-4ccc-81be-16d33cbe2b9a",
   "metadata": {},
   "outputs": [
    {
     "name": "stdout",
     "output_type": "stream",
     "text": [
      "최종 출력 -->테스트 입력\n"
     ]
    }
   ],
   "source": [
    "# 실패할 수도 있는 작업 → 재시도 → 대체(fallback) → 후처리(prefix)”\n",
    "# 로 이어지는 내결함성(Fault-tolerant) 파이프라인을 구성한 예제\n",
    "import random\n",
    "from langchain_core.runnables import RunnableLambda\n",
    "from langchain_core.runnables.retry import RunnableRetry\n",
    "from langchain_core.runnables.fallbacks import RunnableWithFallbacks\n",
    "from langchain_core.runnables.base import RunnableBinding\n",
    "\n",
    "# 1) 실패 확률이 있는 Runnable\n",
    "unstable = RunnableLambda(lambda x: x if random.random() > 0.5 else (_ for _ in ()).throw(Exception(\"랜덤 실패 발생\")))\n",
    "\n",
    "# 2) 재시도 Runnable\n",
    "# unstable을 실행 → 실패 시 다시 시도,3번 모두 실패하면 예외를 그대로 상위로 전달\n",
    "retry_runnable = RunnableRetry(bound=unstable,max_attempts=3)\n",
    "\n",
    "# 3) fallback Runnable\n",
    "# retry_runnable 시도 (최대 3회 재시도),그래도 실패하면 → fallback 실행\n",
    "fallback = RunnableLambda(lambda x: f\" 원래 작업 실패 → fallback 결과: {x}\")\n",
    "with_fallback = RunnableWithFallbacks(runnable=retry_runnable, fallbacks=[fallback])\n",
    "\n",
    "# 4) prefix 추가 Runnable (Binding으로 옵션 미리 고정)\n",
    "prefixer = RunnableLambda(lambda x, prefix=\"결과: \": f\"{prefix}{x}\")\n",
    "bound_prefixer = RunnableBinding(bound=prefixer,kwargs={\"prefix\":\"최종 출력 -->\"})\n",
    "\n",
    "# 5) 파이프라인으로 연결\n",
    "pipeline = with_fallback | bound_prefixer\n",
    "\n",
    "# 6) 실행\n",
    "print(pipeline.invoke(\"테스트 입력\"))"
   ]
  },
  {
   "cell_type": "code",
   "execution_count": 63,
   "id": "c381520c-4579-4c20-b734-75039c2446a9",
   "metadata": {},
   "outputs": [
    {
     "data": {
      "text/plain": [
       "'unstable'"
      ]
     },
     "execution_count": 63,
     "metadata": {},
     "output_type": "execute_result"
    }
   ],
   "source": [
    "unstable.invoke(\"unstable\")  # random.random() 이  0.5 보다 작거나 같으면 Exception(\"랜덤 실패 발생\") 이 실행"
   ]
  },
  {
   "cell_type": "code",
   "execution_count": 84,
   "id": "26048657-43d3-4b62-85a5-488dc83026f1",
   "metadata": {},
   "outputs": [
    {
     "data": {
      "text/plain": [
       "'retry'"
      ]
     },
     "execution_count": 84,
     "metadata": {},
     "output_type": "execute_result"
    }
   ],
   "source": [
    "retry_runnable.invoke('retry') # unstable 을 3회 시도 , 성공하면 'retry'를 출력,오류시 Exception(\"랜덤 실패 발생\") 이 실행"
   ]
  },
  {
   "cell_type": "code",
   "execution_count": 42,
   "id": "bd7246ad-6da9-460e-b1f9-0c3a7a20bf7c",
   "metadata": {},
   "outputs": [
    {
     "data": {
      "text/plain": [
       "<function __main__.<lambda>(x)>"
      ]
     },
     "execution_count": 42,
     "metadata": {},
     "output_type": "execute_result"
    }
   ],
   "source": [
    "# (_ for _ in ()) → “빈 제너레이터(generator)”를 만든다. (즉, 아무것도 산출하지 않는 반복자)\n",
    "# .throw(Exception(\"랜덤 실패 발생\"))→ 이 제너레이터에게 즉시 예외를 던진다(raise).\n",
    "# lambda x: x if random.random() > 0.5 else (_ for _ in ()).throw(Exception(\"랜덤 실패 발생\"))"
   ]
  },
  {
   "cell_type": "code",
   "execution_count": 85,
   "id": "abdf3e64-ffa5-41bf-8a43-c79311e1f3be",
   "metadata": {},
   "outputs": [],
   "source": [
    "# r = random.random()\n",
    "# if r > 0.5:\n",
    "#     print('성공:',r)\n",
    "# else:\n",
    "#     print('오류:',r)"
   ]
  },
  {
   "cell_type": "code",
   "execution_count": 86,
   "id": "6324e707-a154-45df-9c61-b756bcb6ede5",
   "metadata": {},
   "outputs": [
    {
     "name": "stdout",
     "output_type": "stream",
     "text": [
      "1\n",
      "예외 발생: 테스트 예외\n",
      "예외 처리 후 계속 실행\n",
      "3\n"
     ]
    },
    {
     "name": "stderr",
     "output_type": "stream",
     "text": [
      "C:\\Users\\Public\\Documents\\ESTsoft\\CreatorTemp\\ipykernel_12948\\674312179.py:12: DeprecationWarning: the (type, exc, tb) signature of throw() is deprecated, use the single-arg signature instead.\n",
      "  print(g.throw(Exception, \"테스트 예외\"))  # 예외를 던짐\n"
     ]
    }
   ],
   "source": [
    "def my_gen():\n",
    "    try:\n",
    "        yield 1\n",
    "        yield 2\n",
    "    except Exception as e:\n",
    "        print(\"예외 발생:\", e)\n",
    "        yield \"예외 처리 후 계속 실행\"\n",
    "    yield 3\n",
    "\n",
    "g = my_gen()\n",
    "print(next(g))        # 1\n",
    "print(g.throw(Exception, \"테스트 예외\"))  # 예외를 던짐\n",
    "print(next(g))        # 3\n",
    "# throw()는 파이썬 제너레이터(generator) 객체에서 사용되는 메서드로,\n",
    "# 일반적인 함수 호출이 아니라 제너레이터 내부로 예외를 던지는 기능을 한다."
   ]
  },
  {
   "cell_type": "markdown",
   "id": "2d19c1fe-216c-40e1-87c6-a4bc54b64842",
   "metadata": {},
   "source": [
    "### RunnableWithMessageHistory"
   ]
  },
  {
   "cell_type": "code",
   "execution_count": 87,
   "id": "b55fb22a-0ef8-4c84-bf6b-c3dda7b5a836",
   "metadata": {},
   "outputs": [
    {
     "name": "stdout",
     "output_type": "stream",
     "text": [
      "안녕, 홍길동! 만나서 반가워. 어떻게 도와줄까요?\n",
      "당신의 이름은 홍길동입니다! 어떤 이야기를 나누고 싶으신가요?\n"
     ]
    }
   ],
   "source": [
    "from langchain_openai import ChatOpenAI\n",
    "from langchain_core.prompts import ChatPromptTemplate, MessagesPlaceholder\n",
    "from langchain_core.runnables.history import RunnableWithMessageHistory\n",
    "from langchain_core.chat_history import InMemoryChatMessageHistory\n",
    "\n",
    "# 1) LLM + 프롬프트 (대화 기록 자리 포함)\n",
    "prompt = ChatPromptTemplate.from_messages([\n",
    "    MessagesPlaceholder(\"history\"),\n",
    "    (\"human\", \"{input}\")\n",
    "])\n",
    "model = ChatOpenAI(model=\"gpt-4o-mini\")\n",
    "chain = prompt | model\n",
    "\n",
    "# 2) 세션별 대화 기록 저장 함수\n",
    "store = {}\n",
    "def get_history(_):\n",
    "    store.setdefault(\"chat-1\", InMemoryChatMessageHistory())\n",
    "    return store[\"chat-1\"]\n",
    "\n",
    "# 3) RunnableWithMessageHistory로 감싸기\n",
    "with_history = RunnableWithMessageHistory(\n",
    "    chain,\n",
    "    get_history,\n",
    "    input_messages_key=\"input\",\n",
    "    history_messages_key=\"history\"\n",
    ")\n",
    "\n",
    "# 4) 실행\n",
    "config = {\"configurable\": {\"session_id\": \"chat-1\"}}\n",
    "\n",
    "print(with_history.invoke({\"input\": \"안녕? 나는 홍길동이야!\"}, config=config).content)\n",
    "print(with_history.invoke({\"input\": \"내 이름이 뭐지?\"}, config=config).content)\n"
   ]
  },
  {
   "cell_type": "markdown",
   "id": "3ef631a3-0e6d-4fcd-a515-17b7cfc45324",
   "metadata": {},
   "source": [
    "### 다양한 Runnable 연동"
   ]
  },
  {
   "cell_type": "code",
   "execution_count": 90,
   "id": "29c7960a-ccd2-4379-ad35-aa1b29c68d2f",
   "metadata": {},
   "outputs": [
    {
     "name": "stdout",
     "output_type": "stream",
     "text": [
      "{'original': 'Hello Runnable World!', 'upper': 'HELLO RUNNABLE WORLD!', 'length': 21}\n",
      "----------------------------------------------------------------------------------------------------\n",
      "{'원본': 'Hello Runnable World!', '대문자': 'HELLO RUNNABLE WORLD!', '글자수': 21, '대문자+길이': 'HELLO RUNNABLE WORLD! (총 21 글자)'}\n"
     ]
    }
   ],
   "source": [
    "from langchain_core.runnables import RunnableLambda, RunnablePassthrough, RunnableMap\n",
    "\n",
    "# 1) Runnable 정의\n",
    "# 입력 그대로 전달\n",
    "passthrough = RunnablePassthrough()\n",
    "\n",
    "# 대문자로 변환\n",
    "to_upper = RunnableLambda(lambda x: x.upper())\n",
    "\n",
    "# 글자 수 계산\n",
    "count_chars = RunnableLambda(lambda x :len(x))\n",
    "\n",
    "# 2) 병렬 실행 (Map): 여러 Runnable을 동시에 실행하고 결과를 dict로 반환\n",
    "parallel = RunnableMap({\n",
    "    \"original\": passthrough,  # 입력 그대로\n",
    "    \"upper\": to_upper,        # 대문자로 변환\n",
    "    \"length\": count_chars     # 글자 수 계산\n",
    "})\n",
    "\n",
    "result = parallel.invoke(\"Hello Runnable World!\")\n",
    "print(result)\n",
    "print(\"-\"*100)\n",
    "\n",
    "# 3) 파이프라인 구성\n",
    "# (입력 그대로) -> (병렬 실행) -> (대문자 결과만 다시 가공)\n",
    "pipeline = passthrough | parallel | RunnableLambda(\n",
    "    lambda result: {\n",
    "        \"원본\": result[\"original\"],\n",
    "        \"대문자\": result[\"upper\"],\n",
    "        \"글자수\": result[\"length\"],\n",
    "        \"대문자+길이\": f'{result[\"upper\"]} (총 {result[\"length\"]} 글자)'\n",
    "    }\n",
    ")\n",
    "\n",
    "# 실행\n",
    "result = pipeline.invoke(\"Hello Runnable World!\")\n",
    "print(result)"
   ]
  },
  {
   "cell_type": "code",
   "execution_count": null,
   "id": "c06d9e2e-c7c5-4320-92c0-d797ce34e526",
   "metadata": {},
   "outputs": [],
   "source": []
  }
 ],
 "metadata": {
  "kernelspec": {
   "display_name": "Python 3 (ipykernel)",
   "language": "python",
   "name": "python3"
  },
  "language_info": {
   "codemirror_mode": {
    "name": "ipython",
    "version": 3
   },
   "file_extension": ".py",
   "mimetype": "text/x-python",
   "name": "python",
   "nbconvert_exporter": "python",
   "pygments_lexer": "ipython3",
   "version": "3.12.7"
  }
 },
 "nbformat": 4,
 "nbformat_minor": 5
}
