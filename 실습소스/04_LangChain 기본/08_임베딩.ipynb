{
 "cells": [
  {
   "cell_type": "markdown",
   "id": "3cd01f1e-997c-4975-a98e-3d5abc60399e",
   "metadata": {},
   "source": [
    "### 임베딩"
   ]
  },
  {
   "cell_type": "code",
   "execution_count": 1,
   "id": "93c8aa5d-ccf7-45a3-bdc6-95e632dc0ac4",
   "metadata": {},
   "outputs": [
    {
     "data": {
      "text/plain": [
       "True"
      ]
     },
     "execution_count": 1,
     "metadata": {},
     "output_type": "execute_result"
    }
   ],
   "source": [
    "import os\n",
    "from dotenv import load_dotenv\n",
    "\n",
    "# .env 파일의 내용 불러오기\n",
    "load_dotenv(\"C:/env/.env\")"
   ]
  },
  {
   "cell_type": "markdown",
   "id": "ae0be630-39f9-4db7-aff2-c09c1b3a6259",
   "metadata": {},
   "source": [
    "### [1] OpenAIEmbeddings\n",
    "- OpenAI API를 이용하여 텍스트를 임베딩 벡터로 변환한다.\n",
    "- 모델 예시: text-embedding-3-small, text-embedding-3-large\n",
    "- 가장 많이 쓰이는 기본 옵션이며, RAG 시스템 구현에 적합하다."
   ]
  },
  {
   "cell_type": "code",
   "execution_count": 3,
   "id": "9e1e8267-a2fd-427c-980e-8cbe85572093",
   "metadata": {},
   "outputs": [
    {
     "name": "stdout",
     "output_type": "stream",
     "text": [
      "1536\n",
      "3 1536\n"
     ]
    }
   ],
   "source": [
    "from langchain_openai import OpenAIEmbeddings\n",
    "\n",
    "# 1) 임베딩 객체 생성\n",
    "emb = OpenAIEmbeddings(\n",
    "    model=\"text-embedding-3-small\",\n",
    "    # dimensions=512   # 필요 시 차원 축소\n",
    ")\n",
    "\n",
    "# 2) 단일 질의 임베딩\n",
    "query_vec = emb.embed_query(\"반려동물로 좋은 동물은?\")\n",
    "print(len(query_vec))\n",
    "\n",
    "# 3) 여러 문서 임베딩\n",
    "doc_vecs = emb.embed_documents([\n",
    "    \"강아지는 사람과 친숙하다.\",\n",
    "    \"고양이는 독립적이다.\",\n",
    "    \"자동차는 이동 수단이다.\"\n",
    "])\n",
    "print(len(doc_vecs),len(doc_vecs[0]))"
   ]
  },
  {
   "cell_type": "code",
   "execution_count": 7,
   "id": "ad94a1e0-f298-4992-aac5-a83606006ec4",
   "metadata": {},
   "outputs": [],
   "source": [
    "# !pip install langchain-chroma"
   ]
  },
  {
   "cell_type": "code",
   "execution_count": 8,
   "id": "9844ff83-96de-4987-bc2c-698029ddf5ad",
   "metadata": {},
   "outputs": [
    {
     "name": "stdout",
     "output_type": "stream",
     "text": [
      "고양이는 혼자 있는 걸 좋아한다.\n",
      "강아지는 사람과 친숙하다.\n"
     ]
    }
   ],
   "source": [
    "# Chroma 벡터스토어 연동 \n",
    "from langchain_chroma import Chroma\n",
    "\n",
    "texts = [\n",
    "    \"강아지는 사람과 친숙하다.\",\n",
    "    \"고양이는 혼자 있는 걸 좋아한다.\",\n",
    "    \"자동차는 이동 수단이다.\"\n",
    "]\n",
    "\n",
    "emb = OpenAIEmbeddings(model=\"text-embedding-3-small\")\n",
    "vs = Chroma.from_texts(texts=texts, embedding=emb)\n",
    "\n",
    "query = \"집에서 키우기 좋은 동물\"\n",
    "docs = vs.similarity_search(query, k=2)\n",
    "\n",
    "for d in docs:\n",
    "    print(d.page_content)"
   ]
  },
  {
   "cell_type": "markdown",
   "id": "71ccf056-905b-4531-9edc-489224392361",
   "metadata": {},
   "source": [
    "### [2] HuggingFaceEmbeddings\n",
    "- Hugging Face Hub에서 제공하는 오픈소스 임베딩 모델을 불러와 사용.\n",
    "- 예시: sentence-transformers/all-MiniLM-L6-v2, BAAI/bge-m3\n",
    "- 장점: 무료, 로컬 실행 가능.\n",
    "- 단점: OpenAI Embeddings 대비 정확도/속도 차이가 있을 수 있음."
   ]
  },
  {
   "cell_type": "code",
   "execution_count": 10,
   "id": "9924981d-4e9c-4ecd-bb12-dcbeec27f4fc",
   "metadata": {},
   "outputs": [],
   "source": [
    "# !pip install sentence-transformers\n",
    "# !pip install hf_xet"
   ]
  },
  {
   "cell_type": "code",
   "execution_count": 12,
   "id": "9329408d-3ee8-45f3-ab58-549ef207d062",
   "metadata": {},
   "outputs": [
    {
     "name": "stdout",
     "output_type": "stream",
     "text": [
      "384\n"
     ]
    }
   ],
   "source": [
    "from langchain_huggingface import HuggingFaceEmbeddings\n",
    "\n",
    "# 모델 선택\n",
    "embedding = HuggingFaceEmbeddings(\n",
    "    model_name=\"sentence-transformers/all-MiniLM-L6-v2\"\n",
    ")\n",
    "\n",
    "# 임베딩 변환\n",
    "query_vec = embedding.embed_query(\"반려동물로 좋은 동물은?\")\n",
    "doc_vecs = embedding.embed_documents([\n",
    "    \"강아지는 사람과 친숙하다.\",\n",
    "    \"고양이는 독립적이다.\",\n",
    "    \"자동차는 이동 수단이다.\"\n",
    "])\n",
    "\n",
    "print(len(doc_vecs[0]))  # 차원 확인"
   ]
  },
  {
   "cell_type": "code",
   "execution_count": 14,
   "id": "6b5d36ef-cead-452d-841e-8d6bfd4f8583",
   "metadata": {},
   "outputs": [
    {
     "name": "stdout",
     "output_type": "stream",
     "text": [
      "강아지는 사람과 친숙하다.\n",
      "고양이는 혼자 있는 걸 좋아한다.\n"
     ]
    }
   ],
   "source": [
    "# 벡터스토어 예시 (FAISS 연동)\n",
    "from langchain_huggingface import HuggingFaceEmbeddings\n",
    "from langchain_community.vectorstores import FAISS\n",
    "# from transformers import logging\n",
    "# logging.set_verbosity_error()\n",
    "\n",
    "texts = [\n",
    "    \"강아지는 사람과 친숙하다.\",\n",
    "    \"고양이는 혼자 있는 걸 좋아한다.\",\n",
    "    \"자동차는 이동 수단이다.\"\n",
    "]\n",
    "\n",
    "embedding = HuggingFaceEmbeddings(model_name=\"BAAI/bge-m3\")\n",
    "vs = FAISS.from_texts(texts, embedding=embedding)\n",
    "\n",
    "query = \"집에서 키우기 좋은 동물\"\n",
    "docs = vs.similarity_search(query, k=2)\n",
    "\n",
    "for d in docs:\n",
    "    print(d.page_content)"
   ]
  },
  {
   "cell_type": "markdown",
   "id": "c2e6620a-4793-4c59-a1e8-460659cf6636",
   "metadata": {},
   "source": [
    "### [3] CacheBackedEmbeddings\n",
    "- 임베딩 계산 결과를 캐시에 저장하고, 같은 텍스트 요청이 들어오면 재계산하지 않고 캐시에서 불러옴.\n",
    "- 구버전으로 Deprecated ->(현재 GitHub main branch에서도 deprecated 상태로 주석 처리되어 있음.)"
   ]
  },
  {
   "cell_type": "code",
   "execution_count": 26,
   "id": "5466317c-c897-4bc2-8e26-14a230b6d33f",
   "metadata": {},
   "outputs": [
    {
     "name": "stderr",
     "output_type": "stream",
     "text": [
      "C:\\Users\\storm\\anaconda3\\Lib\\site-packages\\langchain_classic\\embeddings\\cache.py:58: UserWarning: Using default key encoder: SHA-1 is *not* collision-resistant. While acceptable for most cache scenarios, a motivated attacker can craft two different payloads that map to the same cache key. If that risk matters in your environment, supply a stronger encoder (e.g. SHA-256 or BLAKE2) via the `key_encoder` argument. If you change the key encoder, consider also creating a new cache, to avoid (the potential for) collisions with existing keys.\n",
      "  _warn_about_sha1_encoder()\n"
     ]
    },
    {
     "name": "stdout",
     "output_type": "stream",
     "text": [
      " 벡터 길이: 1536\n"
     ]
    }
   ],
   "source": [
    "from langchain_openai import OpenAIEmbeddings\n",
    "from langchain_classic.embeddings import CacheBackedEmbeddings\n",
    "from langchain_classic.storage import LocalFileStore\n",
    "\n",
    "# 기본 임베딩\n",
    "base_embeddings = OpenAIEmbeddings(model=\"text-embedding-3-small\")\n",
    "\n",
    "# 캐시 저장소 지정\n",
    "store = LocalFileStore(\"./cache_embeddings\")\n",
    "\n",
    "# 캐시 백엔드 적용\n",
    "cached_embeddings = CacheBackedEmbeddings.from_bytes_store(\n",
    "    base_embeddings,\n",
    "    store,\n",
    "    namespace=\"openai-emb\"\n",
    ")\n",
    "\n",
    "# 사용\n",
    "text = \"강아지는 사람에게 친숙한 반려동물이다.\"\n",
    "vec = cached_embeddings.embed_query(text)\n",
    "print(\" 벡터 길이:\", len(vec))\n"
   ]
  },
  {
   "cell_type": "code",
   "execution_count": 25,
   "id": "3bc29b98-83cc-4b89-be81-d81a328925e9",
   "metadata": {},
   "outputs": [
    {
     "name": "stdout",
     "output_type": "stream",
     "text": [
      "langchain: 1.0.1\n",
      "langchain-core: 1.0.1\n"
     ]
    }
   ],
   "source": [
    "import langchain\n",
    "import langchain_core\n",
    "import langchain_openai\n",
    "\n",
    "# 2025년 10월에 정식 변경\n",
    "print(\"langchain:\", langchain.__version__)              # langchain: 0.3.27  --> 1.0.1\n",
    "print(\"langchain-core:\", langchain_core.__version__)    # langchain-core: 0.3.78 --> 1.0.1\n",
    "# !pip show langchain-openai                            #  langchain_openai : 1.0.1"
   ]
  },
  {
   "cell_type": "code",
   "execution_count": null,
   "id": "bbe1954d-1012-47f4-957e-a325092b295d",
   "metadata": {},
   "outputs": [],
   "source": []
  }
 ],
 "metadata": {
  "kernelspec": {
   "display_name": "Python 3 (ipykernel)",
   "language": "python",
   "name": "python3"
  },
  "language_info": {
   "codemirror_mode": {
    "name": "ipython",
    "version": 3
   },
   "file_extension": ".py",
   "mimetype": "text/x-python",
   "name": "python",
   "nbconvert_exporter": "python",
   "pygments_lexer": "ipython3",
   "version": "3.12.7"
  }
 },
 "nbformat": 4,
 "nbformat_minor": 5
}
