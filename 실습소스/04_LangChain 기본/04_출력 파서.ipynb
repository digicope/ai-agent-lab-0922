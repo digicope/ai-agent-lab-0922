{
 "cells": [
  {
   "cell_type": "markdown",
   "id": "936c7340-5d0e-4c37-a1ba-fccaa3a8fb11",
   "metadata": {},
   "source": [
    "## LangChain 출력 파서 (Output Parser)\n",
    "- LangChain 출력 파서는 LLM이 생성한 텍스트를 원하는 형식(문자열, 리스트, JSON 등)으로 변환하거나 검증하는 도구이다.<br>\n",
    "  자유 텍스트는 StrOutputParser, 구조화된 데이터는 PydanticOutputParser처럼 목적에 맞게 선택해 사용한다."
   ]
  },
  {
   "cell_type": "code",
   "execution_count": 1,
   "id": "6063262f-3b09-4854-b500-7f8b25e6dfb3",
   "metadata": {},
   "outputs": [
    {
     "data": {
      "text/plain": [
       "True"
      ]
     },
     "execution_count": 1,
     "metadata": {},
     "output_type": "execute_result"
    }
   ],
   "source": [
    "import os\n",
    "from dotenv import load_dotenv\n",
    "\n",
    "# .env 파일의 내용 불러오기\n",
    "load_dotenv(\"C:/env/.env\")"
   ]
  },
  {
   "cell_type": "markdown",
   "id": "23ad6027-ffea-485f-b2e0-5baf11eaa231",
   "metadata": {},
   "source": [
    "### [1] StrOutputParser\n",
    " : LLM 출력 텍스트를 그대로 반환하는 가장 단순한 파서"
   ]
  },
  {
   "cell_type": "code",
   "execution_count": 2,
   "id": "69f14a2f-700f-4f8a-a9bf-0c4d3220d03b",
   "metadata": {},
   "outputs": [
    {
     "name": "stdout",
     "output_type": "stream",
     "text": [
      "푸른 물결 속에 숨겨진 꿈,  \n",
      "파도는 속삭이고, 바람은 춤춘다.  \n",
      "해가 지고, 노을이 물들면,  \n",
      "바다는 수천 가지 이야기를 품는다.  \n",
      "\n",
      "모래사장 위 발자국,  \n",
      "그리움과 희망을 담고,  \n",
      "끝없이 펼쳐진 수평선,  \n",
      "자유를 찾아 떠나는 항해.  \n",
      "\n",
      "조개 껍데기, 별빛처럼 빛나고,  \n",
      "파란 심연 속에 비밀이 숨어,  \n",
      "바다여, 너는 나의 안식처,  \n",
      "영원히 나의 마음을 감싸 안아줘.  \n"
     ]
    }
   ],
   "source": [
    "from langchain_openai import ChatOpenAI\n",
    "from langchain_core.prompts import ChatPromptTemplate\n",
    "from langchain_core.output_parsers import StrOutputParser\n",
    "\n",
    "# 1) 모델 정의\n",
    "llm = ChatOpenAI(model=\"gpt-4o-mini\", temperature=0.7)\n",
    "\n",
    "# 2) 프롬프트 템플릿 작성\n",
    "prompt = ChatPromptTemplate.from_template(\"다음 주제로 간단한 시를 작성해줘 : {topic}.\")\n",
    "\n",
    "# 3) 출력 파서 (문자열 그대로)\n",
    "parser = StrOutputParser()\n",
    "\n",
    "# 4) 체인 구성: 프롬프트 → LLM → 문자열 파싱\n",
    "chain = prompt | llm | parser\n",
    "\n",
    "# 5) 실행\n",
    "result = chain.invoke({\"topic\": \"바다\"})\n",
    "print(result)"
   ]
  },
  {
   "cell_type": "code",
   "execution_count": 3,
   "id": "3a8b7efc-0a91-49f2-b289-46709803d024",
   "metadata": {},
   "outputs": [
    {
     "data": {
      "text/plain": [
       "str"
      ]
     },
     "execution_count": 3,
     "metadata": {},
     "output_type": "execute_result"
    }
   ],
   "source": [
    "type(result)  # str : StrOutputParser는 출력이 문자열(str)"
   ]
  },
  {
   "cell_type": "code",
   "execution_count": 6,
   "id": "631691d1-ad4f-4188-b1cc-3ced99352016",
   "metadata": {},
   "outputs": [
    {
     "data": {
      "text/plain": [
       "langchain_core.output_parsers.string.StrOutputParser"
      ]
     },
     "execution_count": 6,
     "metadata": {},
     "output_type": "execute_result"
    }
   ],
   "source": [
    "# type(parser)\n",
    "# dir(parser)  # 'invoke','parse'"
   ]
  },
  {
   "cell_type": "code",
   "execution_count": 9,
   "id": "2b27de1b-7744-45d1-84e6-0b02a38bc0ee",
   "metadata": {},
   "outputs": [
    {
     "name": "stdout",
     "output_type": "stream",
     "text": [
      "하늘이 파란이유는? <class 'str'>\n"
     ]
    }
   ],
   "source": [
    "ret = parser.invoke(\"하늘이 파란이유는?\")\n",
    "print(ret,type(ret))"
   ]
  },
  {
   "cell_type": "code",
   "execution_count": 11,
   "id": "2360672a-9a67-4ac3-b077-c0be1855e9fc",
   "metadata": {},
   "outputs": [
    {
     "name": "stdout",
     "output_type": "stream",
     "text": [
      "하늘이 파란이유는? <class 'str'>\n"
     ]
    }
   ],
   "source": [
    "ret = parser.parse(\"하늘이 파란이유는?\")\n",
    "print(ret,type(ret))"
   ]
  },
  {
   "cell_type": "markdown",
   "id": "a81eb871-af4c-46ea-b0e1-9f6d6423888d",
   "metadata": {},
   "source": [
    "### [2] PydanticOutputParser"
   ]
  },
  {
   "cell_type": "markdown",
   "id": "ba2fa2df-0434-4a74-ab80-9960a821ee35",
   "metadata": {},
   "source": [
    "#### Pydantic이란?\n",
    "\n",
    ": Pydantic은 Python에서 데이터 검증과 설정 관리를 쉽게 할 수 있도록 도와주는 데이터 검증 라이브러리이다. <br>\n",
    "Python의 타입 힌트(type hint) 를 기반으로 동작한다. <br>\n",
    "입력 데이터를 검사하고, 올바른 타입으로 자동 변환해 준다. <br>\n",
    "잘못된 데이터가 들어오면 ValidationError 를 발생시켜 안전성을 높인다. <br>\n",
    "한마디로 “데이터를 정해진 스키마(schema)대로 안전하게 다루게 해주는 도구”이다. <br>"
   ]
  },
  {
   "cell_type": "markdown",
   "id": "7f65b964-c1af-419c-8698-614d45643aaf",
   "metadata": {},
   "source": [
    "### LangChain의 PydanticOutputParser는\n",
    ": LLM이 출력한 텍스트를 Pydantic 모델로 변환해 주는 출력 파서이다. <br>\n",
    "\n",
    "- 특징\n",
    "LLM이 만든 JSON 같은 문자열을 자동으로 Python 객체로 바꿔준다. <br>\n",
    "유효성 검사(validation) 기능이 내장되어 있어, 누락된 필드나 잘못된 데이터 타입을 잡아낼 수 있다. <br>\n",
    "LLM이 JSON 형식을 틀리게 출력했을 때도, 자동으로 재시도하거나 오류를 알려줄 수 있다. "
   ]
  },
  {
   "cell_type": "code",
   "execution_count": 28,
   "id": "3b074fa0-1e75-4a49-8714-9d83ec188ad3",
   "metadata": {},
   "outputs": [
    {
     "name": "stdout",
     "output_type": "stream",
     "text": [
      "id=1 name='홍길동' age=25\n",
      "id=2 name='이몽룡' age=30\n"
     ]
    }
   ],
   "source": [
    "from pydantic import BaseModel\n",
    "\n",
    "# 데이터 스키마 정의\n",
    "class User(BaseModel):\n",
    "    id: int\n",
    "    name: str\n",
    "    age: int\n",
    "\n",
    "# 올바른 데이터 → 정상 객체 생성\n",
    "user = User(id=1, name=\"홍길동\", age=25)\n",
    "print(user)  \n",
    "# User(id=1, name='홍길동', age=25)\n",
    "\n",
    "# 잘못된 데이터 → 자동 변환 또는 에러\n",
    "user2 = User(id=\"2\", name=\"이몽룡\", age=\"30\")\n",
    "print(user2)\n",
    "# User(id=2, name='이몽룡', age=30)   ← 문자열이 int로 자동 변환됨\n",
    "\n",
    "# 타입 불일치 → 에러 발생\n",
    "# user3 = User(id=\"삼\", name=\"성춘향\", age=\"스무살\")\n",
    "# pydantic.error_wrappers.ValidationError 발생"
   ]
  },
  {
   "cell_type": "code",
   "execution_count": 29,
   "id": "fe795fe9-636a-46fd-a921-a954a283e1c6",
   "metadata": {},
   "outputs": [
    {
     "name": "stdout",
     "output_type": "stream",
     "text": [
      "2 <class 'int'>\n",
      "2.0 <class 'float'>\n"
     ]
    }
   ],
   "source": [
    "# 형변환\n",
    "s = \"2\"\n",
    "a = int(s)\n",
    "print(a,type(a))\n",
    "\n",
    "s = \"2.0\"\n",
    "a = float(s)\n",
    "print(a,type(a))\n"
   ]
  },
  {
   "cell_type": "code",
   "execution_count": 33,
   "id": "9eedd52d-d266-468f-9761-ef928b8c6953",
   "metadata": {},
   "outputs": [],
   "source": [
    "from langchain_core.output_parsers import PydanticOutputParser\n",
    "from pydantic import BaseModel,Field\n",
    "\n",
    "# 1) 출력 데이터 구조 정의 (Pydantic 모델)\n",
    "class Joke(BaseModel):\n",
    "    setup: str = Field(description=\"농담의 전개 부분\")\n",
    "    punchline: str = Field(description=\"농담의 결론/웃긴 부분\")\n",
    "\n",
    "# 2) 파서 생성\n",
    "parser = PydanticOutputParser(pydantic_object=Joke)\n",
    "\n"
   ]
  },
  {
   "cell_type": "code",
   "execution_count": 36,
   "id": "51f8772b-5158-4167-a1e8-6b7e5520ec6c",
   "metadata": {},
   "outputs": [],
   "source": [
    "# dir(BaseModel)"
   ]
  },
  {
   "cell_type": "code",
   "execution_count": 34,
   "id": "ea9c0c4c-f800-4ba1-a05a-505defa305da",
   "metadata": {},
   "outputs": [
    {
     "data": {
      "text/plain": [
       "['__annotations__',\n",
       " '__builtins__',\n",
       " '__call__',\n",
       " '__class__',\n",
       " '__closure__',\n",
       " '__code__',\n",
       " '__defaults__',\n",
       " '__delattr__',\n",
       " '__dict__',\n",
       " '__dir__',\n",
       " '__doc__',\n",
       " '__eq__',\n",
       " '__format__',\n",
       " '__ge__',\n",
       " '__get__',\n",
       " '__getattribute__',\n",
       " '__getstate__',\n",
       " '__globals__',\n",
       " '__gt__',\n",
       " '__hash__',\n",
       " '__init__',\n",
       " '__init_subclass__',\n",
       " '__kwdefaults__',\n",
       " '__le__',\n",
       " '__lt__',\n",
       " '__module__',\n",
       " '__name__',\n",
       " '__ne__',\n",
       " '__new__',\n",
       " '__qualname__',\n",
       " '__reduce__',\n",
       " '__reduce_ex__',\n",
       " '__repr__',\n",
       " '__setattr__',\n",
       " '__sizeof__',\n",
       " '__str__',\n",
       " '__subclasshook__',\n",
       " '__type_params__']"
      ]
     },
     "execution_count": 34,
     "metadata": {},
     "output_type": "execute_result"
    }
   ],
   "source": [
    "dir(Field)"
   ]
  },
  {
   "cell_type": "code",
   "execution_count": null,
   "id": "09353a9f-c515-4fdc-8102-b2a52963726e",
   "metadata": {},
   "outputs": [],
   "source": []
  }
 ],
 "metadata": {
  "kernelspec": {
   "display_name": "Python 3 (ipykernel)",
   "language": "python",
   "name": "python3"
  },
  "language_info": {
   "codemirror_mode": {
    "name": "ipython",
    "version": 3
   },
   "file_extension": ".py",
   "mimetype": "text/x-python",
   "name": "python",
   "nbconvert_exporter": "python",
   "pygments_lexer": "ipython3",
   "version": "3.12.7"
  }
 },
 "nbformat": 4,
 "nbformat_minor": 5
}
