{
 "cells": [
  {
   "cell_type": "markdown",
   "id": "936c7340-5d0e-4c37-a1ba-fccaa3a8fb11",
   "metadata": {},
   "source": [
    "## LangChain 출력 파서 (Output Parser)\n",
    "- LangChain 출력 파서는 LLM이 생성한 텍스트를 원하는 형식(문자열, 리스트, JSON 등)으로 변환하거나 검증하는 도구이다.<br>\n",
    "  자유 텍스트는 StrOutputParser, 구조화된 데이터는 PydanticOutputParser처럼 목적에 맞게 선택해 사용한다."
   ]
  },
  {
   "cell_type": "code",
   "execution_count": 1,
   "id": "6063262f-3b09-4854-b500-7f8b25e6dfb3",
   "metadata": {},
   "outputs": [
    {
     "data": {
      "text/plain": [
       "True"
      ]
     },
     "execution_count": 1,
     "metadata": {},
     "output_type": "execute_result"
    }
   ],
   "source": [
    "import os\n",
    "from dotenv import load_dotenv\n",
    "\n",
    "# .env 파일의 내용 불러오기\n",
    "load_dotenv(\"C:/env/.env\")"
   ]
  },
  {
   "cell_type": "markdown",
   "id": "23ad6027-ffea-485f-b2e0-5baf11eaa231",
   "metadata": {},
   "source": [
    "### [1] StrOutputParser\n",
    " : LLM 출력 텍스트를 그대로 반환하는 가장 단순한 파서"
   ]
  },
  {
   "cell_type": "code",
   "execution_count": 2,
   "id": "69f14a2f-700f-4f8a-a9bf-0c4d3220d03b",
   "metadata": {},
   "outputs": [
    {
     "name": "stdout",
     "output_type": "stream",
     "text": [
      "푸른 물결 속에 꿈을 담고,  \n",
      "하늘과 맞닿은 수평선,  \n",
      "바람에 실려 오는 파도 소리,  \n",
      "속삭임처럼 마음을 적신다.\n",
      "\n",
      "햇살 아래 반짝이는 모래,  \n",
      "발자국 남기고 사라지는 시간,  \n",
      "바다의 품에 안겨,  \n",
      "영원히 잊지 못할 순간들.  \n",
      "\n",
      "그리움의 노래가 흐르는 곳,  \n",
      "파란 꿈을 꾸는 바다여,  \n",
      "너와 나, 함께하는 이 순간,  \n",
      "끝없이 넓은 사랑의 한 조각.  \n"
     ]
    }
   ],
   "source": [
    "from langchain_openai import ChatOpenAI\n",
    "from langchain_core.prompts import ChatPromptTemplate\n",
    "from langchain_core.output_parsers import StrOutputParser\n",
    "\n",
    "# 1) 모델 정의\n",
    "llm = ChatOpenAI(model=\"gpt-4o-mini\", temperature=0.7)\n",
    "\n",
    "# 2) 프롬프트 템플릿 작성\n",
    "prompt = ChatPromptTemplate.from_template(\"다음 주제로 간단한 시를 작성해줘 : {topic}.\")\n",
    "\n",
    "# 3) 출력 파서 (문자열 그대로)\n",
    "parser = StrOutputParser()\n",
    "\n",
    "# 4) 체인 구성: 프롬프트 → LLM → 문자열 파싱\n",
    "chain = prompt | llm | parser\n",
    "\n",
    "# 5) 실행\n",
    "result = chain.invoke({\"topic\": \"바다\"})\n",
    "print(result)"
   ]
  },
  {
   "cell_type": "code",
   "execution_count": 3,
   "id": "3a8b7efc-0a91-49f2-b289-46709803d024",
   "metadata": {},
   "outputs": [
    {
     "data": {
      "text/plain": [
       "str"
      ]
     },
     "execution_count": 3,
     "metadata": {},
     "output_type": "execute_result"
    }
   ],
   "source": [
    "type(result)  # str : StrOutputParser는 출력이 문자열(str)"
   ]
  },
  {
   "cell_type": "code",
   "execution_count": 4,
   "id": "631691d1-ad4f-4188-b1cc-3ced99352016",
   "metadata": {},
   "outputs": [],
   "source": [
    "# type(parser)\n",
    "# dir(parser)  # 'invoke','parse'"
   ]
  },
  {
   "cell_type": "code",
   "execution_count": 5,
   "id": "2b27de1b-7744-45d1-84e6-0b02a38bc0ee",
   "metadata": {},
   "outputs": [
    {
     "name": "stdout",
     "output_type": "stream",
     "text": [
      "하늘이 파란이유는? <class 'str'>\n"
     ]
    }
   ],
   "source": [
    "ret = parser.invoke(\"하늘이 파란이유는?\")\n",
    "print(ret,type(ret))"
   ]
  },
  {
   "cell_type": "code",
   "execution_count": 6,
   "id": "2360672a-9a67-4ac3-b077-c0be1855e9fc",
   "metadata": {},
   "outputs": [
    {
     "name": "stdout",
     "output_type": "stream",
     "text": [
      "하늘이 파란이유는? <class 'str'>\n"
     ]
    }
   ],
   "source": [
    "ret = parser.parse(\"하늘이 파란이유는?\")\n",
    "print(ret,type(ret))"
   ]
  },
  {
   "cell_type": "markdown",
   "id": "a81eb871-af4c-46ea-b0e1-9f6d6423888d",
   "metadata": {},
   "source": [
    "### [2] PydanticOutputParser"
   ]
  },
  {
   "cell_type": "markdown",
   "id": "ba2fa2df-0434-4a74-ab80-9960a821ee35",
   "metadata": {},
   "source": [
    "#### Pydantic이란?\n",
    "\n",
    ": Pydantic은 Python에서 데이터 검증과 설정 관리를 쉽게 할 수 있도록 도와주는 데이터 검증 라이브러리이다. <br>\n",
    "Python의 타입 힌트(type hint) 를 기반으로 동작한다. <br>\n",
    "입력 데이터를 검사하고, 올바른 타입으로 자동 변환해 준다. <br>\n",
    "잘못된 데이터가 들어오면 ValidationError 를 발생시켜 안전성을 높인다. <br>\n",
    "한마디로 “데이터를 정해진 스키마(schema)대로 안전하게 다루게 해주는 도구”이다. <br>"
   ]
  },
  {
   "cell_type": "markdown",
   "id": "7f65b964-c1af-419c-8698-614d45643aaf",
   "metadata": {},
   "source": [
    "### LangChain의 PydanticOutputParser는\n",
    ": LLM이 출력한 텍스트를 Pydantic 모델로 변환해 주는 출력 파서이다. <br>\n",
    "\n",
    "- 특징\n",
    "LLM이 만든 JSON 같은 문자열을 자동으로 Python 객체로 바꿔준다. <br>\n",
    "유효성 검사(validation) 기능이 내장되어 있어, 누락된 필드나 잘못된 데이터 타입을 잡아낼 수 있다. <br>\n",
    "LLM이 JSON 형식을 틀리게 출력했을 때도, 자동으로 재시도하거나 오류를 알려줄 수 있다. "
   ]
  },
  {
   "cell_type": "code",
   "execution_count": 7,
   "id": "3b074fa0-1e75-4a49-8714-9d83ec188ad3",
   "metadata": {},
   "outputs": [
    {
     "name": "stdout",
     "output_type": "stream",
     "text": [
      "id=1 name='홍길동' age=25\n",
      "id=2 name='이몽룡' age=30\n"
     ]
    }
   ],
   "source": [
    "from pydantic import BaseModel\n",
    "\n",
    "# 데이터 스키마 정의\n",
    "class User(BaseModel):\n",
    "    id: int\n",
    "    name: str\n",
    "    age: int\n",
    "\n",
    "# 올바른 데이터 → 정상 객체 생성\n",
    "user = User(id=1, name=\"홍길동\", age=25)\n",
    "print(user)  \n",
    "# User(id=1, name='홍길동', age=25)\n",
    "\n",
    "# 잘못된 데이터 → 자동 변환 또는 에러\n",
    "user2 = User(id=\"2\", name=\"이몽룡\", age=\"30\")\n",
    "print(user2)\n",
    "# User(id=2, name='이몽룡', age=30)   ← 문자열이 int로 자동 변환됨\n",
    "\n",
    "# 타입 불일치 → 에러 발생\n",
    "# user3 = User(id=\"삼\", name=\"성춘향\", age=\"스무살\")\n",
    "# pydantic.error_wrappers.ValidationError 발생"
   ]
  },
  {
   "cell_type": "code",
   "execution_count": 8,
   "id": "fe795fe9-636a-46fd-a921-a954a283e1c6",
   "metadata": {},
   "outputs": [
    {
     "name": "stdout",
     "output_type": "stream",
     "text": [
      "2 <class 'int'>\n",
      "2.0 <class 'float'>\n"
     ]
    }
   ],
   "source": [
    "# 형변환\n",
    "s = \"2\"\n",
    "a = int(s)\n",
    "print(a,type(a))\n",
    "\n",
    "s = \"2.0\"\n",
    "a = float(s)\n",
    "print(a,type(a))\n"
   ]
  },
  {
   "cell_type": "code",
   "execution_count": 9,
   "id": "9eedd52d-d266-468f-9761-ef928b8c6953",
   "metadata": {},
   "outputs": [
    {
     "name": "stdout",
     "output_type": "stream",
     "text": [
      "setup='왜 고양이는 컴퓨터를 잘 다룰까요?' punchline='왜냐하면 항상 마우스를 잡고 있으니까요!'\n",
      "setup: 왜 고양이는 컴퓨터를 잘 다룰까요?\n",
      "punchline: 왜냐하면 항상 마우스를 잡고 있으니까요!\n"
     ]
    }
   ],
   "source": [
    "from langchain_openai import ChatOpenAI\n",
    "from langchain_core.prompts import ChatPromptTemplate\n",
    "from langchain_core.output_parsers import PydanticOutputParser\n",
    "from pydantic import BaseModel,Field\n",
    "\n",
    "# 1) 출력 데이터 구조 정의 (Pydantic 모델)\n",
    "class Joke(BaseModel):\n",
    "    setup: str = Field(description=\"농담의 전개 부분\")\n",
    "    punchline: str = Field(description=\"농담의 결론/웃긴 부분\")\n",
    "\n",
    "# 2) 파서 생성\n",
    "parser = PydanticOutputParser(pydantic_object=Joke)\n",
    "\n",
    "# 3) 프롬프트 템플릿 작성 (한글 버전)\n",
    "prompt = ChatPromptTemplate.from_template(\n",
    "    \"주제 {topic}에 대한 농담을 하나 만들어줘.\\n\"\n",
    "    \"반드시 JSON 형식으로 대답해.\\n\"\n",
    "    \"{format_instructions}\"\n",
    ")\n",
    "\n",
    "# 4) 모델 정의\n",
    "llm = ChatOpenAI(model=\"gpt-4o-mini\", temperature=0.7)\n",
    "\n",
    "# 5) 체인 구성\n",
    "chain = prompt | llm | parser\n",
    "\n",
    "# 6) 실행\n",
    "result = chain.invoke({\"topic\": \"고양이\", \"format_instructions\": parser.get_format_instructions()})\n",
    "\n",
    "# 결과\n",
    "print(result)\n",
    "print(\"setup:\", result.setup)\n",
    "print(\"punchline:\", result.punchline)"
   ]
  },
  {
   "cell_type": "code",
   "execution_count": 10,
   "id": "6238c24c-3bea-4ef3-be0b-870977b9b2f1",
   "metadata": {},
   "outputs": [
    {
     "data": {
      "text/plain": [
       "__main__.Joke"
      ]
     },
     "execution_count": 10,
     "metadata": {},
     "output_type": "execute_result"
    }
   ],
   "source": [
    "type(result)  # Joke class의 객체"
   ]
  },
  {
   "cell_type": "markdown",
   "id": "cf24b211-c63e-457e-9575-e4d9b17076af",
   "metadata": {},
   "source": [
    "### [3] CSV Parser : CommaSeparatedListOutputParser\n",
    ": LLM이 출력한 문자열을 쉼표(,) 기준으로 나눠 리스트로 변환해 주는 파서"
   ]
  },
  {
   "cell_type": "code",
   "execution_count": 11,
   "id": "db8390f3-caea-487d-a507-dc68096060fb",
   "metadata": {},
   "outputs": [
    {
     "name": "stdout",
     "output_type": "stream",
     "text": [
      "Your response should be a list of comma separated values, eg: `foo, bar, baz` or `foo,bar,baz`\n",
      "['씨름', '윷놀이', '제기차기', '연날리기', '강강술래']\n"
     ]
    }
   ],
   "source": [
    "from langchain_core.prompts import PromptTemplate\n",
    "from langchain_core.output_parsers import CommaSeparatedListOutputParser\n",
    "\n",
    "output_parser = CommaSeparatedListOutputParser()\n",
    "format_instructions = output_parser.get_format_instructions()\n",
    "\n",
    "print(format_instructions)\n",
    "\n",
    "prompt = PromptTemplate(\n",
    "    template=\"5개만 알려줘. {subject}.\\n{format_instructions}\",\n",
    "    input_variables=[\"subject\"],\n",
    "    partial_variables={\"format_instructions\": format_instructions},\n",
    ")\n",
    "\n",
    "llm = ChatOpenAI(model=\"gpt-4o-mini\", temperature=0)\n",
    "\n",
    "chain = prompt | llm | output_parser\n",
    "\n",
    "result = chain.invoke({\"subject\": \"한국의 전통 민속 놀이는?\"})\n",
    "print(result)"
   ]
  },
  {
   "cell_type": "code",
   "execution_count": 12,
   "id": "756f2a7c-d0b9-46fc-a3d9-14b15183c82c",
   "metadata": {},
   "outputs": [
    {
     "name": "stdout",
     "output_type": "stream",
     "text": [
      "<class 'list'>\n",
      "['씨름', '윷놀이', '제기차기', '연날리기', '강강술래']\n"
     ]
    }
   ],
   "source": [
    "print(type(result))\n",
    "print(result)"
   ]
  },
  {
   "cell_type": "code",
   "execution_count": 13,
   "id": "2165e5e0-c92d-41c0-b8aa-788c438ad742",
   "metadata": {},
   "outputs": [
    {
     "name": "stdout",
     "output_type": "stream",
     "text": [
      "한국의 전통 민속 놀이는 다양하고 각 지역마다 특색이 있습니다. 대표적인 민속 놀이로는 다음과 같은 것들이 있습니다:\n",
      "\n",
      "1. **윷놀이**: 윷을 던져서 나온 결과에 따라 말을 이동시키는 게임으로, 가족이나 친구들과 함께 즐기는 대표적인 놀이입니다.\n",
      "\n",
      "2. **제기차기**: 제기를 발로 차서 높이 띄우거나 멀리 보내는 놀이로, 주로 어린이들이 즐깁니다.\n",
      "\n",
      "3. **투호**: 화살을 던져서 항아리나 통에 넣는 게임으로, 집중력과 정확성을 요구합니다.\n",
      "\n",
      "4. **널뛰기**: 두 사람이 널판지를 양쪽에서 뛰어올리며 균형을 맞추는 놀이로, 주로 명절이나 특별한 날에 즐깁니다.\n",
      "\n",
      "5. **고누**: 바둑판과 비슷한 판에서 돌을 놓고 상대의 돌을 잡는 전략 게임입니다.\n",
      "\n",
      "6. **사방치기**: 네 개의 구역으로 나누어진 공간에서 공을 차거나 던져서 점수를 얻는 놀이입니다.\n",
      "\n",
      "이 외에도 지역에 따라 다양한 민속 놀이가 존재하며, 이러한 놀이들은 한국의 전통 문화와 공동체 의식을 반영하고 있습니다.\n"
     ]
    }
   ],
   "source": [
    "from langchain_core.output_parsers import StrOutputParser\n",
    "parser = StrOutputParser()\n",
    "chain =  llm | parser\n",
    "result = chain.invoke(\"한국의 전통 민속 놀이는?\")\n",
    "print(result)"
   ]
  },
  {
   "cell_type": "markdown",
   "id": "f8bfbe26-eaeb-46ba-bb7b-e794c2984424",
   "metadata": {},
   "source": [
    "### [4] JSON Parser : JsonOutputParser\n",
    ": LLM이 생성한 결과를 JSON 형식으로 안전하게 파싱해주는 출력 파서."
   ]
  },
  {
   "cell_type": "code",
   "execution_count": 14,
   "id": "577b44c8-c2e0-4d90-acff-10b84b7fe83c",
   "metadata": {},
   "outputs": [
    {
     "name": "stdout",
     "output_type": "stream",
     "text": [
      "LLM 출력: ```json\n",
      "{\n",
      "  \"country\": \"대한민국\",\n",
      "  \"capital\": \"서울\",\n",
      "  \"population\": 51780579,\n",
      "  \"languages\": [\"한국어\"],\n",
      "  \"major_cities\": [\"부산\", \"인천\", \"대구\", \"대전\", \"광주\"]\n",
      "}\n",
      "```\n",
      "파싱 결과: {'country': '대한민국', 'capital': '서울', 'population': 51780579, 'languages': ['한국어'], 'major_cities': ['부산', '인천', '대구', '대전', '광주']}\n"
     ]
    }
   ],
   "source": [
    "from langchain_core.prompts import PromptTemplate\n",
    "from langchain_core.output_parsers import JsonOutputParser\n",
    "from langchain_openai import ChatOpenAI\n",
    "from pydantic import BaseModel, Field\n",
    "from typing import List\n",
    "\n",
    "# 1) 복잡한 JSON 스키마 정의\n",
    "class CountryInfo(BaseModel):\n",
    "    country: str = Field(description=\"국가 이름\")\n",
    "    capital: str = Field(description=\"수도 이름\")\n",
    "    population: int = Field(description=\"인구 수 (정수)\")\n",
    "    languages: List[str] = Field(description=\"사용되는 주요 언어 목록\")\n",
    "    major_cities: List[str] = Field(description=\"대표적인 도시들\")\n",
    "\n",
    "# 2) 출력 파서 준비\n",
    "parser = JsonOutputParser(pydantic_object=CountryInfo)\n",
    "\n",
    "# 3) 프롬프트 정의\n",
    "prompt = PromptTemplate(\n",
    "    template=\"\"\"\n",
    "다음 질문에 대해 반드시 JSON 형식으로 답변해 주세요.\n",
    "\n",
    "질문: {question}\n",
    "\n",
    "{format_instructions}\n",
    "\"\"\",\n",
    "    input_variables=[\"question\"],\n",
    "    partial_variables={\"format_instructions\": parser.get_format_instructions()},\n",
    ")\n",
    "\n",
    "# 4) LLM 초기화\n",
    "model = ChatOpenAI(model=\"gpt-4o-mini\", temperature=0)\n",
    "\n",
    "# 5) 실행\n",
    "_input = prompt.format(question=\"대한민국의 수도, 인구, 언어, 주요 도시는 무엇인가요?\")\n",
    "output = model.invoke(_input)\n",
    "\n",
    "# 6) 파싱\n",
    "result = parser.parse(output.content)\n",
    "\n",
    "print(\"LLM 출력:\", output.content)\n",
    "print(\"파싱 결과:\", result)"
   ]
  },
  {
   "cell_type": "code",
   "execution_count": 15,
   "id": "4ff9cf70-bd64-4710-8e69-55ede8faecc1",
   "metadata": {},
   "outputs": [
    {
     "data": {
      "text/plain": [
       "'\\n다음 질문에 대해 반드시 JSON 형식으로 답변해 주세요.\\n\\n질문: 대한민국의 수도, 인구, 언어, 주요 도시는 무엇인가요?\\n\\nThe output should be formatted as a JSON instance that conforms to the JSON schema below.\\n\\nAs an example, for the schema {\"properties\": {\"foo\": {\"title\": \"Foo\", \"description\": \"a list of strings\", \"type\": \"array\", \"items\": {\"type\": \"string\"}}}, \"required\": [\"foo\"]}\\nthe object {\"foo\": [\"bar\", \"baz\"]} is a well-formatted instance of the schema. The object {\"properties\": {\"foo\": [\"bar\", \"baz\"]}} is not well-formatted.\\n\\nHere is the output schema:\\n```\\n{\"properties\": {\"country\": {\"description\": \"국가 이름\", \"title\": \"Country\", \"type\": \"string\"}, \"capital\": {\"description\": \"수도 이름\", \"title\": \"Capital\", \"type\": \"string\"}, \"population\": {\"description\": \"인구 수 (정수)\", \"title\": \"Population\", \"type\": \"integer\"}, \"languages\": {\"description\": \"사용되는 주요 언어 목록\", \"items\": {\"type\": \"string\"}, \"title\": \"Languages\", \"type\": \"array\"}, \"major_cities\": {\"description\": \"대표적인 도시들\", \"items\": {\"type\": \"string\"}, \"title\": \"Major Cities\", \"type\": \"array\"}}, \"required\": [\"country\", \"capital\", \"population\", \"languages\", \"major_cities\"]}\\n```\\n'"
      ]
     },
     "execution_count": 15,
     "metadata": {},
     "output_type": "execute_result"
    }
   ],
   "source": [
    "_input"
   ]
  },
  {
   "cell_type": "code",
   "execution_count": 16,
   "id": "79343e16-3ac9-48d2-9489-34dd68ef0ea3",
   "metadata": {},
   "outputs": [
    {
     "data": {
      "text/plain": [
       "AIMessage(content='```json\\n{\\n  \"country\": \"대한민국\",\\n  \"capital\": \"서울\",\\n  \"population\": 51780579,\\n  \"languages\": [\"한국어\"],\\n  \"major_cities\": [\"부산\", \"인천\", \"대구\", \"대전\", \"광주\"]\\n}\\n```', additional_kwargs={'refusal': None}, response_metadata={'token_usage': {'completion_tokens': 64, 'prompt_tokens': 330, 'total_tokens': 394, 'completion_tokens_details': {'accepted_prediction_tokens': 0, 'audio_tokens': 0, 'reasoning_tokens': 0, 'rejected_prediction_tokens': 0}, 'prompt_tokens_details': {'audio_tokens': 0, 'cached_tokens': 0}}, 'model_provider': 'openai', 'model_name': 'gpt-4o-mini-2024-07-18', 'system_fingerprint': 'fp_560af6e559', 'id': 'chatcmpl-CVALeJLxrX1GS2E1G352xSuh9SW6K', 'service_tier': 'default', 'finish_reason': 'stop', 'logprobs': None}, id='lc_run--43b94e94-7c09-4acd-af06-ffb6231825ad-0', usage_metadata={'input_tokens': 330, 'output_tokens': 64, 'total_tokens': 394, 'input_token_details': {'audio': 0, 'cache_read': 0}, 'output_token_details': {'audio': 0, 'reasoning': 0}})"
      ]
     },
     "execution_count": 16,
     "metadata": {},
     "output_type": "execute_result"
    }
   ],
   "source": [
    "output"
   ]
  },
  {
   "cell_type": "code",
   "execution_count": 17,
   "id": "fbf54318-67c0-4513-8212-f9f709a07416",
   "metadata": {},
   "outputs": [
    {
     "name": "stdout",
     "output_type": "stream",
     "text": [
      "{'country': '대한민국', 'capital': '서울', 'population': 51780579, 'languages': ['한국어'], 'major_cities': ['부산', '인천', '대구', '대전', '광주']}\n"
     ]
    }
   ],
   "source": [
    "chain = prompt | model | parser\n",
    "\n",
    "result = chain.invoke({\"question\":\"대한민국의 수도, 인구, 언어, 주요 도시는 무엇인가요?\"})\n",
    "print(result)  # 동일한 결과"
   ]
  },
  {
   "cell_type": "markdown",
   "id": "7c202142-10de-42ae-a90b-16de1d1490f6",
   "metadata": {},
   "source": [
    "### [5] StructuredOutputParser  \n",
    "-> 랭체인 1.0버전에서 없어짐<br>\n",
    ": LLM에 대한 답변을 dict/schema 형식으로 구성하고 key/value 쌍으로 갖는 여러 필드를 반환하고자 할 때 사용.<br>\n",
    "StructuredOutputParser는 엄격한 검증은 필요 없고, 간단한 JSON 키-값만 빠르게 받고 싶을 때 가장 적합. <br>\n",
    "\n",
    "- Pydantic/JSON 파서를 쓰면: <br>\n",
    "올바른 JSON 스키마로 재시도 유도 <br>\n",
    "타입 검증 실패 → 에러 감지 후 fallback 처리 <br>\n",
    "결국 “불안정한 모델”도 안전한 구조화 데이터를 뽑아낼 수 있음"
   ]
  },
  {
   "cell_type": "code",
   "execution_count": 19,
   "id": "ce73a5c0-47b3-44fb-baa2-74f49e89adf6",
   "metadata": {},
   "outputs": [
    {
     "name": "stdout",
     "output_type": "stream",
     "text": [
      "LLM 출력: ```json\n",
      "{\n",
      "\t\"capital\": \"서울\",\n",
      "\t\"population\": \"51780579\",\n",
      "\t\"languages\": \"한국어\"\n",
      "}\n",
      "```\n",
      "파싱 결과: {'capital': '서울', 'population': '51780579', 'languages': '한국어'}\n"
     ]
    }
   ],
   "source": [
    "from langchain_core.prompts import PromptTemplate\n",
    "from langchain_classic.output_parsers import ResponseSchema, StructuredOutputParser\n",
    "from langchain_openai import ChatOpenAI\n",
    "\n",
    "# 1) 출력 스키마 정의\n",
    "response_schemas = [\n",
    "    ResponseSchema(name=\"capital\", description=\"국가의 수도\"),\n",
    "    ResponseSchema(name=\"population\", description=\"국가의 인구 (정수)\"),\n",
    "    ResponseSchema(name=\"languages\", description=\"국가에서 사용되는 주요 언어, 쉼표로 구분\")\n",
    "]\n",
    "\n",
    "# 2) 파서 생성\n",
    "parser = StructuredOutputParser.from_response_schemas(response_schemas)\n",
    "\n",
    "# 3) 프롬프트 템플릿 정의\n",
    "prompt = PromptTemplate(\n",
    "    template=\"\"\"\n",
    "다음 질문에 대해 반드시 JSON 형식으로 답변해 주세요.\n",
    "\n",
    "질문: {question}\n",
    "\n",
    "{format_instructions}\n",
    "\"\"\",\n",
    "    input_variables=[\"question\"],\n",
    "    partial_variables={\"format_instructions\": parser.get_format_instructions()},\n",
    ")\n",
    "\n",
    "# 4) LLM 초기화\n",
    "model = ChatOpenAI(model=\"gpt-4o-mini\", temperature=0)\n",
    "\n",
    "# 5) 실행\n",
    "_input = prompt.format(question=\"대한민국의 수도, 인구, 사용 언어를 알려주세요.\")\n",
    "output = model.invoke(_input)\n",
    "\n",
    "# 6) 파싱\n",
    "result = parser.parse(output.content)\n",
    "\n",
    "print(\"LLM 출력:\", output.content)\n",
    "print(\"파싱 결과:\", result) "
   ]
  },
  {
   "cell_type": "code",
   "execution_count": 20,
   "id": "cee33f49-1d83-4612-84de-414033e371d9",
   "metadata": {},
   "outputs": [
    {
     "data": {
      "text/plain": [
       "'\\n다음 질문에 대해 반드시 JSON 형식으로 답변해 주세요.\\n\\n질문: 대한민국의 수도, 인구, 사용 언어를 알려주세요.\\n\\nThe output should be a markdown code snippet formatted in the following schema, including the leading and trailing \"```json\" and \"```\":\\n\\n```json\\n{\\n\\t\"capital\": string  // 국가의 수도\\n\\t\"population\": string  // 국가의 인구 (정수)\\n\\t\"languages\": string  // 국가에서 사용되는 주요 언어, 쉼표로 구분\\n}\\n```\\n'"
      ]
     },
     "execution_count": 20,
     "metadata": {},
     "output_type": "execute_result"
    }
   ],
   "source": [
    "_input"
   ]
  },
  {
   "cell_type": "code",
   "execution_count": 21,
   "id": "f6654ebc-ad93-4b74-9f5a-35910ff9c08d",
   "metadata": {},
   "outputs": [
    {
     "data": {
      "text/plain": [
       "AIMessage(content='```json\\n{\\n\\t\"capital\": \"서울\",\\n\\t\"population\": \"51780579\",\\n\\t\"languages\": \"한국어\"\\n}\\n```', additional_kwargs={'refusal': None}, response_metadata={'token_usage': {'completion_tokens': 30, 'prompt_tokens': 122, 'total_tokens': 152, 'completion_tokens_details': {'accepted_prediction_tokens': 0, 'audio_tokens': 0, 'reasoning_tokens': 0, 'rejected_prediction_tokens': 0}, 'prompt_tokens_details': {'audio_tokens': 0, 'cached_tokens': 0}}, 'model_provider': 'openai', 'model_name': 'gpt-4o-mini-2024-07-18', 'system_fingerprint': 'fp_560af6e559', 'id': 'chatcmpl-CVANlNJJfNT3rlPb8OTgUKVsHccfa', 'service_tier': 'default', 'finish_reason': 'stop', 'logprobs': None}, id='lc_run--f79ba965-7654-4a70-938f-383cfdf6a226-0', usage_metadata={'input_tokens': 122, 'output_tokens': 30, 'total_tokens': 152, 'input_token_details': {'audio': 0, 'cache_read': 0}, 'output_token_details': {'audio': 0, 'reasoning': 0}})"
      ]
     },
     "execution_count": 21,
     "metadata": {},
     "output_type": "execute_result"
    }
   ],
   "source": [
    "output"
   ]
  },
  {
   "cell_type": "code",
   "execution_count": 22,
   "id": "f3aa1957-542a-4ff0-85f7-7bc3cea0c1a8",
   "metadata": {},
   "outputs": [
    {
     "name": "stdout",
     "output_type": "stream",
     "text": [
      "{'capital': '서울', 'population': '51780579', 'languages': '한국어'}\n"
     ]
    }
   ],
   "source": [
    "chain = prompt | model | parser\n",
    "\n",
    "result = chain.invoke({\"question\":\"대한민국의 수도, 인구, 사용 언어를 알려주세요.\"})\n",
    "print(result)  # 동일한 결과"
   ]
  },
  {
   "cell_type": "markdown",
   "id": "03d1cfba-1386-4d5d-a12d-129838242b97",
   "metadata": {},
   "source": [
    "### [6] PandasDataFrameOutputParser\n",
    ": LLM의 출력 결과를 Pandas의 DataFrame으로 변환해주는 파서 <br>\n",
    "LangChain 1.0 이후 버전에서 이 파서는 완전히 제거되었습니다. <br>\n",
    "➡ 대신 StructuredOutputParser 또는 JsonOutputParser 를 사용해야 합니다. <br>"
   ]
  },
  {
   "cell_type": "code",
   "execution_count": 23,
   "id": "bd6aefe7-6633-47c4-a0c3-4ee60091b560",
   "metadata": {},
   "outputs": [
    {
     "name": "stdout",
     "output_type": "stream",
     "text": [
      "LLM 출력: [\n",
      "    {\n",
      "        \"도시\": \"서울\",\n",
      "        \"인구\": 9746000\n",
      "    },\n",
      "    {\n",
      "        \"도시\": \"부산\",\n",
      "        \"인구\": 3406000\n",
      "    },\n",
      "    {\n",
      "        \"도시\": \"인천\",\n",
      "        \"인구\": 2954000\n",
      "    },\n",
      "    {\n",
      "        \"도시\": \"대구\",\n",
      "        \"인구\": 2426000\n",
      "    },\n",
      "    {\n",
      "        \"도시\": \"대전\",\n",
      "        \"인구\": 1493000\n",
      "    },\n",
      "    {\n",
      "        \"도시\": \"광주\",\n",
      "        \"인구\": 1503000\n",
      "    },\n",
      "    {\n",
      "        \"도시\": \"울산\",\n",
      "        \"인구\": 1153000\n",
      "    },\n",
      "    {\n",
      "        \"도시\": \"세종\",\n",
      "        \"인구\": 350000\n",
      "    }\n",
      "]\n",
      "\n",
      "변환된 Pandas DataFrame:\n"
     ]
    },
    {
     "data": {
      "text/html": [
       "<div>\n",
       "<style scoped>\n",
       "    .dataframe tbody tr th:only-of-type {\n",
       "        vertical-align: middle;\n",
       "    }\n",
       "\n",
       "    .dataframe tbody tr th {\n",
       "        vertical-align: top;\n",
       "    }\n",
       "\n",
       "    .dataframe thead th {\n",
       "        text-align: right;\n",
       "    }\n",
       "</style>\n",
       "<table border=\"1\" class=\"dataframe\">\n",
       "  <thead>\n",
       "    <tr style=\"text-align: right;\">\n",
       "      <th></th>\n",
       "      <th>도시</th>\n",
       "      <th>인구</th>\n",
       "    </tr>\n",
       "  </thead>\n",
       "  <tbody>\n",
       "    <tr>\n",
       "      <th>0</th>\n",
       "      <td>서울</td>\n",
       "      <td>9746000</td>\n",
       "    </tr>\n",
       "    <tr>\n",
       "      <th>1</th>\n",
       "      <td>부산</td>\n",
       "      <td>3406000</td>\n",
       "    </tr>\n",
       "    <tr>\n",
       "      <th>2</th>\n",
       "      <td>인천</td>\n",
       "      <td>2954000</td>\n",
       "    </tr>\n",
       "    <tr>\n",
       "      <th>3</th>\n",
       "      <td>대구</td>\n",
       "      <td>2426000</td>\n",
       "    </tr>\n",
       "    <tr>\n",
       "      <th>4</th>\n",
       "      <td>대전</td>\n",
       "      <td>1493000</td>\n",
       "    </tr>\n",
       "    <tr>\n",
       "      <th>5</th>\n",
       "      <td>광주</td>\n",
       "      <td>1503000</td>\n",
       "    </tr>\n",
       "    <tr>\n",
       "      <th>6</th>\n",
       "      <td>울산</td>\n",
       "      <td>1153000</td>\n",
       "    </tr>\n",
       "    <tr>\n",
       "      <th>7</th>\n",
       "      <td>세종</td>\n",
       "      <td>350000</td>\n",
       "    </tr>\n",
       "  </tbody>\n",
       "</table>\n",
       "</div>"
      ],
      "text/plain": [
       "   도시       인구\n",
       "0  서울  9746000\n",
       "1  부산  3406000\n",
       "2  인천  2954000\n",
       "3  대구  2426000\n",
       "4  대전  1493000\n",
       "5  광주  1503000\n",
       "6  울산  1153000\n",
       "7  세종   350000"
      ]
     },
     "execution_count": 23,
     "metadata": {},
     "output_type": "execute_result"
    }
   ],
   "source": [
    "import json\n",
    "import pandas as pd\n",
    "from langchain_core.prompts import PromptTemplate\n",
    "from langchain_openai import ChatOpenAI\n",
    "\n",
    "prompt = PromptTemplate(\n",
    "    template=\"\"\"\n",
    "다음 질문에 대해 반드시 JSON 배열 형식으로만 답하세요.\n",
    "코드 블록(```) 없이 순수 JSON만 출력하세요.\n",
    "\n",
    "질문: {question}\n",
    "\"\"\",\n",
    "    input_variables=[\"question\"],\n",
    ")\n",
    "\n",
    "model = ChatOpenAI(model=\"gpt-4o-mini\", temperature=0)\n",
    "\n",
    "_input = prompt.format(question=\"대한민국의 주요 도시와 인구를 알려주세요.\")\n",
    "output = model.invoke(_input)\n",
    "\n",
    "# JSON → DataFrame\n",
    "data = json.loads(output.content)\n",
    "df = pd.DataFrame(data)\n",
    "\n",
    "print(\"LLM 출력:\", output.content)\n",
    "print(\"\\n변환된 Pandas DataFrame:\")\n",
    "df"
   ]
  },
  {
   "cell_type": "code",
   "execution_count": 24,
   "id": "38a0fbf3-b1fd-43ee-8045-dbfab92ff5a9",
   "metadata": {},
   "outputs": [
    {
     "data": {
      "text/html": [
       "<div>\n",
       "<style scoped>\n",
       "    .dataframe tbody tr th:only-of-type {\n",
       "        vertical-align: middle;\n",
       "    }\n",
       "\n",
       "    .dataframe tbody tr th {\n",
       "        vertical-align: top;\n",
       "    }\n",
       "\n",
       "    .dataframe thead th {\n",
       "        text-align: right;\n",
       "    }\n",
       "</style>\n",
       "<table border=\"1\" class=\"dataframe\">\n",
       "  <thead>\n",
       "    <tr style=\"text-align: right;\">\n",
       "      <th></th>\n",
       "      <th>Country</th>\n",
       "      <th>CountryID</th>\n",
       "      <th>Continent</th>\n",
       "      <th>Adolescent fertility rate (%)</th>\n",
       "      <th>Adult literacy rate (%)</th>\n",
       "      <th>Gross national income per capita (PPP international $)</th>\n",
       "      <th>Net primary school enrolment ratio female (%)</th>\n",
       "      <th>Net primary school enrolment ratio male (%)</th>\n",
       "      <th>Population (in thousands) total</th>\n",
       "    </tr>\n",
       "  </thead>\n",
       "  <tbody>\n",
       "    <tr>\n",
       "      <th>0</th>\n",
       "      <td>Afghanistan</td>\n",
       "      <td>1</td>\n",
       "      <td>1</td>\n",
       "      <td>151.0</td>\n",
       "      <td>28.0</td>\n",
       "      <td>NaN</td>\n",
       "      <td>NaN</td>\n",
       "      <td>NaN</td>\n",
       "      <td>26088.0</td>\n",
       "    </tr>\n",
       "    <tr>\n",
       "      <th>1</th>\n",
       "      <td>Albania</td>\n",
       "      <td>2</td>\n",
       "      <td>2</td>\n",
       "      <td>27.0</td>\n",
       "      <td>98.7</td>\n",
       "      <td>6000.0</td>\n",
       "      <td>93.0</td>\n",
       "      <td>94.0</td>\n",
       "      <td>3172.0</td>\n",
       "    </tr>\n",
       "    <tr>\n",
       "      <th>2</th>\n",
       "      <td>Algeria</td>\n",
       "      <td>3</td>\n",
       "      <td>3</td>\n",
       "      <td>6.0</td>\n",
       "      <td>69.9</td>\n",
       "      <td>5940.0</td>\n",
       "      <td>94.0</td>\n",
       "      <td>96.0</td>\n",
       "      <td>33351.0</td>\n",
       "    </tr>\n",
       "    <tr>\n",
       "      <th>3</th>\n",
       "      <td>Andorra</td>\n",
       "      <td>4</td>\n",
       "      <td>2</td>\n",
       "      <td>NaN</td>\n",
       "      <td>NaN</td>\n",
       "      <td>NaN</td>\n",
       "      <td>83.0</td>\n",
       "      <td>83.0</td>\n",
       "      <td>74.0</td>\n",
       "    </tr>\n",
       "    <tr>\n",
       "      <th>4</th>\n",
       "      <td>Angola</td>\n",
       "      <td>5</td>\n",
       "      <td>3</td>\n",
       "      <td>146.0</td>\n",
       "      <td>67.4</td>\n",
       "      <td>3890.0</td>\n",
       "      <td>49.0</td>\n",
       "      <td>51.0</td>\n",
       "      <td>16557.0</td>\n",
       "    </tr>\n",
       "  </tbody>\n",
       "</table>\n",
       "</div>"
      ],
      "text/plain": [
       "       Country  CountryID  Continent  Adolescent fertility rate (%)  \\\n",
       "0  Afghanistan          1          1                          151.0   \n",
       "1      Albania          2          2                           27.0   \n",
       "2      Algeria          3          3                            6.0   \n",
       "3      Andorra          4          2                            NaN   \n",
       "4       Angola          5          3                          146.0   \n",
       "\n",
       "   Adult literacy rate (%)  \\\n",
       "0                     28.0   \n",
       "1                     98.7   \n",
       "2                     69.9   \n",
       "3                      NaN   \n",
       "4                     67.4   \n",
       "\n",
       "   Gross national income per capita (PPP international $)  \\\n",
       "0                                                NaN        \n",
       "1                                             6000.0        \n",
       "2                                             5940.0        \n",
       "3                                                NaN        \n",
       "4                                             3890.0        \n",
       "\n",
       "   Net primary school enrolment ratio female (%)  \\\n",
       "0                                            NaN   \n",
       "1                                           93.0   \n",
       "2                                           94.0   \n",
       "3                                           83.0   \n",
       "4                                           49.0   \n",
       "\n",
       "   Net primary school enrolment ratio male (%)  \\\n",
       "0                                          NaN   \n",
       "1                                         94.0   \n",
       "2                                         96.0   \n",
       "3                                         83.0   \n",
       "4                                         51.0   \n",
       "\n",
       "   Population (in thousands) total  \n",
       "0                          26088.0  \n",
       "1                           3172.0  \n",
       "2                          33351.0  \n",
       "3                             74.0  \n",
       "4                          16557.0  "
      ]
     },
     "execution_count": 24,
     "metadata": {},
     "output_type": "execute_result"
    }
   ],
   "source": [
    "# 원하는 Pandas DataFrame을 정의합니다.\n",
    "df = pd.read_csv(\"WHO_first9cols.csv\")\n",
    "df.head()"
   ]
  },
  {
   "cell_type": "code",
   "execution_count": 26,
   "id": "2be92e2d-bad8-4bb1-a1d8-243ad7f8ee9c",
   "metadata": {},
   "outputs": [
    {
     "name": "stdout",
     "output_type": "stream",
     "text": [
      "The output should be formatted as a string as the operation, followed by a colon, followed by the column or row to be queried on, followed by optional array parameters.\n",
      "1. The column names are limited to the possible columns below.\n",
      "2. Arrays must either be a comma-separated list of numbers formatted as [1,3,5], or it must be in range of numbers formatted as [0..4].\n",
      "3. Remember that arrays are optional and not necessarily required.\n",
      "4. If the column is not in the possible columns or the operation is not a valid Pandas DataFrame operation, return why it is invalid as a sentence starting with either \"Invalid column\" or \"Invalid operation\".\n",
      "\n",
      "As an example, for the formats:\n",
      "1. String \"column:num_legs\" is a well-formatted instance which gets the column num_legs, where num_legs is a possible column.\n",
      "2. String \"row:1\" is a well-formatted instance which gets row 1.\n",
      "3. String \"column:num_legs[1,2]\" is a well-formatted instance which gets the column num_legs for rows 1 and 2, where num_legs is a possible column.\n",
      "4. String \"row:1[num_legs]\" is a well-formatted instance which gets row 1, but for just column num_legs, where num_legs is a possible column.\n",
      "5. String \"mean:num_legs[1..3]\" is a well-formatted instance which takes the mean of num_legs from rows 1 to 3, where num_legs is a possible column and mean is a valid Pandas DataFrame operation.\n",
      "6. String \"do_something:num_legs\" is a badly-formatted instance, where do_something is not a valid Pandas DataFrame operation.\n",
      "7. String \"mean:invalid_col\" is a badly-formatted instance, where invalid_col is not a possible column.\n",
      "\n",
      "Here are the possible columns:\n",
      "```\n",
      "Country, CountryID, Continent, Adolescent fertility rate (%), Adult literacy rate (%), Gross national income per capita (PPP international $), Net primary school enrolment ratio female (%), Net primary school enrolment ratio male (%), Population (in thousands) total\n",
      "```\n",
      "\n"
     ]
    }
   ],
   "source": [
    "import pprint\n",
    "from typing import Any, Dict\n",
    "\n",
    "import pandas as pd\n",
    "from langchain_classic.output_parsers import PandasDataFrameOutputParser\n",
    "from langchain_core.prompts import PromptTemplate\n",
    "from langchain_openai import ChatOpenAI\n",
    "\n",
    "\n",
    "# 출력 포맷 지정\n",
    "def format_parser_output(parser_output: Dict[str, Any]) -> None:\n",
    "    for key in parser_output.keys():\n",
    "        parser_output[key] = parser_output[key].to_dict()\n",
    "    return pprint.PrettyPrinter(width=4, compact=True).pprint(parser_output)\n",
    "\n",
    "\n",
    "# 파서 설정\n",
    "parser = PandasDataFrameOutputParser(dataframe=df)\n",
    "\n",
    "# 파서의 지시사항 출력\n",
    "print(parser.get_format_instructions())"
   ]
  },
  {
   "cell_type": "code",
   "execution_count": 27,
   "id": "8901be74-98ed-4631-8ccd-b2723b45d8a0",
   "metadata": {},
   "outputs": [
    {
     "name": "stdout",
     "output_type": "stream",
     "text": [
      "Result:\n",
      " {'Country': 0             Afghanistan\n",
      "1                 Albania\n",
      "2                 Algeria\n",
      "3                 Andorra\n",
      "4                  Angola\n",
      "              ...        \n",
      "197               Vietnam\n",
      "198    West Bank and Gaza\n",
      "199                 Yemen\n",
      "200                Zambia\n",
      "201              Zimbabwe\n",
      "Name: Country, Length: 202, dtype: object}\n",
      "Type: <class 'dict'>\n",
      "--------------------------------------------------\n",
      "{'Country': {0: 'Afghanistan',\n",
      "             1: 'Albania',\n",
      "             2: 'Algeria',\n",
      "             3: 'Andorra',\n",
      "             4: 'Angola',\n",
      "             5: 'Antigua '\n",
      "                'and '\n",
      "                'Barbuda',\n",
      "             6: 'Argentina',\n",
      "             7: 'Armenia',\n",
      "             8: 'Australia',\n",
      "             9: 'Austria',\n",
      "             10: 'Azerbaijan',\n",
      "             11: 'Bahamas',\n",
      "             12: 'Bahrain',\n",
      "             13: 'Bangladesh',\n",
      "             14: 'Barbados',\n",
      "             15: 'Belarus',\n",
      "             16: 'Belgium',\n",
      "             17: 'Belize',\n",
      "             18: 'Benin',\n",
      "             19: 'Bermuda',\n",
      "             20: 'Bhutan',\n",
      "             21: 'Bolivia',\n",
      "             22: 'Bosnia '\n",
      "                 'and '\n",
      "                 'Herzegovina',\n",
      "             23: 'Botswana',\n",
      "             24: 'Brazil',\n",
      "             25: 'Brunei '\n",
      "                 'Darussalam',\n",
      "             26: 'Bulgaria',\n",
      "             27: 'Burkina '\n",
      "                 'Faso',\n",
      "             28: 'Burundi',\n",
      "             29: 'Cambodia',\n",
      "             30: 'Cameroon',\n",
      "             31: 'Canada',\n",
      "             32: 'Cape '\n",
      "                 'Verde',\n",
      "             33: 'Central '\n",
      "                 'African '\n",
      "                 'Republic',\n",
      "             34: 'Chad',\n",
      "             35: 'Chile',\n",
      "             36: 'China',\n",
      "             37: 'Colombia',\n",
      "             38: 'Comoros',\n",
      "             39: 'Congo, '\n",
      "                 'Dem. '\n",
      "                 'Rep.',\n",
      "             40: 'Congo, '\n",
      "                 'Rep.',\n",
      "             41: 'Cook '\n",
      "                 'Islands',\n",
      "             42: 'Costa '\n",
      "                 'Rica',\n",
      "             43: 'Cote '\n",
      "                 \"d'Ivoire\",\n",
      "             44: 'Croatia',\n",
      "             45: 'Cuba',\n",
      "             46: 'Cyprus',\n",
      "             47: 'Czech '\n",
      "                 'Republic',\n",
      "             48: 'Denmark',\n",
      "             49: 'Djibouti',\n",
      "             50: 'Dominica',\n",
      "             51: 'Dominican '\n",
      "                 'Republic',\n",
      "             52: 'Ecuador',\n",
      "             53: 'Egypt',\n",
      "             54: 'El '\n",
      "                 'Salvador',\n",
      "             55: 'Equatorial '\n",
      "                 'Guinea',\n",
      "             56: 'Eritrea',\n",
      "             57: 'Estonia',\n",
      "             58: 'Ethiopia',\n",
      "             59: 'Fiji',\n",
      "             60: 'Finland',\n",
      "             61: 'France',\n",
      "             62: 'French '\n",
      "                 'Polynesia',\n",
      "             63: 'Gabon',\n",
      "             64: 'Gambia',\n",
      "             65: 'Georgia',\n",
      "             66: 'Germany',\n",
      "             67: 'Ghana',\n",
      "             68: 'Greece',\n",
      "             69: 'Grenada',\n",
      "             70: 'Guatemala',\n",
      "             71: 'Guinea',\n",
      "             72: 'Guinea-Bissau',\n",
      "             73: 'Guyana',\n",
      "             74: 'Haiti',\n",
      "             75: 'Honduras',\n",
      "             76: 'Hong '\n",
      "                 'Kong, '\n",
      "                 'China',\n",
      "             77: 'Hungary',\n",
      "             78: 'Iceland',\n",
      "             79: 'India',\n",
      "             80: 'Indonesia',\n",
      "             81: 'Iran '\n",
      "                 '(Islamic '\n",
      "                 'Republic '\n",
      "                 'of)',\n",
      "             82: 'Iraq',\n",
      "             83: 'Ireland',\n",
      "             84: 'Israel',\n",
      "             85: 'Italy',\n",
      "             86: 'Jamaica',\n",
      "             87: 'Japan',\n",
      "             88: 'Jordan',\n",
      "             89: 'Kazakhstan',\n",
      "             90: 'Kenya',\n",
      "             91: 'Kiribati',\n",
      "             92: 'Korea, '\n",
      "                 'Dem. '\n",
      "                 'Rep.',\n",
      "             93: 'Korea, '\n",
      "                 'Rep.',\n",
      "             94: 'Kuwait',\n",
      "             95: 'Kyrgyzstan',\n",
      "             96: 'Lao '\n",
      "                 \"People's \"\n",
      "                 'Democratic '\n",
      "                 'Republic',\n",
      "             97: 'Latvia',\n",
      "             98: 'Lebanon',\n",
      "             99: 'Lesotho',\n",
      "             100: 'Liberia',\n",
      "             101: 'Libyan '\n",
      "                  'Arab '\n",
      "                  'Jamahiriya',\n",
      "             102: 'Lithuania',\n",
      "             103: 'Luxembourg',\n",
      "             104: 'Macao, '\n",
      "                  'China',\n",
      "             105: 'Macedonia',\n",
      "             106: 'Madagascar',\n",
      "             107: 'Malawi',\n",
      "             108: 'Malaysia',\n",
      "             109: 'Maldives',\n",
      "             110: 'Mali',\n",
      "             111: 'Malta',\n",
      "             112: 'Marshall '\n",
      "                  'Islands',\n",
      "             113: 'Mauritania',\n",
      "             114: 'Mauritius',\n",
      "             115: 'Mexico',\n",
      "             116: 'Micronesia '\n",
      "                  '(Federated '\n",
      "                  'States '\n",
      "                  'of)',\n",
      "             117: 'Moldova',\n",
      "             118: 'Monaco',\n",
      "             119: 'Mongolia',\n",
      "             120: 'Montenegro',\n",
      "             121: 'Morocco',\n",
      "             122: 'Mozambique',\n",
      "             123: 'Myanmar',\n",
      "             124: 'Namibia',\n",
      "             125: 'Nauru',\n",
      "             126: 'Nepal',\n",
      "             127: 'Netherlands',\n",
      "             128: 'Netherlands '\n",
      "                  'Antilles',\n",
      "             129: 'New '\n",
      "                  'Caledonia',\n",
      "             130: 'New '\n",
      "                  'Zealand',\n",
      "             131: 'Nicaragua',\n",
      "             132: 'Niger',\n",
      "             133: 'Nigeria',\n",
      "             134: 'Niue',\n",
      "             135: 'Norway',\n",
      "             136: 'Oman',\n",
      "             137: 'Pakistan',\n",
      "             138: 'Palau',\n",
      "             139: 'Panama',\n",
      "             140: 'Papua '\n",
      "                  'New '\n",
      "                  'Guinea',\n",
      "             141: 'Paraguay',\n",
      "             142: 'Peru',\n",
      "             143: 'Philippines',\n",
      "             144: 'Poland',\n",
      "             145: 'Portugal',\n",
      "             146: 'Puerto '\n",
      "                  'Rico',\n",
      "             147: 'Qatar',\n",
      "             148: 'Romania',\n",
      "             149: 'Russia',\n",
      "             150: 'Rwanda',\n",
      "             151: 'Saint '\n",
      "                  'Kitts '\n",
      "                  'and '\n",
      "                  'Nevis',\n",
      "             152: 'Saint '\n",
      "                  'Lucia',\n",
      "             153: 'Saint '\n",
      "                  'Vincent '\n",
      "                  'and '\n",
      "                  'the '\n",
      "                  'Grenadines',\n",
      "             154: 'Samoa',\n",
      "             155: 'San '\n",
      "                  'Marino',\n",
      "             156: 'Sao '\n",
      "                  'Tome '\n",
      "                  'and '\n",
      "                  'Principe',\n",
      "             157: 'Saudi '\n",
      "                  'Arabia',\n",
      "             158: 'Senegal',\n",
      "             159: 'Serbia',\n",
      "             160: 'Seychelles',\n",
      "             161: 'Sierra '\n",
      "                  'Leone',\n",
      "             162: 'Singapore',\n",
      "             163: 'Slovakia',\n",
      "             164: 'Slovenia',\n",
      "             165: 'Solomon '\n",
      "                  'Islands',\n",
      "             166: 'Somalia',\n",
      "             167: 'South '\n",
      "                  'Africa',\n",
      "             168: 'Spain',\n",
      "             169: 'Sri '\n",
      "                  'Lanka',\n",
      "             170: 'Sudan',\n",
      "             171: 'Suriname',\n",
      "             172: 'Swaziland',\n",
      "             173: 'Sweden',\n",
      "             174: 'Switzerland',\n",
      "             175: 'Syria',\n",
      "             176: 'Taiwan',\n",
      "             177: 'Tajikistan',\n",
      "             178: 'Tanzania',\n",
      "             179: 'Thailand',\n",
      "             180: 'Timor-Leste',\n",
      "             181: 'Togo',\n",
      "             182: 'Tonga',\n",
      "             183: 'Trinidad '\n",
      "                  'and '\n",
      "                  'Tobago',\n",
      "             184: 'Tunisia',\n",
      "             185: 'Turkey',\n",
      "             186: 'Turkmenistan',\n",
      "             187: 'Tuvalu',\n",
      "             188: 'Uganda',\n",
      "             189: 'Ukraine',\n",
      "             190: 'United '\n",
      "                  'Arab '\n",
      "                  'Emirates',\n",
      "             191: 'United '\n",
      "                  'Kingdom',\n",
      "             192: 'United '\n",
      "                  'States '\n",
      "                  'of '\n",
      "                  'America',\n",
      "             193: 'Uruguay',\n",
      "             194: 'Uzbekistan',\n",
      "             195: 'Vanuatu',\n",
      "             196: 'Venezuela',\n",
      "             197: 'Vietnam',\n",
      "             198: 'West '\n",
      "                  'Bank '\n",
      "                  'and '\n",
      "                  'Gaza',\n",
      "             199: 'Yemen',\n",
      "             200: 'Zambia',\n",
      "             201: 'Zimbabwe'}}\n"
     ]
    }
   ],
   "source": [
    "from langchain_classic.output_parsers import PandasDataFrameOutputParser\n",
    "from langchain_core.prompts import PromptTemplate\n",
    "from langchain_openai import ChatOpenAI\n",
    "import pandas as pd\n",
    "\n",
    "# 모델 설정\n",
    "model = ChatOpenAI(model=\"gpt-4o-mini\", temperature=0)\n",
    "\n",
    "# Parser 생성 \n",
    "parser = PandasDataFrameOutputParser(dataframe=df)\n",
    "\n",
    "# 프롬프트 설정\n",
    "prompt = PromptTemplate(\n",
    "    template=\"You are a data assistant. {format_instructions} Question: {query}\",\n",
    "    input_variables=[\"query\"],\n",
    "    partial_variables={\"format_instructions\": parser.get_format_instructions()},\n",
    ")\n",
    "\n",
    "# 체인 구성\n",
    "chain = prompt | model | parser\n",
    "\n",
    "# 실행\n",
    "df_query = \" Country column를 조회해 주세요.\"\n",
    "result = chain.invoke({\"query\": df_query})\n",
    "\n",
    "# 결과 출력\n",
    "print(\"Result:\\n\", result)\n",
    "print(\"Type:\", type(result))\n",
    "print('-'*50)\n",
    "\n",
    "# 포맷 출력\n",
    "format_parser_output(result)"
   ]
  },
  {
   "cell_type": "markdown",
   "id": "767be786-b639-4061-9a81-49b3a95bf279",
   "metadata": {},
   "source": [
    "### [7] DatetimeOutputParser\n",
    ": LLM이 출력한 텍스트를 Python datetime 객체로 변환해 주는 역할을 한다. <br>\n",
    "LangChain 1.0 이후 버전에서는 RegexParser 없어짐!!"
   ]
  },
  {
   "cell_type": "code",
   "execution_count": 31,
   "id": "aa2611fd-355f-4f83-82ed-a4940b7da2eb",
   "metadata": {},
   "outputs": [
    {
     "name": "stdout",
     "output_type": "stream",
     "text": [
      "LLM 출력: 1948-08-15T00:00:00.000000Z\n",
      "변환된 datetime 객체: 1948-08-15 00:00:00\n",
      "타입: <class 'datetime.datetime'>\n"
     ]
    }
   ],
   "source": [
    "from langchain_core.prompts import PromptTemplate\n",
    "from langchain_classic.output_parsers import DatetimeOutputParser\n",
    "from langchain_openai import ChatOpenAI\n",
    "\n",
    "# 출력 파서 \n",
    "parser = DatetimeOutputParser()\n",
    "\n",
    "# 프롬프트 정의\n",
    "prompt = PromptTemplate(\n",
    "    template=\"\"\"\n",
    "다음 질문에 대해 날짜/시간만 출력하세요.\n",
    "⚠️ 반드시 {format_instructions} 형식으로 답변하세요.\n",
    "\n",
    "질문: {question}\n",
    "\"\"\",\n",
    "    input_variables=[\"question\"],\n",
    "    partial_variables={\"format_instructions\": parser.get_format_instructions()},\n",
    ")\n",
    "\n",
    "#  LLM 초기화\n",
    "model = ChatOpenAI(model=\"gpt-4o-mini\", temperature=0)\n",
    "\n",
    "# 실행\n",
    "_input = prompt.format(question=\"대한민국이 건국된 날짜는 언제인가요?\")\n",
    "output = model.invoke(_input)\n",
    "\n",
    "#  파싱 : datetime 변환\n",
    "dt = parser.parse(output.content)\n",
    "\n",
    "print(\"LLM 출력:\", output.content)\n",
    "print(\"변환된 datetime 객체:\", dt)\n",
    "print(\"타입:\", type(dt))"
   ]
  },
  {
   "cell_type": "markdown",
   "id": "abc4d959-a9a0-4235-aa30-dd505173a93d",
   "metadata": {},
   "source": [
    "### [8] RegexParser\n",
    "LangChain 1.0 이후 버전에서는 RegexParser 없어짐!!"
   ]
  },
  {
   "cell_type": "code",
   "execution_count": 32,
   "id": "6e5d20f5-7959-40a2-a447-d328f3503cb8",
   "metadata": {},
   "outputs": [
    {
     "name": "stdout",
     "output_type": "stream",
     "text": [
      "['010-1234-5678']\n"
     ]
    }
   ],
   "source": [
    "# 파이썬 정규표현식\n",
    "import re\n",
    "\n",
    "text = \"전화번호는 010-1234-5678 입니다.\"\n",
    "result = re.findall(r\"\\d{3}-\\d{4}-\\d{4}\", text)\n",
    "print(result)  # ['010-1234-5678']"
   ]
  },
  {
   "cell_type": "code",
   "execution_count": 33,
   "id": "60c7cb35-e16c-466f-bdd7-101244685cd6",
   "metadata": {},
   "outputs": [
    {
     "name": "stdout",
     "output_type": "stream",
     "text": [
      "LLM 출력: 정답: (c)\n",
      "파싱 결과: {'answer': 'c'}\n"
     ]
    }
   ],
   "source": [
    "from langchain_classic.output_parsers import RegexParser\n",
    "from langchain_core.prompts import PromptTemplate\n",
    "from langchain_openai import ChatOpenAI\n",
    "\n",
    "# 1) Regex 파서 정의\n",
    "parser = RegexParser(\n",
    "    regex=r\"정답:\\s*\\(([a-d])\\)\",   # 괄호 안의 알파벳 추출\n",
    "    output_keys=[\"answer\"]\n",
    ")\n",
    "\n",
    "# 2) 프롬프트 정의 (get_format_instructions() 제거!)\n",
    "prompt = PromptTemplate(\n",
    "    template=\"\"\"\n",
    "다음 객관식 문제의 정답을 (a), (b), (c), (d) 중 하나로만 표시하세요.\n",
    "출력 형식은 \"정답: (a)\" 와 같이 써주세요.\n",
    "\n",
    "문제: {question}\n",
    "\"\"\",\n",
    "    input_variables=[\"question\"],\n",
    ")\n",
    "\n",
    "# 3) 모델 초기화\n",
    "model = ChatOpenAI(model=\"gpt-4o-mini\", temperature=0)\n",
    "\n",
    "# 4) 실행\n",
    "_input = prompt.format(question=\"대한민국의 수도는 어디인가요? (a) 도쿄 (b) 베이징 (c) 서울 (d) 평양\")\n",
    "output = model.invoke(_input)\n",
    "\n",
    "# 5) 파싱\n",
    "result = parser.parse(output.content)\n",
    "\n",
    "print(\"LLM 출력:\", output.content)\n",
    "print(\"파싱 결과:\", result)\n"
   ]
  },
  {
   "cell_type": "code",
   "execution_count": 34,
   "id": "d210818f-4b09-410c-a653-8686b47d8c8d",
   "metadata": {},
   "outputs": [
    {
     "data": {
      "text/plain": [
       "'\\n다음 객관식 문제의 정답을 (a), (b), (c), (d) 중 하나로만 표시하세요.\\n출력 형식은 \"정답: (a)\" 와 같이 써주세요.\\n\\n문제: 대한민국의 수도는 어디인가요? (a) 도쿄 (b) 베이징 (c) 서울 (d) 평양\\n'"
      ]
     },
     "execution_count": 34,
     "metadata": {},
     "output_type": "execute_result"
    }
   ],
   "source": [
    "_input"
   ]
  },
  {
   "cell_type": "code",
   "execution_count": 35,
   "id": "5e22b22b-036a-4dca-b724-9f0b0c350823",
   "metadata": {},
   "outputs": [
    {
     "data": {
      "text/plain": [
       "AIMessage(content='정답: (c)', additional_kwargs={'refusal': None}, response_metadata={'token_usage': {'completion_tokens': 6, 'prompt_tokens': 88, 'total_tokens': 94, 'completion_tokens_details': {'accepted_prediction_tokens': 0, 'audio_tokens': 0, 'reasoning_tokens': 0, 'rejected_prediction_tokens': 0}, 'prompt_tokens_details': {'audio_tokens': 0, 'cached_tokens': 0}}, 'model_provider': 'openai', 'model_name': 'gpt-4o-mini-2024-07-18', 'system_fingerprint': 'fp_560af6e559', 'id': 'chatcmpl-CVAPKbmhHJ4bSVMnFr0vtqAO17LnI', 'service_tier': 'default', 'finish_reason': 'stop', 'logprobs': None}, id='lc_run--5f53e928-c309-4153-96d1-3164197ff851-0', usage_metadata={'input_tokens': 88, 'output_tokens': 6, 'total_tokens': 94, 'input_token_details': {'audio': 0, 'cache_read': 0}, 'output_token_details': {'audio': 0, 'reasoning': 0}})"
      ]
     },
     "execution_count": 35,
     "metadata": {},
     "output_type": "execute_result"
    }
   ],
   "source": [
    "output"
   ]
  },
  {
   "cell_type": "code",
   "execution_count": 37,
   "id": "ae1e17b6-68d0-4bc0-a287-c3ce466a0fc5",
   "metadata": {},
   "outputs": [
    {
     "name": "stdout",
     "output_type": "stream",
     "text": [
      "{'answer': 'c'}\n"
     ]
    }
   ],
   "source": [
    "from langchain_classic.output_parsers import RegexParser\n",
    "\n",
    "parser = RegexParser(\n",
    "    regex=r\"정답:\\s*\\(([a-d])\\)\",\n",
    "    output_keys=[\"answer\"]\n",
    ")\n",
    "result = parser.parse(\"정답: (c)\")\n",
    "print(result)  # {'answer': 'c'}"
   ]
  },
  {
   "cell_type": "code",
   "execution_count": null,
   "id": "559c700e-d356-4a2b-b0b4-7ebd9ba302b3",
   "metadata": {},
   "outputs": [],
   "source": []
  }
 ],
 "metadata": {
  "kernelspec": {
   "display_name": "Python 3 (ipykernel)",
   "language": "python",
   "name": "python3"
  },
  "language_info": {
   "codemirror_mode": {
    "name": "ipython",
    "version": 3
   },
   "file_extension": ".py",
   "mimetype": "text/x-python",
   "name": "python",
   "nbconvert_exporter": "python",
   "pygments_lexer": "ipython3",
   "version": "3.12.7"
  }
 },
 "nbformat": 4,
 "nbformat_minor": 5
}
