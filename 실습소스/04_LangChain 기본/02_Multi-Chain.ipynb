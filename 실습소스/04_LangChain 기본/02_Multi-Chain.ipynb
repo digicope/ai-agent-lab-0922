{
 "cells": [
  {
   "cell_type": "markdown",
   "id": "a4e1a5e9-85b5-48a3-a5e1-3647a6d07f75",
   "metadata": {},
   "source": [
    "## 랭체인 Multi-Chain 구현\n",
    "- LCEL(LangChain Expression Language)로 체인 만들기"
   ]
  },
  {
   "cell_type": "code",
   "execution_count": 1,
   "id": "ad0dbd97-a0ec-4fa2-a58c-8910371c5bb9",
   "metadata": {},
   "outputs": [
    {
     "data": {
      "text/plain": [
       "True"
      ]
     },
     "execution_count": 1,
     "metadata": {},
     "output_type": "execute_result"
    }
   ],
   "source": [
    "from dotenv import load_dotenv\n",
    "import os\n",
    "\n",
    "# .env 파일 불러오기\n",
    "load_dotenv(\"C:/env/.env\")"
   ]
  },
  {
   "cell_type": "markdown",
   "id": "8b27563a-0bac-40a8-9110-de6e37e4c30e",
   "metadata": {},
   "source": [
    "#### 순차 연결 (Pipeline with | Operator)"
   ]
  },
  {
   "cell_type": "code",
   "execution_count": 8,
   "id": "aeb85d46-a175-434d-840d-5a85ea8dbd6a",
   "metadata": {},
   "outputs": [
    {
     "name": "stdout",
     "output_type": "stream",
     "text": [
      "The translation of the given sentence is: \"LangChain is a framework that helps to easily develop LLM applications.\"\n"
     ]
    }
   ],
   "source": [
    "from langchain_openai import ChatOpenAI\n",
    "from langchain_core.prompts import PromptTemplate\n",
    "\n",
    "# LLM 모델 선택\n",
    "llm = ChatOpenAI(model=\"gpt-4o-mini\")\n",
    "\n",
    "# 1단계: 텍스트 요약 프롬프트\n",
    "summary_prompt = PromptTemplate.from_template(\n",
    "    \"다음 텍스트를 한 문장으로 요약해줘:\\n{text}\"\n",
    ")\n",
    "\n",
    "# 2단계: 영어 번역 프롬프트\n",
    "translate_prompt = PromptTemplate.from_template(\n",
    "    \"다음 문장을 영어로 번역:\\n{summary}\"\n",
    ")\n",
    "\n",
    "# 체인 구성 : 요약 -> 번역\n",
    "multi_chain = summary_prompt | llm | translate_prompt | llm\n",
    "\n",
    "# 실행\n",
    "result = multi_chain.invoke({\"text\":\"랭체인은 LLM 애플리케이션을 쉽게 만들 수 있는 프레임워크이다.\"})\n",
    "print(result.content)"
   ]
  },
  {
   "cell_type": "code",
   "execution_count": 5,
   "id": "d4c90cec-e659-4f99-bc3e-00ad191bcd0a",
   "metadata": {},
   "outputs": [
    {
     "name": "stdout",
     "output_type": "stream",
     "text": [
      "input_variables=['text'] input_types={} partial_variables={} template='다음 텍스트를 한 문장으로 요약해줘:\\n{text}'\n",
      "input_variables=['summary'] input_types={} partial_variables={} template='다음 문장을 영어로 번역:\\n{summary}'\n"
     ]
    }
   ],
   "source": [
    "print(summary_prompt)\n",
    "print(translate_prompt)"
   ]
  },
  {
   "cell_type": "markdown",
   "id": "11ecda7b-3653-41fe-aaa8-0b6d8f430433",
   "metadata": {},
   "source": [
    "#### 조건 분기 (Router / Multi-Prompt Chain)"
   ]
  },
  {
   "cell_type": "code",
   "execution_count": null,
   "id": "d0913e91-439f-41d1-8784-a791ea39743e",
   "metadata": {},
   "outputs": [],
   "source": [
    "from langchain_openai import ChatOpenAI\n",
    "from langchain_core.prompts import PromptTemplate\n",
    "from langchain_core.runnables import RunnableBranch\n",
    "from langchain_core.output_parsers import StrOutputParser\n",
    "\n",
    "llm = ChatOpenAI(model=\"gpt-4o-mini\")\n",
    "parser = StrOutputParser()\n",
    "\n",
    "# 체인 정의\n"
   ]
  }
 ],
 "metadata": {
  "kernelspec": {
   "display_name": "Python 3 (ipykernel)",
   "language": "python",
   "name": "python3"
  },
  "language_info": {
   "codemirror_mode": {
    "name": "ipython",
    "version": 3
   },
   "file_extension": ".py",
   "mimetype": "text/x-python",
   "name": "python",
   "nbconvert_exporter": "python",
   "pygments_lexer": "ipython3",
   "version": "3.12.7"
  }
 },
 "nbformat": 4,
 "nbformat_minor": 5
}
