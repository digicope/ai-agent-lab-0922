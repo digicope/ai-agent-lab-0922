{
 "cells": [
  {
   "cell_type": "markdown",
   "id": "6ccf1d1a-8888-4b54-abaf-1ff2a4b7bfcd",
   "metadata": {},
   "source": [
    "### 대화 메모리 관리\n",
    "- 대화 메모리(MessageHistory)는 AI Agent가 이전 대화 내용을 메시지 단위로 저장하고,\n",
    "이를 바탕으로 **맥락(Context)**을 유지하여 자연스러운 대화를 이어가기 위한 구조이다.\n",
    "- 단순한 “대화 이력 저장”을 넘어서, 대화 요약(Summarization)과 의도 추적(Context Tracking) 기능을 포함한다."
   ]
  },
  {
   "cell_type": "code",
   "execution_count": 30,
   "id": "704eacbc-ea4e-4fda-ba14-177faa371eff",
   "metadata": {},
   "outputs": [
    {
     "data": {
      "text/plain": [
       "True"
      ]
     },
     "execution_count": 30,
     "metadata": {},
     "output_type": "execute_result"
    }
   ],
   "source": [
    "import os\n",
    "from dotenv import load_dotenv\n",
    "\n",
    "# .env 파일의 내용 불러오기\n",
    "load_dotenv(\"C:/env/.env\")"
   ]
  },
  {
   "cell_type": "markdown",
   "id": "088259f9-6c69-4b27-8cc0-dbd8d9d44a95",
   "metadata": {},
   "source": [
    "### [1] ConversationBufferMemory: 구버전  \n",
    " (LangChain ≥ 0.2.7 신버전에서 Deprecated, 현재 버전에서 실행 오류)"
   ]
  },
  {
   "cell_type": "code",
   "execution_count": 5,
   "id": "b26a98ef-169d-4b2f-8923-9ed2a9b16f84",
   "metadata": {},
   "outputs": [],
   "source": [
    "# from langchain_openai import ChatOpenAI\n",
    "# from langchain.chains import ConversationChain\n",
    "# from langchain.memory import ConversationBufferMemory\n",
    "\n",
    "# # 1) LLM 모델 정의\n",
    "# llm = ChatOpenAI(model=\"gpt-4o-mini\", temperature=0.3)\n",
    "\n",
    "# # 2) 메모리 객체 생성\n",
    "# # return_messages=True → 각 대화를 메시지 객체로 반환\n",
    "# memory = ConversationBufferMemory(return_messages=True)\n",
    "\n",
    "# # 3) 대화 체인(ConversationChain) 구성\n",
    "# conversation = ConversationChain(\n",
    "#     llm=llm,\n",
    "#     memory=memory,\n",
    "#     verbose=True   # 내부 동작 로그 출력\n",
    "# )\n",
    "\n",
    "# # 4) 대화 실행\n",
    "# print(\"=== 대화 시작 ===\")\n",
    "# response1 = conversation.predict(input=\"안녕? 나는 홍길동이야.\")\n",
    "# print(\"🤖:\", response1)\n",
    "\n",
    "# response2 = conversation.predict(input=\"내 이름이 뭐지?\")\n",
    "# print(\"🤖:\", response2)\n",
    "\n",
    "# response3 = conversation.predict(input=\"좋아하는 음식은 뭐야?\")\n",
    "# print(\"🤖:\", response3)\n",
    "\n",
    "## 5) 메모리 내용 확인\n",
    "# print(\"\\n=== 현재 메모리 저장 내용 ===\")\n",
    "# print(memory.buffer)\n",
    "\n",
    "# C:\\Users\\Public\\Documents\\ESTsoft\\CreatorTemp\\ipykernel_7420\\1386141394.py:13: LangChainDeprecationWarning: Please see the migration guide at: https://python.langchain.com/docs/versions/migrating_memory/\n",
    "#   memory = ConversationBufferMemory(return_messages=True)\n",
    "# C:\\Users\\Public\\Documents\\ESTsoft\\CreatorTemp\\ipykernel_7420\\1386141394.py:16: LangChainDeprecationWarning: The class `ConversationChain` was deprecated in LangChain 0.2.7 and will be removed in 1.0. Use :class:`~langchain_core.runnables.history.RunnableWithMessageHistory` instead.\n",
    "#   conversation = ConversationChain("
   ]
  },
  {
   "cell_type": "code",
   "execution_count": 3,
   "id": "fd5cd95d-abab-4213-95a8-00b4e3ef222a",
   "metadata": {},
   "outputs": [
    {
     "name": "stdout",
     "output_type": "stream",
     "text": [
      "langchain: 1.0.1\n",
      "langchain-core: 1.0.0\n"
     ]
    }
   ],
   "source": [
    "import langchain\n",
    "import langchain_core\n",
    "import langchain_openai\n",
    "\n",
    "# 2025년 10월 에 정식 변경\n",
    "print(\"langchain:\", langchain.__version__)              #  langchain: 0.3.27  --> 1.0.1\n",
    "print(\"langchain-core:\", langchain_core.__version__)    #  langchain-core: 0.3.78 --> 1.0.1"
   ]
  },
  {
   "cell_type": "markdown",
   "id": "2146da72-891d-44b0-b6b0-5fad05849eb8",
   "metadata": {},
   "source": [
    "### [2] RunnableWithMessageHistory : 최신 버전 스타일\n",
    "LangChain 최신 대화 관리 클래스 (≥ 0.2.7) <br>\n",
    "LLM(예: ChatOpenAI)과 대화 기록(MessageHistory)을 연결해 멀티턴 대화(대화 맥락 유지)를 지원한다."
   ]
  },
  {
   "cell_type": "code",
   "execution_count": 4,
   "id": "c83faeae-7198-482b-8b31-2b691af655e8",
   "metadata": {},
   "outputs": [
    {
     "name": "stdout",
     "output_type": "stream",
     "text": [
      "=== 대화 시작 ===\n",
      "🤖: 안녕하세요, 홍길동님! 만나서 반갑습니다. 어떻게 도와드릴까요?\n",
      "🤖: 당신의 이름은 홍길동입니다! 다른 질문이나 도움이 필요하신 부분이 있나요?\n",
      "🤖: 저는 인공지능이라 음식을 먹거나 좋아할 수는 없지만, 많은 사람들이 좋아하는 음식에 대해 이야기할 수 있어요! 예를 들어, 피자, 초밥, 김치찌개 같은 음식들이 인기가 많죠. 홍길동님은 어떤 음식을 좋아하시나요?\n",
      "\n",
      "=== 현재 대화 히스토리 ===\n",
      "🧑 사용자: 안녕? 나는 홍길동이야!\n",
      "🤖 AI: 안녕하세요, 홍길동님! 만나서 반갑습니다. 어떻게 도와드릴까요?\n",
      "🧑 사용자: 내 이름이 뭐지?\n",
      "🤖 AI: 당신의 이름은 홍길동입니다! 다른 질문이나 도움이 필요하신 부분이 있나요?\n",
      "🧑 사용자: 좋아하는 음식은 뭐야?\n",
      "🤖 AI: 저는 인공지능이라 음식을 먹거나 좋아할 수는 없지만, 많은 사람들이 좋아하는 음식에 대해 이야기할 수 있어요! 예를 들어, 피자, 초밥, 김치찌개 같은 음식들이 인기가 많죠. 홍길동님은 어떤 음식을 좋아하시나요?\n"
     ]
    }
   ],
   "source": [
    "#  LangChain 최신 메모리 구조 예제\n",
    "# ConversationChain → RunnableWithMessageHistory로 변경됨\n",
    "\n",
    "from langchain_openai import ChatOpenAI\n",
    "from langchain_core.messages import HumanMessage\n",
    "from langchain_core.chat_history import InMemoryChatMessageHistory\n",
    "from langchain_core.runnables.history import RunnableWithMessageHistory\n",
    "\n",
    "# 1) LLM 모델 정의\n",
    "llm = ChatOpenAI(model=\"gpt-4o-mini\", temperature=0.3)\n",
    "\n",
    "# 2) 세션별 대화 기록 저장소\n",
    "store = {}\n",
    "\n",
    "def get_session_history(session_id: str):\n",
    "    \"\"\"세션 ID별로 대화 기록을 저장하고 불러오는 함수\"\"\"\n",
    "    if session_id not in store:\n",
    "        store[session_id] = InMemoryChatMessageHistory()\n",
    "    return store[session_id]\n",
    "\n",
    "# 3) RunnableWithMessageHistory 구성\n",
    "conversation = RunnableWithMessageHistory(\n",
    "    llm,\n",
    "    get_session_history\n",
    ")\n",
    "\n",
    "# 4) 세션 ID 설정\n",
    "config = {\"configurable\": {\"session_id\": \"chat-001\"}}\n",
    "\n",
    "# 5) 대화 실행\n",
    "print(\"=== 대화 시작 ===\")\n",
    "response1 = conversation.invoke([HumanMessage(content=\"안녕? 나는 홍길동이야!\")], config=config)\n",
    "print(\"🤖:\", response1.content)\n",
    "\n",
    "response2 = conversation.invoke([HumanMessage(content=\"내 이름이 뭐지?\")], config=config)\n",
    "print(\"🤖:\", response2.content)\n",
    "\n",
    "response3 = conversation.invoke([HumanMessage(content=\"좋아하는 음식은 뭐야?\")], config=config)\n",
    "print(\"🤖:\", response3.content)\n",
    "\n",
    "# 6) 현재 메모리(대화 히스토리) 확인\n",
    "history = get_session_history(\"chat-001\")\n",
    "print(\"\\n=== 현재 대화 히스토리 ===\")\n",
    "for msg in history.messages:\n",
    "    role = \"🧑 사용자\" if msg.type == \"human\" else \"🤖 AI\"\n",
    "    print(f\"{role}: {msg.content}\")"
   ]
  },
  {
   "cell_type": "markdown",
   "id": "e9b34e51-33c6-48a8-8433-b3da545fc4e0",
   "metadata": {},
   "source": [
    "### [3] InMemoryChatMessageHistory\n",
    "- 대화 기록(Chat Messages)을 메모리(RAM)에 저장하는 기본 클래스\n",
    "- 한 세션(session_id) 동안 사용자 메시지와 AI 응답을 순차적으로 리스트 형태로 보관\n",
    "- 프로그램이 종료되면 기록이 사라지는 휘발성(Volatile) 구조\n",
    "- RunnableWithMessageHistory와 함께 사용해 멀티턴 대화 관리에 활용됨"
   ]
  },
  {
   "cell_type": "code",
   "execution_count": 5,
   "id": "10739d49-185b-420d-9a92-ffc23434beb6",
   "metadata": {},
   "outputs": [
    {
     "name": "stdout",
     "output_type": "stream",
     "text": [
      "=== 대화 기록 ===\n",
      "🧑 사용자: 안녕?\n",
      "🤖 AI: 안녕하세요! 만나서 반가워요.\n"
     ]
    }
   ],
   "source": [
    "from langchain_core.chat_history import InMemoryChatMessageHistory\n",
    "from langchain_core.messages import HumanMessage, AIMessage\n",
    "\n",
    "# 1) 메모리 객체 생성\n",
    "history = InMemoryChatMessageHistory()\n",
    "\n",
    "# 2) 사용자 메시지 추가\n",
    "history.add_message(HumanMessage(content=\"안녕?\"))\n",
    "\n",
    "# 3) AI 응답 추가\n",
    "history.add_message(AIMessage(content=\"안녕하세요! 만나서 반가워요.\"))\n",
    "\n",
    "# 4) 기록 확인\n",
    "print(\"=== 대화 기록 ===\")\n",
    "for msg in history.messages:\n",
    "    role = \"🧑 사용자\" if msg.type == \"human\" else \"🤖 AI\"\n",
    "    print(f\"{role}: {msg.content}\")\n",
    "\n",
    "# 프로그램이 종료되면 기록이 사라지는 휘발성(volatile) 구조"
   ]
  },
  {
   "cell_type": "code",
   "execution_count": 6,
   "id": "0c3e7441-d1ff-4d96-8286-d6febb18b9ff",
   "metadata": {},
   "outputs": [
    {
     "data": {
      "text/plain": [
       "InMemoryChatMessageHistory(messages=[HumanMessage(content='안녕?', additional_kwargs={}, response_metadata={}), AIMessage(content='안녕하세요! 만나서 반가워요.', additional_kwargs={}, response_metadata={})])"
      ]
     },
     "execution_count": 6,
     "metadata": {},
     "output_type": "execute_result"
    }
   ],
   "source": [
    "history"
   ]
  },
  {
   "cell_type": "code",
   "execution_count": 7,
   "id": "0fdc56a0-1947-41bb-886a-b1243db3e402",
   "metadata": {},
   "outputs": [
    {
     "name": "stdout",
     "output_type": "stream",
     "text": [
      "=== InMemoryChatMessageHistory 멀티턴 예제 ===\n",
      "대화를 입력하세요. (exit 입력 시 종료)\n",
      "\n"
     ]
    },
    {
     "name": "stdin",
     "output_type": "stream",
     "text": [
      "🧑 사용자:  안녕 나는 홍길동이야\n"
     ]
    },
    {
     "name": "stdout",
     "output_type": "stream",
     "text": [
      "🤖 AI: 안녕하세요, 홍길동님! 만나서 반갑습니다. 어떻게 도와드릴까요?\n"
     ]
    },
    {
     "name": "stdin",
     "output_type": "stream",
     "text": [
      "🧑 사용자:  내 이름이 뭐지?\n"
     ]
    },
    {
     "name": "stdout",
     "output_type": "stream",
     "text": [
      "🤖 AI: 당신의 이름은 홍길동입니다. 다른 질문이나 궁금한 점이 있으신가요?\n"
     ]
    },
    {
     "name": "stdin",
     "output_type": "stream",
     "text": [
      "🧑 사용자:  니는 조선시대 사람이야\n"
     ]
    },
    {
     "name": "stdout",
     "output_type": "stream",
     "text": [
      "🤖 AI: 저는 인공지능이기 때문에 특정 시대나 장소에 속하지 않아요. 하지만 조선시대에 대한 질문이나 이야기를 나누는 것은 가능합니다. 조선시대에 대해 궁금한 점이 있으신가요?\n"
     ]
    },
    {
     "name": "stdin",
     "output_type": "stream",
     "text": [
      "🧑 사용자:  내가 조선 시대 사람이야\n"
     ]
    },
    {
     "name": "stdout",
     "output_type": "stream",
     "text": [
      "🤖 AI: 아, 그렇군요! 조선 시대에 살고 계신다고 상상해보면 흥미로운 이야기들이 많겠네요. 그 시대의 생활이나 문화, 역사에 대해 이야기해보고 싶으신 부분이 있나요?\n"
     ]
    },
    {
     "name": "stdin",
     "output_type": "stream",
     "text": [
      "🧑 사용자:  내가 누구라고 했지?\n"
     ]
    },
    {
     "name": "stdout",
     "output_type": "stream",
     "text": [
      "🤖 AI: 당신은 홍길동이라고 하셨습니다. 홍길동은 조선 시대의 유명한 소설 속 인물로, 도적이자 의적으로 알려져 있습니다. 다른 질문이나 이야기하고 싶은 내용이 있으신가요?\n"
     ]
    },
    {
     "name": "stdin",
     "output_type": "stream",
     "text": [
      "🧑 사용자:  quit\n"
     ]
    },
    {
     "name": "stdout",
     "output_type": "stream",
     "text": [
      "\n",
      "대화 종료!\n"
     ]
    }
   ],
   "source": [
    "from langchain_openai import ChatOpenAI\n",
    "from langchain_core.messages import HumanMessage, AIMessage\n",
    "from langchain_core.chat_history import InMemoryChatMessageHistory\n",
    "\n",
    "# 1) LLM 초기화\n",
    "llm = ChatOpenAI(model=\"gpt-4o-mini\", temperature=0.4)\n",
    "\n",
    "# 2) 메모리(대화 이력) 생성\n",
    "history = InMemoryChatMessageHistory()\n",
    "\n",
    "print(\"=== InMemoryChatMessageHistory 멀티턴 예제 ===\")\n",
    "print(\"대화를 입력하세요. (exit 입력 시 종료)\\n\")\n",
    "\n",
    "while True:\n",
    "    user_input = input(\"🧑 사용자: \")\n",
    "    if user_input.lower() in [\"exit\", \"quit\", \"종료\"]:\n",
    "        print(\"\\n대화 종료!\")\n",
    "        break\n",
    "\n",
    "    # 사용자 메시지 저장\n",
    "    history.add_message(HumanMessage(content=user_input))\n",
    "\n",
    "    # 🔹 LLM 호출 시, 이전 대화 이력 전체를 전달\n",
    "    messages = history.messages  # 지금까지의 모든 대화\n",
    "    ai_response = llm.invoke(messages)\n",
    "\n",
    "    # AI 응답 출력 및 기록\n",
    "    print(\"🤖 AI:\", ai_response.content)\n",
    "    history.add_message(AIMessage(content=ai_response.content))\n"
   ]
  },
  {
   "cell_type": "code",
   "execution_count": 8,
   "id": "35634f71-493d-4de1-b00d-5040bb29f406",
   "metadata": {},
   "outputs": [
    {
     "data": {
      "text/plain": [
       "[HumanMessage(content='안녕 나는 홍길동이야', additional_kwargs={}, response_metadata={}),\n",
       " AIMessage(content='안녕하세요, 홍길동님! 만나서 반갑습니다. 어떻게 도와드릴까요?', additional_kwargs={}, response_metadata={}),\n",
       " HumanMessage(content='내 이름이 뭐지?', additional_kwargs={}, response_metadata={}),\n",
       " AIMessage(content='당신의 이름은 홍길동입니다. 다른 질문이나 궁금한 점이 있으신가요?', additional_kwargs={}, response_metadata={}),\n",
       " HumanMessage(content='니는 조선시대 사람이야', additional_kwargs={}, response_metadata={}),\n",
       " AIMessage(content='저는 인공지능이기 때문에 특정 시대나 장소에 속하지 않아요. 하지만 조선시대에 대한 질문이나 이야기를 나누는 것은 가능합니다. 조선시대에 대해 궁금한 점이 있으신가요?', additional_kwargs={}, response_metadata={}),\n",
       " HumanMessage(content='내가 조선 시대 사람이야', additional_kwargs={}, response_metadata={}),\n",
       " AIMessage(content='아, 그렇군요! 조선 시대에 살고 계신다고 상상해보면 흥미로운 이야기들이 많겠네요. 그 시대의 생활이나 문화, 역사에 대해 이야기해보고 싶으신 부분이 있나요?', additional_kwargs={}, response_metadata={}),\n",
       " HumanMessage(content='내가 누구라고 했지?', additional_kwargs={}, response_metadata={}),\n",
       " AIMessage(content='당신은 홍길동이라고 하셨습니다. 홍길동은 조선 시대의 유명한 소설 속 인물로, 도적이자 의적으로 알려져 있습니다. 다른 질문이나 이야기하고 싶은 내용이 있으신가요?', additional_kwargs={}, response_metadata={})]"
      ]
     },
     "execution_count": 8,
     "metadata": {},
     "output_type": "execute_result"
    }
   ],
   "source": [
    "messages"
   ]
  },
  {
   "cell_type": "markdown",
   "id": "9c0ecbe9-847b-4c7d-a70c-b667fa67b310",
   "metadata": {},
   "source": [
    "### [4] FileChatMessageHistory\n",
    ": 대화 이력을 로컬 파일(JSON)로 저장하는 클래스"
   ]
  },
  {
   "cell_type": "code",
   "execution_count": null,
   "id": "418df4a2-3805-42c6-ae6a-78dfc9f48c05",
   "metadata": {},
   "outputs": [],
   "source": [
    "# !pip install langchain-community"
   ]
  },
  {
   "cell_type": "code",
   "execution_count": 11,
   "id": "538f648f-ea93-4043-aed8-bdbaab180b69",
   "metadata": {},
   "outputs": [
    {
     "name": "stdout",
     "output_type": "stream",
     "text": [
      "=== 대화 이력 ===\n",
      "🧑 사용자: 안녕?\n",
      "🤖 AI: 안녕하세요! 만나서 반가워요.\n"
     ]
    }
   ],
   "source": [
    "from langchain_community.chat_message_histories import FileChatMessageHistory\n",
    "from langchain_core.messages import HumanMessage, AIMessage\n",
    "\n",
    "# 1) FileChatMessageHistory 생성\n",
    "history = FileChatMessageHistory(\"chat_history.json\")   # 빈 리스트를 갖는 JSON 파일이 생성\n",
    "\n",
    "# 2) 메시지 추가\n",
    "history.add_message(HumanMessage(content='안녕?'))\n",
    "history.add_message(AIMessage(content=\"안녕하세요! 만나서 반가워요.\"))\n",
    "\n",
    "                                # 3) 현재 메시지 확인\n",
    "print(\"=== 대화 이력 ===\")\n",
    "for msg in history.messages:\n",
    "    role = \"🧑 사용자\" if msg.type == \"human\" else \"🤖 AI\"\n",
    "    print(f\"{role}: {msg.content}\")\n",
    "# 4) 프로그램 종료 후 다시 실행해도 chat_history.json 파일에 저장된 내용이 유지됨"
   ]
  },
  {
   "cell_type": "code",
   "execution_count": 15,
   "id": "8b18086d-dd9a-4c2f-8d80-b5ca2edf5704",
   "metadata": {},
   "outputs": [
    {
     "name": "stdout",
     "output_type": "stream",
     "text": [
      "🤖: 안녕하세요, 홍길동님! 만나서 반갑습니다. 어떻게 도와드릴까요?\n",
      "🤖: 당신의 이름은 홍길동입니다! 다른 질문이나 이야기하고 싶은 것이 있으면 말씀해 주세요.\n"
     ]
    }
   ],
   "source": [
    "from langchain_community.chat_message_histories import FileChatMessageHistory\n",
    "from langchain_core.messages import HumanMessage, AIMessage\n",
    "from langchain_core.runnables.history import RunnableWithMessageHistory\n",
    "\n",
    "# 1) LLM 초기화\n",
    "llm = ChatOpenAI(model=\"gpt-4o-mini\", temperature=0.4)\n",
    "\n",
    "# 2) 세션별 파일 저장소 생성 함수\n",
    "def get_session_history(session_id:str):\n",
    "    file_path = f\"history_{session_id}.json\"\n",
    "    return FileChatMessageHistory(file_path)\n",
    "\n",
    "# 3) RunnableWithMessageHistory 구성\n",
    "conversation = RunnableWithMessageHistory(llm, get_session_history)\n",
    "\n",
    "# 4) 세션 설정\n",
    "config = {\"configurable\": {\"session_id\": \"user-001\"}}\n",
    "\n",
    "# 5) 대화 실행\n",
    "response1 = conversation.invoke([HumanMessage(content=\"안녕? 나는 홍길동이야!\")], config=config)\n",
    "print(\"🤖:\", response1.content)\n",
    "\n",
    "response2 = conversation.invoke([HumanMessage(content=\"내 이름이 뭐지?\")], config=config)\n",
    "print(\"🤖:\", response2.content)\n",
    "\n",
    "# 이 코드를 실행하면 history_user-001.json 파일이 자동으로 생성되고,\n",
    "# 모든 대화 내용이 파일에 순차적으로 누적 저장됩니다.    "
   ]
  },
  {
   "cell_type": "markdown",
   "id": "37d41bb9-a2be-4729-916d-6753a8780fdc",
   "metadata": {},
   "source": [
    "### [5] RedisChatMessageHistory\n",
    "메모리에 휘발되는 InMemoryChatMessageHistory 대신 Redis DB 서버에 대화 내용을 저장해서 <br>\n",
    "프로그램을 꺼도, 혹은 여러 사용자가 동시에 접속해도 이전 대화가 유지되는 구조"
   ]
  },
  {
   "cell_type": "code",
   "execution_count": 18,
   "id": "808801a8-9951-4d93-b1b2-948300cac00b",
   "metadata": {},
   "outputs": [],
   "source": [
    "# !pip install redis"
   ]
  },
  {
   "cell_type": "code",
   "execution_count": 26,
   "id": "1dfaffe0-7b23-4928-a195-4bf29f5307e3",
   "metadata": {},
   "outputs": [
    {
     "name": "stdout",
     "output_type": "stream",
     "text": [
      "=== Redis 저장된 대화 이력 ===\n",
      "사용자: 안녕?\n",
      "AI: 안녕하세요! 반가워요\n"
     ]
    }
   ],
   "source": [
    "from langchain_community.chat_message_histories import RedisChatMessageHistory\n",
    "from langchain_core.messages import HumanMessage, AIMessage\n",
    "\n",
    "# 1) Redis 서버 연결 설정\n",
    "# host, port, session_id는 자유롭게 변경 가능\n",
    "history = RedisChatMessageHistory(\n",
    "    url=\"redis://localhost:6379/0\",  # Redis 서버 주소\n",
    "    session_id=\"user-001\"            # 세션 구분용 ID\n",
    ")\n",
    "\n",
    "# 2) 메시지 추가\n",
    "history.add_message(HumanMessage(content=\"안녕?\"))\n",
    "history.add_message(AIMessage(content=\"안녕하세요! 반가워요\"))\n",
    "\n",
    "# 3) 현재 대화 이력 확인\n",
    "print(\"=== Redis 저장된 대화 이력 ===\")\n",
    "for msg in history.messages:\n",
    "    role = \"사용자\" if msg.type == \"human\" else \"AI\"\n",
    "    print(f\"{role}: {msg.content}\")\n",
    "\n",
    "# Redis 내부에 다음과 같이 저장됨\n",
    "# KEY: chat_history:user-001\n",
    "# VALUE: [\n",
    "#   {\"type\": \"human\", \"content\": \"안녕?\"},\n",
    "#   {\"type\": \"AI\", \"content\": \"안녕하세요! 반가워요\"}\n",
    "# ]"
   ]
  },
  {
   "cell_type": "code",
   "execution_count": 29,
   "id": "c24aaad6-d2bb-45fe-a087-5babba4a9db8",
   "metadata": {},
   "outputs": [
    {
     "name": "stdout",
     "output_type": "stream",
     "text": [
      "📦 Redis에 저장된 키와 내용:\n",
      "==================================================\n",
      "🔑 message_store:chat-redis-001  |  타입: list\n",
      "  💬 1. {\n",
      "    \"type\": \"ai\",\n",
      "    \"data\": {\"content\": \"당신의 이름은 홍길동입니다. 다른 질문이나 도움이 필요하신 것이 있으면 말씀해 주세요!\"}\n",
      "  }\n",
      "  💬 2. {\n",
      "    \"type\": \"human\",\n",
      "    \"data\": {\"content\": \"내 이름이 뭐지?\"}\n",
      "  }\n",
      "  💬 3. {\n",
      "    \"type\": \"ai\",\n",
      "    \"data\": {\"content\": \"안녕하세요, 홍길동님! 만나서 반갑습니다. 어떻게 도와드릴까요?\"}\n",
      "  }\n",
      "  💬 4. {\n",
      "    \"type\": \"human\",\n",
      "    \"data\": {\"content\": \"안녕? 나는 홍길동이야!\"}\n",
      "  }\n",
      "------------------------------------------------------------\n",
      "🔑 message_store:user-001  |  타입: list\n",
      "  💬 1. {\n",
      "    \"type\": \"ai\",\n",
      "    \"data\": {\"content\": \"안녕하세요! 반가워요\"}\n",
      "  }\n",
      "  💬 2. {\n",
      "    \"type\": \"human\",\n",
      "    \"data\": {\"content\": \"안녕?\"}\n",
      "  }\n",
      "------------------------------------------------------------\n"
     ]
    }
   ],
   "source": [
    "# Redis에 저장된 키와 내용 확인하기 \n",
    "import redis\n",
    "import json\n",
    "\n",
    "#  Redis 연결\n",
    "r = redis.Redis(host='localhost', port=6379, db=0)\n",
    "\n",
    "#  모든 키 확인\n",
    "keys = r.keys('*')\n",
    "\n",
    "if not keys:\n",
    "    print(\"❌ 현재 Redis에 저장된 키가 없습니다.\")\n",
    "else:\n",
    "    print(\"📦 Redis에 저장된 키와 내용:\")\n",
    "    print(\"=\" * 50)\n",
    "\n",
    "    for k in keys:\n",
    "        key = k.decode()\n",
    "        dtype = r.type(k).decode()\n",
    "\n",
    "        print(f\"🔑 {key}  |  타입: {dtype}\")\n",
    "\n",
    "        if dtype == \"list\":\n",
    "            messages = r.lrange(k, 0, -1)\n",
    "            for i, msg in enumerate(messages, 1):\n",
    "                try:\n",
    "                    data = json.loads(msg)\n",
    "                    msg_type = data.get(\"type\", \"\")\n",
    "                    content = data.get(\"data\", {}).get(\"content\", \"\")\n",
    "                    # 보기 좋은 출력 포맷\n",
    "                    print(f\"  💬 {i}. {{\")\n",
    "                    print(f'    \"type\": \"{msg_type}\",')\n",
    "                    print(f'    \"data\": {{\"content\": \"{content}\"}}')\n",
    "                    print(\"  }\")\n",
    "                except Exception:\n",
    "                    print(f\"  💬 {i}. {msg.decode(errors='ignore')}\")\n",
    "            print(\"-\" * 60)\n"
   ]
  },
  {
   "cell_type": "code",
   "execution_count": 24,
   "id": "feb2ce83-b4ed-489c-8d67-32233cbf5ff1",
   "metadata": {},
   "outputs": [
    {
     "name": "stdout",
     "output_type": "stream",
     "text": [
      "Redis 데이터 삭제 완료!\n"
     ]
    }
   ],
   "source": [
    "# Redis에 저장된 내용 삭제하기 \n",
    "import redis\n",
    "\n",
    "# Redis 연결\n",
    "r = redis.Redis(host='localhost', port=6379, db=0)\n",
    "\n",
    "# 전체 삭제\n",
    "r.flushall()  # 모든 데이터 삭제\n",
    "\n",
    "# 현재 DB만 삭제\n",
    "r.flushdb()   # 기본적으로 db=0이므로 동일\n",
    "\n",
    "# 특정 세션만 삭제\n",
    "r.delete(\"chat_history:user-001\")\n",
    "\n",
    "print(\"Redis 데이터 삭제 완료!\")\n"
   ]
  },
  {
   "cell_type": "code",
   "execution_count": 28,
   "id": "94b52b95-4bac-46c8-8c4a-b1b65fca06e3",
   "metadata": {},
   "outputs": [
    {
     "name": "stdout",
     "output_type": "stream",
     "text": [
      "🤖: 안녕하세요, 홍길동님! 만나서 반갑습니다. 어떻게 도와드릴까요?\n",
      "🤖: 당신의 이름은 홍길동입니다. 다른 질문이나 도움이 필요하신 것이 있으면 말씀해 주세요!\n",
      "\n",
      "=== Redis 저장된 대화 이력 ===\n",
      "🧑 사용자: 안녕? 나는 홍길동이야!\n",
      "🤖 AI: 안녕하세요, 홍길동님! 만나서 반갑습니다. 어떻게 도와드릴까요?\n",
      "🧑 사용자: 내 이름이 뭐지?\n",
      "🤖 AI: 당신의 이름은 홍길동입니다. 다른 질문이나 도움이 필요하신 것이 있으면 말씀해 주세요!\n"
     ]
    }
   ],
   "source": [
    "from langchain_openai import ChatOpenAI\n",
    "from langchain_core.messages import HumanMessage\n",
    "from langchain_community.chat_message_histories import RedisChatMessageHistory\n",
    "from langchain_core.runnables.history import RunnableWithMessageHistory\n",
    "\n",
    "# 1) LLM 모델 정의\n",
    "llm = ChatOpenAI(model=\"gpt-4o-mini\", temperature=0.4)\n",
    "\n",
    "# 2) Redis 기반 대화 저장소 함수\n",
    "def get_session_history(session_id: str):\n",
    "    return RedisChatMessageHistory(\n",
    "        url=\"redis://localhost:6379/0\",\n",
    "        session_id=session_id\n",
    "    )\n",
    "\n",
    "# 3) RunnableWithMessageHistory 생성\n",
    "conversation = RunnableWithMessageHistory(llm, get_session_history)\n",
    "\n",
    "# 4) 세션 설정\n",
    "config = {\"configurable\": {\"session_id\": \"chat-redis-001\"}}\n",
    "\n",
    "# 5) 대화 실행\n",
    "response1 = conversation.invoke([HumanMessage(content=\"안녕? 나는 홍길동이야!\")], config=config)\n",
    "print(\"🤖:\", response1.content)\n",
    "\n",
    "response2 = conversation.invoke([HumanMessage(content=\"내 이름이 뭐지?\")], config=config)\n",
    "print(\"🤖:\", response2.content)\n",
    "\n",
    "# 6) Redis에 저장된 대화 확인\n",
    "history = get_session_history(\"chat-redis-001\")\n",
    "print(\"\\n=== Redis 저장된 대화 이력 ===\")\n",
    "for msg in history.messages:\n",
    "    role = \"🧑 사용자\" if msg.type == \"human\" else \"🤖 AI\"\n",
    "    print(f\"{role}: {msg.content}\")\n"
   ]
  },
  {
   "cell_type": "markdown",
   "id": "0160041e-3366-4dda-8bf5-e9cd230f7756",
   "metadata": {},
   "source": [
    "### [6] SQLChatMessageHistory\n",
    ": 대화(Message) 기록을 SQL 데이터베이스에 저장하는 LangChain의 메모리 클래스"
   ]
  },
  {
   "cell_type": "code",
   "execution_count": 31,
   "id": "8e846192-b1ac-4be8-aea6-a79e3ea498e1",
   "metadata": {},
   "outputs": [],
   "source": [
    "# !pip install sqlalchemy"
   ]
  },
  {
   "cell_type": "code",
   "execution_count": 42,
   "id": "ab8f5283-5849-4c1a-a905-f46b308faa6a",
   "metadata": {},
   "outputs": [
    {
     "name": "stdout",
     "output_type": "stream",
     "text": [
      "=== SQL 저장된 대화 이력 ===\n",
      "🧑 사용자: 안녕?\n",
      "🤖 AI: 안녕하세요! 반가워요.\n"
     ]
    }
   ],
   "source": [
    "from sqlalchemy import create_engine\n",
    "from langchain_community.chat_message_histories import SQLChatMessageHistory\n",
    "\n",
    "# 1) DB 연결 엔진 생성\n",
    "engine = create_engine(\"sqlite:///chat_history.db\")\n",
    "\n",
    "# 2) SQLChatMessageHistory 객체 생성\n",
    "history = SQLChatMessageHistory(\n",
    "    session_id=\"user-001\",\n",
    "    connection=engine\n",
    ")\n",
    "\n",
    "# 3) 메시지 추가 예시\n",
    "from langchain_core.messages import HumanMessage, AIMessage\n",
    "history.add_message(HumanMessage(content=\"안녕?\"))\n",
    "history.add_message(AIMessage(content=\"안녕하세요! 반가워요.\"))\n",
    "\n",
    "# 4) 저장된 대화 이력 확인\n",
    "print(\"=== SQL 저장된 대화 이력 ===\")\n",
    "for msg in history.messages:\n",
    "    role = \"🧑 사용자\" if msg.type == \"human\" else \"🤖 AI\"\n",
    "    print(f\"{role}: {msg.content}\")"
   ]
  },
  {
   "cell_type": "code",
   "execution_count": 38,
   "id": "00377f77-9a01-460a-8cb7-57518bcc4974",
   "metadata": {},
   "outputs": [
    {
     "name": "stdout",
     "output_type": "stream",
     "text": [
      "=== 저장된 대화 이력 ===\n",
      "(1, 'user-001', '{\"type\": \"human\", \"data\": {\"content\": \"\\\\uc548\\\\ub155?\", \"additional_kwargs\": {}, \"response_metadata\": {}, \"type\": \"human\", \"name\": null, \"id\": null}}')\n",
      "(2, 'user-001', '{\"type\": \"ai\", \"data\": {\"content\": \"\\\\uc548\\\\ub155\\\\ud558\\\\uc138\\\\uc694! \\\\ubc18\\\\uac00\\\\uc6cc\\\\uc694.\", \"additional_kwargs\": {}, \"response_metadata\": {}, \"type\": \"ai\", \"name\": null, \"id\": null, \"tool_calls\": [], \"invalid_tool_calls\": [], \"usage_metadata\": null}}')\n"
     ]
    }
   ],
   "source": [
    "# DB 내용 확인하기\n",
    "from sqlalchemy import create_engine, text\n",
    "\n",
    "# 1) SQLite 파일(DB 연결)\n",
    "engine = create_engine(\"sqlite:///chat_history.db\")\n",
    "\n",
    "# 2) 저장된 전체 메시지 확인\n",
    "with engine.connect() as conn:\n",
    "    result = conn.execute(text(\"SELECT * FROM message_store\"))\n",
    "    rows = result.fetchall()\n",
    "\n",
    "# 3) 결과 출력\n",
    "print(\"=== 저장된 대화 이력 ===\")\n",
    "for row in rows:\n",
    "    print(row)"
   ]
  },
  {
   "cell_type": "code",
   "execution_count": 39,
   "id": "66babfb4-cf3a-4940-b1aa-50cc47039c9f",
   "metadata": {},
   "outputs": [
    {
     "name": "stdout",
     "output_type": "stream",
     "text": [
      "세션 user-001의 대화 내용이 모두 삭제되었습니다.\n"
     ]
    }
   ],
   "source": [
    "# SQL DB 삭제: 특정 세션 대화만 삭제\n",
    "from langchain_community.chat_message_histories import SQLChatMessageHistory\n",
    "from sqlalchemy import create_engine\n",
    "\n",
    "# 1) DB 연결\n",
    "engine = create_engine(\"sqlite:///chat_history.db\")\n",
    "\n",
    "# 2) 세션 ID 지정\n",
    "session_id = \"user-001\"\n",
    "\n",
    "# 3) 해당 세션의 히스토리 불러오기\n",
    "history = SQLChatMessageHistory(session_id=session_id, connection=engine)\n",
    "\n",
    "# 4) 대화 전체 삭제\n",
    "history.clear()  # 이 한 줄로 세션 내 모든 메시지 삭제\n",
    "\n",
    "print(f\"세션 {session_id}의 대화 내용이 모두 삭제되었습니다.\")\n"
   ]
  },
  {
   "cell_type": "code",
   "execution_count": 40,
   "id": "9ea4ebf3-6d3e-4cd8-935d-51470b53af9a",
   "metadata": {},
   "outputs": [
    {
     "name": "stdout",
     "output_type": "stream",
     "text": [
      "message_store 테이블이 완전히 삭제되었습니다.\n"
     ]
    }
   ],
   "source": [
    "from sqlalchemy import create_engine, text\n",
    "\n",
    "engine = create_engine(\"sqlite:///chat_history.db\")\n",
    "\n",
    "with engine.connect() as conn:\n",
    "    conn.execute(text(\"DROP TABLE IF EXISTS message_store\"))\n",
    "    conn.commit()\n",
    "\n",
    "print(\"message_store 테이블이 완전히 삭제되었습니다.\")\n"
   ]
  },
  {
   "cell_type": "code",
   "execution_count": 43,
   "id": "d09af6fa-c8ca-4b0d-80df-6d1161e04b19",
   "metadata": {},
   "outputs": [
    {
     "name": "stdout",
     "output_type": "stream",
     "text": [
      "남은 메시지 수: 2\n"
     ]
    }
   ],
   "source": [
    "with engine.connect() as conn:\n",
    "    result = conn.execute(text(\"SELECT COUNT(*) FROM message_store\"))\n",
    "    count = result.scalar()\n",
    "    print(\"남은 메시지 수:\", count)"
   ]
  },
  {
   "cell_type": "code",
   "execution_count": 44,
   "id": "bcf88e90-7e0f-4f24-ac10-419083221ce3",
   "metadata": {},
   "outputs": [
    {
     "name": "stdout",
     "output_type": "stream",
     "text": [
      "🤖: 안녕하세요, 홍길동님! 만나서 반갑습니다. 어떻게 도와드릴까요?\n",
      "🤖: 당신의 이름은 홍길동입니다! 다른 질문이나 이야기하고 싶은 것이 있으면 말씀해 주세요.\n"
     ]
    }
   ],
   "source": [
    "from langchain_openai import ChatOpenAI\n",
    "from langchain_core.messages import HumanMessage\n",
    "from langchain_core.runnables.history import RunnableWithMessageHistory\n",
    "from langchain_community.chat_message_histories import SQLChatMessageHistory\n",
    "from sqlalchemy import create_engine\n",
    "\n",
    "# 1) LLM 정의\n",
    "llm = ChatOpenAI(model=\"gpt-4o-mini\", temperature=0.3)\n",
    "\n",
    "# 2) DB 연결 생성\n",
    "engine = create_engine(\"sqlite:///chat_history.db\")\n",
    "\n",
    "# 3) 세션별 저장소\n",
    "def get_session_history(session_id: str):\n",
    "    return SQLChatMessageHistory(\n",
    "        session_id=session_id,\n",
    "        connection=engine   # 신버전 스타일\n",
    "    )\n",
    "\n",
    "# 4) RunnableWithMessageHistory 구성\n",
    "conversation = RunnableWithMessageHistory(llm, get_session_history)\n",
    "config = {\"configurable\": {\"session_id\": \"chat-sql-001\"}}\n",
    "\n",
    "# 5) 대화 실행\n",
    "response1 = conversation.invoke([HumanMessage(content=\"안녕? 나는 홍길동이야!\")], config=config)\n",
    "print(\"🤖:\", response1.content)\n",
    "\n",
    "response2 = conversation.invoke([HumanMessage(content=\"내 이름이 뭐지?\")], config=config)\n",
    "print(\"🤖:\", response2.content)\n",
    "\n",
    "# 이 코드를 실행하면 chat_history.db 안에 대화가 자동으로 누적 저장된다"
   ]
  },
  {
   "cell_type": "code",
   "execution_count": 45,
   "id": "06c06bd9-9d15-4cf0-abf7-257335a10a40",
   "metadata": {},
   "outputs": [
    {
     "name": "stdout",
     "output_type": "stream",
     "text": [
      "=== 저장된 대화 이력 ===\n",
      "(1, 'user-001', '{\"type\": \"human\", \"data\": {\"content\": \"\\\\uc548\\\\ub155?\", \"additional_kwargs\": {}, \"response_metadata\": {}, \"type\": \"human\", \"name\": null, \"id\": null}}')\n",
      "(2, 'user-001', '{\"type\": \"ai\", \"data\": {\"content\": \"\\\\uc548\\\\ub155\\\\ud558\\\\uc138\\\\uc694! \\\\ubc18\\\\uac00\\\\uc6cc\\\\uc694.\", \"additional_kwargs\": {}, \"response_metadata\": {}, \"type\": \"ai\", \"name\": null, \"id\": null, \"tool_calls\": [], \"invalid_tool_calls\": [], \"usage_metadata\": null}}')\n",
      "(3, 'chat-sql-001', '{\"type\": \"human\", \"data\": {\"content\": \"\\\\uc548\\\\ub155? \\\\ub098\\\\ub294 \\\\ud64d\\\\uae38\\\\ub3d9\\\\uc774\\\\uc57c!\", \"additional_kwargs\": {}, \"response_metadata\": {}, \"type\": \"human\", \"name\": null, \"id\": null}}')\n",
      "(4, 'chat-sql-001', '{\"type\": \"ai\", \"data\": {\"content\": \"\\\\uc548\\\\ub155\\\\ud558\\\\uc138\\\\uc694, \\\\ud64d\\\\uae38\\\\ub3d9\\\\ub2d8! \\\\ub9cc\\\\ub098\\\\uc11c \\\\ubc18\\\\uac11\\\\uc2b5\\\\u ... (825 characters truncated) ... output_tokens\": 21, \"total_tokens\": 38, \"input_token_details\": {\"audio\": 0, \"cache_read\": 0}, \"output_token_details\": {\"audio\": 0, \"reasoning\": 0}}}}')\n",
      "(5, 'chat-sql-001', '{\"type\": \"human\", \"data\": {\"content\": \"\\\\ub0b4 \\\\uc774\\\\ub984\\\\uc774 \\\\ubb50\\\\uc9c0?\", \"additional_kwargs\": {}, \"response_metadata\": {}, \"type\": \"human\", \"name\": null, \"id\": null}}')\n",
      "(6, 'chat-sql-001', '{\"type\": \"ai\", \"data\": {\"content\": \"\\\\ub2f9\\\\uc2e0\\\\uc758 \\\\uc774\\\\ub984\\\\uc740 \\\\ud64d\\\\uae38\\\\ub3d9\\\\uc785\\\\ub2c8\\\\ub2e4! \\\\ub2e4\\\\ub978 \\\\uc9c8\\\\u ... (898 characters truncated) ... output_tokens\": 23, \"total_tokens\": 75, \"input_token_details\": {\"audio\": 0, \"cache_read\": 0}, \"output_token_details\": {\"audio\": 0, \"reasoning\": 0}}}}')\n"
     ]
    }
   ],
   "source": [
    "from sqlalchemy import create_engine, text\n",
    "\n",
    "# 1) SQLite 파일(DB 연결)\n",
    "engine = create_engine(\"sqlite:///chat_history.db\")\n",
    "\n",
    "# 2) 저장된 전체 메시지 확인\n",
    "with engine.connect() as conn:\n",
    "    result = conn.execute(text(\"SELECT * FROM message_store\"))\n",
    "    rows = result.fetchall()\n",
    "\n",
    "# 3) 결과 출력\n",
    "print(\"=== 저장된 대화 이력 ===\")\n",
    "for row in rows:\n",
    "    print(row)"
   ]
  },
  {
   "cell_type": "code",
   "execution_count": 46,
   "id": "bcba22f1-e014-4498-879b-b0fb7653bd0e",
   "metadata": {},
   "outputs": [
    {
     "name": "stdout",
     "output_type": "stream",
     "text": [
      "남은 메시지 수: 6\n"
     ]
    }
   ],
   "source": [
    "with engine.connect() as conn:\n",
    "    result = conn.execute(text(\"SELECT COUNT(*) FROM message_store\"))\n",
    "    count = result.scalar()\n",
    "    print(\"남은 메시지 수:\", count)"
   ]
  },
  {
   "cell_type": "code",
   "execution_count": null,
   "id": "52ca650f-9baa-451c-95fd-bc9c82bff44b",
   "metadata": {},
   "outputs": [],
   "source": []
  }
 ],
 "metadata": {
  "kernelspec": {
   "display_name": "Python 3 (ipykernel)",
   "language": "python",
   "name": "python3"
  },
  "language_info": {
   "codemirror_mode": {
    "name": "ipython",
    "version": 3
   },
   "file_extension": ".py",
   "mimetype": "text/x-python",
   "name": "python",
   "nbconvert_exporter": "python",
   "pygments_lexer": "ipython3",
   "version": "3.12.7"
  }
 },
 "nbformat": 4,
 "nbformat_minor": 5
}
